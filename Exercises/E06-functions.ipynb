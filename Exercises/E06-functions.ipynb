{
 "cells": [
  {
   "cell_type": "markdown",
   "metadata": {},
   "source": [
    "# functions exercises"
   ]
  },
  {
   "cell_type": "markdown",
   "metadata": {},
   "source": [
    "## 1. Area (*)  \n",
    "Create a function that takes the base and height of a triangle as input parameters and returns the area of the triangle."
   ]
  },
  {
   "cell_type": "code",
   "execution_count": 1,
   "metadata": {},
   "outputs": [
    {
     "data": {
      "text/plain": [
       "11.5"
      ]
     },
     "execution_count": 1,
     "metadata": {},
     "output_type": "execute_result"
    }
   ],
   "source": [
    "def triangle_area(height, base):\n",
    "    \"\"\"\n",
    "    Returns triangle area float\n",
    "\n",
    "    Calculate area of triangle - \n",
    "    Using formula A = (height * base) / 2,\n",
    "    where height and base are float or int\n",
    "    \"\"\"\n",
    "    area = (height * base) / 2\n",
    "    return area\n",
    "\n",
    "triangle_area(1, 23)"
   ]
  },
  {
   "cell_type": "markdown",
   "metadata": {},
   "source": [
    "improving function to include error handling:"
   ]
  },
  {
   "cell_type": "code",
   "execution_count": 2,
   "metadata": {},
   "outputs": [
    {
     "data": {
      "text/plain": [
       "11.5"
      ]
     },
     "execution_count": 2,
     "metadata": {},
     "output_type": "execute_result"
    }
   ],
   "source": [
    "def triangle_area(height, base):\n",
    "    \"\"\"\n",
    "    Returns triangle area float\n",
    "\n",
    "    Calculate area of triangle - \n",
    "    Using formula A = (height * base) / 2\n",
    "    \"\"\"\n",
    "\n",
    "    # error handling checking for valid inputs\n",
    "    try:\n",
    "        height = float(height) # height input can be converted to float\n",
    "        base = float(base) # base input can be converted to float\n",
    "\n",
    "        if not height > 0 or not base > 0: # if height and base are not greater than 0:\n",
    "            raise ValueError(f\"height: {height}, base: {base} - invalid triangle dimensions, values must be greater than 0\")\n",
    "\n",
    "        area = (height * base) / 2 # calculate area\n",
    "        return area # return area\n",
    "    \n",
    "    except ValueError as err: # errors occurring when try-ing float() on height and base:\n",
    "        print(err)\n",
    "\n",
    "triangle_area(1, 23) # calling function"
   ]
  },
  {
   "cell_type": "markdown",
   "metadata": {},
   "source": [
    "## 2. Euclidean distance (*)  \n",
    "The formula for Euclidean distance in 2D between $P: (p_1, p_2)$ and $Q: (q_1, q_2)$  is: \n",
    "\n",
    "$d(P,Q) = \\sqrt{(p_1-q_1)^2 + (p_2-q_2)^2}$\n",
    "\n",
    "&nbsp; a) &nbsp; Create a function that takes two points as input parameters and return the Euclidean between them. (*)\n",
    "\n",
    "&nbsp; b) &nbsp; Let the user input two points. Call the function using the users input points. (*)\n",
    "\n",
    "&nbsp; c) &nbsp; Use your function to calculate distances between the origin (0, 0) and each of these points: (10, 3), (-1, -9), (10, -10), (4, -2), (9, -10). (*)"
   ]
  },
  {
   "cell_type": "code",
   "execution_count": 10,
   "metadata": {},
   "outputs": [
    {
     "name": "stdout",
     "output_type": "stream",
     "text": [
      "\"one\",1 4,4 -> could not convert string to float: '\"one\"'\n",
      "1,1 4,4,4 is not valid - make sure to enter 2 points using the format P1,P2 Q1,Q2\n",
      "1,1 4,4 8,8 is not valid - make sure to enter 2 points using the format P1,P2 Q1,Q2\n",
      "1 1 4 4 is not valid - make sure to enter 2 points using the format P1,P2 Q1,Q2\n",
      "The distance between [1.0, 1.0] and [4.0, 4.0] is 4.243 distance units\n"
     ]
    }
   ],
   "source": [
    "# a) --------------------\n",
    "from math import sqrt\n",
    "\n",
    "def calculate_euclidean_distance(P, Q): # function that calculates the euclidean distance between 2 points in a 2D coordinate plane\n",
    "    \"\"\"\n",
    "    Return float of euclidian distance between 2D points P and Q containing values for P1, P2 and Q1, Q2 respectively\n",
    "\n",
    "    Input must contain elements convertible to datatype float\n",
    "    \"\"\"\n",
    "    try:\n",
    "        P = [float(element) for element in P] # convert elements of P to float\n",
    "        Q = [float(element) for element in Q] # convert elements of Q to float\n",
    "\n",
    "        distance = sqrt((P[0] - Q[0])**2 + (P[1] - Q[1])**2) # calculate euclidian distance using PQ formula\n",
    "        \n",
    "        return distance # return calculated distance\n",
    "\n",
    "    except ValueError as err: # if ValueError when converting elements of P and Q to float:\n",
    "        print(err) # print error message\n",
    "\n",
    "# b) --------------------\n",
    "while True: # looping until valid points are entered:\n",
    "    user_input = input(\"Enter 2 points (P1,P2 Q1,Q2) to calculate the distance between them\")\n",
    "\n",
    "    try: # try user_input to see if it is valid:\n",
    "        user_input_list = user_input.split() # split input into 2 list elements 0 and 1 (P, Q)\n",
    "\n",
    "        P = user_input_list[0].split(\",\") # set P = element 0 of user_input (P1, P2)\n",
    "        Q = user_input_list[1].split(\",\") # set Q = element 1 of user_input (Q1, Q2)\n",
    "\n",
    "        P = [float(element) for element in P] # try converting elements of P (P1, P2) to float\n",
    "        Q = [float(element) for element in Q] # try converting elements of Q (Q1, Q2) to float\n",
    "\n",
    "        # if length of: user_input != 2 (does not contain 2 coordinate points P and Q), or: P or Q != 2 (does not contain x and y values)\n",
    "        if len(user_input_list) != 2 or len(P) != 2 or len(Q) != 2:\n",
    "            print(f\"{user_input} is not valid - make sure to enter 2 points using the format P1,P2 Q1,Q2\") # print error message and loop back to prompting for user input\n",
    "\n",
    "        else: # if input is 2 valid coordinate points P and Q:\n",
    "            distance = calculate_euclidean_distance(P, Q) # calculate distance between P and Q\n",
    "            print(f\"The distance between {P} and {Q} is {distance:.3f} distance units\") # print results\n",
    "            break # break the loop\n",
    "\n",
    "    except ValueError as err: # user input values that are not able to convert into float:\n",
    "        print(f\"{user_input} -> {err}\") # print error message and loop back to prompting for user input\n",
    "\n",
    "    except IndexError as err: # user input too many points, or did not correctly separate using commas and spaces:\n",
    "        print(f\"{user_input} -> {err}, make sure to enter the right amount of points, in the format P1,P2 Q1,Q2\") # print error message and loop back to prompting for user input"
   ]
  },
  {
   "cell_type": "code",
   "execution_count": 8,
   "metadata": {},
   "outputs": [
    {
     "name": "stdout",
     "output_type": "stream",
     "text": [
      "The distance between (0, 0) and (10, 3) is 10.440 distance units\n",
      "The distance between (0, 0) and (-1, -9) is 9.055 distance units\n",
      "The distance between (0, 0) and (10, -10) is 14.142 distance units\n",
      "The distance between (0, 0) and (4, -2) is 4.472 distance units\n",
      "The distance between (0, 0) and (9, -10) is 13.454 distance units\n"
     ]
    }
   ],
   "source": [
    "# c) --------------------\n",
    "P = (0, 0)\n",
    "Q_list = [(10, 3), (-1, -9), (10, -10), (4, -2), (9, -10)]\n",
    "\n",
    "for Q in Q_list:\n",
    "    distance = calculate_euclidean_distance(P, Q)\n",
    "    print(f\"The distance between {P} and {Q} is {distance:.3f} distance units\")"
   ]
  }
 ],
 "metadata": {
  "kernelspec": {
   "display_name": "Python 3.9.13 ('Python-Andreas-Svensson-mdnrE2EN')",
   "language": "python",
   "name": "python3"
  },
  "language_info": {
   "codemirror_mode": {
    "name": "ipython",
    "version": 3
   },
   "file_extension": ".py",
   "mimetype": "text/x-python",
   "name": "python",
   "nbconvert_exporter": "python",
   "pygments_lexer": "ipython3",
   "version": "3.9.13"
  },
  "orig_nbformat": 4,
  "vscode": {
   "interpreter": {
    "hash": "ce5ca73635e776ed4a4fa3650670807b72bb0d2e4957ff61281a0d117b023fd0"
   }
  }
 },
 "nbformat": 4,
 "nbformat_minor": 2
}
