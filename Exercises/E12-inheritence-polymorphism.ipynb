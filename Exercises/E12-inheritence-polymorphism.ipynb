{
 "cells": [
  {
   "cell_type": "markdown",
   "metadata": {},
   "source": [
    "## 1. Video (*)\n",
    "\n",
    "Create classes following this UML:\n",
    "\n",
    "<img src=\"../assets/UML_video_polymorphism.png\" width=\"700\"/>\n",
    "\n",
    "Note that the method info() should be different in the different classes where it should be implemented. \n",
    "\n",
    "Use the following code to test your program.\n",
    "\n",
    "```python\n",
    "pokemon = TV_serie(\"Pokemon\", \"Cartoon\", 4.5, 550)\n",
    "titanic = Movie(\"Titanic\", \"Romance\", 4.7, 194)\n",
    "code = Documentary(\"The Code\", \"Math\", 4)\n",
    "\n",
    "for video in tuple((pokemon, titanic, code)):\n",
    "    print(video.info())\n",
    "```\n",
    "\n",
    "An example output could be: \n",
    "```\n",
    "TV series with title Pokemon, genre Cartoon, rating 4.5 and episodes 550\n",
    "\n",
    "Movie with title Titanic, genre Romance, rating 4.7, duration 194 minutes\n",
    "\n",
    "Video with title The Code, genre Math and rating 4\n",
    "```"
   ]
  },
  {
   "cell_type": "code",
   "execution_count": 180,
   "metadata": {},
   "outputs": [],
   "source": [
    "# class Video:\n",
    "\n",
    "#     def __init__(self) -> None:\n",
    "        "
   ]
  },
  {
   "cell_type": "markdown",
   "metadata": {},
   "source": [
    "## 2. Fraction (**)\n",
    "\n",
    "Create a class called Frac to represent mathematical fractions. The class is instantiated with two instance variables: nominator and denominator. Objects instantiated from this class should have methods for addition, subtraction, multiplication, division using the operators +,-,*,/. Note that these implemented methods must be mathematically correct. Also implement the following methods: \n",
    "\n",
    "```python\n",
    "\n",
    "simplify(self, value = None) # simplifies to most simple form unless value is given \n",
    "\n",
    "__str__(self) # represent the fraction in a neat way for printing\n",
    "\n",
    "mixed(self) # represent the fraction in mixed terms \n",
    "\n",
    "__eq__(self, other) # checks equality by overloading ==\n",
    "\n",
    "```\n",
    "\n",
    "Also remember to handle errors and validations.\n",
    "\n",
    "Example of tests that it should handled: \n",
    "\n",
    "- 1/2 + 1/3 = 5/6\n",
    "- 1/2 - 1/3 = 1/6\n",
    "- 7/6 --> 1 1/6 (mixed)\n",
    "- 3*1/2 = 3/2\n",
    "- 1/2 * 3 = 3/2\n",
    "- 1/4 + 2 = 9/4\n",
    "- 1/4 / 1/2 = 1/2\n",
    "- 2/4 == 1/2 --> True\n",
    "- 3/4 += 2 = 11/4"
   ]
  },
  {
   "cell_type": "code",
   "execution_count": 181,
   "metadata": {},
   "outputs": [],
   "source": [
    "from __future__ import annotations # for type hinting of type Frac\n",
    "import math\n",
    "\n",
    "class Frac:\n",
    "\n",
    "    def __init__(self, nominator, denominator) -> None: # dunder init taking nominator and denominator\n",
    "\n",
    "        # NOTE: not using \"self._attribute\" due to using properties for getting and setting values\n",
    "        self.nominator = nominator\n",
    "        self.denominator = denominator\n",
    "    \n",
    "    # ----- properties -----\n",
    "    @property\n",
    "    def nominator(self):\n",
    "        return self._nominator\n",
    "    \n",
    "    @nominator.setter\n",
    "    def nominator(self, nominator):\n",
    "        # TODO checking valid values here\n",
    "        self._nominator = nominator\n",
    "\n",
    "    @property\n",
    "    def denominator(self):\n",
    "        return self._denominator\n",
    "    \n",
    "    @denominator.setter\n",
    "    def denominator(self, denominator):\n",
    "\n",
    "        # TODO checking valid values here\n",
    "        if denominator == 0: # avoid division by zero\n",
    "            raise ValueError(f\"Division by zero - Denominator cannot be 0!\")\n",
    "\n",
    "        self._denominator = denominator\n",
    "    \n",
    "    # ----- methods -----\n",
    "    def simplify(self, value: int = None) -> str:\n",
    "        \"\"\"Simplifies fraction to most simple form, or attempts to simplify by [value] if given\"\"\"\n",
    "\n",
    "        # storing simplified values to new variables, so as not to mutate original attributes\n",
    "        simplified_nominator = self._nominator\n",
    "        simplified_denominator = self._denominator\n",
    "\n",
    "        # ----- custom value was passed in when calling method -----\n",
    "        if value != None:\n",
    "\n",
    "            # ----- not possible to simplify by value -----\n",
    "            if simplified_nominator % value != 0 or simplified_denominator % value != 0:\n",
    "                raise ValueError(f\"Not possible to simplify by {value}\")\n",
    "\n",
    "            # ----- store result of simplifying by value as int -----\n",
    "            simplified_nominator = int(simplified_nominator / value)\n",
    "            simplified_denominator = int(simplified_denominator / value)\n",
    "\n",
    "            # ----- return simplified value -----\n",
    "            return f\"{self._nominator}/{self._denominator} simplified by {value} is: {simplified_nominator}/{simplified_denominator}\"\n",
    "\n",
    "        # ----- no custom value was passed -----\n",
    "        p = 2\n",
    "        while p <= min(simplified_nominator, simplified_denominator):\n",
    "            if simplified_nominator % p == 0 and simplified_denominator % p == 0:\n",
    "                simplified_nominator = int(simplified_nominator / p)\n",
    "                simplified_denominator = int(simplified_denominator / p)\n",
    "            else:\n",
    "                p += 1\n",
    "        \n",
    "        return f\"{self._nominator}/{self._denominator} simplified is: {simplified_nominator}/{simplified_denominator}\"\n",
    "\n",
    "    def __str__(self) -> str: # represent the fraction in a neat way for printing\n",
    "        \"\"\"Represent fraction in string format, returns string: \\\"nominator/denominator\\\"\"\"\"\n",
    "        return f\"{self._nominator}/{self._denominator}\"\n",
    "\n",
    "    def mixed(self): # represent the fraction in mixed terms \n",
    "        remainder = self._nominator\n",
    "        quotient = 0\n",
    "\n",
    "        while remainder - self._denominator >= 0:\n",
    "            remainder -= self._denominator\n",
    "            quotient += 1\n",
    "\n",
    "        if remainder == 0: # no remainder\n",
    "            return f\"{self._nominator}/{self.denominator} as a mixed fraction is: {quotient}\"\n",
    "        else:\n",
    "            return f\"{self._nominator}/{self.denominator} as a mixed fraction is: {quotient}, {remainder}/{self._denominator}\"\n",
    "\n",
    "    def __eq__(self, other: (Frac | int | float)) -> bool: # checks equality by overloading == \n",
    "        \"\"\"Check equality, can be used on both numbers and other fractions\"\"\"\n",
    "        if self._nominator / self._denominator == other.nominator / other.denominator:\n",
    "            return True\n",
    "        else:\n",
    "            return False\n",
    "    \n",
    "    def __add__(self, other: (Frac | int | float)) -> (Frac | int):\n",
    "        \"\"\"Addition, can be used on both\"\"\"\n",
    "        if type(other) == Frac:\n",
    "            return \"Is Frac\"\n",
    "        else:\n",
    "            return \"Is not frac\"\n",
    "\n",
    "    def __radd__(self, other: (int | float)) -> (Frac | int):\n",
    "        return self + other\n",
    "\n",
    "    def __sub__(self, other: (Frac | int | float)) -> (Frac | int):\n",
    "        pass\n",
    "\n",
    "    def __mul__(self, other: (Frac | int | float)) -> (Frac | int):\n",
    "        pass\n",
    "\n",
    "    def __truediv__(self, other: (Frac | int | float)) -> (Frac | int):\n",
    "        pass\n"
   ]
  },
  {
   "cell_type": "code",
   "execution_count": 182,
   "metadata": {},
   "outputs": [],
   "source": [
    "a = Frac(8, 4)\n",
    "b = Frac(12, 6)"
   ]
  },
  {
   "cell_type": "code",
   "execution_count": 183,
   "metadata": {},
   "outputs": [
    {
     "name": "stdout",
     "output_type": "stream",
     "text": [
      "8/4 simplified is: 2/1\n",
      "8/4 simplified by 2 is: 4/2\n",
      "12/6 simplified is: 2/1\n"
     ]
    }
   ],
   "source": [
    "print(a.simplify())\n",
    "print(a.simplify(2))\n",
    "print(b.simplify())"
   ]
  },
  {
   "cell_type": "code",
   "execution_count": 184,
   "metadata": {},
   "outputs": [
    {
     "name": "stdout",
     "output_type": "stream",
     "text": [
      "8/4\n"
     ]
    }
   ],
   "source": [
    "print(str(a))"
   ]
  },
  {
   "cell_type": "code",
   "execution_count": 185,
   "metadata": {},
   "outputs": [
    {
     "name": "stdout",
     "output_type": "stream",
     "text": [
      "True\n"
     ]
    }
   ],
   "source": [
    "print(a == b)"
   ]
  },
  {
   "cell_type": "code",
   "execution_count": 186,
   "metadata": {},
   "outputs": [
    {
     "name": "stdout",
     "output_type": "stream",
     "text": [
      "12/6 as a mixed fraction is: 2\n"
     ]
    }
   ],
   "source": [
    "print(b.mixed())"
   ]
  },
  {
   "cell_type": "code",
   "execution_count": 187,
   "metadata": {},
   "outputs": [
    {
     "name": "stdout",
     "output_type": "stream",
     "text": [
      "Is Frac\n",
      "Is not frac\n",
      "Is not frac\n"
     ]
    }
   ],
   "source": [
    "print(a + b)\n",
    "print(a + 2)\n",
    "print(2 + a)"
   ]
  }
 ],
 "metadata": {
  "kernelspec": {
   "display_name": "Python 3.9.13 ('Python-Andreas-Svensson-mdnrE2EN')",
   "language": "python",
   "name": "python3"
  },
  "language_info": {
   "codemirror_mode": {
    "name": "ipython",
    "version": 3
   },
   "file_extension": ".py",
   "mimetype": "text/x-python",
   "name": "python",
   "nbconvert_exporter": "python",
   "pygments_lexer": "ipython3",
   "version": "3.9.13"
  },
  "orig_nbformat": 4,
  "vscode": {
   "interpreter": {
    "hash": "ce5ca73635e776ed4a4fa3650670807b72bb0d2e4957ff61281a0d117b023fd0"
   }
  }
 },
 "nbformat": 4,
 "nbformat_minor": 2
}
