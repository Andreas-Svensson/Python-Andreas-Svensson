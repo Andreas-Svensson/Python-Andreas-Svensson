{
 "cells": [
  {
   "cell_type": "markdown",
   "metadata": {},
   "source": [
    "## 1. Video (*)\n",
    "\n",
    "Create classes following this UML:\n",
    "\n",
    "<img src=\"../assets/UML_video_polymorphism.png\" width=\"700\"/>\n",
    "\n",
    "Note that the method info() should be different in the different classes where it should be implemented. \n",
    "\n",
    "Use the following code to test your program.\n",
    "\n",
    "```python\n",
    "pokemon = TV_serie(\"Pokemon\", \"Cartoon\", 4.5, 550)\n",
    "titanic = Movie(\"Titanic\", \"Romance\", 4.7, 194)\n",
    "code = Documentary(\"The Code\", \"Math\", 4)\n",
    "\n",
    "for video in tuple((pokemon, titanic, code)):\n",
    "    print(video.info())\n",
    "```\n",
    "\n",
    "An example output could be: \n",
    "```\n",
    "TV series with title Pokemon, genre Cartoon, rating 4.5 and episodes 550\n",
    "\n",
    "Movie with title Titanic, genre Romance, rating 4.7, duration 194 minutes\n",
    "\n",
    "Video with title The Code, genre Math and rating 4\n",
    "```"
   ]
  },
  {
   "cell_type": "code",
   "execution_count": 149,
   "metadata": {},
   "outputs": [],
   "source": [
    "from __future__ import annotations\n",
    "\n",
    "class Video:\n",
    "    \"\"\"\"Parent class for videos\"\"\"\n",
    "    def __init__(self, title: str, genre: str, rating: float):\n",
    "        \"\"\"Takes and stores class attributes\"\"\"\n",
    "        self.title = title\n",
    "        self.genre = genre\n",
    "        self.rating = rating\n",
    "    \n",
    "    # getter / setter for title:\n",
    "    @property\n",
    "    def title(self):\n",
    "        \"\"\"Getter for title\"\"\"\n",
    "        return self._title\n",
    "\n",
    "    @title.setter\n",
    "    def title(self, value: str):\n",
    "        # datatype must be string:\n",
    "        if type(value) != str:\n",
    "            raise TypeError(f\"Title must be a string, not {type(value)}\")\n",
    "        # value cannot be none:\n",
    "        if value.strip() == \"\":\n",
    "            raise ValueError(f\"Title cannot be empty\")\n",
    "        \n",
    "        value = value.capitalize()\n",
    "\n",
    "        self._title = value\n",
    "\n",
    "    # getter / setter for genre:\n",
    "    @property\n",
    "    def genre(self):\n",
    "        \"\"\"Getter for genre\"\"\"\n",
    "        return self._title\n",
    "\n",
    "    @genre.setter\n",
    "    def genre(self, value: str):\n",
    "        genre_list = [\"action\", \"comedy\", \"drama\", \"fantasy\", \"horror\", \"mystery\", \"romance\", \"thriller\"]\n",
    "        if value.lower() not in genre_list:\n",
    "            raise ValueError(f\"{value} is not a valid genre\")\n",
    "        \n",
    "        value = value.capitalize()\n",
    "\n",
    "        self._genre = value\n",
    "\n",
    "    # getter / setter for rating:\n",
    "    @property\n",
    "    def rating(self):\n",
    "        \"\"\"Getter for rating\"\"\"\n",
    "        return self._rating\n",
    "\n",
    "    @rating.setter\n",
    "    def rating(self, value: (int | float)):\n",
    "        # must be number:\n",
    "        if not isinstance(value, (int, float)):\n",
    "            raise TypeError(f\"Rating must be a number, not {type(value)}\")\n",
    "            \n",
    "        # cannot be none, negative, or over max size:\n",
    "        if not 0 < value < 10:\n",
    "            raise ValueError(f\"Rating must be between 0-10, not {value}\")\n",
    "\n",
    "        # round to 1 decimal and set rating\n",
    "        self._rating = round(value, 1)\n",
    "\n",
    "    def info(self) -> str:\n",
    "        \"\"\"Return info about video in string format\"\"\"\n",
    "        if type(self) == Video:\n",
    "            return f\"{self._genre} video titled \\\"{self._title}\\\" with a rating of {self._rating}\"\n",
    "        if type(self) == Documentary:\n",
    "            return f\"{self._genre} documentary titled \\\"{self._title}\\\" with a rating of {self._rating}\"\n",
    "\n",
    "class TV_Serie(Video):\n",
    "    \"\"\"Class for TV Series\"\"\"\n",
    "\n",
    "    def __init__(self, title: str, genre: str, rating: float, episodes: int):\n",
    "        super().__init__(title, genre, rating)\n",
    "        self.episodes = episodes\n",
    "\n",
    "    # getter / setter for rating:\n",
    "    @property\n",
    "    def episodes(self):\n",
    "        \"\"\"Getter for episodes\"\"\"\n",
    "        return self._episodes\n",
    "\n",
    "    @episodes.setter\n",
    "    def episodes(self, value: int):\n",
    "        # must be number:\n",
    "        if type(value) != int:\n",
    "            raise TypeError(f\"Episodes must be a number, not {type(value)}\")\n",
    "            \n",
    "        # cannot be none or negativee:\n",
    "        if not 0 < value:\n",
    "            raise ValueError(f\"Episodes must be more than 0, not {value}\")\n",
    "\n",
    "        # set episodes\n",
    "        self._episodes = value\n",
    "\n",
    "    def info(self) -> str:\n",
    "        \"\"\"Return info about video in string format\"\"\"\n",
    "        return f\"{self._genre} TV-series titled \\\"{self._title}\\\" with a rating of {self._rating}, with {self._episodes} episodes\"\n",
    "\n",
    "class Movie(Video):\n",
    "    \"\"\"Class for Movies\"\"\"\n",
    "\n",
    "    def __init__(self, title: str, genre: str, rating: float, duration: float):\n",
    "        super().__init__(title, genre, rating)\n",
    "        self.duration = duration\n",
    "\n",
    "    # getter / setter for rating:\n",
    "    @property\n",
    "    def duration(self):\n",
    "        \"\"\"Getter for duration\"\"\"\n",
    "        return self._duration\n",
    "\n",
    "    @duration.setter\n",
    "    def duration(self, value: float):\n",
    "        # must be number:\n",
    "        if type(value) != float:\n",
    "            raise TypeError(f\"Duration must be a number, not {type(value)}\")\n",
    "            \n",
    "        # cannot be none or negative:\n",
    "        if not 0 < value:\n",
    "            raise ValueError(f\"Duration must be greater than 0, not {value}\")\n",
    "\n",
    "        # set duration\n",
    "        self._duration = value\n",
    "\n",
    "    def info(self) -> str:\n",
    "        \"\"\"Return info about video in string format\"\"\"\n",
    "        return f\"{self._genre} Movie titled \\\"{self._title}\\\" with a rating of {self._rating}, with duration of {self._duration}\"\n",
    "\n",
    "class Documentary(Video):\n",
    "    \"\"\"Class for Documentaries\"\"\"\n",
    "\n",
    "    def __init__(self, title: str, genre: str, rating: float):\n",
    "        super().__init__(title, genre, rating)"
   ]
  },
  {
   "cell_type": "code",
   "execution_count": 150,
   "metadata": {},
   "outputs": [
    {
     "name": "stdout",
     "output_type": "stream",
     "text": [
      "Fantasy TV-series titled \"Pokemon\" with a rating of 9.4, with 1244 episodes\n"
     ]
    }
   ],
   "source": [
    "try:\n",
    "    pokemon = TV_Serie(\"Pokemon\", \"Fantasy\", 9.4, 619+625)\n",
    "    print(pokemon.info())\n",
    "except ValueError as err:\n",
    "    print(err)\n",
    "except TypeError as err:\n",
    "    print(err)"
   ]
  },
  {
   "cell_type": "code",
   "execution_count": 151,
   "metadata": {},
   "outputs": [
    {
     "name": "stdout",
     "output_type": "stream",
     "text": [
      "Comedy Movie titled \"Titanic\" with a rating of 0.1, with duration of 3.23\n"
     ]
    }
   ],
   "source": [
    "try:\n",
    "    titanic = Movie(\"Titanic\", \"Comedy\", 0.1, 3.23)\n",
    "    print(titanic.info())\n",
    "except ValueError as err:\n",
    "    print(err)\n",
    "except TypeError as err:\n",
    "    print(err)"
   ]
  },
  {
   "cell_type": "code",
   "execution_count": 152,
   "metadata": {},
   "outputs": [
    {
     "name": "stdout",
     "output_type": "stream",
     "text": [
      "None\n"
     ]
    }
   ],
   "source": [
    "try:\n",
    "    code = Documentary(\"The Code\", \"Drama\", 4)\n",
    "    print(code.info())\n",
    "except ValueError as err:\n",
    "    print(err)\n",
    "except TypeError as err:\n",
    "    print(err)"
   ]
  },
  {
   "cell_type": "code",
   "execution_count": 153,
   "metadata": {},
   "outputs": [
    {
     "name": "stdout",
     "output_type": "stream",
     "text": [
      "Fantasy TV-series titled \"Pokemon\" with a rating of 9.4, with 1244 episodes\n",
      "Comedy Movie titled \"Titanic\" with a rating of 0.1, with duration of 3.23\n",
      "None\n"
     ]
    }
   ],
   "source": [
    "for video in tuple((pokemon, titanic, code)):\n",
    "    print(video.info())"
   ]
  },
  {
   "cell_type": "markdown",
   "metadata": {},
   "source": [
    "## 2. Fraction (**)\n",
    "\n",
    "Create a class called Frac to represent mathematical fractions. The class is instantiated with two instance variables: nominator and denominator. Objects instantiated from this class should have methods for addition, subtraction, multiplication, division using the operators +,-,*,/. Note that these implemented methods must be mathematically correct. Also implement the following methods: \n",
    "\n",
    "```python\n",
    "\n",
    "simplify(self, value = None) # simplifies to most simple form unless value is given \n",
    "\n",
    "__str__(self) # represent the fraction in a neat way for printing\n",
    "\n",
    "mixed(self) # represent the fraction in mixed terms \n",
    "\n",
    "__eq__(self, other) # checks equality by overloading ==\n",
    "\n",
    "```\n",
    "\n",
    "Also remember to handle errors and validations.\n",
    "\n",
    "Example of tests that it should handled: \n",
    "\n",
    "- 1/2 + 1/3 = 5/6\n",
    "- 1/2 - 1/3 = 1/6\n",
    "- 7/6 --> 1 1/6 (mixed)\n",
    "- 3*1/2 = 3/2\n",
    "- 1/2 * 3 = 3/2\n",
    "- 1/4 + 2 = 9/4\n",
    "- 1/4 / 1/2 = 1/2\n",
    "- 2/4 == 1/2 --> True\n",
    "- 3/4 += 2 = 11/4"
   ]
  },
  {
   "cell_type": "code",
   "execution_count": 154,
   "metadata": {},
   "outputs": [],
   "source": [
    "from __future__ import annotations # for type hinting of type Frac\n",
    "import math\n",
    "\n",
    "class Frac:\n",
    "    def __init__(self, nominator: float, denominator: float) -> None: # dunder init taking nominator and denominator\n",
    "        # NOTE: not using \"self._attribute\" due to using properties for getting and setting values\n",
    "        self.nominator = nominator\n",
    "        self.denominator = denominator\n",
    "    \n",
    "    # ----- properties -----\n",
    "    @property\n",
    "    def nominator(self):\n",
    "        return self._nominator\n",
    "    \n",
    "    @nominator.setter\n",
    "    def nominator(self, nominator):\n",
    "        if type(nominator) == str: # nominator is of type string:\n",
    "            raise TypeError(f\"Denominator must be a number, not {type(nominator)}\")\n",
    "        self._nominator = nominator\n",
    "\n",
    "    @property\n",
    "    def denominator(self):\n",
    "        return self._denominator\n",
    "    \n",
    "    @denominator.setter\n",
    "    def denominator(self, denominator):\n",
    "        if type(denominator) == str: # denominator is of type string:\n",
    "            raise TypeError(f\"Denominator must be a number, not {type(denominator)}\")\n",
    "        if denominator == 0: # avoid division by zero\n",
    "            raise ValueError(f\"Division by zero - Denominator cannot be 0!\")\n",
    "\n",
    "        self._denominator = denominator\n",
    "    \n",
    "    # ----- methods -----\n",
    "    def simplify(self, value: int = None) -> (Frac | int):\n",
    "        \"\"\"Returns fraction in most simple form, or attempts to simplify by [value] if given\"\"\"\n",
    "\n",
    "        # storing simplified values to new variables, so as not to mutate original attributes\n",
    "        simplified_nominator = self._nominator\n",
    "        simplified_denominator = self._denominator\n",
    "\n",
    "        # ----- custom value was passed in when calling method -----\n",
    "        if value != None:\n",
    "            # ----- not possible to simplify by value -----\n",
    "            if simplified_nominator % value != 0 or simplified_denominator % value != 0:\n",
    "                raise ValueError(f\"Not possible to simplify {self} by {value}\")\n",
    "            # ----- store result of simplifying by value as int -----\n",
    "            simplified_nominator = int(simplified_nominator / value)\n",
    "            simplified_denominator = int(simplified_denominator / value)\n",
    "\n",
    "            return Frac(simplified_nominator, simplified_denominator)\n",
    "\n",
    "        # ----- no custom value was passed -----\n",
    "        smallest = min(abs(simplified_nominator), abs(simplified_denominator)) # using abs to deal with negative numbers\n",
    "\n",
    "        p = 2\n",
    "        while p <= smallest:\n",
    "            if simplified_nominator % p == 0 and simplified_denominator % p == 0:\n",
    "                simplified_nominator = int(simplified_nominator / p)\n",
    "                simplified_denominator = int(simplified_denominator / p)\n",
    "            else:\n",
    "                p += 1\n",
    "        \n",
    "        fraction = Frac(simplified_nominator, simplified_denominator)\n",
    "        fraction_mixed = fraction.mixed()\n",
    "        \n",
    "        if type(fraction_mixed) == int: # if possible to rewrite as int:\n",
    "            return fraction_mixed # return int\n",
    "        return fraction # otherwise return as fraction\n",
    "\n",
    "    def mixed(self) -> (Frac | int):\n",
    "        \"\"\"Returns fraction in mixed terms\"\"\"\n",
    "        remainder = self._nominator\n",
    "        quotient = 0\n",
    "\n",
    "        while remainder - self._denominator >= 0: # TODO: handling of negative nom/denom\n",
    "            remainder -= self._denominator\n",
    "            quotient += 1\n",
    "\n",
    "        if remainder == 0: # no remainder:\n",
    "            return quotient # only return quotient\n",
    "        if quotient == 0: # no quotient:\n",
    "            return Frac(remainder, self._denominator) # only return fraction\n",
    "        else: # quotient and remainder:\n",
    "            return quotient, Frac(remainder, self._denominator) # return quotient, fraction\n",
    "\n",
    "    def find_common_denom(self, other):\n",
    "        nom1 = self._nominator * other.denominator\n",
    "        nom2 = other.nominator * self._denominator\n",
    "            \n",
    "        den = self._denominator * other.denominator\n",
    "\n",
    "        return Frac(nom1, den), Frac(nom2, den)\n",
    "\n",
    "    def decimal(self, decimals: int = None) -> float:\n",
    "        \"\"\"Turn fraction into decimal number with [decimals] points of precision\"\"\"\n",
    "        if decimals == None:\n",
    "            return self._nominator / self._denominator\n",
    "        return round(self._nominator / self._denominator, decimals)\n",
    "\n",
    "\n",
    "    def __eq__(self, other: (Frac | int | float)) -> bool:\n",
    "        \"\"\"Overload of == comparator for fractions\"\"\"\n",
    "        if type(other) == Frac:\n",
    "            return self._nominator / self._denominator == other.nominator / other.denominator\n",
    "        else:\n",
    "            return self._nominator / self._denominator == other\n",
    "    \n",
    "    def __add__(self, other: (Frac | int | float)) -> Frac:\n",
    "        \"\"\"Overload of + operator for fractions\"\"\"\n",
    "        if type(other) == Frac:\n",
    "            self_frac, other_frac = self.find_common_denom(other)\n",
    "            nom = self_frac.nominator + other_frac.nominator\n",
    "            den = self_frac.denominator\n",
    "\n",
    "        else:\n",
    "            nom = self._nominator + (other * self._denominator)\n",
    "            den = self._denominator\n",
    "\n",
    "        return Frac(nom, den).simplify()\n",
    "\n",
    "    def __radd__(self, other: (int | float)) -> Frac:\n",
    "        return self + other\n",
    "\n",
    "    def __sub__(self, other: (Frac | int | float)) -> Frac:\n",
    "        \"\"\"Overload of - operator for fractions\"\"\"\n",
    "        if type(other) == Frac:\n",
    "            self_frac, other_frac = self.find_common_denom(other)\n",
    "            nom = self_frac.nominator - other_frac.nominator\n",
    "            den = self_frac.denominator\n",
    "\n",
    "        else:\n",
    "            nom = self._nominator - (self._denominator * other)\n",
    "            den = self._denominator\n",
    "\n",
    "        return Frac(nom, den).simplify()\n",
    "    \n",
    "    def __rsub__(self, other: int) -> Frac:\n",
    "        fraction = Frac(other, 1)\n",
    "\n",
    "        return fraction - self\n",
    "\n",
    "    def __mul__(self, other: (Frac | int | float)) -> (Frac | int):\n",
    "        if type(other) == Frac:\n",
    "            nom = self._nominator * other.nominator\n",
    "            den = self._denominator * other.denominator\n",
    "        else:\n",
    "            nom = self._nominator * other\n",
    "            den = self._denominator\n",
    "\n",
    "        return Frac(nom, den).simplify()\n",
    "    \n",
    "    def __rmul__(self, other):\n",
    "        return self * other\n",
    "\n",
    "    def __truediv__(self, other: (Frac | int | float)) -> (Frac | int):\n",
    "        if type(other) == Frac:\n",
    "            nom = self._nominator * other.denominator\n",
    "            den = self._denominator * other.nominator\n",
    "        else:\n",
    "            nom = self._nominator / other # TODO: don't return decimal nominator (e.g. 12/11 / 5 -> 12/5 -> 2.4)\n",
    "            den = self._denominator\n",
    "            \n",
    "        return Frac(nom, den).simplify()\n",
    "    \n",
    "    def __rtruediv__(self, other): # TODO: implement int / frac\n",
    "        return \"Not yet implemented\"\n",
    "\n",
    "    def __str__(self) -> str: # represent the fraction in a neat way for printing\n",
    "        \"\"\"Represent fraction in string format, returns string: \\\"nominator/denominator\\\"\"\"\"\n",
    "        return f\"{self._nominator}/{self._denominator}\"\n",
    "\n",
    "    def __repr__(self) -> str:\n",
    "        \"\"\"Represent fraction in string format, returns string: \\\"nominator/denominator\\\"\"\"\"\n",
    "        return f\"{self._nominator}/{self._denominator}\"\n"
   ]
  },
  {
   "cell_type": "markdown",
   "metadata": {},
   "source": [
    "# example tests from exercise"
   ]
  },
  {
   "cell_type": "code",
   "execution_count": 155,
   "metadata": {},
   "outputs": [
    {
     "name": "stdout",
     "output_type": "stream",
     "text": [
      "5/6\n",
      "1/6\n",
      "(1, 1/6)\n",
      "3/2\n",
      "3/2\n",
      "9/4\n",
      "1/2\n",
      "True\n"
     ]
    }
   ],
   "source": [
    "# example tests from exercise:\n",
    "\n",
    "print(Frac(1, 2) + Frac(1, 3))  # = 5/6\n",
    "print(Frac(1, 2) - Frac(1, 3))  # = 1/6\n",
    "print(Frac(7, 6).mixed())       # --> 1 1/6 (mixed)\n",
    "print(3 * Frac(1, 2))           # = 3/2\n",
    "print(Frac(1, 2) * 3)           # = 3/2\n",
    "print(Frac(1, 4) + 2)           # = 9/4\n",
    "print(Frac(1, 4) / Frac(1, 2))  # = 1/2\n",
    "print(Frac(2, 4) == Frac(1, 2)) # --> True\n",
    "# print(Frac(3, 4) += 2)        # = 11/4 # TODO: implement +="
   ]
  },
  {
   "cell_type": "markdown",
   "metadata": {},
   "source": [
    "# intializing fractions:"
   ]
  },
  {
   "cell_type": "code",
   "execution_count": 156,
   "metadata": {},
   "outputs": [],
   "source": [
    "a = Frac(4, 2)\n",
    "b = Frac(3, 4)\n",
    "c = Frac(12, 11)\n",
    "# d = Frac(1, -1) # TODO: unable to simplify negative numbers\n",
    "# e = Frac(-1, 1)"
   ]
  },
  {
   "cell_type": "markdown",
   "metadata": {},
   "source": [
    "# == comparator"
   ]
  },
  {
   "cell_type": "code",
   "execution_count": 157,
   "metadata": {},
   "outputs": [
    {
     "name": "stdout",
     "output_type": "stream",
     "text": [
      "4/2 == 3/4 -> False\n",
      "3/4 == 12/11 -> False\n",
      "12/11 == 4/2 -> False\n",
      "\n",
      "with ints:\n",
      "4/2 == 2 -> True\n",
      "2 == 3/4 -> False\n",
      "12/11 == 5 -> False\n"
     ]
    }
   ],
   "source": [
    "print(f\"{a} == {b} -> {a == b}\")\n",
    "print(f\"{b} == {c} -> {b == c}\")\n",
    "print(f\"{c} == {a} -> {c == a}\")\n",
    "\n",
    "print(\"\\nwith ints:\")\n",
    "print(f\"{a} == {2} -> {a == 2}\")\n",
    "print(f\"{2} == {b} -> {2 == b}\")\n",
    "print(f\"{c} == {5} -> {c == 5}\")"
   ]
  },
  {
   "cell_type": "markdown",
   "metadata": {},
   "source": [
    "# + operator"
   ]
  },
  {
   "cell_type": "code",
   "execution_count": 158,
   "metadata": {},
   "outputs": [
    {
     "name": "stdout",
     "output_type": "stream",
     "text": [
      "4/2 + 3/4 = 11/4\n",
      "3/4 + 12/11 = 81/44\n",
      "12/11 + 4/2 = 34/11\n",
      "\n",
      "with ints:\n",
      "4/2 + 2 = 4\n",
      "2 + 3/4 = 11/4\n",
      "12/11 + 5 = 67/11\n"
     ]
    }
   ],
   "source": [
    "print(f\"{a} + {b} = {a + b}\")\n",
    "print(f\"{b} + {c} = {b + c}\")\n",
    "print(f\"{c} + {a} = {c + a}\")\n",
    "\n",
    "print(\"\\nwith ints:\")\n",
    "print(f\"{a} + {2} = {a + 2}\")\n",
    "print(f\"{2} + {b} = {2 + b}\")\n",
    "print(f\"{c} + {5} = {c + 5}\")"
   ]
  },
  {
   "cell_type": "markdown",
   "metadata": {},
   "source": [
    "# - operator"
   ]
  },
  {
   "cell_type": "code",
   "execution_count": 159,
   "metadata": {},
   "outputs": [
    {
     "name": "stdout",
     "output_type": "stream",
     "text": [
      "4/2 - 3/4 = 5/4\n",
      "3/4 - 12/11 = -15/44\n",
      "12/11 - 4/2 = -10/11\n",
      "\n",
      "with ints:\n",
      "4/2 - 2 = 0\n",
      "2 - 3/4 = 5/4\n",
      "12/11 - 5 = -43/11\n"
     ]
    }
   ],
   "source": [
    "print(f\"{a} - {b} = {a - b}\")\n",
    "print(f\"{b} - {c} = {b - c}\")\n",
    "print(f\"{c} - {a} = {c - a}\")\n",
    "\n",
    "print(\"\\nwith ints:\")\n",
    "print(f\"{a} - {2} = {a - 2}\")\n",
    "print(f\"{2} - {b} = {2 - b}\")\n",
    "print(f\"{c} - {5} = {c - 5}\")"
   ]
  },
  {
   "cell_type": "markdown",
   "metadata": {},
   "source": [
    "# * operator"
   ]
  },
  {
   "cell_type": "code",
   "execution_count": 160,
   "metadata": {},
   "outputs": [
    {
     "name": "stdout",
     "output_type": "stream",
     "text": [
      "4/2 * 3/4 = 3/2\n",
      "3/4 * 12/11 = 9/11\n",
      "12/11 * 4/2 = 24/11\n",
      "\n",
      "with ints:\n",
      "4/2 * 2 = 4\n",
      "2 * 3/4 = 3/2\n",
      "12/11 * 5 = 60/11\n"
     ]
    }
   ],
   "source": [
    "print(f\"{a} * {b} = {a * b}\")\n",
    "print(f\"{b} * {c} = {b * c}\")\n",
    "print(f\"{c} * {a} = {c * a}\")\n",
    "\n",
    "print(\"\\nwith ints:\")\n",
    "print(f\"{a} * {2} = {a * 2}\")\n",
    "print(f\"{2} * {b} = {2 * b}\")\n",
    "print(f\"{c} * {5} = {c * 5}\")"
   ]
  },
  {
   "cell_type": "markdown",
   "metadata": {},
   "source": [
    "# / operator"
   ]
  },
  {
   "cell_type": "code",
   "execution_count": 161,
   "metadata": {},
   "outputs": [
    {
     "name": "stdout",
     "output_type": "stream",
     "text": [
      "4/2 / 3/4 = 8/3\n",
      "3/4 / 12/11 = 11/16\n",
      "12/11 / 4/2 = 6/11\n",
      "\n",
      "with ints:\n",
      "4/2 / 2 = 1\n",
      "2 / 3/4 = Not yet implemented\n",
      "12/11 / 5 = 2.4/11\n"
     ]
    }
   ],
   "source": [
    "print(f\"{a} / {b} = {a / b}\")\n",
    "print(f\"{b} / {c} = {b / c}\")\n",
    "print(f\"{c} / {a} = {c / a}\")\n",
    "\n",
    "print(\"\\nwith ints:\")\n",
    "print(f\"{a} / {2} = {a / 2}\")\n",
    "print(f\"{2} / {b} = {2 / b}\") # TODO: implement __rtruediv__\n",
    "print(f\"{c} / {5} = {c / 5}\") # TODO: don't return decimal numbers"
   ]
  }
 ],
 "metadata": {
  "kernelspec": {
   "display_name": "Python 3.9.13 ('Python-Andreas-Svensson-mdnrE2EN')",
   "language": "python",
   "name": "python3"
  },
  "language_info": {
   "codemirror_mode": {
    "name": "ipython",
    "version": 3
   },
   "file_extension": ".py",
   "mimetype": "text/x-python",
   "name": "python",
   "nbconvert_exporter": "python",
   "pygments_lexer": "ipython3",
   "version": "3.9.13"
  },
  "orig_nbformat": 4,
  "vscode": {
   "interpreter": {
    "hash": "ce5ca73635e776ed4a4fa3650670807b72bb0d2e4957ff61281a0d117b023fd0"
   }
  }
 },
 "nbformat": 4,
 "nbformat_minor": 2
}
