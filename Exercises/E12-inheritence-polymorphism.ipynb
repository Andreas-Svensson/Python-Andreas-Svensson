{
 "cells": [
  {
   "cell_type": "markdown",
   "metadata": {},
   "source": [
    "## 1. Video (*)\n",
    "\n",
    "Create classes following this UML:\n",
    "\n",
    "<img src=\"../assets/UML_video_polymorphism.png\" width=\"700\"/>\n",
    "\n",
    "Note that the method info() should be different in the different classes where it should be implemented. \n",
    "\n",
    "Use the following code to test your program.\n",
    "\n",
    "```python\n",
    "pokemon = TV_serie(\"Pokemon\", \"Cartoon\", 4.5, 550)\n",
    "titanic = Movie(\"Titanic\", \"Romance\", 4.7, 194)\n",
    "code = Documentary(\"The Code\", \"Math\", 4)\n",
    "\n",
    "for video in tuple((pokemon, titanic, code)):\n",
    "    print(video.info())\n",
    "```\n",
    "\n",
    "An example output could be: \n",
    "```\n",
    "TV series with title Pokemon, genre Cartoon, rating 4.5 and episodes 550\n",
    "\n",
    "Movie with title Titanic, genre Romance, rating 4.7, duration 194 minutes\n",
    "\n",
    "Video with title The Code, genre Math and rating 4\n",
    "```"
   ]
  },
  {
   "cell_type": "code",
   "execution_count": 147,
   "metadata": {},
   "outputs": [],
   "source": [
    "# class Video:\n",
    "\n",
    "#     def __init__(self) -> None:\n",
    "        "
   ]
  },
  {
   "cell_type": "markdown",
   "metadata": {},
   "source": [
    "## 2. Fraction (**)\n",
    "\n",
    "Create a class called Frac to represent mathematical fractions. The class is instantiated with two instance variables: nominator and denominator. Objects instantiated from this class should have methods for addition, subtraction, multiplication, division using the operators +,-,*,/. Note that these implemented methods must be mathematically correct. Also implement the following methods: \n",
    "\n",
    "```python\n",
    "\n",
    "simplify(self, value = None) # simplifies to most simple form unless value is given \n",
    "\n",
    "__str__(self) # represent the fraction in a neat way for printing\n",
    "\n",
    "mixed(self) # represent the fraction in mixed terms \n",
    "\n",
    "__eq__(self, other) # checks equality by overloading ==\n",
    "\n",
    "```\n",
    "\n",
    "Also remember to handle errors and validations.\n",
    "\n",
    "Example of tests that it should handled: \n",
    "\n",
    "- 1/2 + 1/3 = 5/6\n",
    "- 1/2 - 1/3 = 1/6\n",
    "- 7/6 --> 1 1/6 (mixed)\n",
    "- 3*1/2 = 3/2\n",
    "- 1/2 * 3 = 3/2\n",
    "- 1/4 + 2 = 9/4\n",
    "- 1/4 / 1/2 = 1/2\n",
    "- 2/4 == 1/2 --> True\n",
    "- 3/4 += 2 = 11/4"
   ]
  },
  {
   "cell_type": "code",
   "execution_count": 148,
   "metadata": {},
   "outputs": [],
   "source": [
    "from __future__ import annotations # for type hinting of type Frac\n",
    "import math\n",
    "\n",
    "class Frac:\n",
    "    def __init__(self, nominator: float, denominator: float) -> None: # dunder init taking nominator and denominator\n",
    "        # NOTE: not using \"self._attribute\" due to using properties for getting and setting values\n",
    "        self.nominator = nominator\n",
    "        self.denominator = denominator\n",
    "    \n",
    "    # ----- properties -----\n",
    "    @property\n",
    "    def nominator(self):\n",
    "        return self._nominator\n",
    "    \n",
    "    @nominator.setter\n",
    "    def nominator(self, nominator):\n",
    "        if type(nominator) == str: # nominator is of type string:\n",
    "            raise TypeError(f\"Denominator must be a number, not {type(nominator)}\")\n",
    "        self._nominator = nominator\n",
    "\n",
    "    @property\n",
    "    def denominator(self):\n",
    "        return self._denominator\n",
    "    \n",
    "    @denominator.setter\n",
    "    def denominator(self, denominator):\n",
    "        if type(denominator) == str: # denominator is of type string:\n",
    "            raise TypeError(f\"Denominator must be a number, not {type(denominator)}\")\n",
    "        if denominator == 0: # avoid division by zero\n",
    "            raise ValueError(f\"Division by zero - Denominator cannot be 0!\")\n",
    "\n",
    "        self._denominator = denominator\n",
    "    \n",
    "    # ----- methods -----\n",
    "    def simplify(self, value: int = None) -> (Frac | int):\n",
    "        \"\"\"Returns fraction in most simple form, or attempts to simplify by [value] if given\"\"\"\n",
    "\n",
    "        # storing simplified values to new variables, so as not to mutate original attributes\n",
    "        simplified_nominator = self._nominator\n",
    "        simplified_denominator = self._denominator\n",
    "\n",
    "        # ----- custom value was passed in when calling method -----\n",
    "        if value != None:\n",
    "            # ----- not possible to simplify by value -----\n",
    "            if simplified_nominator % value != 0 or simplified_denominator % value != 0:\n",
    "                raise ValueError(f\"Not possible to simplify {self} by {value}\")\n",
    "            # ----- store result of simplifying by value as int -----\n",
    "            simplified_nominator = int(simplified_nominator / value)\n",
    "            simplified_denominator = int(simplified_denominator / value)\n",
    "\n",
    "            return Frac(simplified_nominator, simplified_denominator)\n",
    "\n",
    "        # ----- no custom value was passed -----\n",
    "        p = 2\n",
    "        while p <= min(simplified_nominator, simplified_denominator):\n",
    "            if simplified_nominator % p == 0 and simplified_denominator % p == 0:\n",
    "                simplified_nominator = int(simplified_nominator / p)\n",
    "                simplified_denominator = int(simplified_denominator / p)\n",
    "            else:\n",
    "                p += 1\n",
    "        \n",
    "        fraction = Frac(simplified_nominator, simplified_denominator)\n",
    "\n",
    "        if type(fraction.mixed()) == int: # if possible to rewrite as int:\n",
    "            return fraction.mixed() # return int\n",
    "        return fraction # otherwise return as fraction\n",
    "\n",
    "    def mixed(self) -> (Frac | int):\n",
    "        \"\"\"Returns fraction in mixed terms\"\"\"\n",
    "        remainder = self._nominator\n",
    "        quotient = 0\n",
    "\n",
    "        while remainder - self._denominator >= 0:\n",
    "            remainder -= self._denominator\n",
    "            quotient += 1\n",
    "\n",
    "        if remainder == 0: # no remainder:\n",
    "            return quotient # only return quotient\n",
    "        if quotient == 0: # no quotient:\n",
    "            return Frac(remainder, self._denominator) # only return fraction\n",
    "        else: # quotient and remainder:\n",
    "            return quotient, Frac(remainder, self._denominator) # return quotient, fraction\n",
    "\n",
    "    def find_common_denom(self, other):\n",
    "        nom1 = self._nominator * other.denominator\n",
    "        nom2 = other.nominator * self._denominator\n",
    "            \n",
    "        den = self._denominator * other.denominator\n",
    "\n",
    "        return nom1, nom2, den\n",
    "\n",
    "    def __eq__(self, other: (Frac | int | float)) -> bool:\n",
    "        \"\"\"Overload of == comparator for fractions\"\"\"\n",
    "        if type(other) == Frac:\n",
    "            return self._nominator / self._denominator == other.nominator / other.denominator\n",
    "        else:\n",
    "            return self._nominator / self._denominator == other\n",
    "    \n",
    "    def __add__(self, other: (Frac | int | float)) -> Frac:\n",
    "        \"\"\"Overload of + operator for fractions\"\"\"\n",
    "        if type(other) == Frac:\n",
    "            nom1, nom2, den = self.find_common_denom(other)\n",
    "            nom = nom1 + nom2\n",
    "\n",
    "        else:\n",
    "            nom = self._nominator + (other * self._denominator)\n",
    "            den = self._denominator\n",
    "\n",
    "        return Frac(nom, den).simplify()\n",
    "\n",
    "    def __radd__(self, other: (int | float)) -> Frac:\n",
    "        return self + other\n",
    "\n",
    "    def __sub__(self, other: (Frac | int | float)) -> Frac:\n",
    "        \"\"\"Overload of - operator for fractions\"\"\"\n",
    "        if type(other) == Frac:\n",
    "            nom1, nom2, den = self.find_common_denom(other)\n",
    "            nom = nom1 - nom2\n",
    "\n",
    "        else:\n",
    "            nom = self._nominator - (self._denominator * other)\n",
    "            den = self._denominator\n",
    "\n",
    "        return Frac(nom, den).simplify()\n",
    "    \n",
    "    def __rsub__(self, other: int) -> Frac:\n",
    "        fraction = Frac(other, 1)\n",
    "\n",
    "        return fraction - self\n",
    "\n",
    "    def __mul__(self, other: (Frac | int | float)) -> (Frac | int):\n",
    "        if type(other) == Frac:\n",
    "            nom = self._nominator * other.nominator\n",
    "            den = self._denominator * other.denominator\n",
    "        else:\n",
    "            nom = self._nominator * other\n",
    "            den = self._denominator\n",
    "\n",
    "        return Frac(nom, den).simplify()\n",
    "    \n",
    "    def __rmul__(self, other):\n",
    "        return self * other\n",
    "\n",
    "    def __truediv__(self, other: (Frac | int | float)) -> (Frac | int):\n",
    "        pass\n",
    "\n",
    "    def __str__(self) -> str: # represent the fraction in a neat way for printing\n",
    "        \"\"\"Represent fraction in string format, returns string: \\\"nominator/denominator\\\"\"\"\"\n",
    "        return f\"{self._nominator}/{self._denominator}\"\n",
    "\n",
    "    def __repr__(self) -> str:\n",
    "        \"\"\"Represent fraction in string format, returns string: \\\"nominator/denominator\\\"\"\"\"\n",
    "        return f\"{self._nominator}/{self._denominator}\"\n"
   ]
  },
  {
   "cell_type": "code",
   "execution_count": 149,
   "metadata": {},
   "outputs": [],
   "source": [
    "a = Frac(3, 4)\n",
    "b = Frac(12, 6)"
   ]
  },
  {
   "cell_type": "markdown",
   "metadata": {},
   "source": [
    "## simplify"
   ]
  },
  {
   "cell_type": "code",
   "execution_count": 150,
   "metadata": {},
   "outputs": [
    {
     "name": "stdout",
     "output_type": "stream",
     "text": [
      "3/4 simplified is 3/4\n",
      "12/6 simplified is 3/4\n"
     ]
    }
   ],
   "source": [
    "print(f\"{a} simplified is {a.simplify()}\")\n",
    "print(f\"{b} simplified is {a.simplify()}\")\n"
   ]
  },
  {
   "cell_type": "code",
   "execution_count": 151,
   "metadata": {},
   "outputs": [
    {
     "name": "stdout",
     "output_type": "stream",
     "text": [
      "Not possible to simplify 3/4 by 2\n",
      "12/6 simplified by 2 is: 6/3\n"
     ]
    }
   ],
   "source": [
    "try:\n",
    "    print(f\"{a} simplified by 2 is {a.simplify(2)}\")\n",
    "except ValueError as err:\n",
    "    print(err)\n",
    "\n",
    "try:\n",
    "    print(f\"{b} simplified by 2 is: {b.simplify(2)}\")\n",
    "except ValueError as err:\n",
    "    print(err)"
   ]
  },
  {
   "cell_type": "code",
   "execution_count": 152,
   "metadata": {},
   "outputs": [],
   "source": [
    "# print(f\"{a} simplified is {a.simplify(-1)}\") # TODO error handling of negative numbers"
   ]
  },
  {
   "cell_type": "markdown",
   "metadata": {},
   "source": [
    "## mixed"
   ]
  },
  {
   "cell_type": "code",
   "execution_count": 153,
   "metadata": {},
   "outputs": [
    {
     "name": "stdout",
     "output_type": "stream",
     "text": [
      "3/4\n",
      "2\n"
     ]
    }
   ],
   "source": [
    "print(a.mixed())\n",
    "print(b.mixed())"
   ]
  },
  {
   "cell_type": "markdown",
   "metadata": {},
   "source": [
    "## operators / comparators"
   ]
  },
  {
   "cell_type": "markdown",
   "metadata": {},
   "source": [
    "### =="
   ]
  },
  {
   "cell_type": "code",
   "execution_count": 154,
   "metadata": {},
   "outputs": [
    {
     "name": "stdout",
     "output_type": "stream",
     "text": [
      "False\n",
      "True\n"
     ]
    }
   ],
   "source": [
    "print(a == b)\n",
    "print(a != b)"
   ]
  },
  {
   "cell_type": "code",
   "execution_count": 155,
   "metadata": {},
   "outputs": [
    {
     "name": "stdout",
     "output_type": "stream",
     "text": [
      "False\n",
      "False\n"
     ]
    }
   ],
   "source": [
    "print(a == 2)\n",
    "print(2 == a) # TODO: Question - Why does this work with fractions without __req__ defined?"
   ]
  },
  {
   "cell_type": "markdown",
   "metadata": {},
   "source": [
    "### +"
   ]
  },
  {
   "cell_type": "code",
   "execution_count": 156,
   "metadata": {},
   "outputs": [
    {
     "name": "stdout",
     "output_type": "stream",
     "text": [
      "3/4 + 12/6 = 11/4\n",
      "3/4 + 2 = 11/4\n",
      "2 + 3/4 = 11/4\n"
     ]
    }
   ],
   "source": [
    "print(f\"{a} + {b} = {a + b}\")\n",
    "print(f\"{a} + 2 = {a + 2}\")\n",
    "print(f\"2 + {a} = {2 + a}\")"
   ]
  },
  {
   "cell_type": "markdown",
   "metadata": {},
   "source": [
    "### -"
   ]
  },
  {
   "cell_type": "code",
   "execution_count": 157,
   "metadata": {},
   "outputs": [
    {
     "name": "stdout",
     "output_type": "stream",
     "text": [
      "12/6 - 3/4 = 5/4\n",
      "3/4 - 1 = -1/4\n",
      "5 - 3/4 = 17/4\n"
     ]
    }
   ],
   "source": [
    "print(f\"{b} - {a} = {b - a}\")\n",
    "print(f\"{a} - 1 = {a - 1}\")\n",
    "print(f\"5 - {a} = {5 - a}\")"
   ]
  },
  {
   "cell_type": "markdown",
   "metadata": {},
   "source": [
    "### * - operator"
   ]
  },
  {
   "cell_type": "code",
   "execution_count": 158,
   "metadata": {},
   "outputs": [
    {
     "name": "stdout",
     "output_type": "stream",
     "text": [
      "12/6 * 3/4 = 3/2\n",
      "3/4 * 12/6 = 3/2\n",
      "3/4 * 2 = 3/2\n",
      "2 * 3/4 = 3/2\n"
     ]
    }
   ],
   "source": [
    "print(f\"{b} * {a} = {b * a}\")\n",
    "print(f\"{a} * {b} = {a * b}\")\n",
    "print(f\"{a} * {2} = {a * 2}\")\n",
    "print(f\"{2} * {a} = {2 * a}\")"
   ]
  },
  {
   "cell_type": "markdown",
   "metadata": {},
   "source": [
    "## `__str__`"
   ]
  },
  {
   "cell_type": "code",
   "execution_count": 159,
   "metadata": {},
   "outputs": [
    {
     "name": "stdout",
     "output_type": "stream",
     "text": [
      "3/4\n",
      "3/4\n"
     ]
    }
   ],
   "source": [
    "print(a)\n",
    "print(str(a))"
   ]
  }
 ],
 "metadata": {
  "kernelspec": {
   "display_name": "Python 3.9.13 ('Python-Andreas-Svensson-mdnrE2EN')",
   "language": "python",
   "name": "python3"
  },
  "language_info": {
   "codemirror_mode": {
    "name": "ipython",
    "version": 3
   },
   "file_extension": ".py",
   "mimetype": "text/x-python",
   "name": "python",
   "nbconvert_exporter": "python",
   "pygments_lexer": "ipython3",
   "version": "3.9.13"
  },
  "orig_nbformat": 4,
  "vscode": {
   "interpreter": {
    "hash": "ce5ca73635e776ed4a4fa3650670807b72bb0d2e4957ff61281a0d117b023fd0"
   }
  }
 },
 "nbformat": 4,
 "nbformat_minor": 2
}
