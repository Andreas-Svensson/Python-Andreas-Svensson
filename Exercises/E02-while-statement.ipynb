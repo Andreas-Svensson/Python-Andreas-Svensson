{
 "cells": [
  {
   "cell_type": "code",
   "execution_count": null,
   "metadata": {},
   "outputs": [],
   "source": []
  },
  {
   "cell_type": "markdown",
   "metadata": {},
   "source": [
    "# while statements\n",
    "\n",
    "## 1. Count numbers (*)\n",
    "\n",
    "Use a while statement to count from -10 to 10 with one increment."
   ]
  },
  {
   "cell_type": "code",
   "execution_count": 2,
   "metadata": {},
   "outputs": [
    {
     "name": "stdout",
     "output_type": "stream",
     "text": [
      "[-10, -9, -8, -7, -6, -5, -4, -3, -2, -1, 0, 1, 2, 3, 4, 5, 6, 7, 8, 9, 10]\n"
     ]
    }
   ],
   "source": [
    "i = -10\n",
    "i_list = []\n",
    "\n",
    "while i <= 10:\n",
    "    i_list.append(i)\n",
    "    i += 1\n",
    "\n",
    "print(i_list)"
   ]
  },
  {
   "cell_type": "markdown",
   "metadata": {},
   "source": [
    "## 2. Arithmetic sum (*)\n",
    "\n",
    "Use a while statement to compute the following sums:\n",
    "\n",
    "  a)    sum=1+2+…+99+100 \n",
    "\n",
    "  b)    sum=1+3+5+…+97+99"
   ]
  },
  {
   "cell_type": "code",
   "execution_count": 3,
   "metadata": {},
   "outputs": [
    {
     "name": "stdout",
     "output_type": "stream",
     "text": [
      "5050\n"
     ]
    }
   ],
   "source": [
    "i = 1\n",
    "sum = 0\n",
    "\n",
    "while i <= 100:\n",
    "    sum += i\n",
    "    i += 1\n",
    "\n",
    "print(sum)"
   ]
  },
  {
   "cell_type": "code",
   "execution_count": 4,
   "metadata": {},
   "outputs": [
    {
     "name": "stdout",
     "output_type": "stream",
     "text": [
      "2500\n"
     ]
    }
   ],
   "source": [
    "i = 1\n",
    "sum = 0\n",
    "\n",
    "while i <= 100:\n",
    "    if i % 2 == 1:\n",
    "        sum += i\n",
    "    i += 1\n",
    "\n",
    "print(sum)"
   ]
  },
  {
   "cell_type": "markdown",
   "metadata": {},
   "source": [
    "## 3. Guess number game (*)\n",
    "\n",
    "  a)   Create a guessing number game following this flow chart:"
   ]
  },
  {
   "cell_type": "code",
   "execution_count": 5,
   "metadata": {},
   "outputs": [
    {
     "name": "stdout",
     "output_type": "stream",
     "text": [
      "Higher\n",
      "Higher\n",
      "Higher\n",
      "Higher\n",
      "Lower\n",
      "Higher\n",
      "Higher\n",
      "Higher\n",
      "You win!\n"
     ]
    }
   ],
   "source": [
    "import random as rnd\n",
    "\n",
    "random_int = rnd.randint(1, 100)\n",
    "win = False\n",
    "\n",
    "while win == False:\n",
    "    guess = int(input(\"Guess a number 1-100: \"))\n",
    "\n",
    "    if guess == random_int:\n",
    "        print(\"You win!\")\n",
    "        win = True\n",
    "    else: # incorrect guess -> show clues\n",
    "        if guess < random_int:\n",
    "            print(\"Higher\")\n",
    "        else:\n",
    "            print(\"Lower\")"
   ]
  },
  {
   "cell_type": "markdown",
   "metadata": {},
   "source": [
    "b)   Make an algorithm to automatically guess the correct number. Can you optimize to get as few guesses as possible? (**)"
   ]
  },
  {
   "cell_type": "code",
   "execution_count": 45,
   "metadata": {},
   "outputs": [
    {
     "name": "stdout",
     "output_type": "stream",
     "text": [
      "Higher - Your guess was 75\n",
      "Higher - Your guess was 87\n",
      "Higher - Your guess was 93\n",
      "Higher - Your guess was 96\n",
      "Higher - Your guess was 98\n",
      "Lower - Your guess was 97\n",
      "You win, the correct guess was 97\n",
      "It took the computer 6 tries\n"
     ]
    }
   ],
   "source": [
    "import random as rnd\n",
    "\n",
    "random_int = rnd.randint(1, 100)\n",
    "win = False\n",
    "\n",
    "computer_guess = 50\n",
    "guesses = 0\n",
    "multiplicator = 1\n",
    "\n",
    "while win == False:\n",
    "    if int(computer_guess) == random_int:\n",
    "        print(f\"You win, the correct guess was {random_int}\")\n",
    "        print(f\"It took the computer {guesses} tries\")\n",
    "        win = True\n",
    "    else:\n",
    "        guesses += 1\n",
    "        if computer_guess < random_int:\n",
    "            computer_guess += (25 / multiplicator)\n",
    "            print(f\"Higher - Your guess was {int(computer_guess)}\")\n",
    "        else:\n",
    "            computer_guess -= (25 / multiplicator)\n",
    "            print(f\"Lower - Your guess was {int(computer_guess)}\")\n",
    "        multiplicator *= 2"
   ]
  },
  {
   "cell_type": "code",
   "execution_count": null,
   "metadata": {},
   "outputs": [],
   "source": []
  }
 ],
 "metadata": {
  "kernelspec": {
   "display_name": "Python 3.9.13 ('Python-Andreas-Svensson-mdnrE2EN')",
   "language": "python",
   "name": "python3"
  },
  "language_info": {
   "codemirror_mode": {
    "name": "ipython",
    "version": 3
   },
   "file_extension": ".py",
   "mimetype": "text/x-python",
   "name": "python",
   "nbconvert_exporter": "python",
   "pygments_lexer": "ipython3",
   "version": "3.9.13"
  },
  "orig_nbformat": 4,
  "vscode": {
   "interpreter": {
    "hash": "ce5ca73635e776ed4a4fa3650670807b72bb0d2e4957ff61281a0d117b023fd0"
   }
  }
 },
 "nbformat": 4,
 "nbformat_minor": 2
}
