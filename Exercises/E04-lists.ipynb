{
 "cells": [
  {
   "cell_type": "markdown",
   "metadata": {},
   "source": [
    "##  1. Dice rolls (*)\n",
    "\n",
    "Simulate 10 dice rolls and append the rolls to a list or use list comprehension.\n",
    "\n",
    "  a)   sort the list in ascending order (*)\n",
    "\n",
    "  b)   sort the list in descending order (*)\n",
    "\n",
    "  c)   find the maximum and minimum value in the list (*)"
   ]
  },
  {
   "cell_type": "code",
   "execution_count": 2,
   "metadata": {},
   "outputs": [
    {
     "name": "stdout",
     "output_type": "stream",
     "text": [
      "[4, 2, 4, 5, 1, 3, 5, 4, 4, 1]\n",
      "[1, 1, 2, 3, 4, 4, 4, 4, 5, 5]\n",
      "[5, 5, 4, 4, 4, 4, 3, 2, 1, 1]\n",
      "5\n",
      "1\n"
     ]
    }
   ],
   "source": [
    "import random as rnd\n",
    "dice_rolls = []\n",
    "\n",
    "for i in range(10):\n",
    "    dice_rolls.append(rnd.randint(1,6))\n",
    "\n",
    "print(dice_rolls)\n",
    "\n",
    "dice_rolls.sort()\n",
    "\n",
    "print(dice_rolls)\n",
    "\n",
    "dice_rolls.sort(reverse = True)\n",
    "\n",
    "print(dice_rolls)\n",
    "\n",
    "print(dice_rolls[0])\n",
    "print(dice_rolls[-1])"
   ]
  },
  {
   "cell_type": "code",
   "execution_count": 3,
   "metadata": {},
   "outputs": [
    {
     "name": "stdout",
     "output_type": "stream",
     "text": [
      "[2, 5, 3, 2, 5, 5, 2, 3, 3, 6]\n",
      "[6, 3, 3, 2, 5, 5, 2, 3, 5, 2]\n"
     ]
    }
   ],
   "source": [
    "# alternative solution using list comprehension\n",
    "dice_rolls2 = [rnd.randint(1, 6) for i in range(10)]\n",
    "print(dice_rolls2)\n",
    "print(list(reversed(dice_rolls2))) # alternative method of reversing list"
   ]
  },
  {
   "cell_type": "markdown",
   "metadata": {},
   "source": [
    "## 2. Food menu (*)\n",
    "\n",
    "Create a:\n",
    "\n",
    "  a)   list with the following elements: \"vegetarisk lasagne\", \"spaghetti\", \"fisk\", \"grönsakssoppa\", \"pannkakor\". (*)\n",
    "\n",
    "  b)   list with the weekdays (*)\n",
    "\n",
    "  c)   create a food menu with each day corresponding to each food item and print it out. (*)"
   ]
  },
  {
   "cell_type": "code",
   "execution_count": 32,
   "metadata": {},
   "outputs": [
    {
     "name": "stdout",
     "output_type": "stream",
     "text": [
      "mo: lasagna\n",
      "tu: spaghetti\n",
      "we: fisk\n",
      "th: soup\n",
      "fr: pancakes\n",
      "\n",
      "mo: lasagna\n",
      "tu: spaghetti\n",
      "we: fisk\n",
      "th: soup\n",
      "fr: pancakes\n",
      "\n"
     ]
    }
   ],
   "source": [
    "foods = [\"lasagna\", \"spaghetti\", \"fisk\", \"soup\", \"pancakes\"]\n",
    "days = [\"mo\", \"tu\", \"we\", \"th\", \"fr\"]\n",
    "plan = \"\"\n",
    "\n",
    "for i in range(len(foods)):\n",
    "    plan += f\"{days[i]}: {foods[i]}\\n\"\n",
    "\n",
    "print(plan)\n",
    "\n",
    "plan = \"\"\n",
    "\n",
    "for day, food in zip(days, foods):\n",
    "    plan += f\"{day}: {food}\\n\"\n",
    "\n",
    "print(plan)"
   ]
  },
  {
   "cell_type": "markdown",
   "metadata": {},
   "source": [
    "## 3. Squares (*)\n",
    "\n",
    "  a)   Use list comprehension to create a list of squares from -10 to 10 (*)\n",
    "\n",
    "  a)   Plot this list using matplotlib. (*)"
   ]
  },
  {
   "cell_type": "code",
   "execution_count": 40,
   "metadata": {},
   "outputs": [
    {
     "data": {
      "image/png": "[encoded data removed]",
      "text/plain": [
       "<Figure size 640x480 with 1 Axes>"
      ]
     },
     "metadata": {},
     "output_type": "display_data"
    }
   ],
   "source": [
    "import matplotlib.pyplot as plt\n",
    "\n",
    "squares = [i**2 for i in range(-10, 11)]\n",
    "plt.plot(squares);"
   ]
  },
  {
   "cell_type": "markdown",
   "metadata": {},
   "source": [
    "## 4. Chessboard (**)\n",
    "\n",
    "  a)   Create this list using list comprehension: (*)\n",
    "\n",
    "['A1', 'B1', 'C1', 'D1', 'E1', 'F1', 'G1', 'H1']  \n",
    "  b)   Create a 2D list to hold the coordinates in a chessboard. (**)"
   ]
  },
  {
   "cell_type": "code",
   "execution_count": 85,
   "metadata": {},
   "outputs": [
    {
     "name": "stdout",
     "output_type": "stream",
     "text": [
      "['A1', 'B1', 'C1', 'D1', 'E1', 'F1', 'G1', 'H1']\n",
      "['A2', 'B2', 'C2', 'D2', 'E2', 'F2', 'G2', 'H2']\n",
      "['A3', 'B3', 'C3', 'D3', 'E3', 'F3', 'G3', 'H3']\n",
      "['A4', 'B4', 'C4', 'D4', 'E4', 'F4', 'G4', 'H4']\n",
      "['A5', 'B5', 'C5', 'D5', 'E5', 'F5', 'G5', 'H5']\n",
      "['A6', 'B6', 'C6', 'D6', 'E6', 'F6', 'G6', 'H6']\n",
      "['A7', 'B7', 'C7', 'D7', 'E7', 'F7', 'G7', 'H7']\n",
      "['A8', 'B8', 'C8', 'D8', 'E8', 'F8', 'G8', 'H8']\n"
     ]
    }
   ],
   "source": [
    "letters = [\"A\", \"B\", \"C\", \"D\", \"E\", \"F\", \"G\", \"H\"]\n",
    "board_size = 8\n",
    "squares = []\n",
    "rows = []\n",
    "\n",
    "for number in range(board_size):\n",
    "    for letter in range(board_size):\n",
    "        squares.append(f\"{letters[letter]}{number + 1}\")\n",
    "    rows.append(squares)\n",
    "    squares = []\n",
    "\n",
    "for row in rows:\n",
    "    print(row)"
   ]
  },
  {
   "cell_type": "code",
   "execution_count": 92,
   "metadata": {},
   "outputs": [
    {
     "name": "stdout",
     "output_type": "stream",
     "text": [
      "['A1', 'B1', 'C1', 'D1', 'E1', 'F1', 'G1', 'H1']\n",
      "['A2', 'B2', 'C2', 'D2', 'E2', 'F2', 'G2', 'H2']\n",
      "['A3', 'B3', 'C3', 'D3', 'E3', 'F3', 'G3', 'H3']\n",
      "['A4', 'B4', 'C4', 'D4', 'E4', 'F4', 'G4', 'H4']\n",
      "['A5', 'B5', 'C5', 'D5', 'E5', 'F5', 'G5', 'H5']\n",
      "['A6', 'B6', 'C6', 'D6', 'E6', 'F6', 'G6', 'H6']\n",
      "['A7', 'B7', 'C7', 'D7', 'E7', 'F7', 'G7', 'H7']\n",
      "['A8', 'B8', 'C8', 'D8', 'E8', 'F8', 'G8', 'H8']\n"
     ]
    }
   ],
   "source": [
    "board = []\n",
    "row_list = []\n",
    "board_size = 8\n",
    "\n",
    "for number in range(board_size):\n",
    "    row_list += [f\"{letters[i]}{number + 1}\" for i in range(board_size)]\n",
    "    board.append(row_list)\n",
    "    row_list = []\n",
    "\n",
    "for row in board:\n",
    "    print(row)"
   ]
  },
  {
   "cell_type": "code",
   "execution_count": 108,
   "metadata": {},
   "outputs": [
    {
     "name": "stdout",
     "output_type": "stream",
     "text": [
      "['A1', 'B1', 'C1', 'D1', 'E1', 'F1', 'G1', 'H1']\n",
      "['A2', 'B2', 'C2', 'D2', 'E2', 'F2', 'G2', 'H2']\n",
      "['A3', 'B3', 'C3', 'D3', 'E3', 'F3', 'G3', 'H3']\n",
      "['A4', 'B4', 'C4', 'D4', 'E4', 'F4', 'G4', 'H4']\n",
      "['A5', 'B5', 'C5', 'D5', 'E5', 'F5', 'G5', 'H5']\n",
      "['A6', 'B6', 'C6', 'D6', 'E6', 'F6', 'G6', 'H6']\n",
      "['A7', 'B7', 'C7', 'D7', 'E7', 'F7', 'G7', 'H7']\n",
      "['A8', 'B8', 'C8', 'D8', 'E8', 'F8', 'G8', 'H8']\n"
     ]
    }
   ],
   "source": [
    "board = []\n",
    "row = []\n",
    "board_size = 8\n",
    "\n",
    "for number in range(board_size):\n",
    "    row += [f\"{letters[i]}{number + 1}\" for i in range(board_size)]\n",
    "    board.append(row)\n",
    "    row = []\n",
    "\n",
    "for row in board:\n",
    "    print(row)"
   ]
  },
  {
   "cell_type": "markdown",
   "metadata": {},
   "source": [
    "## 5. Dice rolls convergence (**)\n",
    "\n",
    "Simulate:\n",
    "\n",
    "  a)   100 dice rolls and count the number of outcome six. (*)\n",
    "\n",
    "  b)   10, 100, 1000, 10000, 100000, 1000000 dice rolls. Count the number of outcome six in each simulation and store it in a list. Compute the probability of outcome six in each simulation. (**)\n",
    "\n",
    "  c)   Use matplotlib to plot this list. (*)"
   ]
  },
  {
   "cell_type": "code",
   "execution_count": 18,
   "metadata": {},
   "outputs": [
    {
     "name": "stdout",
     "output_type": "stream",
     "text": [
      "Total amount of sixes: 21\n"
     ]
    }
   ],
   "source": [
    "import random as rnd\n",
    "\n",
    "amount_rolls = 100\n",
    "sixes = 0\n",
    "\n",
    "for i in range(amount_rolls):\n",
    "    roll = rnd.randint(1,6)\n",
    "    if roll == 6:\n",
    "        sixes += 1\n",
    "\n",
    "print(f\"Total amount of sixes: {sixes}\")"
   ]
  },
  {
   "cell_type": "code",
   "execution_count": 7,
   "metadata": {},
   "outputs": [
    {
     "data": {
      "image/png": "[encoded data removed]",
      "text/plain": [
       "<Figure size 640x480 with 1 Axes>"
      ]
     },
     "metadata": {},
     "output_type": "display_data"
    }
   ],
   "source": [
    "import matplotlib.pyplot as plt\n",
    "import random as rnd\n",
    "\n",
    "# calculates probability of n dice rolls, can take any amount of input dice rolls\n",
    "def calculate_probability(*amount_of_rolls):\n",
    "\n",
    "    sixes = 0 # used to store amount of sixes rolled\n",
    "    probability_list = [] # used to store calculated probability of each set of dice rolls\n",
    "\n",
    "    # for each set of dice rolls:\n",
    "    for number in amount_of_rolls:\n",
    "\n",
    "        # for each dice roll in that set:\n",
    "        for i in range(number):\n",
    "            dice = rnd.randint(1,6) # roll a dice\n",
    "            if dice == 6: # if dice rolls a 6:\n",
    "                sixes += 1  # add 1 to sixes\n",
    "\n",
    "        # when a set of dice rolls is completed:\n",
    "        probability = sixes / number # calculate probability based on dices that landed on 6 / total rolls for that set\n",
    "        probability_list.append(probability) # add calculated probability to probability list\n",
    "        sixes = 0 # reset sixes counter\n",
    "        # continue loop from the top until all sets of dice have been rolled\n",
    "\n",
    "    # return probability list containing calculated probability for each set once all sets are done\n",
    "    return probability_list\n",
    "\n",
    "# calling function 'calculate_probability' and storing returned values in a list\n",
    "my_dice_rolls = calculate_probability(10, 100, 1000, 10000, 100000, 1000000)\n",
    "\n",
    "# probability constant to compare probability results to\n",
    "probability_constant = [1/6 for index in my_dice_rolls]\n",
    "\n",
    "# plotting probability results\n",
    "plt.plot(my_dice_rolls)\n",
    "\n",
    "#plotting probability constant\n",
    "plt.plot(probability_constant);\n"
   ]
  },
  {
   "cell_type": "markdown",
   "metadata": {},
   "source": [
    "# 6. Monte Carlo simulation (**)\n",
    "\n",
    "&nbsp; a) Simulate 5000 uniformly distributed points between -1 and 1, $X\\sim U(-1,1)$. Now calculate the Euclidean distances between each point and the origin (0,0), $d_i = \\sqrt{x_i^2 + y_i^2}$. For $d_i < 1$ plot the point with one color, and for $d_i > 1$ plot the point in another color, $i = \\{1,\\ldots, 5000\\}$.  (**)\n",
    "\n",
    "&nbsp; b) Calculate the fraction between number of inner points and number of outer points. What do you this will converge to when number of points reaches infinity? (**)"
   ]
  },
  {
   "cell_type": "code",
   "execution_count": null,
   "metadata": {},
   "outputs": [],
   "source": []
  },
  {
   "cell_type": "markdown",
   "metadata": {},
   "source": [
    "# 7. A cute rabbit among two ferocious snakes (**)\n",
    "\n",
    "There are three identical doors, behind two of them, there are ferocious snakes and behind one of them is a cute little rabbit. Your aim is to pick a door and get the cute rabbit. You start picking one door randomly and suddenly another door opens and snake slithers away pssss. Now you have a choice to either stay with your door or change to the remaining door.\n",
    "\n",
    "\n",
    "  a) What is your choice and why? (**)\n",
    "\n",
    "  b) Randomly assign which door has the rabbit, and randomly pick an initial door. Now simulate 10, 100, 1000, 10000, 100000, 1000000 times for staying and for switching doors. Calculate the proportion of finding the rabbits for each set of simulations. Plot the results (**)"
   ]
  },
  {
   "cell_type": "code",
   "execution_count": 101,
   "metadata": {},
   "outputs": [
    {
     "name": "stdout",
     "output_type": "stream",
     "text": [
      "snake\n",
      "snake\n",
      "snake\n",
      "rabbit\n",
      "rabbit\n",
      "rabbit\n",
      "snake\n",
      "snake\n",
      "rabbit\n",
      "snake\n",
      "rabbit\n",
      "rabbit\n"
     ]
    }
   ],
   "source": [
    "import random as rnd\n",
    "\n",
    "def door_game(change_doors = False, number_of_doors = 3):\n",
    "\n",
    "    # creating doors\n",
    "    doors = [\"snake\" for door in range(number_of_doors)] # all indices set to \"snake\"\n",
    "    doors[rnd.randint(0, number_of_doors-1)] = \"rabbit\" # random index set to \"rabbit\"\n",
    "\n",
    "    # picking random door\n",
    "    picked_door = rnd.randint(0, len(doors)-1) # pick door at random\n",
    "    #print(picked_door, doors[picked_door])\n",
    "\n",
    "    # creating list of all doors available to be revealed\n",
    "    # (doors that are not picked and that have a snake behind them)\n",
    "    revealable_doors = [door for door in range(number_of_doors) if door != picked_door and doors[door] == \"snake\"]\n",
    "\n",
    "    # picking a random door out of revealable doors to reveal\n",
    "    to_reveal = revealable_doors[rnd.randint(0, len(revealable_doors)-1)]\n",
    "\n",
    "    # deleting (revealing) the picked door\n",
    "    del doors[to_reveal]\n",
    "\n",
    "    # if door revealed from doors is before picked_door:\n",
    "    if to_reveal < picked_door:\n",
    "        picked_door -= 1 # reduce value of picked_door by 1 to match the change in doors index values\n",
    "\n",
    "    # if changing doors:\n",
    "    if change_doors == True:\n",
    "        picked_door = rnd.randint(0, len(doors)-1) # pick new door at random\n",
    "\n",
    "    return doors[picked_door]\n",
    "\n",
    "def simulate_door_game_results(change_doors = False, *amount_of_simulations):\n",
    "\n",
    "    odds = []\n",
    "    \n",
    "    for input_parameter in range(len(amount_of_simulations)):\n",
    "\n",
    "        for x in range(amount_of_simulations[input_parameter]):\n",
    "            print(door_game(change_doors))\n",
    "    \n",
    "    return odds\n",
    "\n",
    "\n",
    "simulate_door_game_results(True, 2, 0, 0, 10)\n"
   ]
  },
  {
   "cell_type": "code",
   "execution_count": 41,
   "metadata": {},
   "outputs": [
    {
     "name": "stdout",
     "output_type": "stream",
     "text": [
      "['---', 'snake', 'rabbit'] 0 ---\n",
      "['snake', 'rabbit', '---'] 2 ---\n",
      "['snake', '---', 'rabbit'] 1 ---\n",
      "['---', 'snake', 'rabbit'] 0 ---\n",
      "['---', 'rabbit', 'snake'] 0 ---\n",
      "['rabbit', 'snake', '---'] 2 ---\n",
      "['---', 'rabbit', 'snake'] 0 ---\n",
      "['snake', 'rabbit', '---'] 2 ---\n",
      "['rabbit', '---', 'snake'] 1 ---\n",
      "['rabbit', 'snake', '---'] 2 ---\n"
     ]
    }
   ],
   "source": [
    "import random as rnd\n",
    "\n",
    "def door_game(stay = True, amount_of_doors = 3, ):\n",
    "\n",
    "    doors = [\"snake\" for door in range(amount_of_doors)]\n",
    "    doors[rnd.randint(0, amount_of_doors - 1)] = \"rabbit\"\n",
    "\n",
    "    picked_door = rnd.randint(0, amount_of_doors - 1)\n",
    "\n",
    "    revealable_doors = [door for door in range(amount_of_doors) if door != picked_door and doors[door] == \"snake\"]\n",
    "\n",
    "    revealed_door = revealable_doors[rnd.randint(0, len(revealable_doors) - 1)]\n",
    "\n",
    "    doors[revealed_door] = \"---\"\n",
    "\n",
    "    \n",
    "    \n",
    "\n",
    "    print(doors, revealed_door, doors[revealed_door])\n",
    "\n",
    "for i in range(10):\n",
    "    door_game()"
   ]
  },
  {
   "cell_type": "code",
   "execution_count": 27,
   "metadata": {},
   "outputs": [
    {
     "name": "stdout",
     "output_type": "stream",
     "text": [
      "range(0, 3)\n",
      "range(0, 3)\n",
      "3\n",
      "3\n",
      "3\n"
     ]
    }
   ],
   "source": [
    "import random as rnd\n",
    "\n",
    "doors = [\"snake\", \"snake\", \"rabbit\"]\n",
    "\n",
    "print(range(len(doors)))\n",
    "print(range(3))\n",
    "print(len(\"333\"))\n",
    "print(len(range(3)))\n",
    "print(len(doors))\n",
    "\n",
    "#rnd.randint(0, range(3))"
   ]
  },
  {
   "cell_type": "code",
   "execution_count": null,
   "metadata": {},
   "outputs": [],
   "source": []
  }
 ],
 "metadata": {
  "kernelspec": {
   "display_name": "Python 3.9.13 ('Python-Andreas-Svensson-mdnrE2EN')",
   "language": "python",
   "name": "python3"
  },
  "language_info": {
   "codemirror_mode": {
    "name": "ipython",
    "version": 3
   },
   "file_extension": ".py",
   "mimetype": "text/x-python",
   "name": "python",
   "nbconvert_exporter": "python",
   "pygments_lexer": "ipython3",
   "version": "3.9.13"
  },
  "orig_nbformat": 4,
  "vscode": {
   "interpreter": {
    "hash": "ce5ca73635e776ed4a4fa3650670807b72bb0d2e4957ff61281a0d117b023fd0"
   }
  }
 },
 "nbformat": 4,
 "nbformat_minor": 2
}
