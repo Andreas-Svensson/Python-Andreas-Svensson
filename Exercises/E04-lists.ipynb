{
 "cells": [
  {
   "cell_type": "markdown",
   "metadata": {},
   "source": [
    "##  1. Dice rolls (*)\n",
    "\n",
    "Simulate 10 dice rolls and append the rolls to a list or use list comprehension.\n",
    "\n",
    "  a)   sort the list in ascending order (*)\n",
    "\n",
    "  b)   sort the list in descending order (*)\n",
    "\n",
    "  c)   find the maximum and minimum value in the list (*)"
   ]
  },
  {
   "cell_type": "code",
   "execution_count": 5,
   "metadata": {},
   "outputs": [
    {
     "name": "stdout",
     "output_type": "stream",
     "text": [
      "[5, 5, 5, 3, 6, 6, 1, 3, 5, 1]\n",
      "[1, 1, 3, 3, 5, 5, 5, 5, 6, 6]\n",
      "[6, 6, 5, 5, 5, 5, 3, 3, 1, 1]\n",
      "6\n",
      "1\n"
     ]
    }
   ],
   "source": [
    "import random as rnd\n",
    "dice_rolls = []\n",
    "\n",
    "for i in range(10):\n",
    "    dice_rolls.append(rnd.randint(1,6))\n",
    "\n",
    "print(dice_rolls)\n",
    "\n",
    "dice_rolls.sort()\n",
    "\n",
    "print(dice_rolls)\n",
    "\n",
    "dice_rolls.sort(reverse = True)\n",
    "\n",
    "print(dice_rolls)\n",
    "\n",
    "print(dice_rolls[0])\n",
    "print(dice_rolls[-1])"
   ]
  },
  {
   "cell_type": "code",
   "execution_count": 6,
   "metadata": {},
   "outputs": [
    {
     "name": "stdout",
     "output_type": "stream",
     "text": [
      "[3, 6, 6, 1, 1, 2, 6, 5, 5, 4]\n",
      "[4, 5, 5, 6, 2, 1, 1, 6, 6, 3]\n"
     ]
    }
   ],
   "source": [
    "# alternative solution using list comprehension\n",
    "dice_rolls2 = [rnd.randint(1, 6) for i in range(10)]\n",
    "print(dice_rolls2)\n",
    "print(list(reversed(dice_rolls2))) # alternative method of reversing list"
   ]
  },
  {
   "cell_type": "markdown",
   "metadata": {},
   "source": [
    "## 2. Food menu (*)\n",
    "\n",
    "Create a:\n",
    "\n",
    "  a)   list with the following elements: \"vegetarisk lasagne\", \"spaghetti\", \"fisk\", \"grönsakssoppa\", \"pannkakor\". (*)\n",
    "\n",
    "  b)   list with the weekdays (*)\n",
    "\n",
    "  c)   create a food menu with each day corresponding to each food item and print it out. (*)"
   ]
  },
  {
   "cell_type": "code",
   "execution_count": 7,
   "metadata": {},
   "outputs": [
    {
     "name": "stdout",
     "output_type": "stream",
     "text": [
      "mo: lasagna\n",
      "tu: spaghetti\n",
      "we: fisk\n",
      "th: soup\n",
      "fr: pancakes\n",
      "\n",
      "mo: lasagna\n",
      "tu: spaghetti\n",
      "we: fisk\n",
      "th: soup\n",
      "fr: pancakes\n",
      "\n"
     ]
    }
   ],
   "source": [
    "foods = [\"lasagna\", \"spaghetti\", \"fisk\", \"soup\", \"pancakes\"]\n",
    "days = [\"mo\", \"tu\", \"we\", \"th\", \"fr\"]\n",
    "plan = \"\"\n",
    "\n",
    "for i in range(len(foods)):\n",
    "    plan += f\"{days[i]}: {foods[i]}\\n\"\n",
    "\n",
    "print(plan)\n",
    "\n",
    "plan = \"\"\n",
    "\n",
    "for day, food in zip(days, foods):\n",
    "    plan += f\"{day}: {food}\\n\"\n",
    "\n",
    "print(plan)"
   ]
  },
  {
   "cell_type": "markdown",
   "metadata": {},
   "source": [
    "## 3. Squares (*)\n",
    "\n",
    "  a)   Use list comprehension to create a list of squares from -10 to 10 (*)\n",
    "\n",
    "  a)   Plot this list using matplotlib. (*)"
   ]
  },
  {
   "cell_type": "code",
   "execution_count": 8,
   "metadata": {},
   "outputs": [
    {
     "data": {
      "image/png": "[encoded data removed]",
      "text/plain": [
       "<Figure size 640x480 with 1 Axes>"
      ]
     },
     "metadata": {},
     "output_type": "display_data"
    }
   ],
   "source": [
    "import matplotlib.pyplot as plt\n",
    "\n",
    "squares = [i**2 for i in range(-10, 11)]\n",
    "plt.plot(squares);"
   ]
  },
  {
   "cell_type": "markdown",
   "metadata": {},
   "source": [
    "## 4. Chessboard (**)\n",
    "\n",
    "  a)   Create this list using list comprehension: (*)\n",
    "\n",
    "['A1', 'B1', 'C1', 'D1', 'E1', 'F1', 'G1', 'H1']  \n",
    "  b)   Create a 2D list to hold the coordinates in a chessboard. (**)"
   ]
  },
  {
   "cell_type": "code",
   "execution_count": 9,
   "metadata": {},
   "outputs": [
    {
     "name": "stdout",
     "output_type": "stream",
     "text": [
      "['A1', 'B1', 'C1', 'D1', 'E1', 'F1', 'G1', 'H1']\n",
      "['A2', 'B2', 'C2', 'D2', 'E2', 'F2', 'G2', 'H2']\n",
      "['A3', 'B3', 'C3', 'D3', 'E3', 'F3', 'G3', 'H3']\n",
      "['A4', 'B4', 'C4', 'D4', 'E4', 'F4', 'G4', 'H4']\n",
      "['A5', 'B5', 'C5', 'D5', 'E5', 'F5', 'G5', 'H5']\n",
      "['A6', 'B6', 'C6', 'D6', 'E6', 'F6', 'G6', 'H6']\n",
      "['A7', 'B7', 'C7', 'D7', 'E7', 'F7', 'G7', 'H7']\n",
      "['A8', 'B8', 'C8', 'D8', 'E8', 'F8', 'G8', 'H8']\n"
     ]
    }
   ],
   "source": [
    "letters = [\"A\", \"B\", \"C\", \"D\", \"E\", \"F\", \"G\", \"H\"]\n",
    "board_size = 8\n",
    "squares = []\n",
    "rows = []\n",
    "\n",
    "for number in range(board_size):\n",
    "    for letter in range(board_size):\n",
    "        squares.append(f\"{letters[letter]}{number + 1}\")\n",
    "    rows.append(squares)\n",
    "    squares = []\n",
    "\n",
    "for row in rows:\n",
    "    print(row)"
   ]
  },
  {
   "cell_type": "code",
   "execution_count": 18,
   "metadata": {},
   "outputs": [
    {
     "name": "stdout",
     "output_type": "stream",
     "text": [
      "['A1', 'B1', 'C1', 'D1', 'E1', 'F1', 'G1', 'H1']\n",
      "['A2', 'B2', 'C2', 'D2', 'E2', 'F2', 'G2', 'H2']\n",
      "['A3', 'B3', 'C3', 'D3', 'E3', 'F3', 'G3', 'H3']\n",
      "['A4', 'B4', 'C4', 'D4', 'E4', 'F4', 'G4', 'H4']\n",
      "['A5', 'B5', 'C5', 'D5', 'E5', 'F5', 'G5', 'H5']\n",
      "['A6', 'B6', 'C6', 'D6', 'E6', 'F6', 'G6', 'H6']\n",
      "['A7', 'B7', 'C7', 'D7', 'E7', 'F7', 'G7', 'H7']\n",
      "['A8', 'B8', 'C8', 'D8', 'E8', 'F8', 'G8', 'H8']\n"
     ]
    }
   ],
   "source": [
    "letters = [\"A\", \"B\", \"C\", \"D\", \"E\", \"F\", \"G\", \"H\"]\n",
    "board = []\n",
    "board_size = 8\n",
    "\n",
    "for number in range(board_size):\n",
    "    row_list = [f\"{letters[i]}{number + 1}\" for i in range(board_size)]\n",
    "    board.append(row_list)\n",
    "\n",
    "for row in board:\n",
    "    print(row)"
   ]
  },
  {
   "cell_type": "markdown",
   "metadata": {},
   "source": [
    "## 5. Dice rolls convergence (**)\n",
    "\n",
    "Simulate:\n",
    "\n",
    "  a)   100 dice rolls and count the number of outcome six. (*)\n",
    "\n",
    "  b)   10, 100, 1000, 10000, 100000, 1000000 dice rolls. Count the number of outcome six in each simulation and store it in a list. Compute the probability of outcome six in each simulation. (**)\n",
    "\n",
    "  c)   Use matplotlib to plot this list. (*)"
   ]
  },
  {
   "cell_type": "code",
   "execution_count": 12,
   "metadata": {},
   "outputs": [
    {
     "name": "stdout",
     "output_type": "stream",
     "text": [
      "Total amount of sixes: 20\n"
     ]
    }
   ],
   "source": [
    "import random as rnd\n",
    "\n",
    "amount_rolls = 100\n",
    "sixes = 0\n",
    "\n",
    "for i in range(amount_rolls):\n",
    "    roll = rnd.randint(1,6)\n",
    "    if roll == 6:\n",
    "        sixes += 1\n",
    "\n",
    "print(f\"Total amount of sixes: {sixes}\")"
   ]
  },
  {
   "cell_type": "code",
   "execution_count": 13,
   "metadata": {},
   "outputs": [
    {
     "data": {
      "image/png": "[encoded data removed]",
      "text/plain": [
       "<Figure size 640x480 with 1 Axes>"
      ]
     },
     "metadata": {},
     "output_type": "display_data"
    }
   ],
   "source": [
    "import matplotlib.pyplot as plt\n",
    "import random as rnd\n",
    "\n",
    "# calculates probability of n dice rolls, can take any amount of input dice rolls\n",
    "def calculate_probability(*amount_of_rolls):\n",
    "\n",
    "    sixes = 0 # used to store amount of sixes rolled\n",
    "    probability_list = [] # used to store calculated probability of each set of dice rolls\n",
    "\n",
    "    # for each set of dice rolls:\n",
    "    for number in amount_of_rolls:\n",
    "\n",
    "        # for each dice roll in that set:\n",
    "        for i in range(number):\n",
    "            dice = rnd.randint(1,6) # roll a dice\n",
    "            if dice == 6: # if dice rolls a 6:\n",
    "                sixes += 1  # add 1 to sixes\n",
    "\n",
    "        # when a set of dice rolls is completed:\n",
    "        probability = sixes / number # calculate probability based on dices that landed on 6 / total rolls for that set\n",
    "        probability_list.append(probability) # add calculated probability to probability list\n",
    "        sixes = 0 # reset sixes counter\n",
    "        # continue loop from the top until all sets of dice have been rolled\n",
    "\n",
    "    # return probability list containing calculated probability for each set once all sets are done\n",
    "    return probability_list\n",
    "\n",
    "# calling function 'calculate_probability' and storing returned values in a list\n",
    "my_dice_rolls = calculate_probability(10, 100, 1000, 10000, 100000, 1000000)\n",
    "\n",
    "# probability constant to compare probability results to\n",
    "probability_constant = [1/6 for index in my_dice_rolls]\n",
    "\n",
    "# plotting probability results\n",
    "plt.plot(my_dice_rolls)\n",
    "\n",
    "#plotting probability constant\n",
    "plt.plot(probability_constant);\n"
   ]
  },
  {
   "cell_type": "markdown",
   "metadata": {},
   "source": [
    "# 6. Monte Carlo simulation (**)\n",
    "\n",
    "&nbsp; a) Simulate 5000 uniformly distributed points between -1 and 1, $X\\sim U(-1,1)$. Now calculate the Euclidean distances between each point and the origin (0,0), $d_i = \\sqrt{x_i^2 + y_i^2}$. For $d_i < 1$ plot the point with one color, and for $d_i > 1$ plot the point in another color, $i = \\{1,\\ldots, 5000\\}$.  (**)\n",
    "\n",
    "&nbsp; b) Calculate the fraction between number of inner points and number of outer points. What do you this will converge to when number of points reaches infinity? (**)"
   ]
  },
  {
   "cell_type": "code",
   "execution_count": null,
   "metadata": {},
   "outputs": [],
   "source": []
  },
  {
   "cell_type": "markdown",
   "metadata": {},
   "source": [
    "# 7. A cute rabbit among two ferocious snakes (**)\n",
    "\n",
    "There are three identical doors, behind two of them, there are ferocious snakes and behind one of them is a cute little rabbit. Your aim is to pick a door and get the cute rabbit. You start picking one door randomly and suddenly another door opens and snake slithers away pssss. Now you have a choice to either stay with your door or change to the remaining door.\n",
    "\n",
    "\n",
    "  a) What is your choice and why? (**)\n",
    "\n",
    "  b) Randomly assign which door has the rabbit, and randomly pick an initial door. Now simulate 10, 100, 1000, 10000, 100000, 1000000 times for staying and for switching doors. Calculate the proportion of finding the rabbits for each set of simulations. Plot the results (**)"
   ]
  },
  {
   "cell_type": "code",
   "execution_count": 14,
   "metadata": {},
   "outputs": [
    {
     "name": "stdout",
     "output_type": "stream",
     "text": [
      "rabbit\n",
      "snake\n",
      "rabbit\n",
      "rabbit\n",
      "snake\n",
      "snake\n",
      "rabbit\n",
      "snake\n",
      "snake\n",
      "snake\n",
      "rabbit\n",
      "snake\n"
     ]
    },
    {
     "data": {
      "text/plain": [
       "[]"
      ]
     },
     "execution_count": 14,
     "metadata": {},
     "output_type": "execute_result"
    }
   ],
   "source": [
    "import random as rnd\n",
    "\n",
    "def door_game(change_doors = False, number_of_doors = 3):\n",
    "\n",
    "    # creating doors\n",
    "    doors = [\"snake\" for door in range(number_of_doors)] # all indices set to \"snake\"\n",
    "    doors[rnd.randint(0, number_of_doors-1)] = \"rabbit\" # random index set to \"rabbit\"\n",
    "\n",
    "    # picking random door\n",
    "    picked_door = rnd.randint(0, len(doors)-1) # pick door at random\n",
    "    #print(picked_door, doors[picked_door])\n",
    "\n",
    "    # creating list of all doors available to be revealed\n",
    "    # (doors that are not picked and that have a snake behind them)\n",
    "    revealable_doors = [door for door in range(number_of_doors) if door != picked_door and doors[door] == \"snake\"]\n",
    "\n",
    "    # picking a random door out of revealable doors to reveal\n",
    "    to_reveal = revealable_doors[rnd.randint(0, len(revealable_doors)-1)]\n",
    "\n",
    "    # deleting (revealing) the picked door\n",
    "    del doors[to_reveal]\n",
    "\n",
    "    # if door revealed from doors is before picked_door:\n",
    "    if to_reveal < picked_door:\n",
    "        picked_door -= 1 # reduce value of picked_door by 1 to match the change in doors index values\n",
    "\n",
    "    # if changing doors:\n",
    "    if change_doors == True:\n",
    "        picked_door = rnd.randint(0, len(doors)-1) # pick new door at random\n",
    "\n",
    "    return doors[picked_door]\n",
    "\n",
    "def simulate_door_game_results(change_doors = False, *amount_of_simulations):\n",
    "\n",
    "    odds = []\n",
    "    \n",
    "    for input_parameter in range(len(amount_of_simulations)):\n",
    "\n",
    "        for x in range(amount_of_simulations[input_parameter]):\n",
    "            print(door_game(change_doors))\n",
    "    \n",
    "    return odds\n",
    "\n",
    "\n",
    "simulate_door_game_results(True, 2, 0, 0, 10)\n"
   ]
  },
  {
   "cell_type": "code",
   "execution_count": 23,
   "metadata": {},
   "outputs": [
    {
     "name": "stdout",
     "output_type": "stream",
     "text": [
      "[0.6, 0.29, 0.345, 0.3337, 0.33177]\n",
      "[0.4, 0.71, 0.655, 0.6663, 0.66823]\n"
     ]
    },
    {
     "data": {
      "image/png": "[encoded data removed]",
      "text/plain": [
       "<Figure size 640x480 with 1 Axes>"
      ]
     },
     "metadata": {},
     "output_type": "display_data"
    }
   ],
   "source": [
    "import matplotlib.pyplot as plt\n",
    "import random as rnd\n",
    "\n",
    "def door_game(amount_of_doors = 3):\n",
    "    \"\"\"\n",
    "    Returns two integers win_stay and win_change, which are set to 1 if the game is won by the respective approach (staying or changing)\n",
    "\n",
    "    Game explanation:\n",
    "    Door game presenting x doors, where one is picked at random\n",
    "    Behind one of the doors is a rabbit, if that door is picked, you win\n",
    "    After picking a door at random, one of the other doors (not containing the rabbit) is revealed\n",
    "    The choice is then given to stay with the picked door, or change doors, and the result returned as described above\n",
    "    \"\"\"\n",
    "\n",
    "    win = [False, False] # win[0] - stay, win[1] - change\n",
    "\n",
    "    # generating doors\n",
    "    doors = [\"snake\" for door in range(amount_of_doors)] # add [amount_of_doors] indices containing \"snake\" to doors list\n",
    "    doors[rnd.randint(0, amount_of_doors - 1)] = \"rabbit\" # change one random index to \"rabbit\" (win condition)\n",
    "\n",
    "    # randomly pick a number representing a picked index from doors list\n",
    "    picked_door = rnd.randint(0, amount_of_doors - 1)\n",
    "\n",
    "    # from doors, add all indices not equaling picked_door, and not containing the value \"rabbit\" to a list\n",
    "    revealable_doors = [door for door in range(amount_of_doors) if door != picked_door and doors[door] != \"rabbit\"]\n",
    "    # from that list, pick one random index to reveal and save it to revealed_door\n",
    "    revealed_door = revealable_doors[rnd.randint(0, len(revealable_doors) - 1)]\n",
    "\n",
    "    # set index [revealed_door] of doors list to \"---\" representing the door being opened\n",
    "    doors[revealed_door] = \"---\"\n",
    "\n",
    "    # from doors, add all indices not equaling picked_door, and not equaling revealed_door to a list\n",
    "    changeable_doors = [door for door in range(amount_of_doors) if door != picked_door and door != revealed_door]\n",
    "    # from that list, pick one index at random to change to and save it to changed_door\n",
    "    changed_door = changeable_doors[rnd.randint(0, len(changeable_doors) - 1)]\n",
    "\n",
    "    # ---\n",
    "\n",
    "    # deciding wins:\n",
    "    win_stay, win_change = 0, 0 # initialize variables to represent game results by staying/changing\n",
    "\n",
    "    # if index [picked_door] of doors list contains \"rabbit\":\n",
    "    if doors[picked_door] == \"rabbit\":\n",
    "        win_stay = 1 # set win_stay to 1, representing a win when staying with the picked door\n",
    "\n",
    "    # if index [changed_door] of doors list contains \"rabbit\":\n",
    "    if doors[changed_door] == \"rabbit\":\n",
    "        win_change = 1 # set win_change to 1, representing a win when changing doors\n",
    "\n",
    "    # return the win list, containing values for stay and change respectively\n",
    "    return win_stay, win_change\n",
    "\n",
    "def door_game_statistics(*amount_of_simulations, amount_of_doors = 3):\n",
    "    \"\"\"\n",
    "    Returns 2 lists [odds_win_stay], [odds_win_change] containing odds of winning door game if staying and changing doors respectively \n",
    "    \n",
    "    Calls door_game() [amount_of_simulations] times and stores the win results to the respective lists\n",
    "\n",
    "    \"\"\"\n",
    "    odds_win_stay, odds_win_change = [], [] # initialize lists to store odds of winning for each set of simulations\n",
    "\n",
    "    # for each set of simulations:\n",
    "    for number_of_simulations in amount_of_simulations:\n",
    "\n",
    "        win_stay, win_change = 0, 0 # reset counters between each set of simulations\n",
    "\n",
    "        # for each simulation in that set:\n",
    "        for simulation in range(number_of_simulations):\n",
    "\n",
    "            results = door_game(amount_of_doors) # call door_game and store its results\n",
    "            win_stay += results[0] # add to the counter of [win_stay] if door_game() was won by staying\n",
    "            win_change += results[1] # add to the counter of [win_change] if door_game() was won by changing\n",
    "\n",
    "        # calculate odds of winning / staying after a full set of simulations, and store them to respective lists\n",
    "        odds_win_stay.append(win_stay / number_of_simulations)\n",
    "        odds_win_change.append(win_change / number_of_simulations)\n",
    "\n",
    "    # after all sets of simulations are complete, return lists containing simulated win results\n",
    "    return odds_win_stay, odds_win_change\n",
    "        \n",
    "# call door_game_statistics and save the results\n",
    "odds_of_winning = door_game_statistics(10, 100, 1000, 10000, 100000, amount_of_doors = 3)\n",
    "\n",
    "# print results of winning by staying [0] and changing [1]\n",
    "print(odds_of_winning[0])\n",
    "print(odds_of_winning[1])\n",
    "\n",
    "# plot results of winning [0] and staying [1]\n",
    "plt.plot(odds_of_winning[0])\n",
    "plt.plot(odds_of_winning[1]);"
   ]
  }
 ],
 "metadata": {
  "kernelspec": {
   "display_name": "Python 3.9.13 ('Python-Andreas-Svensson-mdnrE2EN')",
   "language": "python",
   "name": "python3"
  },
  "language_info": {
   "codemirror_mode": {
    "name": "ipython",
    "version": 3
   },
   "file_extension": ".py",
   "mimetype": "text/x-python",
   "name": "python",
   "nbconvert_exporter": "python",
   "pygments_lexer": "ipython3",
   "version": "3.9.13"
  },
  "orig_nbformat": 4,
  "vscode": {
   "interpreter": {
    "hash": "ce5ca73635e776ed4a4fa3650670807b72bb0d2e4957ff61281a0d117b023fd0"
   }
  }
 },
 "nbformat": 4,
 "nbformat_minor": 2
}
