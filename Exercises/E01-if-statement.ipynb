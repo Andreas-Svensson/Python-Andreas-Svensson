{
 "cells": [
  {
   "cell_type": "markdown",
   "metadata": {},
   "source": [
    "# 1. Check sign (*)\n",
    "\n",
    "Ask the user to input a number and check if this number is positive, negative or zero and print it out."
   ]
  },
  {
   "cell_type": "code",
   "execution_count": 2,
   "metadata": {},
   "outputs": [
    {
     "name": "stdout",
     "output_type": "stream",
     "text": [
      "Your number is 12.0, which is positive\n"
     ]
    }
   ],
   "source": [
    "input_number = float(input(\"Enter a number: \"))\n",
    "number_value = \"\"\n",
    "\n",
    "if input_number < 0:\n",
    "    number_value = \"negative\"\n",
    "elif input_number == 0:\n",
    "    number_value = \"zero\"\n",
    "else:\n",
    "    number_value = \"positive\"\n",
    "\n",
    "print(f\"Your number is {input_number}, which is {number_value}\")\n"
   ]
  },
  {
   "cell_type": "markdown",
   "metadata": {},
   "source": [
    "# 2. Smallest (*)\n",
    "\n",
    "Ask the user to input two numbers and check which one is the smallest and print it out."
   ]
  },
  {
   "cell_type": "code",
   "execution_count": 3,
   "metadata": {},
   "outputs": [
    {
     "name": "stdout",
     "output_type": "stream",
     "text": [
      "Both numbers are equal\n"
     ]
    }
   ],
   "source": [
    "number_one = int(input(\"Enter first number: \"))\n",
    "number_two = int(input(\"Enter second number: \"))\n",
    "\n",
    "if number_one < number_two:\n",
    "    print(f\"The first number, {number_one}, is the smaller number\")\n",
    "elif number_two < number_one:\n",
    "    print(f\"The second number, {number_two}, is the smaller number\")\n",
    "else:\n",
    "    print(f\"Both numbers are equal\")"
   ]
  },
  {
   "cell_type": "markdown",
   "metadata": {},
   "source": [
    "# 3. Right angle (*)\n",
    "\n",
    "Ask the user to input three angles and check if the triangle has a right angle. Your code should make sure that all three angles are valid and make up a triangle."
   ]
  },
  {
   "cell_type": "code",
   "execution_count": 4,
   "metadata": {},
   "outputs": [
    {
     "name": "stdout",
     "output_type": "stream",
     "text": [
      "Your angles are:  12, 12, 12\n",
      "Sum of angles is: 36\n",
      "\n",
      "The triangle is not a valid right angle triangle\n"
     ]
    }
   ],
   "source": [
    "a = int(input(\"Input angle 1: \"))\n",
    "b = int(input(\"Input angle 2: \"))\n",
    "c = int(input(\"Input angle 3: \"))\n",
    "\n",
    "# print all angles to make viewing easier\n",
    "print(f\"Your angles are:  {a}, {b}, {c}\")\n",
    "print(f\"Sum of angles is: {a + b + c}\")\n",
    "print()\n",
    "\n",
    "# if one angle is 90, all angles equal 180 total, and neither angle is 0:\n",
    "if a == 90 or b == 90 or c == 90 and a + b + c == 180 and a > 0 and b > 0 and c > 0:\n",
    "    print(\"The triangle is a valid right angle triangle\")\n",
    "else:\n",
    "    print(\"The triangle is not a valid right angle triangle\")\n"
   ]
  },
  {
   "cell_type": "markdown",
   "metadata": {},
   "source": [
    "# 4. Medicine (*)\n",
    "\n",
    "Let the user input an age and a weight, the program should recommend the number of pills for the user."
   ]
  },
  {
   "cell_type": "code",
   "execution_count": 5,
   "metadata": {},
   "outputs": [
    {
     "name": "stdout",
     "output_type": "stream",
     "text": [
      "Too lightweight for any pills\n"
     ]
    }
   ],
   "source": [
    "age = int(input(\"Input your age: \"))\n",
    "weight = int(input(\"Enter your weight (kg):\"))\n",
    "17\n",
    "if age > 18 or weight > 40:\n",
    "    print(\"1-2 pills\")\n",
    "elif 26 <= weight <= 40:\n",
    "    print(\"0.5-1 pill\")\n",
    "elif 15 <= weight < 26:\n",
    "    print(\"0.5 pills\")\n",
    "else:\n",
    "    print(\"Too lightweight for any pills\")"
   ]
  },
  {
   "cell_type": "markdown",
   "metadata": {},
   "source": [
    "# 5. Divisible (*)\n",
    "\n",
    "Let the user input a number. Check if the number is:\n",
    "\n",
    "even or odd\n",
    "\n",
    "is divisible by 5\n",
    "\n",
    "is divisble by 5 and odd"
   ]
  },
  {
   "cell_type": "code",
   "execution_count": 14,
   "metadata": {},
   "outputs": [
    {
     "name": "stdout",
     "output_type": "stream",
     "text": [
      "-45 is divisible by 5 and odd\n"
     ]
    }
   ],
   "source": [
    "number = int(input(\"Enter a number: \"))\n",
    "\n",
    "if number % 5 == 0 and number % 2 != 0:\n",
    "    print(f\"{number} is divisible by 5 and odd\")\n",
    "elif number % 5 == 0:\n",
    "    print(f\"{number} is divisible by 5 and even\")\n",
    "elif number % 2 == 0:\n",
    "    print(f\"{number} is even and not divisible by 5\")\n",
    "else:\n",
    "    print(f\"{number} is odd and not divisible by 5\")"
   ]
  },
  {
   "cell_type": "markdown",
   "metadata": {},
   "source": [
    "# 6. Luggage size (*)\n",
    "\n",
    "The maximum allowed luggage size for boarding an airplane is:\n",
    "\n",
    "weight: 8kg  \n",
    "dimensions: 55x40x23cm (length x width x height)  \n",
    "Let the user input weight, length, width and height of the luggage. The program should check if the luggage is allowed or not."
   ]
  },
  {
   "cell_type": "code",
   "execution_count": 17,
   "metadata": {},
   "outputs": [
    {
     "name": "stdout",
     "output_type": "stream",
     "text": [
      "Your luggage is too big\n"
     ]
    }
   ],
   "source": [
    "weight = float(input(\"Enter weight (kg):\"))\n",
    "\n",
    "length = float(input(\"Enter length (cm):\"))\n",
    "width = float(input(\"Enter width (cm):\"))\n",
    "height = float(input(\"Enter height (cm):\"))\n",
    "\n",
    "if weight <= 8 and length <= 55 and width <= 40 and height <= 23:\n",
    "    print(\"Your luggage is of an acceptable weight and size\")\n",
    "else:\n",
    "    print(\"Your luggage is too big\")"
   ]
  },
  {
   "cell_type": "code",
   "execution_count": null,
   "metadata": {},
   "outputs": [],
   "source": []
  }
 ],
 "metadata": {
  "kernelspec": {
   "display_name": "Python 3.9.13 ('Python-Andreas-Svensson-mdnrE2EN')",
   "language": "python",
   "name": "python3"
  },
  "language_info": {
   "codemirror_mode": {
    "name": "ipython",
    "version": 3
   },
   "file_extension": ".py",
   "mimetype": "text/x-python",
   "name": "python",
   "nbconvert_exporter": "python",
   "pygments_lexer": "ipython3",
   "version": "3.9.13"
  },
  "orig_nbformat": 4,
  "vscode": {
   "interpreter": {
    "hash": "ce5ca73635e776ed4a4fa3650670807b72bb0d2e4957ff61281a0d117b023fd0"
   }
  }
 },
 "nbformat": 4,
 "nbformat_minor": 2
}
