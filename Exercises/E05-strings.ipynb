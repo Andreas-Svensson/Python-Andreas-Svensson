{
 "cells": [
  {
   "cell_type": "markdown",
   "metadata": {},
   "source": [
    "# string exerciess"
   ]
  },
  {
   "cell_type": "markdown",
   "metadata": {},
   "source": [
    "## 1. Counting letters (*)  \n",
    "Let the user input a word:\n",
    "\n",
    "  a)   print out the number of letters in the word. (*)\n",
    "\n",
    "  b)   print out the number of uppercase and lowercase letters of the word (*)"
   ]
  },
  {
   "cell_type": "code",
   "execution_count": 17,
   "metadata": {},
   "outputs": [
    {
     "name": "stdout",
     "output_type": "stream",
     "text": [
      "Letters in \"TestWord123\": 11\n",
      "Uppercase: 2\n",
      "Lowercase: 6\n",
      "Other characters: 3\n"
     ]
    }
   ],
   "source": [
    "word = input(\"Input a word: \")\n",
    "letters = \"abcdefghijklmnopqrstuvwxyz\"\n",
    "\n",
    "# a) print amount of letters in word\n",
    "print(f\"Characters in \\\"{word}\\\": {len(word)}\")\n",
    "\n",
    "# b) print amount of upper-/lowercase letters in word\n",
    "\n",
    "# initializing counters\n",
    "uppercase_letters = 0\n",
    "lowercase_letters = 0\n",
    "other_characters = 0\n",
    "\n",
    "for letter in word: # looping through input word\n",
    "    if letter in letters.upper(): # letter is found in alphabet and is uppercase:\n",
    "        uppercase_letters += 1 # add 1 to uppercase counter\n",
    "\n",
    "    elif letter in letters: # letter if found in alphabet and is lowercase:\n",
    "        lowercase_letters += 1 # add 1 to lowercase counter\n",
    "\n",
    "    else: # letter is not found in alphabet:\n",
    "        other_characters += 1 # add 1 to other characters counter (including spaces)\n",
    "\n",
    "# print amount of characters by printing the respective counters\n",
    "# note that no check is done to make sure the input is only 1 word, but can be a full text since it allows for spaces\n",
    "print(f\"Uppercase: {uppercase_letters}\\nLowercase: {lowercase_letters}\\nOther characters: {other_characters}\")"
   ]
  },
  {
   "cell_type": "markdown",
   "metadata": {},
   "source": [
    "## 2. Counting words (*)  \n",
    "Count the number of words in this sentence: \"A picture says more than a thousand words, a matematical formula says more than a thousand pictures.\" (*)"
   ]
  },
  {
   "cell_type": "code",
   "execution_count": 16,
   "metadata": {},
   "outputs": [
    {
     "name": "stdout",
     "output_type": "stream",
     "text": [
      "Sentence:\n",
      "A picture says more than a thousand words, a matematical formula says more than a thousand pictures.\n",
      "\n",
      "Word Count:\n",
      "17 words\n"
     ]
    }
   ],
   "source": [
    "# store sample sentence to a string variable\n",
    "sentence = \"A picture says more than a thousand words, a matematical formula says more than a thousand pictures.\"\n",
    "\n",
    "# count amount of words\n",
    "# split() returns a list containing elements of a string split into separate elements (separated by space by default, aka split for each word in string)\n",
    "# len() returns an int from counting the amount of elements in a list\n",
    "word_count = len(sentence.split())\n",
    "\n",
    "# print out the results\n",
    "print(f\"Sentence:\\n{sentence}\\n\\nWord Count:\\n{word_count} words\")"
   ]
  },
  {
   "cell_type": "markdown",
   "metadata": {},
   "source": [
    "## 3. Palindrome (*)  \n",
    "A palindrome is a sequence of characters that is the same, when read forward as backwards (ignoring spaces). For example:\n",
    "\n",
    "- Anna\n",
    "- Ni talar bra latin  \n",
    "- bjkjb\n",
    "\n",
    "Let the user input a sequence of characters and check if it is a palindrome. (*)"
   ]
  },
  {
   "cell_type": "code",
   "execution_count": 84,
   "metadata": {},
   "outputs": [
    {
     "name": "stdout",
     "output_type": "stream",
     "text": [
      "It is a palindrome!\n",
      "\"Ni talar bra latin\" is the same backwards (ignoring spaces)\n"
     ]
    }
   ],
   "source": [
    "# take an input string and store it as input_string\n",
    "input_string = input(\"Input a string to check: \")\n",
    "\n",
    "# append each character from input_string to a list as lowercase\n",
    "forwards_list = [i.lower() for i in input_string if i != ' ']\n",
    "# append each element of above list to a new list, in reverse order\n",
    "backwards_list = [forwards_list[-(i + 1)] for i in range(len(forwards_list))]\n",
    "\n",
    "if forwards_list == backwards_list: # if both lists are equal: (same backwards and forwards)\n",
    "    print(f\"It is a palindrome!\\n\\\"{input_string}\\\" is the same backwards (ignoring spaces)\")\n",
    "else: # otherwise:\n",
    "    print(f\"Not a palindrome.\\n\\\"{input_string}\\\" is not the same backwards\")"
   ]
  },
  {
   "cell_type": "markdown",
   "metadata": {},
   "source": [
    "## 4. Vowels (**)  \n",
    "Count the number of vowels in this sentence: \"Pure mathematics is, in its way, the poetry of logical ideas\""
   ]
  },
  {
   "cell_type": "code",
   "execution_count": 87,
   "metadata": {},
   "outputs": [
    {
     "name": "stdout",
     "output_type": "stream",
     "text": [
      "\"Pure mathematics is, in its way, the poetry of logical ideas\" contains 22 vowels\n"
     ]
    }
   ],
   "source": [
    "# store prompt as sentence string\n",
    "sentence = \"Pure mathematics is, in its way, the poetry of logical ideas\"\n",
    "vowels = \"aoueiy\" # string containing all characters checked for (vowels)\n",
    "vowel_count = 0 # counter to track occurrences of checked characters\n",
    "\n",
    "for character in sentence.lower(): # for each character sentence, turned into lowercase letters:\n",
    "    if character in vowels: # if character is found in checked string (vowels):\n",
    "        vowel_count += 1 # add 1 to counter\n",
    "\n",
    "print(f\"\\\"{sentence}\\\" contains {vowel_count} vowels\") # print the final amount of character occurrences (vowels) as tracked by counter"
   ]
  },
  {
   "cell_type": "markdown",
   "metadata": {},
   "source": [
    "## 5. Encryption (**)  \n",
    "Let the user input a word and:\n",
    "\n",
    "  a)   encrypt the message by replacing each letter with the next letter. If the letter is in the end of the alphabet, use the first letter instead.\n",
    "\n",
    "e.g. in Swedish: \"höst\"  →  \"iatu\"\n",
    "\n",
    "  b)   decrypt the message\n",
    "\n",
    "  c)   let the user choose either encryption or decryption."
   ]
  },
  {
   "cell_type": "code",
   "execution_count": 42,
   "metadata": {},
   "outputs": [
    {
     "name": "stdout",
     "output_type": "stream",
     "text": [
      "\"Star\" encrypted is: Tubs\n",
      "\"Tubs\" decrypted is: Star\n",
      "Exited cryptation\n"
     ]
    }
   ],
   "source": [
    "def encrypt(input_string = \"\"):\n",
    "    \"\"\"\n",
    "    Return encrypted version of input string\n",
    "    \"\"\"\n",
    "\n",
    "    alphabet = \"abcdefghijklmnopqrstuvwxyz\" # valid characters of alphabet\n",
    "    encrypted_word = \"\" # output word\n",
    "\n",
    "    for character in input_string: # for character in input word:\n",
    "        for index in range(len(alphabet)): # loop through alphabet:\n",
    "            if character.lower() == alphabet[index]: # if input character matches character in alphabet:\n",
    "                if character.lower() == \"z\": # if character is at the end of the alphabet\n",
    "                    index = -1 # set index of character to encrypt to -1 (start of alphabet)\n",
    "\n",
    "                if character.lower() == character: # if character is lowercase\n",
    "                    encrypted_word += alphabet[index + 1] # add lowercase letter\n",
    "\n",
    "                else: # if character is uppercase\n",
    "                    encrypted_word += alphabet[index + 1].upper() # add uppercase letter\n",
    "    return encrypted_word\n",
    "\n",
    "\n",
    "def decrypt(input_string = \"\"):\n",
    "    \"\"\"\n",
    "    Return decrypted version of input string\n",
    "    \"\"\"\n",
    "\n",
    "    alphabet = \"abcdefghijklmnopqrstuvwxyz\" # valid characters of alphabet\n",
    "    decrypted_word = \"\" # output word\n",
    "\n",
    "    for character in input_string: # for character in input word:\n",
    "        for index in range(len(alphabet)): # loop through alphabet:\n",
    "            if character.lower() == alphabet[index]: # if input character matches character in alphabet:\n",
    "                if character.lower() == \"a\": # if character is at the start of the alphabet\n",
    "                    index = len(alphabet) # set index of character to encrypt to len(alphabet) (end of alphabet)\n",
    "\n",
    "                if character.lower() == character: # if character is lowercase\n",
    "                    decrypted_word += alphabet[index - 1] # add lowercase letter\n",
    "\n",
    "                else: # if character is uppercase\n",
    "                    decrypted_word += alphabet[index - 1].upper() # add uppercase letter\n",
    "\n",
    "    return decrypted_word\n",
    "\n",
    "# running code:\n",
    "while True:\n",
    "    user_input = input(\"Enter \\\"encrypt\\\" or \\\"decrypt\\\" followed by a word: (Type \\\"exit\\\" to exit)\")\n",
    "\n",
    "    if \"exit\" in user_input.lower():\n",
    "        print(\"Exited cryptation\")\n",
    "        break\n",
    "    \n",
    "    input_list = []\n",
    "\n",
    "    if not \"decrypt\" in user_input.lower():\n",
    "        input_list.append(\"encrypt\")\n",
    "        input_list.append(user_input)\n",
    "    else:\n",
    "        input_list = user_input.split()\n",
    "\n",
    "    if input_list[0].lower() == \"decrypt\":\n",
    "        decrypted_string = decrypt(input_list[1])\n",
    "        print(f\"\\\"{input_list[1]}\\\" decrypted is: {decrypted_string}\")\n",
    "    else:\n",
    "        encrypted_string = encrypt(input_list[1])\n",
    "        print(f\"\\\"{input_list[1]}\\\" encrypted is: {encrypted_string}\")\n"
   ]
  }
 ],
 "metadata": {
  "kernelspec": {
   "display_name": "Python 3.9.13 ('Python-Andreas-Svensson-mdnrE2EN')",
   "language": "python",
   "name": "python3"
  },
  "language_info": {
   "codemirror_mode": {
    "name": "ipython",
    "version": 3
   },
   "file_extension": ".py",
   "mimetype": "text/x-python",
   "name": "python",
   "nbconvert_exporter": "python",
   "pygments_lexer": "ipython3",
   "version": "3.9.13"
  },
  "orig_nbformat": 4,
  "vscode": {
   "interpreter": {
    "hash": "ce5ca73635e776ed4a4fa3650670807b72bb0d2e4957ff61281a0d117b023fd0"
   }
  }
 },
 "nbformat": 4,
 "nbformat_minor": 2
}
