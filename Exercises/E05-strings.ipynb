{
 "cells": [
  {
   "cell_type": "markdown",
   "metadata": {},
   "source": [
    "# string exerciess"
   ]
  },
  {
   "cell_type": "markdown",
   "metadata": {},
   "source": [
    "## 1. Counting letters (*)  \n",
    "Let the user input a word:\n",
    "\n",
    "  a)   print out the number of letters in the word. (*)\n",
    "\n",
    "  b)   print out the number of uppercase and lowercase letters of the word (*)"
   ]
  },
  {
   "cell_type": "code",
   "execution_count": 17,
   "metadata": {},
   "outputs": [
    {
     "name": "stdout",
     "output_type": "stream",
     "text": [
      "Letters in \"TestWord123\": 11\n",
      "Uppercase: 2\n",
      "Lowercase: 6\n",
      "Other characters: 3\n"
     ]
    }
   ],
   "source": [
    "word = input(\"Input a word: \")\n",
    "letters = \"abcdefghijklmnopqrstuvwxyz\"\n",
    "\n",
    "# a) print amount of letters in word\n",
    "print(f\"Characters in \\\"{word}\\\": {len(word)}\")\n",
    "\n",
    "# b) print amount of upper-/lowercase letters in word\n",
    "\n",
    "# initializing counters\n",
    "uppercase_letters = 0\n",
    "lowercase_letters = 0\n",
    "other_characters = 0\n",
    "\n",
    "for letter in word: # looping through input word\n",
    "    if letter in letters.upper(): # letter is found in alphabet and is uppercase:\n",
    "        uppercase_letters += 1 # add 1 to uppercase counter\n",
    "\n",
    "    elif letter in letters: # letter if found in alphabet and is lowercase:\n",
    "        lowercase_letters += 1 # add 1 to lowercase counter\n",
    "\n",
    "    else: # letter is not found in alphabet:\n",
    "        other_characters += 1 # add 1 to other characters counter (including spaces)\n",
    "\n",
    "# print amount of characters by printing the respective counters\n",
    "# note that no check is done to make sure the input is only 1 word, but can be a full text since it allows for spaces\n",
    "print(f\"Uppercase: {uppercase_letters}\\nLowercase: {lowercase_letters}\\nOther characters: {other_characters}\")"
   ]
  },
  {
   "cell_type": "markdown",
   "metadata": {},
   "source": [
    "## 2. Counting words (*)  \n",
    "Count the number of words in this sentence: \"A picture says more than a thousand words, a matematical formula says more than a thousand pictures.\" (*)"
   ]
  },
  {
   "cell_type": "code",
   "execution_count": 16,
   "metadata": {},
   "outputs": [
    {
     "name": "stdout",
     "output_type": "stream",
     "text": [
      "Sentence:\n",
      "A picture says more than a thousand words, a matematical formula says more than a thousand pictures.\n",
      "\n",
      "Word Count:\n",
      "17 words\n"
     ]
    }
   ],
   "source": [
    "# store sample sentence to a string variable\n",
    "sentence = \"A picture says more than a thousand words, a matematical formula says more than a thousand pictures.\"\n",
    "\n",
    "# count amount of words\n",
    "# split() returns a list containing elements of a string split into separate elements (separated by space by default, aka split for each word in string)\n",
    "# len() returns an int from counting the amount of elements in a list\n",
    "word_count = len(sentence.split())\n",
    "\n",
    "# print out the results\n",
    "print(f\"Sentence:\\n{sentence}\\n\\nWord Count:\\n{word_count} words\")"
   ]
  },
  {
   "cell_type": "markdown",
   "metadata": {},
   "source": [
    "## 3. Palindrome (*)  \n",
    "A palindrome is a sequence of characters that is the same, when read forward as backwards (ignoring spaces). For example:\n",
    "\n",
    "- Anna\n",
    "- Ni talar bra latin  \n",
    "- bjkjb\n",
    "\n",
    "Let the user input a sequence of characters and check if it is a palindrome. (*)"
   ]
  },
  {
   "cell_type": "code",
   "execution_count": 84,
   "metadata": {},
   "outputs": [
    {
     "name": "stdout",
     "output_type": "stream",
     "text": [
      "It is a palindrome!\n",
      "\"Ni talar bra latin\" is the same backwards (ignoring spaces)\n"
     ]
    }
   ],
   "source": [
    "# takes an input string and stores it as input_string\n",
    "input_string = input(\"Input a string to check: \")\n",
    "\n",
    "# append each character from input_string to a list as lowercase\n",
    "forwards_list = [i.lower() for i in input_string if i != ' ']\n",
    "# append each element of above list to a new list, in reverse order\n",
    "backwards_list = [forwards_list[-(i + 1)] for i in range(len(forwards_list))]\n",
    "\n",
    "if forwards_list == backwards_list: # if both lists are equal: (same backwards and forwards)\n",
    "    print(f\"It is a palindrome!\\n\\\"{input_string}\\\" is the same backwards (ignoring spaces)\")\n",
    "else: # otherwise:\n",
    "    print(f\"Not a palindrome.\\n\\\"{input_string}\\\" is not the same backwards\")"
   ]
  },
  {
   "cell_type": "code",
   "execution_count": null,
   "metadata": {},
   "outputs": [],
   "source": []
  }
 ],
 "metadata": {
  "kernelspec": {
   "display_name": "Python 3.9.13 ('Python-Andreas-Svensson-mdnrE2EN')",
   "language": "python",
   "name": "python3"
  },
  "language_info": {
   "codemirror_mode": {
    "name": "ipython",
    "version": 3
   },
   "file_extension": ".py",
   "mimetype": "text/x-python",
   "name": "python",
   "nbconvert_exporter": "python",
   "pygments_lexer": "ipython3",
   "version": "3.9.13"
  },
  "orig_nbformat": 4,
  "vscode": {
   "interpreter": {
    "hash": "ce5ca73635e776ed4a4fa3650670807b72bb0d2e4957ff61281a0d117b023fd0"
   }
  }
 },
 "nbformat": 4,
 "nbformat_minor": 2
}
