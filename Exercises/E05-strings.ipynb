{
 "cells": [
  {
   "cell_type": "markdown",
   "metadata": {},
   "source": [
    "# string exerciess"
   ]
  },
  {
   "cell_type": "markdown",
   "metadata": {},
   "source": [
    "## 1. Counting letters (*)  \n",
    "Let the user input a word:\n",
    "\n",
    "  a)   print out the number of letters in the word. (*)\n",
    "\n",
    "  b)   print out the number of uppercase and lowercase letters of the word (*)"
   ]
  },
  {
   "cell_type": "code",
   "execution_count": 10,
   "metadata": {},
   "outputs": [
    {
     "name": "stdout",
     "output_type": "stream",
     "text": [
      "Letters in  : 1\n",
      "Uppercase: 0\n",
      "Lowercase: 0\n",
      "Other characters: 1\n"
     ]
    }
   ],
   "source": [
    "word = input(\"Input a word: \")\n",
    "letters = \"abcdefghijklmnopqrstuvwxyz\"\n",
    "\n",
    "# a) print amount of letters in word\n",
    "print(f\"Letters in {word}: {len(word)}\")\n",
    "\n",
    "# b) print amount of upper-/lowercase letters in word\n",
    "\n",
    "# initializing counters\n",
    "uppercase_letters = 0\n",
    "lowercase_letters = 0\n",
    "other_characters = 0\n",
    "\n",
    "for letter in word: # looping through input word\n",
    "    if letter in letters.upper(): # letter is found in alphabet and is uppercase:\n",
    "        uppercase_letters += 1 # add 1 to uppercase counter\n",
    "\n",
    "    elif letter in letters: # letter if found in alphabet and is lowercase:\n",
    "        lowercase_letters += 1 # add 1 to lowercase counter\n",
    "\n",
    "    else: # letter is not found in alphabet:\n",
    "        other_characters += 1 # add 1 to other characters counter (including spaces)\n",
    "\n",
    "# print amount of characters by printing the respective counters\n",
    "# note that no check is done to make sure the input is only 1 word, but can be a full text since it allows for spaces\n",
    "print(f\"Uppercase: {uppercase_letters}\\nLowercase: {lowercase_letters}\\nOther characters: {other_characters}\")"
   ]
  },
  {
   "cell_type": "code",
   "execution_count": null,
   "metadata": {},
   "outputs": [],
   "source": []
  }
 ],
 "metadata": {
  "kernelspec": {
   "display_name": "Python 3.9.13 ('Python-Andreas-Svensson-mdnrE2EN')",
   "language": "python",
   "name": "python3"
  },
  "language_info": {
   "codemirror_mode": {
    "name": "ipython",
    "version": 3
   },
   "file_extension": ".py",
   "mimetype": "text/x-python",
   "name": "python",
   "nbconvert_exporter": "python",
   "pygments_lexer": "ipython3",
   "version": "3.9.13"
  },
  "orig_nbformat": 4,
  "vscode": {
   "interpreter": {
    "hash": "ce5ca73635e776ed4a4fa3650670807b72bb0d2e4957ff61281a0d117b023fd0"
   }
  }
 },
 "nbformat": 4,
 "nbformat_minor": 2
}
