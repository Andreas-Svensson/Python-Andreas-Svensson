{
 "cells": [
  {
   "cell_type": "markdown",
   "metadata": {},
   "source": [
    "## 1. Curriculum (*)  \n",
    "Create a dictionary containing all the courses that you will study in this program, with the course names as keys and the amount of points as value.  \n",
    "Then calculate the number of points that you will study in total. (*)"
   ]
  },
  {
   "cell_type": "code",
   "execution_count": 3,
   "metadata": {},
   "outputs": [
    {
     "name": "stdout",
     "output_type": "stream",
     "text": [
      "12\n"
     ]
    }
   ],
   "source": [
    "courses = dict(\n",
    "    ai_intro                = 1,\n",
    "    python                  = 1,\n",
    "    data_processing         = 1,\n",
    "    linear_algebra          = 1,\n",
    "    statistics              = 1,\n",
    "    machine_learning        = 1,\n",
    "    deep_learning           = 1,\n",
    "    databases               = 1,\n",
    "    lia1                    = 1,\n",
    "    data_engineering_agile  = 1,\n",
    "    lia2                    = 1,\n",
    "    exam_project            = 1\n",
    ")\n",
    "\n",
    "total_study_time = 0\n",
    "\n",
    "for key, value in courses.items():\n",
    "    total_study_time += value\n",
    "\n",
    "print(total_study_time)"
   ]
  },
  {
   "cell_type": "markdown",
   "metadata": {},
   "source": [
    "## 2. Dice simulation (*)  \n",
    "Simulate 1000000 dice rolls and save the number of ones, twos, ..., sixes in a dictionary. Then print them out in the terminal. (*)"
   ]
  },
  {
   "cell_type": "code",
   "execution_count": 16,
   "metadata": {},
   "outputs": [
    {
     "name": "stdout",
     "output_type": "stream",
     "text": [
      "Amount of 1s: 166775\n",
      "Amount of 2s: 167078\n",
      "Amount of 3s: 166692\n",
      "Amount of 4s: 166430\n",
      "Amount of 5s: 166799\n",
      "Amount of 6s: 166226\n"
     ]
    }
   ],
   "source": [
    "import random as rnd\n",
    "\n",
    "dice_dict = {\"1\": 0, \"2\": 0, \"3\": 0, \"4\": 0, \"5\": 0, \"6\": 0} # create dict containing the 6 outcomes, counter (value) starting at 0\n",
    "\n",
    "for i in range(1000000): # simulate 1000000 dice rolls:\n",
    "    dice = rnd.randint(1, 6)\n",
    "    dice_dict[str(dice)] += 1 # add 1 to value of key matching value of rolled dice\n",
    "\n",
    "for key, value in dice_dict.items(): # loop through dict and print out the results:\n",
    "    print(f\"Amount of {key}s: {value}\")"
   ]
  },
  {
   "cell_type": "markdown",
   "metadata": {},
   "source": [
    "## 3. Pokemon list (*)\n",
    "\n",
    "Read in the file pokemon_list.txt in Python. Create a variable with name pokedex with the key:value **\"pokemon\":\"type, index\"**. For example when searching for the keys \"Gengar\" and \"Pikachu\": (*)\n",
    "\n",
    "```python\n",
    "\n",
    "print(pokedex[\"Gengar\"])\n",
    "print(pokedex[\"Pikachu\"])\n",
    "\n",
    "Spöke/Gift, 94\n",
    "Elektrisk, 25\n",
    "```"
   ]
  },
  {
   "cell_type": "code",
   "execution_count": 5,
   "metadata": {},
   "outputs": [
    {
     "name": "stdout",
     "output_type": "stream",
     "text": [
      "SpÃ¶ke/Gift, 94\n",
      "Elektrisk, 25\n"
     ]
    }
   ],
   "source": [
    "file_path = \"assets/pokemon_list.txt\"\n",
    "\n",
    "with open(file_path, \"r\") as file_r:\n",
    "\n",
    "    pokemon_list = []\n",
    "    pokemon_dict = {}\n",
    "\n",
    "    for row in file_r: # go through each row:\n",
    "        pokemon_list.append(row.split()) # split contents of row and store as list in list\n",
    "\n",
    "    for pokemon in pokemon_list: # go through each row (pokemon), pick out elements of nestled list and assign as values to key: value pairs, then store those to dictionary\n",
    "        key = pokemon[1]\n",
    "        value = pokemon[2] + \", \" + pokemon[0]\n",
    "        pokemon_dict[key] = value\n",
    "\n",
    "    print(pokemon_dict[\"Gengar\"]) # print value of key \"Gengar\"\n",
    "    print(pokemon_dict[\"Pikachu\"]) # print value of key \"Pikachu\""
   ]
  },
  {
   "cell_type": "markdown",
   "metadata": {},
   "source": [
    "extra fancy:"
   ]
  },
  {
   "cell_type": "code",
   "execution_count": 10,
   "metadata": {},
   "outputs": [
    {
     "name": "stdout",
     "output_type": "stream",
     "text": [
      "Search for Gengar returned: SpÃ¶ke/Gift, 94\n",
      "Search for 'Eeve' returned no results\n",
      "Search for 'Eve' returned no results\n",
      "Search for Pikachu returned: Elektrisk, 25\n",
      "Search for Pikachu returned: Elektrisk, 25\n",
      "Search for ' ' returned no results\n",
      "Search for ' ' returned no results\n",
      "Search for 'Asd' returned no results\n",
      "Search for '' returned no results\n",
      "Search for '1' returned no results\n",
      "program exited...\n"
     ]
    }
   ],
   "source": [
    "# pokedex search function implemented\n",
    "\n",
    "while True: # loop until 'exit' it entered:\n",
    "    pokedex_search = input(\"Enter the name of a pokemon to search for in the pokedex: (write 'exit' to exit) \") # prompt user to search for pokemon\n",
    "\n",
    "    if pokedex_search.lower() == \"exit\": # if 'exit' is entered:\n",
    "        print(\"program exited...\") # print exit string\n",
    "        break # break loop\n",
    "\n",
    "    pokedex_search = pokedex_search.lower() # format input search to lowercase\n",
    "    pokedex_search = pokedex_search.capitalize() # and capitalize first letter\n",
    "\n",
    "    try:\n",
    "        pokemon_dict[pokedex_search] # if valid key: value pair:\n",
    "        print(f\"Search for {pokedex_search} returned: {pokemon_dict[pokedex_search]}\") # print value of entered key\n",
    "\n",
    "    except KeyError as err: # if not valid key: value pair:\n",
    "        print(f\"Search for {err} returned no results\") # print error message"
   ]
  },
  {
   "cell_type": "markdown",
   "metadata": {},
   "source": [
    "## 4. Morse code (**)\n",
    "\n",
    "Read in the file morse.txt, save it in a dictionary and create a function that lets the user input a message to get it translated to morse code. For example  (**)\n",
    "\n",
    "```python\n",
    "\n",
    "print(morse(\"SOS\"))\n",
    "print(morse(\"POKEMON\"))\n",
    "\n",
    "...---...\n",
    ".------.-.------.\n",
    "```"
   ]
  },
  {
   "cell_type": "code",
   "execution_count": 23,
   "metadata": {},
   "outputs": [
    {
     "name": "stdout",
     "output_type": "stream",
     "text": [
      "SOS translated to morse is: ...---...\n",
      "POKEMON translated to morse is: .------.-.------.\n",
      "ASD 123 ! translated to morse is: .-...-.. 123 !\n"
     ]
    }
   ],
   "source": [
    "def translate_to_morse():\n",
    "    file_path = \"assets/morse.txt\"\n",
    "    with open(file_path, \"r\") as file_r:\n",
    "\n",
    "        alphabet_dict = {}\n",
    "\n",
    "        for row in file_r:\n",
    "            key = row[0]\n",
    "            value = row[3:]\n",
    "            alphabet_dict[key] = value.strip()\n",
    "\n",
    "        while True:\n",
    "\n",
    "            message = input(\"Enter message to convert to morse code: (type 'exit' to exit)\")\n",
    "            message = message.upper() # convert to uppercase letters\n",
    "\n",
    "            if message == \"EXIT\":\n",
    "                break\n",
    "\n",
    "            alphabet = \"ABCDEFGHIJKLMNOPQRSTUVWXYZÅÄÖ\"\n",
    "\n",
    "            print_message = \"\"\n",
    "\n",
    "            for letter in message:\n",
    "                if letter in alphabet:\n",
    "                    print_message += alphabet_dict[letter]\n",
    "                else:\n",
    "                    print_message += letter\n",
    "\n",
    "            print(f\"{message} translated to morse is: {print_message}\")\n",
    "\n",
    "translate_to_morse()"
   ]
  }
 ],
 "metadata": {
  "kernelspec": {
   "display_name": "Python 3.9.13 ('Python-Andreas-Svensson-mdnrE2EN')",
   "language": "python",
   "name": "python3"
  },
  "language_info": {
   "codemirror_mode": {
    "name": "ipython",
    "version": 3
   },
   "file_extension": ".py",
   "mimetype": "text/x-python",
   "name": "python",
   "nbconvert_exporter": "python",
   "pygments_lexer": "ipython3",
   "version": "3.9.13"
  },
  "orig_nbformat": 4,
  "vscode": {
   "interpreter": {
    "hash": "ce5ca73635e776ed4a4fa3650670807b72bb0d2e4957ff61281a0d117b023fd0"
   }
  }
 },
 "nbformat": 4,
 "nbformat_minor": 2
}
