{
 "cells": [
  {
   "cell_type": "markdown",
   "metadata": {},
   "source": [
    "## 1. Curriculum (*)  \n",
    "Create a dictionary containing all the courses that you will study in this program, with the course names as keys and the amount of points as value.  \n",
    "Then calculate the number of points that you will study in total. (*)"
   ]
  },
  {
   "cell_type": "code",
   "execution_count": 3,
   "metadata": {},
   "outputs": [
    {
     "name": "stdout",
     "output_type": "stream",
     "text": [
      "12\n"
     ]
    }
   ],
   "source": [
    "courses = dict(\n",
    "    ai_intro                = 1,\n",
    "    python                  = 1,\n",
    "    data_processing         = 1,\n",
    "    linear_algebra          = 1,\n",
    "    statistics              = 1,\n",
    "    machine_learning        = 1,\n",
    "    deep_learning           = 1,\n",
    "    databases               = 1,\n",
    "    lia1                    = 1,\n",
    "    data_engineering_agile  = 1,\n",
    "    lia2                    = 1,\n",
    "    exam_project            = 1\n",
    ")\n",
    "\n",
    "total_study_time = 0\n",
    "\n",
    "for key, value in courses.items():\n",
    "    total_study_time += value\n",
    "\n",
    "print(total_study_time)"
   ]
  },
  {
   "cell_type": "markdown",
   "metadata": {},
   "source": [
    "## 2. Dice simulation (*)  \n",
    "Simulate 1000000 dice rolls and save the number of ones, twos, ..., sixes in a dictionary. Then print them out in the terminal. (*)"
   ]
  },
  {
   "cell_type": "code",
   "execution_count": 16,
   "metadata": {},
   "outputs": [
    {
     "name": "stdout",
     "output_type": "stream",
     "text": [
      "Amount of 1s: 166775\n",
      "Amount of 2s: 167078\n",
      "Amount of 3s: 166692\n",
      "Amount of 4s: 166430\n",
      "Amount of 5s: 166799\n",
      "Amount of 6s: 166226\n"
     ]
    }
   ],
   "source": [
    "import random as rnd\n",
    "\n",
    "dice_dict = {\"1\": 0, \"2\": 0, \"3\": 0, \"4\": 0, \"5\": 0, \"6\": 0} # create dict containing the 6 outcomes, counter (value) starting at 0\n",
    "\n",
    "for i in range(1000000): # simulate 1000000 dice rolls:\n",
    "    dice = rnd.randint(1, 6)\n",
    "    dice_dict[str(dice)] += 1 # add 1 to value of key matching value of rolled dice\n",
    "\n",
    "for key, value in dice_dict.items(): # loop through dict and print out the results:\n",
    "    print(f\"Amount of {key}s: {value}\")"
   ]
  },
  {
   "cell_type": "markdown",
   "metadata": {},
   "source": [
    "## 3. Pokemon list (*)\n",
    "\n",
    "Read in the file pokemon_list.txt in Python. Create a variable with name pokedex with the key:value **\"pokemon\":\"type, index\"**. For example when searching for the keys \"Gengar\" and \"Pikachu\": (*)\n",
    "\n",
    "```python\n",
    "\n",
    "print(pokedex[\"Gengar\"])\n",
    "print(pokedex[\"Pikachu\"])\n",
    "\n",
    "Spöke/Gift, 94\n",
    "Elektrisk, 25\n",
    "```"
   ]
  },
  {
   "cell_type": "code",
   "execution_count": 33,
   "metadata": {},
   "outputs": [
    {
     "name": "stdout",
     "output_type": "stream",
     "text": [
      "[['94', 'Gengar', 'Spöke/Gift'], ['25', 'Pikachu', 'Elektrisk']]\n",
      "{'Gengar': '94, Spöke/Gift', 'Pikachu': '25, Elektrisk'}\n",
      "94, Spöke/Gift\n"
     ]
    }
   ],
   "source": [
    "pokeman = \"94 Gengar Spöke/Gift\\n25 Pikachu Elektrisk\"\n",
    "pokeman_list = []\n",
    "pokeman_dict = {}\n",
    "\n",
    "for row in pokeman.split(\"\\n\"):\n",
    "    pokeman_list.append(row.split())\n",
    "print(pokeman_list)\n",
    "\n",
    "for pokeman in pokeman_list:\n",
    "    key = pokeman[1]\n",
    "    value = pokeman[0] + \", \" + pokeman[2]\n",
    "    pokeman_dict[key] = value\n",
    "\n",
    "print(pokeman_dict)\n",
    "print(pokeman_dict[\"Gengar\"])"
   ]
  },
  {
   "cell_type": "code",
   "execution_count": null,
   "metadata": {},
   "outputs": [],
   "source": []
  }
 ],
 "metadata": {
  "kernelspec": {
   "display_name": "Python 3.9.13 ('Python-Andreas-Svensson-mdnrE2EN')",
   "language": "python",
   "name": "python3"
  },
  "language_info": {
   "codemirror_mode": {
    "name": "ipython",
    "version": 3
   },
   "file_extension": ".py",
   "mimetype": "text/x-python",
   "name": "python",
   "nbconvert_exporter": "python",
   "pygments_lexer": "ipython3",
   "version": "3.9.13"
  },
  "orig_nbformat": 4,
  "vscode": {
   "interpreter": {
    "hash": "ce5ca73635e776ed4a4fa3650670807b72bb0d2e4957ff61281a0d117b023fd0"
   }
  }
 },
 "nbformat": 4,
 "nbformat_minor": 2
}
