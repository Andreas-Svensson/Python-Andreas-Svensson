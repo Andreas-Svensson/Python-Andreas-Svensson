{
 "cells": [
  {
   "cell_type": "markdown",
   "metadata": {},
   "source": [
    "## 1. Curriculum (*)  \n",
    "Create a dictionary containing all the courses that you will study in this program, with the course names as keys and the amount of points as value.  \n",
    "Then calculate the number of points that you will study in total. (*)"
   ]
  },
  {
   "cell_type": "code",
   "execution_count": 3,
   "metadata": {},
   "outputs": [
    {
     "name": "stdout",
     "output_type": "stream",
     "text": [
      "12\n"
     ]
    }
   ],
   "source": [
    "courses = dict(\n",
    "    ai_intro                = 1,\n",
    "    python                  = 1,\n",
    "    data_processing         = 1,\n",
    "    linear_algebra          = 1,\n",
    "    statistics              = 1,\n",
    "    machine_learning        = 1,\n",
    "    deep_learning           = 1,\n",
    "    databases               = 1,\n",
    "    lia1                    = 1,\n",
    "    data_engineering_agile  = 1,\n",
    "    lia2                    = 1,\n",
    "    exam_project            = 1\n",
    ")\n",
    "\n",
    "total_study_time = 0\n",
    "\n",
    "for key, value in courses.items():\n",
    "    total_study_time += value\n",
    "\n",
    "print(total_study_time)"
   ]
  },
  {
   "cell_type": "markdown",
   "metadata": {},
   "source": [
    "## 2. Dice simulation (*)  \n",
    "Simulate 1000000 dice rolls and save the number of ones, twos, ..., sixes in a dictionary. Then print them out in the terminal. (*)"
   ]
  },
  {
   "cell_type": "code",
   "execution_count": 16,
   "metadata": {},
   "outputs": [
    {
     "name": "stdout",
     "output_type": "stream",
     "text": [
      "Amount of 1s: 166775\n",
      "Amount of 2s: 167078\n",
      "Amount of 3s: 166692\n",
      "Amount of 4s: 166430\n",
      "Amount of 5s: 166799\n",
      "Amount of 6s: 166226\n"
     ]
    }
   ],
   "source": [
    "import random as rnd\n",
    "\n",
    "dice_dict = {\"1\": 0, \"2\": 0, \"3\": 0, \"4\": 0, \"5\": 0, \"6\": 0} # create dict containing the 6 outcomes, counter (value) starting at 0\n",
    "\n",
    "for i in range(1000000): # simulate 1000000 dice rolls:\n",
    "    dice = rnd.randint(1, 6)\n",
    "    dice_dict[str(dice)] += 1 # add 1 to value of key matching value of rolled dice\n",
    "\n",
    "for key, value in dice_dict.items(): # loop through dict and print out the results:\n",
    "    print(f\"Amount of {key}s: {value}\")"
   ]
  }
 ],
 "metadata": {
  "kernelspec": {
   "display_name": "Python 3.9.13 ('Python-Andreas-Svensson-mdnrE2EN')",
   "language": "python",
   "name": "python3"
  },
  "language_info": {
   "codemirror_mode": {
    "name": "ipython",
    "version": 3
   },
   "file_extension": ".py",
   "mimetype": "text/x-python",
   "name": "python",
   "nbconvert_exporter": "python",
   "pygments_lexer": "ipython3",
   "version": "3.9.13"
  },
  "orig_nbformat": 4,
  "vscode": {
   "interpreter": {
    "hash": "ce5ca73635e776ed4a4fa3650670807b72bb0d2e4957ff61281a0d117b023fd0"
   }
  }
 },
 "nbformat": 4,
 "nbformat_minor": 2
}
