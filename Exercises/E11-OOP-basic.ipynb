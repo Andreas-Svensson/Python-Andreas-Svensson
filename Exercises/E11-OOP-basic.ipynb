{
 "cells": [
  {
   "cell_type": "markdown",
   "metadata": {},
   "source": [
    "## 1. Unit conversion (*)\n",
    "\n",
    "Create a class for converting US units to the metric system. It should have the following **bound methods**: \n",
    "\n",
    "```python\n",
    "__init__ (self, value)\n",
    "\n",
    "inch_to_cm(self)\n",
    "\n",
    "foot_to_meters(self)\n",
    "\n",
    "pound_to_kg(self)\n",
    "\n",
    "__repr__(self)\n",
    "\n",
    "```\n",
    "\n",
    "Make sure that value is the correct type and format, raise suitable exceptions in case it isn't. Make value into **property** with getter and setter. Test your class manually by instantiating an object from it and test different "
   ]
  },
  {
   "cell_type": "code",
   "execution_count": 32,
   "metadata": {},
   "outputs": [],
   "source": [
    "class ConvertUS:\n",
    "    \"\"\"Class to convert set value from freedom units to normal human units\"\"\"\n",
    "    def __init__(self, value: float):\n",
    "        self.value = value\n",
    "\n",
    "    @property\n",
    "    def value(self) -> float:\n",
    "        return self._value\n",
    "\n",
    "    @value.setter # error handling before altering attributes\n",
    "    def value(self, value: float):\n",
    "        if not isinstance(value, float) and not isinstance(value, int): # if value is neither int nor float:\n",
    "            raise TypeError(f\"Value must be a number, not {type(value)}\")\n",
    "        if value <= 0: # if value is not over 0:\n",
    "            raise ValueError(f\"Value must be greater than 0, not {value}\")\n",
    "        self._value = value\n",
    "\n",
    "    def inch_to_cm(self):\n",
    "        \"\"\"Convert value from inch to cm -> return string\"\"\"\n",
    "        return f\"{self.value} inches = {self.value * 2.54:.2f} cm\"\n",
    "\n",
    "    def foot_to_meters(self):\n",
    "        \"\"\"Convert value from foot to meter -> return string\"\"\"\n",
    "        return f\"{self.value} feet = {self.value * 0.3048:.2f} meters\"\n",
    "\n",
    "    def pound_to_kg(self):\n",
    "        \"\"\"Convert value from pound to kg -> return string\"\"\"\n",
    "        return f\"{self.value} pound = {self.value * 0.4535924:.2f} kg\"\n",
    "\n",
    "    def __repr__(self): # overwrite of repr to custom string\n",
    "        return f\"ConvertUS('value={self.value}')\""
   ]
  },
  {
   "cell_type": "code",
   "execution_count": 34,
   "metadata": {},
   "outputs": [
    {
     "name": "stdout",
     "output_type": "stream",
     "text": [
      "Value must be a number, not <class 'str'>\n"
     ]
    }
   ],
   "source": [
    "try:\n",
    "    units = ConvertUS(\"asd\")\n",
    "    print(units.inch_to_cm())\n",
    "    print(units.foot_to_meters())\n",
    "    print(units.pound_to_kg())\n",
    "except ValueError as err:\n",
    "    print(err)\n",
    "except TypeError as err:\n",
    "    print(err)"
   ]
  },
  {
   "cell_type": "code",
   "execution_count": 35,
   "metadata": {},
   "outputs": [
    {
     "name": "stdout",
     "output_type": "stream",
     "text": [
      "Value must be greater than 0, not -10\n"
     ]
    }
   ],
   "source": [
    "try:\n",
    "    units = ConvertUS(-10)\n",
    "    print(units.inch_to_cm())\n",
    "    print(units.foot_to_meters())\n",
    "    print(units.pound_to_kg())\n",
    "except ValueError as err:\n",
    "    print(err)\n",
    "except TypeError as err:\n",
    "    print(err)"
   ]
  },
  {
   "cell_type": "code",
   "execution_count": 37,
   "metadata": {},
   "outputs": [
    {
     "name": "stdout",
     "output_type": "stream",
     "text": [
      "10 inches = 25.40 cm\n",
      "10 feet = 3.05 meters\n",
      "10 pound = 4.54 kg\n"
     ]
    }
   ],
   "source": [
    "try:\n",
    "    units = ConvertUS(10)\n",
    "    print(units.inch_to_cm())\n",
    "    print(units.foot_to_meters())\n",
    "    print(units.pound_to_kg())\n",
    "except ValueError as err:\n",
    "    print(err)\n",
    "except TypeError as err:\n",
    "    print(err)"
   ]
  },
  {
   "cell_type": "markdown",
   "metadata": {},
   "source": [
    "## 2. Person (*)\n",
    "\n",
    "Create a class named Person, with **parameterized constructor** with the following parameters: \n",
    "- name\n",
    "- age\n",
    "- email\n",
    "\n",
    "Turn name, age, email into **properties** with following validations in their setters:\n",
    "- name - must be string\n",
    "- age - must be number between 0 and 125\n",
    "- email - must include an @ sign\n",
    "\n",
    "It should also have ```__repr__``` method to represent the Person class in a neat way. \n",
    "\n",
    "Also create a method ``` say_hello() ``` that prints \n",
    "\n",
    "```\n",
    "Hi, my name is ..., I am ... years old, my email address is ...  \n",
    "```"
   ]
  },
  {
   "cell_type": "code",
   "execution_count": 15,
   "metadata": {},
   "outputs": [],
   "source": [
    "class Person:\n",
    "    \"\"\"Person class for storing name, age, and email\"\"\"\n",
    "    def __init__(self, name: str, age: int, email: str):\n",
    "        self.name = name\n",
    "        self.age = age\n",
    "        self.email = email\n",
    "\n",
    "    @property\n",
    "    def name(self) -> str:\n",
    "        return self._name\n",
    "    @property\n",
    "    def age(self) -> int:\n",
    "        return self._age\n",
    "    @property\n",
    "    def email(self) -> str:\n",
    "        return self._email\n",
    "\n",
    "    @name.setter\n",
    "    def name(self, name: str):\n",
    "        if not isinstance(name, str):\n",
    "            raise TypeError(f\"Name must be a string, not {type(name)}\")\n",
    "        if name.strip() == \"\":\n",
    "            raise ValueError(f\"Invalid name, must contain letters\")\n",
    "        self._name = name\n",
    "\n",
    "    @age.setter\n",
    "    def age(self, age: int):\n",
    "        if not isinstance(age, int):\n",
    "            raise TypeError(f\"Age must be a number, not {type(age)}\")\n",
    "        if not 0 < age < 125:\n",
    "            raise ValueError(f\"Age must be between 0-125, not {age}\")\n",
    "        self._age = age\n",
    "\n",
    "    @email.setter\n",
    "    def email(self, email: str):\n",
    "        if not isinstance(email, str):\n",
    "            raise TypeError(f\"Name must be a string, not {type(email)}\")\n",
    "        if not \"@\" in email:\n",
    "            raise ValueError(f\"Email must contain '@' sign\")\n",
    "        self._email = email\n",
    "\n",
    "    def say_hello(self):\n",
    "        return f\"Hi, my name is {self.name}, I am {self.age} years old, my email address is '{self.email}'\"\n",
    "\n",
    "    def __repr__(self):\n",
    "        return f\"Person('name={self.name}', age='{self.age}', email='{self.email}')\""
   ]
  },
  {
   "cell_type": "code",
   "execution_count": 23,
   "metadata": {},
   "outputs": [
    {
     "name": "stdout",
     "output_type": "stream",
     "text": [
      "Person('name=Andreas', age='27', email='My@Email')\n",
      "Hi, my name is Andreas, I am 28 years old, my email address is 'My@Email'\n"
     ]
    }
   ],
   "source": [
    "try:\n",
    "    person1 = Person(\"Andreas\", 27, \"My@Email\")\n",
    "    print(person1)\n",
    "    person1.age = 28\n",
    "    print(person1.say_hello())\n",
    "except ValueError as err:\n",
    "    print(err)\n",
    "except TypeError as err:\n",
    "    print(err)"
   ]
  }
 ],
 "metadata": {
  "kernelspec": {
   "display_name": "Python 3.9.13 ('Python-Andreas-Svensson-mdnrE2EN')",
   "language": "python",
   "name": "python3"
  },
  "language_info": {
   "codemirror_mode": {
    "name": "ipython",
    "version": 3
   },
   "file_extension": ".py",
   "mimetype": "text/x-python",
   "name": "python",
   "nbconvert_exporter": "python",
   "pygments_lexer": "ipython3",
   "version": "3.9.13"
  },
  "orig_nbformat": 4,
  "vscode": {
   "interpreter": {
    "hash": "ce5ca73635e776ed4a4fa3650670807b72bb0d2e4957ff61281a0d117b023fd0"
   }
  }
 },
 "nbformat": 4,
 "nbformat_minor": 2
}
