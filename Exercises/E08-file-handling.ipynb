{
 "cells": [
  {
   "cell_type": "markdown",
   "metadata": {},
   "source": [
    "## 1. Dice rolls (*)\n",
    "Create a textfile called **dice_rolls.txt** using Python. Also for each subtask, write adequate headers. \n",
    "\n",
    "&nbsp; a) &nbsp; Simulate 20 dice rolls and write them to your textfile. (*)\n",
    "\n",
    "&nbsp; b) &nbsp; Sort the dice rolls from a) and write them to a separate row in the same textfile. (*)\n",
    "\n",
    "&nbsp; c) &nbsp; Count the number of fours in the dice rolls and write them to a separate row in the same textfile. (*)"
   ]
  },
  {
   "cell_type": "code",
   "execution_count": 26,
   "metadata": {},
   "outputs": [],
   "source": [
    "import random as rnd\n",
    "\n",
    "file_path = \"assets/dice_rolls.txt\"\n",
    "\n",
    "with open(file_path, \"a\") as dice_rolls_file:\n",
    "\n",
    "    # a)\n",
    "    # simulate 20 dice rolls:\n",
    "    dice_rolls = [rnd.randint(1, 6) for _ in range(20)]\n",
    "\n",
    "    # write each roll to file:\n",
    "    for roll in range(20):\n",
    "        dice_rolls_file.write(f\"{dice_rolls[roll]}\") # write roll to file\n",
    "        if roll < 19: # for all except last roll:\n",
    "            dice_rolls_file.write(\", \") # add comma and space for better formatting\n",
    "    dice_rolls_file.write(\"\\n\\n\") # newlines for formatting\n",
    "\n",
    "    # b)\n",
    "    # sort rolls\n",
    "    dice_rolls.sort()\n",
    "\n",
    "    # write each roll to file:\n",
    "    for roll in range(20):\n",
    "        dice_rolls_file.write(f\"{dice_rolls[roll]}\") # write roll to file\n",
    "        if roll < 19: # for all except last roll:\n",
    "            dice_rolls_file.write(\", \") # add comma and space for better formatting\n",
    "    dice_rolls_file.write(\"\\n\\n\") # newlines for formatting\n",
    "\n",
    "\n",
    "    # c)\n",
    "    # count number of fours:\n",
    "    dice_rolls_fours = [4 for roll in dice_rolls if roll == 4]\n",
    "\n",
    "    # write each roll to file:\n",
    "    for roll in range(len(dice_rolls_fours)):\n",
    "        dice_rolls_file.write(f\"{dice_rolls_fours[roll]}\") # write roll to file\n",
    "        if roll < len(dice_rolls_fours) - 1: # for all except last roll:\n",
    "            dice_rolls_file.write(\", \") # add comma and space for better formatting"
   ]
  },
  {
   "cell_type": "markdown",
   "metadata": {},
   "source": [
    "## 2. Test results (*)\n",
    "Read in the file test_result.txt (located in the data folder of this repo) in Python.\n",
    "\n",
    "[test_result]: https://github.com/kokchun/Programmering-med-Python-21/blob/main/Files/test_result.txt\n",
    "\n",
    "&nbsp; a) &nbsp; Print out the text in the terminal (*)\n",
    "\n",
    "&nbsp; b) &nbsp; Create new rows in the same file and write the people and their corresponding scores in alphabetical order. (*)\n",
    "\n",
    "&nbsp; c) &nbsp; Create additional rows in the same file and sort the people after their grades. The grade limits are: (**)\n",
    "\n",
    "- F < 20\n",
    "- E: 20-29\n",
    "- D: 30-39\n",
    "- C: 40-49\n",
    "- B: 50-59\n",
    "- A: 60-70"
   ]
  },
  {
   "cell_type": "code",
   "execution_count": 32,
   "metadata": {},
   "outputs": [
    {
     "name": "stdout",
     "output_type": "stream",
     "text": [
      "Adam Gustafsson 25\n",
      "Emil Johansson 23\n",
      "Sven Erik Karlsson 13\n",
      "Ove Karlsten 41\n",
      "Emma Boden 32\n",
      "Ida HÃ¥kansson 23\n",
      "Ella Ester 41\n",
      "Hanna Karlsson 23 \n",
      "Johan Johansson 42\n",
      "Sven Erik Lundin 39\n",
      "BjÃ¶rn BjÃ¶rnsson 39\n",
      "Karl Karlsson 32\n",
      "Bose Bosseson 32\n",
      "HÃ¥kan HÃ¥kanson 24\n",
      "Jonas Jonasson 31\n",
      "Erik Eriksson 31\n",
      "Gore Bord 55\n",
      "Jakob Kallander 65\n",
      "Fredrika Ulven 10\n"
     ]
    }
   ],
   "source": [
    "# a)\n",
    "file_path = \"assets/test_results.txt\"\n",
    "\n",
    "with open(file_path, \"r\") as f_read:\n",
    "    for row in f_read:\n",
    "        row = row.strip(\"\\n\")\n",
    "        print(row)"
   ]
  },
  {
   "cell_type": "code",
   "execution_count": 103,
   "metadata": {},
   "outputs": [],
   "source": [
    "# b)\n",
    "file_path = \"assets/test_results.txt\"\n",
    "\n",
    "with open(file_path, \"r\") as f_read, open(file_path, \"a\") as f_append: # open file as read and append\n",
    "\n",
    "    students = [student.strip() for student in f_read] # add all rows to students list, strip()-ing newlines\n",
    "\n",
    "    students.sort() # sort in alphabetical order\n",
    "    f_append.write(\"\\n\\n\") # append 2 newlines after original text for better readability\n",
    "\n",
    "    for student in students: # go through each student (in alphabetical order because of the earlier sort):\n",
    "        f_append.write(f\"{student}\\n\") # add student and newline to document\n",
    "    \n",
    "    # c)\n",
    "    students_graded = [] # initialize empty list to store graded students\n",
    "\n",
    "    def sort_by(student): # def function to custom sort students using sort() below\n",
    "        return student[-2::] # sort student by the last 2 characters (their grade)\n",
    "\n",
    "    students.sort(key = sort_by, reverse = True) # sort using custom function above (reverse to get highest grade first)\n",
    "\n",
    "    for student in students: # go through all students (now sorted by grades):\n",
    "        if int(student[-2::]) < 20: # if score is less than 20:\n",
    "            student += \" - F\" # add F after their name and score\n",
    "        elif int(student[-2::]) < 30: # repeat...\n",
    "            student += \" - E\"\n",
    "        elif int(student[-2::]) < 40:\n",
    "            student += \" - D\"\n",
    "        elif int(student[-2::]) < 50:\n",
    "            student += \" - C\"\n",
    "        elif int(student[-2::]) < 60:\n",
    "            student += \" - B\"\n",
    "        else:\n",
    "            student += \" - A\"\n",
    "        students_graded.append(student) # append graded student to students graded\n",
    "        \n",
    "    f_append.write(\"\\n\\n\") # append 2 newlines after original text for better readability\n",
    "\n",
    "    for student in students_graded: # go through each student (in grade order because of the earlier sort):\n",
    "        f_append.write(f\"{student}\\n\") # add student and newline to document"
   ]
  },
  {
   "cell_type": "markdown",
   "metadata": {},
   "source": [
    "## 3. National test (*)  \n",
    "Read in the file NPvt19Ma2A.txt and NPvt19Ma2C.txt (located in the data folder of this repo) in Python. Use matplotlib to plot pie charts for each grade categories in each file. (*)"
   ]
  },
  {
   "cell_type": "code",
   "execution_count": 141,
   "metadata": {},
   "outputs": [
    {
     "name": "stdout",
     "output_type": "stream",
     "text": [
      "NPvt19Ma2A grades: ['0.0', '0.0', '2.4', '5.3', '37.3', '55.0']\n",
      "NPvt19Ma2B grades: ['0.3', '1.5', '10.7', '13.6', '31.0', '42.8']\n",
      "NPvt19Ma2C grades: [8.4, 14.2, 26.9, 16.6, 21.3, 12.6]\n"
     ]
    },
    {
     "data": {
      "text/plain": [
       "Text(0.5, 1.0, 'Percentage of students of each grade in MA2 A-C')"
      ]
     },
     "execution_count": 141,
     "metadata": {},
     "output_type": "execute_result"
    },
    {
     "data": {
      "image/png": "[encoded data removed]",
      "text/plain": [
       "<Figure size 640x480 with 1 Axes>"
      ]
     },
     "metadata": {},
     "output_type": "display_data"
    }
   ],
   "source": [
    "import matplotlib.pyplot as plt\n",
    "file_path_a = \"assets/NPvt19Ma2A.txt\"\n",
    "file_path_b = \"assets/NPvt19Ma2B.txt\"\n",
    "file_path_c = \"assets/NPvt19Ma2C.txt\"\n",
    "grades_a = []\n",
    "grades_b = []\n",
    "grades_c = []\n",
    "grades_list = [\"A\", \"B\", \"C\", \"D\", \"E\", \"F\"]\n",
    "characters_to_clean = \"ABCDEF %\\n\"\n",
    "\n",
    "\n",
    "with open(file_path_a, \"r\") as file_a:\n",
    "    for row in file_a:\n",
    "        for character in characters_to_clean:\n",
    "            row = row.replace(character, \"\")\n",
    "        grades_a.append(float(row))\n",
    "\n",
    "with open(file_path_b, \"r\") as file_b:\n",
    "    for row in file_b:\n",
    "        for character in characters_to_clean:\n",
    "            row = row.replace(character, \"\")\n",
    "        grades_b.append(float(row))\n",
    "\n",
    "with open(file_path_c, \"r\") as file_c:\n",
    "    for row in file_c:\n",
    "        for character in characters_to_clean:\n",
    "            row = row.replace(character, \"\")\n",
    "        grades_c.append(float(row))\n",
    "\n",
    "print(f\"NPvt19Ma2A grades: {grades_a}\")\n",
    "print(f\"NPvt19Ma2B grades: {grades_b}\")\n",
    "print(f\"NPvt19Ma2C grades: {grades_c}\")\n",
    "plt.plot(grades_list, grades_a, label = \"A\", color = 'green')\n",
    "plt.plot(grades_list, grades_b, label = \"B\", color = 'orange')\n",
    "plt.plot(grades_list, grades_c, label = \"C\", color = 'red')\n",
    "\n",
    "\n",
    "plt.legend()\n",
    "\n",
    "plt.xlabel(\"Grade\") \n",
    "plt.ylabel(\"Percentage of Students\")\n",
    "plt.title(\"Percentage of students of each grade in MA2 A-C\")"
   ]
  },
  {
   "cell_type": "code",
   "execution_count": null,
   "metadata": {},
   "outputs": [],
   "source": []
  }
 ],
 "metadata": {
  "kernelspec": {
   "display_name": "Python 3.9.13 ('Python-Andreas-Svensson-mdnrE2EN')",
   "language": "python",
   "name": "python3"
  },
  "language_info": {
   "codemirror_mode": {
    "name": "ipython",
    "version": 3
   },
   "file_extension": ".py",
   "mimetype": "text/x-python",
   "name": "python",
   "nbconvert_exporter": "python",
   "pygments_lexer": "ipython3",
   "version": "3.9.13"
  },
  "orig_nbformat": 4,
  "vscode": {
   "interpreter": {
    "hash": "ce5ca73635e776ed4a4fa3650670807b72bb0d2e4957ff61281a0d117b023fd0"
   }
  }
 },
 "nbformat": 4,
 "nbformat_minor": 2
}
