{
 "cells": [
  {
   "cell_type": "markdown",
   "metadata": {},
   "source": [
    "## 1. Dice rolls (*)\n",
    "Create a textfile called **dice_rolls.txt** using Python. Also for each subtask, write adequate headers. \n",
    "\n",
    "&nbsp; a) &nbsp; Simulate 20 dice rolls and write them to your textfile. (*)\n",
    "\n",
    "&nbsp; b) &nbsp; Sort the dice rolls from a) and write them to a separate row in the same textfile. (*)\n",
    "\n",
    "&nbsp; c) &nbsp; Count the number of fours in the dice rolls and write them to a separate row in the same textfile. (*)"
   ]
  },
  {
   "cell_type": "code",
   "execution_count": 26,
   "metadata": {},
   "outputs": [],
   "source": [
    "import random as rnd\n",
    "\n",
    "file_path = \"assets/dice_rolls.txt\"\n",
    "\n",
    "with open(file_path, \"a\") as dice_rolls_file:\n",
    "\n",
    "    # a)\n",
    "    # simulate 20 dice rolls:\n",
    "    dice_rolls = [rnd.randint(1, 6) for _ in range(20)]\n",
    "\n",
    "    # write each roll to file:\n",
    "    for roll in range(20):\n",
    "        dice_rolls_file.write(f\"{dice_rolls[roll]}\") # write roll to file\n",
    "        if roll < 19: # for all except last roll:\n",
    "            dice_rolls_file.write(\", \") # add comma and space for better formatting\n",
    "    dice_rolls_file.write(\"\\n\\n\") # newlines for formatting\n",
    "\n",
    "    # b)\n",
    "    # sort rolls\n",
    "    dice_rolls.sort()\n",
    "\n",
    "    # write each roll to file:\n",
    "    for roll in range(20):\n",
    "        dice_rolls_file.write(f\"{dice_rolls[roll]}\") # write roll to file\n",
    "        if roll < 19: # for all except last roll:\n",
    "            dice_rolls_file.write(\", \") # add comma and space for better formatting\n",
    "    dice_rolls_file.write(\"\\n\\n\") # newlines for formatting\n",
    "\n",
    "\n",
    "    # c)\n",
    "    # count number of fours:\n",
    "    dice_rolls_fours = [4 for roll in dice_rolls if roll == 4]\n",
    "\n",
    "    # write each roll to file:\n",
    "    for roll in range(len(dice_rolls_fours)):\n",
    "        dice_rolls_file.write(f\"{dice_rolls_fours[roll]}\") # write roll to file\n",
    "        if roll < len(dice_rolls_fours) - 1: # for all except last roll:\n",
    "            dice_rolls_file.write(\", \") # add comma and space for better formatting"
   ]
  },
  {
   "cell_type": "markdown",
   "metadata": {},
   "source": [
    "## 2. Test results (*)\n",
    "Read in the file test_result.txt (located in the data folder of this repo) in Python.\n",
    "\n",
    "[test_result]: https://github.com/kokchun/Programmering-med-Python-21/blob/main/Files/test_result.txt\n",
    "\n",
    "&nbsp; a) &nbsp; Print out the text in the terminal (*)\n",
    "\n",
    "&nbsp; b) &nbsp; Create new rows in the same file and write the people and their corresponding scores in alphabetical order. (*)\n",
    "\n",
    "&nbsp; c) &nbsp; Create additional rows in the same file and sort the people after their grades. The grade limits are: (**)\n",
    "\n",
    "- F < 20\n",
    "- E: 20-29\n",
    "- D: 30-39\n",
    "- C: 40-49\n",
    "- B: 50-59\n",
    "- A: 60-70"
   ]
  },
  {
   "cell_type": "code",
   "execution_count": null,
   "metadata": {},
   "outputs": [],
   "source": [
    "\n",
    "    "
   ]
  }
 ],
 "metadata": {
  "kernelspec": {
   "display_name": "Python 3.9.13 ('Python-Andreas-Svensson-mdnrE2EN')",
   "language": "python",
   "name": "python3"
  },
  "language_info": {
   "codemirror_mode": {
    "name": "ipython",
    "version": 3
   },
   "file_extension": ".py",
   "mimetype": "text/x-python",
   "name": "python",
   "nbconvert_exporter": "python",
   "pygments_lexer": "ipython3",
   "version": "3.9.13"
  },
  "orig_nbformat": 4,
  "vscode": {
   "interpreter": {
    "hash": "ce5ca73635e776ed4a4fa3650670807b72bb0d2e4957ff61281a0d117b023fd0"
   }
  }
 },
 "nbformat": 4,
 "nbformat_minor": 2
}
