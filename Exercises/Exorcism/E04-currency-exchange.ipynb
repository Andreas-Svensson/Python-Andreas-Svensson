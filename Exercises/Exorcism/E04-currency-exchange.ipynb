{
 "cells": [
  {
   "cell_type": "code",
   "execution_count": 52,
   "metadata": {},
   "outputs": [],
   "source": [
    "\"\"\"Program to calculate currency exchange\"\"\"\n",
    "def exchange_money(budget: int, exchange_rate: float) -> float:\n",
    "    \"\"\"Calculates value of a sum of currency exchanged to a different currency\"\"\"\n",
    "    return budget / exchange_rate\n",
    "\n",
    "def get_change(budget: int, exchanging_value: int) -> int:\n",
    "    \"\"\"Calculates money left in budget after exchanging [exchange_value]\"\"\"\n",
    "    return budget - exchanging_value\n",
    "\n",
    "def get_value_of_bills(denomination: int, number_of_bills: int) -> int:\n",
    "    \"\"\"Calculates value of bills given from exchanging booth\"\"\"\n",
    "    return denomination * number_of_bills\n",
    "\n",
    "def get_number_of_bills(budget: int, denomination: int) -> int:\n",
    "    \"\"\"Calculates number of new currency bills to receive within given budget\"\"\"\n",
    "    return int(budget / denomination)\n",
    "\n",
    "def get_leftover_of_bills(budget: int, denomination: int) -> float:\n",
    "    \"\"\"Calculates leftover amount of currency that cannot be exchanged from budget\"\"\"\n",
    "    return budget % denomination\n",
    "\n",
    "def exchangeable_value(budget: int, exchange_rate: float, spread: int, denomination: int) -> int:\n",
    "    \"\"\"Calculates maximum value of new currency after calculating exchange rate plus spread\"\"\"\n",
    "    spread /= 100\n",
    "\n",
    "\n",
    "    exchange_rate += exchange_rate * spread\n",
    "    value = exchange_money(budget, exchange_rate)\n",
    "    number_bills = get_number_of_bills(value, denomination)\n",
    "    value = get_value_of_bills(denomination, number_bills)\n",
    "    return value\n"
   ]
  },
  {
   "cell_type": "code",
   "execution_count": 47,
   "metadata": {},
   "outputs": [
    {
     "data": {
      "text/plain": [
       "80"
      ]
     },
     "execution_count": 47,
     "metadata": {},
     "output_type": "execute_result"
    }
   ],
   "source": [
    "exchangeable_value(127.25, 1.20, 10, 20)"
   ]
  },
  {
   "cell_type": "code",
   "execution_count": 48,
   "metadata": {},
   "outputs": [
    {
     "data": {
      "text/plain": [
       "95"
      ]
     },
     "execution_count": 48,
     "metadata": {},
     "output_type": "execute_result"
    }
   ],
   "source": [
    "exchangeable_value(127.25, 1.20, 10, 5)"
   ]
  },
  {
   "cell_type": "code",
   "execution_count": 53,
   "metadata": {},
   "outputs": [
    {
     "data": {
      "text/plain": [
       "8568"
      ]
     },
     "execution_count": 53,
     "metadata": {},
     "output_type": "execute_result"
    }
   ],
   "source": [
    "exchangeable_value(100000, 10.61, 10, 1)"
   ]
  },
  {
   "cell_type": "code",
   "execution_count": 51,
   "metadata": {},
   "outputs": [
    {
     "data": {
      "text/plain": [
       "9425.07068803016"
      ]
     },
     "execution_count": 51,
     "metadata": {},
     "output_type": "execute_result"
    }
   ],
   "source": [
    "100000 / 10.61"
   ]
  },
  {
   "cell_type": "code",
   "execution_count": null,
   "metadata": {},
   "outputs": [],
   "source": []
  }
 ],
 "metadata": {
  "kernelspec": {
   "display_name": "Python 3.9.13 ('Python-Andreas-Svensson-mdnrE2EN')",
   "language": "python",
   "name": "python3"
  },
  "language_info": {
   "codemirror_mode": {
    "name": "ipython",
    "version": 3
   },
   "file_extension": ".py",
   "mimetype": "text/x-python",
   "name": "python",
   "nbconvert_exporter": "python",
   "pygments_lexer": "ipython3",
   "version": "3.9.13"
  },
  "orig_nbformat": 4,
  "vscode": {
   "interpreter": {
    "hash": "ce5ca73635e776ed4a4fa3650670807b72bb0d2e4957ff61281a0d117b023fd0"
   }
  }
 },
 "nbformat": 4,
 "nbformat_minor": 2
}
