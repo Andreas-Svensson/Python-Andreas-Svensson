{
 "cells": [
  {
   "cell_type": "code",
   "execution_count": null,
   "metadata": {},
   "outputs": [],
   "source": [
    "\"\"\"if-statement logic exercise using pacman logic\"\"\"\n",
    "\n",
    "def eat_ghost(power_pellet_active, touching_ghost):\n",
    "    \"\"\"returns True if able to eat a ghost\"\"\"\n",
    "    if power_pellet_active and touching_ghost:\n",
    "        return True\n",
    "    return False\n",
    "\n",
    "\n",
    "def score(touching_power_pellet, touching_dot):\n",
    "    \"\"\"returns True if touching power pellet or dot\"\"\"\n",
    "    if touching_power_pellet or touching_dot:\n",
    "        return True\n",
    "    return False\n",
    "\n",
    "\n",
    "def lose(power_pellet_active, touching_ghost):\n",
    "    \"\"\"returns True if touching ghost without power pellet\"\"\"\n",
    "    if not power_pellet_active and touching_ghost:\n",
    "        return True\n",
    "    return False\n",
    "\n",
    "\n",
    "def win(has_eaten_all_dots, power_pellet_active, touching_ghost):\n",
    "    \"\"\"returns True if all dots have been eaten and not lost\"\"\"\n",
    "    if has_eaten_all_dots and not lose(power_pellet_active, touching_ghost):\n",
    "        return True\n",
    "    return False\n"
   ]
  }
 ],
 "metadata": {
  "language_info": {
   "name": "python"
  },
  "orig_nbformat": 4
 },
 "nbformat": 4,
 "nbformat_minor": 2
}
