{
 "cells": [
  {
   "cell_type": "code",
   "execution_count": null,
   "metadata": {},
   "outputs": [],
   "source": [
    "# constants describing time requirements for the specific recipe\n",
    "EXPECTED_BAKE_TIME = 40\n",
    "PREPARATION_TIME = 2\n",
    "\n",
    "# returns how much more time (minutes) \n",
    "def bake_time_remaining(elapsed_bake_time):\n",
    "    \"\"\"\n",
    "    Return remaining bake time (minutes)\n",
    "    \"\"\"\n",
    "    time_remaining = EXPECTED_BAKE_TIME - elapsed_bake_time\n",
    "    return time_remaining\n",
    "\n",
    "# returns preparation time based on numbers of layers (minutes)\n",
    "def preparation_time_in_minutes(number_of_layers):\n",
    "    \"\"\"\n",
    "    Return preparation time based on number of layers (minutes)\n",
    "    \"\"\"\n",
    "    return number_of_layers * PREPARATION_TIME\n",
    "\n",
    "# returns total time spend on cooking (minutes)\n",
    "def elapsed_time_in_minutes(number_of_layers, elapsed_bake_time):\n",
    "    \"\"\"\n",
    "    Return elapsed cooking time.\n",
    "\n",
    "    This function takes two numbers representing the number of layers & the time already spent \n",
    "    baking and calculates the total elapsed minutes spent cooking the lasagna.\n",
    "    \"\"\"\n",
    "    return preparation_time_in_minutes(number_of_layers) + elapsed_bake_time"
   ]
  }
 ],
 "metadata": {
  "kernelspec": {
   "display_name": "Python 3.9.13 64-bit",
   "language": "python",
   "name": "python3"
  },
  "language_info": {
   "name": "python",
   "version": "3.9.13"
  },
  "orig_nbformat": 4,
  "vscode": {
   "interpreter": {
    "hash": "361cf51db26d785ccfd1d3612f9eaad920721dd1b0ecfe09cf9efd56f7d04a08"
   }
  }
 },
 "nbformat": 4,
 "nbformat_minor": 2
}
