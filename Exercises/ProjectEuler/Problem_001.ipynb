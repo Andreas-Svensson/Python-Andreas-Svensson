{
 "cells": [
  {
   "cell_type": "markdown",
   "metadata": {},
   "source": [
    "# Multiples of 3 or 5\n",
    "\n",
    "### Problem 1  \n",
    "If we list all the natural numbers below 10 that are multiples of 3 or 5, we get 3, 5, 6 and 9. The sum of these multiples is 23.\n",
    "\n",
    "Find the sum of all the multiples of 3 or 5 below 1000."
   ]
  },
  {
   "cell_type": "code",
   "execution_count": 29,
   "metadata": {},
   "outputs": [
    {
     "name": "stdout",
     "output_type": "stream",
     "text": [
      "233168\n"
     ]
    }
   ],
   "source": [
    "multiples = [i for i in range(1000) if i % 3 == 0 or i % 5 == 0] # if i is divisible by 3 OR 5, this avoids adding the same number multiple times\n",
    "multiples = sum(multiples) # turn multiples into an integer by using sum on multiples list, adding values of all elements together\n",
    "print(multiples)"
   ]
  }
 ],
 "metadata": {
  "kernelspec": {
   "display_name": "Python 3.9.13 ('Python-Andreas-Svensson-mdnrE2EN')",
   "language": "python",
   "name": "python3"
  },
  "language_info": {
   "codemirror_mode": {
    "name": "ipython",
    "version": 3
   },
   "file_extension": ".py",
   "mimetype": "text/x-python",
   "name": "python",
   "nbconvert_exporter": "python",
   "pygments_lexer": "ipython3",
   "version": "3.9.13"
  },
  "orig_nbformat": 4,
  "vscode": {
   "interpreter": {
    "hash": "ce5ca73635e776ed4a4fa3650670807b72bb0d2e4957ff61281a0d117b023fd0"
   }
  }
 },
 "nbformat": 4,
 "nbformat_minor": 2
}
