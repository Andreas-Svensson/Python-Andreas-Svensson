{
 "cells": [
  {
   "cell_type": "markdown",
   "metadata": {},
   "source": [
    "# Count with Python\n",
    "\n",
    "## 1. Pythagorean theorem\n",
    "\n",
    "![](assets/right-angle-triangle.png)\n",
    "\n",
    "### a)\n",
    "\n",
    "A right angled triangle has the catheti: a = 3 and b = 4 length units.\n",
    "Compute the hypothenuse of the triangle. (*)"
   ]
  },
  {
   "cell_type": "code",
   "execution_count": 20,
   "metadata": {},
   "outputs": [
    {
     "name": "stdout",
     "output_type": "stream",
     "text": [
      "c = 5.0\n"
     ]
    }
   ],
   "source": [
    "# required for math functions\n",
    "from math import sqrt\n",
    "\n",
    "\n",
    "# calculate hypotenuse (c) of a triangle with the sides:\n",
    "a = 3\n",
    "b = 4\n",
    "\n",
    "c = sqrt(a * a + b * b)\n",
    "print(f\"c = {c}\")"
   ]
  },
  {
   "cell_type": "markdown",
   "metadata": {},
   "source": [
    "### b)\n",
    "\n",
    "A right angled triangle has hypothenuse c = 7.0 and a cathetus a = 5.0 length units. Compute the other cathetus and round to one decimal."
   ]
  },
  {
   "cell_type": "code",
   "execution_count": 21,
   "metadata": {},
   "outputs": [
    {
     "name": "stdout",
     "output_type": "stream",
     "text": [
      "b = 4.9\n"
     ]
    }
   ],
   "source": [
    "c = 7.0\n",
    "a = 5.0\n",
    "\n",
    "b = sqrt((c * c) - (a * a))\n",
    "\n",
    "print(f\"b = {b:.1f}\")"
   ]
  },
  {
   "cell_type": "markdown",
   "metadata": {},
   "source": [
    "## 2. Classification accuracy (*)\n",
    "\n",
    "\n",
    "A machine learning algorithm has been trained to predict whether or not it would rain the next day. Out of 365 predictions, it got 300 correct, compute the accuracy of this model."
   ]
  },
  {
   "cell_type": "code",
   "execution_count": 22,
   "metadata": {},
   "outputs": [
    {
     "name": "stdout",
     "output_type": "stream",
     "text": [
      "Model accuracy = 0.821917808219178\n"
     ]
    }
   ],
   "source": [
    "accuracy = 300/365\n",
    "print(f\"Model {accuracy = }\")"
   ]
  },
  {
   "cell_type": "markdown",
   "metadata": {},
   "source": [
    "## 3. Classification accuracy (*)\n",
    "\n",
    "\n",
    "A machine learning model has been trained to detect fire. Here is the result of its predictions: \n",
    "\n",
    "<table align=\"left\">\n",
    "<tbody>\n",
    "  <tr>\n",
    "    <td>True Positive (TP)\n",
    "      <ul>\n",
    "        <li>Reality: fire</li>\n",
    "        <li>Predicted: fire</li>\n",
    "        <li>Number of TP: 2</li>\n",
    "      </ul>\n",
    "    </td>\n",
    "    <td>False Positive (FP)\n",
    "      <ul>\n",
    "        <li>Reality: no fire</li>\n",
    "        <li>Predicted: fire</li>\n",
    "        <li>Number of FP: 2</li>\n",
    "      </ul>\n",
    "    </td>\n",
    "  </tr>\n",
    "\n",
    "  <tr>\n",
    "    <td>False Negative (FN)\n",
    "      <ul>\n",
    "        <li>Reality: fire</li>\n",
    "        <li>Predicted: no fire</li>\n",
    "        <li>Number of FN: 11</li>\n",
    "      </ul>\n",
    "    </td>\n",
    "    <td>True Negative (TN)\n",
    "      <ul>\n",
    "        <li>Reality: no fire</li>\n",
    "        <li>Predicted: no fire</li>\n",
    "        <li>Number of TN: 985</li>\n",
    "      </ul>\n",
    "    </td>\n",
    "  </tr>\n",
    "</tbody>\n",
    "</table>\n",
    "Calculated the accuracy using the following formula:\n",
    "\n",
    "$\\text{accuracy} = \\frac{TP+TN}{TP+TN+FP+FN}$\n",
    "\n",
    "Is this a good model?"
   ]
  },
  {
   "cell_type": "code",
   "execution_count": 23,
   "metadata": {},
   "outputs": [
    {
     "name": "stdout",
     "output_type": "stream",
     "text": [
      "According to formula: Model model_accuracy = 0.987\n",
      "Percent correct readings from manual calculation = 0.987%\n",
      "\n",
      "Yes, it is a good method for calculating the accuracy\n"
     ]
    }
   ],
   "source": [
    "true_positive = 2\n",
    "false_positive = 2\n",
    "true_negative = 985\n",
    "false_negative = 11\n",
    "\n",
    "# calculation used in example:\n",
    "model_accuracy = (true_positive + true_negative) / (true_positive + true_negative + false_positive + false_negative)\n",
    "print(f\"According to formula: Model {model_accuracy = }\")\n",
    "\n",
    "# checking against my own accuracy calculation:\n",
    "correct_readings = true_positive + true_negative\n",
    "total_readings = true_positive + true_negative + false_positive + false_negative\n",
    "\n",
    "actual_accuracy = (correct_readings / total_readings)\n",
    "\n",
    "print(f\"Percent correct readings from manual calculation = {actual_accuracy}%\")\n",
    "print(\"\")\n",
    "\n",
    "\n",
    "# determining if the calculation used in example is valid:\n",
    "if model_accuracy == actual_accuracy:\n",
    "    print(\"Yes, it is a good method for calculating the accuracy\")\n",
    "else:\n",
    "    print(\"No, it is not a good method for calculating the accuracy\")"
   ]
  },
  {
   "cell_type": "markdown",
   "metadata": {},
   "source": [
    "## 4. Line (*)\n",
    "\n",
    "\n",
    "Compute the slope  k  and the constant term  m  of this line using the points  A:(4,4)  and  B:(0,1)"
   ]
  },
  {
   "cell_type": "code",
   "execution_count": 2,
   "metadata": {},
   "outputs": [
    {
     "data": {
      "text/plain": [
       "[<matplotlib.lines.Line2D at 0x212b4d662e0>]"
      ]
     },
     "execution_count": 2,
     "metadata": {},
     "output_type": "execute_result"
    },
    {
     "data": {
      "image/png": "[encoded data removed]",
      "text/plain": [
       "<Figure size 640x480 with 1 Axes>"
      ]
     },
     "metadata": {},
     "output_type": "display_data"
    }
   ],
   "source": [
    "# y = kx + m\n",
    "\n",
    "# x = 0 -> y = 1 -> m = 1\n",
    "\n",
    "# x = 4 -> y = 4 ->\n",
    "# 4 = k * 4 + 1 -> 3 = k * 4 -> k = 3/4 = 0,75\n",
    "\n",
    "import matplotlib.pyplot as plt\n",
    "\n",
    "x_list = [4, 0]\n",
    "y_list = [4, 1]\n",
    "\n",
    "plt.plot(x_list, y_list, 'o-')"
   ]
  },
  {
   "cell_type": "code",
   "execution_count": null,
   "metadata": {},
   "outputs": [],
   "source": []
  }
 ],
 "metadata": {
  "kernelspec": {
   "display_name": "Python 3.9.13 ('Python-Andreas-Svensson-mdnrE2EN')",
   "language": "python",
   "name": "python3"
  },
  "language_info": {
   "codemirror_mode": {
    "name": "ipython",
    "version": 3
   },
   "file_extension": ".py",
   "mimetype": "text/x-python",
   "name": "python",
   "nbconvert_exporter": "python",
   "pygments_lexer": "ipython3",
   "version": "3.9.13"
  },
  "orig_nbformat": 4,
  "vscode": {
   "interpreter": {
    "hash": "ce5ca73635e776ed4a4fa3650670807b72bb0d2e4957ff61281a0d117b023fd0"
   }
  }
 },
 "nbformat": 4,
 "nbformat_minor": 2
}
