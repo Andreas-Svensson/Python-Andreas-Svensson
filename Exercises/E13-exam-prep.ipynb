{
 "cells": [
  {
   "cell_type": "code",
   "execution_count": 15,
   "metadata": {},
   "outputs": [
    {
     "name": "stdout",
     "output_type": "stream",
     "text": [
      "Ada owns:\n",
      "[Dog: Snoopy, Dog: Pluto]\n",
      "[Fish: Fishy, Fish: Buppy]\n",
      "Beda owns:\n",
      "[Dog: Barkly]\n"
     ]
    }
   ],
   "source": [
    "class Animal:\n",
    "    def __init__(self, name):\n",
    "        self.name = name\n",
    "    def __str__(self):\n",
    "        return f\"Animal {self.name}\"\n",
    "\n",
    "class Dog(Animal):\n",
    "    def __repr__(self):\n",
    "        return f\"Dog: {self.name}\"\n",
    "\n",
    "class Fish(Animal):\n",
    "    def __repr__(self):\n",
    "        return f\"Fish: {self.name}\"\n",
    "\n",
    "class PetOwner:\n",
    "    def __init__(self, name: str, dogs: list = [], fishes: list = []):\n",
    "        self.name = name\n",
    "        self.dogs = dogs\n",
    "        self.fishes = fishes\n",
    "    \n",
    "    @property\n",
    "    def name(self):\n",
    "        return self._name\n",
    "\n",
    "    @name.setter\n",
    "    def name(self, name):\n",
    "        if type(name) != str:\n",
    "            raise TypeError(f\"Name must be a string, not {type(name).__name__}\")\n",
    "        if name.strip() == \"\":\n",
    "            raise ValueError(f\"Name must contain letters, \\\"{name}\\\" not accepted\")\n",
    "        self._name = name\n",
    "    \n",
    "    @property\n",
    "    def dogs(self):\n",
    "        return self._dogs\n",
    "\n",
    "    @dogs.setter\n",
    "    def dogs(self, dog_names):\n",
    "        # ----- error handling for dog name list -----\n",
    "        if type(dog_names) != list:\n",
    "            raise TypeError(f\"Dogs must be a list of dog names, not {type(dog_names).__name__}\")\n",
    "        temp_list = [] # creating temp list to store dogs in\n",
    "        for name in dog_names:\n",
    "            # ----- error handling for names in list -----\n",
    "            if type(name) != str:\n",
    "                raise TypeError(f\"Names must be a string, not {type(name).__name__} (\\\"{name}\\\")\")\n",
    "            if name.strip() == \"\":\n",
    "                raise ValueError(f\"Names must contain letters, \\\"{name}\\\" not accepted\")\n",
    "            temp_list.append(Dog(name)) # add Dog with name {name} to temp list\n",
    "        self._dogs = temp_list # set dogs to created list of dogs\n",
    "\n",
    "    @property\n",
    "    def fishes(self):\n",
    "        return self._fishes\n",
    "\n",
    "    @fishes.setter\n",
    "    def fishes(self, fish_names):\n",
    "        # ----- error handling for fish name list -----\n",
    "        if type(fish_names) != list:\n",
    "            raise TypeError(f\"Fishes must be a list of fish names, not {type(fish_names).__name__}\")\n",
    "        temp_list = [] # creating temp list to store fishes in\n",
    "        for name in fish_names:\n",
    "            # ----- error handling for names in list -----\n",
    "            if type(name) != str:\n",
    "                raise TypeError(f\"Names must be a string, not {type(name).__name__} (\\\"{name}\\\")\")\n",
    "            if name.strip() == \"\":\n",
    "                raise ValueError(f\"Names must contain letters, \\\"{name}\\\" not accepted\")\n",
    "            temp_list.append(Fish(name)) # add Fish with name {name} to temp list\n",
    "        self._fishes = temp_list # set fishes to created list of fishes\n",
    "\n",
    "    def __str__(self):\n",
    "        print_string = f\"{self.name} owns:\"\n",
    "        if self.dogs != []: # if owner has at least one dog\n",
    "            print_string += f\"\\n{self.dogs}\"\n",
    "        if self.fishes != []: # if owner has at least one fish\n",
    "            print_string += f\"\\n{self.fishes}\"\n",
    "        return print_string\n",
    "\n",
    "owner1 = PetOwner(\"Ada\",[\"Snoopy\", \"Pluto\"], [\"Fishy\", \"Buppy\"])\n",
    "owner2 = PetOwner(\"Beda\", [\"Barkly\"] )\n",
    "print(owner1)\n",
    "print(owner2)"
   ]
  },
  {
   "cell_type": "code",
   "execution_count": 16,
   "metadata": {},
   "outputs": [
    {
     "name": "stdout",
     "output_type": "stream",
     "text": [
      "A 0.0%\n",
      "B 0.0%\n",
      "C 2.4%\n",
      "D 5.3%\n",
      "E 37.3%\n",
      "F 55.0%\n"
     ]
    }
   ],
   "source": [
    "file_path = \"assets/NPvt19Ma2A.txt\"\n",
    "with open(file_path, \"r\") as f_read:\n",
    "    file_contents = \"\".join(row for row in f_read)\n",
    "    print(file_contents)"
   ]
  },
  {
   "cell_type": "code",
   "execution_count": 17,
   "metadata": {},
   "outputs": [],
   "source": [
    "# How to access contents of a text file in current directory?\n",
    "file_path = \"file.txt\"\n",
    "with open(file_path, \"w\") as f_write:\n",
    "    pass"
   ]
  },
  {
   "cell_type": "code",
   "execution_count": 18,
   "metadata": {},
   "outputs": [
    {
     "data": {
      "text/plain": [
       "'clean'"
      ]
     },
     "execution_count": 18,
     "metadata": {},
     "output_type": "execute_result"
    }
   ],
   "source": [
    "# How to remove any occurrences of specific characters in a given string?\n",
    "s, to_remove = \"1.c.!l-e-.a!.n!\", \".!1-\"\n",
    "s = \"\".join(character.strip(to_remove) for character in s)\n",
    "s # -> 'clean'"
   ]
  },
  {
   "cell_type": "code",
   "execution_count": 1,
   "metadata": {},
   "outputs": [
    {
     "data": {
      "text/plain": [
       "'xcxlxexaxnx'"
      ]
     },
     "execution_count": 1,
     "metadata": {},
     "output_type": "execute_result"
    }
   ],
   "source": [
    "# How to remove any occurrences of a specific character in a given string?\n",
    "s = \"xcxlxexaxnx\"\n",
    "s = s.replace(\"x\", \"\")\n",
    "s # -> 'clean'"
   ]
  },
  {
   "cell_type": "code",
   "execution_count": 20,
   "metadata": {},
   "outputs": [
    {
     "data": {
      "text/plain": [
       "['', 'c', 'l', '', '', '', '', 'e', 'a', 'n', '']"
      ]
     },
     "execution_count": 20,
     "metadata": {},
     "output_type": "execute_result"
    }
   ],
   "source": [
    "# How to separate parts of a string into a list?\n",
    "s = \"xcxlxxxxxexaxnx\"\n",
    "l = s.split(\"x\") # NOTE: can give empty indices\n",
    "l # -> ['', 'c', 'l', '', '', '', '', 'e', 'a', 'n', '']"
   ]
  },
  {
   "cell_type": "code",
   "execution_count": 21,
   "metadata": {},
   "outputs": [
    {
     "data": {
      "text/plain": [
       "['c', 'l', 'e', 'a', 'n']"
      ]
     },
     "execution_count": 21,
     "metadata": {},
     "output_type": "execute_result"
    }
   ],
   "source": [
    "# How to avoid empty indices when splitting a string into a list?\n",
    "s = \"xcxlxxxxxexaxnx\"\n",
    "l = [index for index in s.split(\"x\") if index != \"\"]\n",
    "l # -> ['c', 'l', 'e', 'a', 'n']"
   ]
  },
  {
   "cell_type": "code",
   "execution_count": 22,
   "metadata": {},
   "outputs": [
    {
     "data": {
      "text/plain": [
       "[1.0, 2.0, 3.0]"
      ]
     },
     "execution_count": 22,
     "metadata": {},
     "output_type": "execute_result"
    }
   ],
   "source": [
    "# How to turn a list of numbers in string format into a list of numbers?\n",
    "l = [\"1\", \"2\", \"3\"]\n",
    "l = [float(number) for number in l]\n",
    "l # -> [1.0, 2.0, 3.0]"
   ]
  },
  {
   "cell_type": "code",
   "execution_count": 23,
   "metadata": {},
   "outputs": [
    {
     "data": {
      "text/plain": [
       "[1, 2, 3]"
      ]
     },
     "execution_count": 23,
     "metadata": {},
     "output_type": "execute_result"
    }
   ],
   "source": [
    "# How to make a sorted copy of a given list?\n",
    "l = [2, 3, 1]\n",
    "l_copy = sorted(l) # NOTE: l.sort() would not work since it mutates l\n",
    "l_copy # -> [1, 2, 3]"
   ]
  },
  {
   "cell_type": "code",
   "execution_count": 24,
   "metadata": {},
   "outputs": [
    {
     "data": {
      "text/plain": [
       "[1, 2, 3]"
      ]
     },
     "execution_count": 24,
     "metadata": {},
     "output_type": "execute_result"
    }
   ],
   "source": [
    "# How to sort a given list?\n",
    "l = [2, 3, 1]\n",
    "l.sort() # NOTE: l.sort() mutates l\n",
    "l # -> [1, 2, 3]"
   ]
  },
  {
   "cell_type": "code",
   "execution_count": 25,
   "metadata": {},
   "outputs": [
    {
     "data": {
      "text/plain": [
       "[[1, 6], [2, 5], [3, 4]]"
      ]
     },
     "execution_count": 25,
     "metadata": {},
     "output_type": "execute_result"
    }
   ],
   "source": [
    "# How to sort lists in a given list?\n",
    "l = [[2, 5], [3, 4], [1, 6]]\n",
    "l.sort() # NOTE: sorts based on first index of lists in list\n",
    "l # -> [[1, 6], [2, 5], [3, 4]]"
   ]
  },
  {
   "cell_type": "code",
   "execution_count": 78,
   "metadata": {},
   "outputs": [
    {
     "data": {
      "text/plain": [
       "0"
      ]
     },
     "execution_count": 78,
     "metadata": {},
     "output_type": "execute_result"
    }
   ],
   "source": [
    "# How to get the index of the first occurrence of a specific value in a given list?\n",
    "l = [\"a\", \"b\", \"c\", \"a\"]\n",
    "x = l.index(\"a\") # NOTE: will not get the second \"a\"\n",
    "x # -> 0"
   ]
  },
  {
   "cell_type": "code",
   "execution_count": 80,
   "metadata": {},
   "outputs": [
    {
     "data": {
      "text/plain": [
       "[0, 3]"
      ]
     },
     "execution_count": 80,
     "metadata": {},
     "output_type": "execute_result"
    }
   ],
   "source": [
    "# How to get the indices of all occurrence of a specific value in a given list?\n",
    "l = [\"a\", \"b\", \"c\", \"a\"]\n",
    "x = [index for index, value in enumerate(l) if value == \"a\"]\n",
    "x # -> [0, 3]"
   ]
  },
  {
   "cell_type": "code",
   "execution_count": 131,
   "metadata": {},
   "outputs": [
    {
     "data": {
      "text/plain": [
       "5"
      ]
     },
     "execution_count": 131,
     "metadata": {},
     "output_type": "execute_result"
    }
   ],
   "source": [
    "# How to do \"number comprehension\"?\n",
    "l = [1, 2, 3]\n",
    "s = sum(i for i in l if i > 1)\n",
    "s # -> 5 (2+3) NOTE: better to use element-wise operations of an array than looping through a list"
   ]
  },
  {
   "cell_type": "code",
   "execution_count": 3,
   "metadata": {},
   "outputs": [
    {
     "data": {
      "text/plain": [
       "['a', 'b', 'c', 'd']"
      ]
     },
     "execution_count": 3,
     "metadata": {},
     "output_type": "execute_result"
    }
   ],
   "source": [
    "# How to add an element to a list in a specific position?\n",
    "l = [\"a\", \"b\", \"d\"]\n",
    "l.insert(2, \"c\")\n",
    "l # -> ['a', 'b', 'c', 'd']"
   ]
  },
  {
   "cell_type": "code",
   "execution_count": 4,
   "metadata": {},
   "outputs": [
    {
     "data": {
      "text/plain": [
       "[3, 2, 1]"
      ]
     },
     "execution_count": 4,
     "metadata": {},
     "output_type": "execute_result"
    }
   ],
   "source": [
    "# How to invert the order of elements in a given list?\n",
    "l = [1, 2, 3]\n",
    "l.reverse() # NOTE: mutates the list\n",
    "l # -> [3, 2, 1]"
   ]
  },
  {
   "cell_type": "code",
   "execution_count": 8,
   "metadata": {},
   "outputs": [
    {
     "data": {
      "text/plain": [
       "[3, 2, 1]"
      ]
     },
     "execution_count": 8,
     "metadata": {},
     "output_type": "execute_result"
    }
   ],
   "source": [
    "# How to make a copy of a list with elements in inverted order?\n",
    "l1 = [1, 2, 3]\n",
    "l2 = l1[::-1] # NOTE: iterates over l1 in reverse order and adds elements to l2\n",
    "l2 # -> [3, 2, 1]"
   ]
  },
  {
   "cell_type": "code",
   "execution_count": 13,
   "metadata": {},
   "outputs": [
    {
     "data": {
      "text/plain": [
       "['', 'c', 'l', '', '', '', '', '', '', 'e', 'a', 'n', '']"
      ]
     },
     "execution_count": 13,
     "metadata": {},
     "output_type": "execute_result"
    }
   ],
   "source": [
    "# How to separate parts of a string into a list based on a several characters?\n",
    "s = \"xcxlxxyxxyxexaxnx\"\n",
    "s = s.replace(\"y\", \"x\")\n",
    "l = s.split(\"x\")\n",
    "l # -> ['', 'c', 'l', '', '', '', '', 'e', 'a', 'n', '']"
   ]
  },
  {
   "cell_type": "code",
   "execution_count": 14,
   "metadata": {},
   "outputs": [
    {
     "data": {
      "text/plain": [
       "['c', 'l', 'e', 'a', 'n']"
      ]
     },
     "execution_count": 14,
     "metadata": {},
     "output_type": "execute_result"
    }
   ],
   "source": [
    "# How to avoid empty indices when separating parts of a string into a list based on a several characters?\n",
    "s = \"xcxlxxyxxyxexaxnx\"\n",
    "s = s.replace(\"y\", \"x\")\n",
    "l = [index for index in s.split(\"x\") if index != \"\"]\n",
    "l # -> ['c', 'l', 'e', 'a', 'n']"
   ]
  },
  {
   "cell_type": "code",
   "execution_count": 16,
   "metadata": {},
   "outputs": [
    {
     "data": {
      "text/plain": [
       "['a', 'a', 2, 3, 4]"
      ]
     },
     "execution_count": 16,
     "metadata": {},
     "output_type": "execute_result"
    }
   ],
   "source": [
    "# How to use else in list comprehension?\n",
    "l = [i if i > 1 else \"a\" for i in range(5)]\n",
    "l # -> ['a', 'a', 2, 3, 4]"
   ]
  },
  {
   "cell_type": "code",
   "execution_count": 18,
   "metadata": {},
   "outputs": [
    {
     "data": {
      "text/plain": [
       "'01234'"
      ]
     },
     "execution_count": 18,
     "metadata": {},
     "output_type": "execute_result"
    }
   ],
   "source": [
    "# How to use string comprehension?\n",
    "s = \"\".join(str(i) for i in range(5))\n",
    "s # -> \"01234\""
   ]
  },
  {
   "cell_type": "code",
   "execution_count": 120,
   "metadata": {},
   "outputs": [
    {
     "name": "stdout",
     "output_type": "stream",
     "text": [
      "1x 150\n",
      "1x 1\n"
     ]
    }
   ],
   "source": [
    "def my_func(coins, target):\n",
    "    amount_list = []\n",
    "    for value in target[::-1]:\n",
    "        sum = 0\n",
    "        while coins - value >= 0:\n",
    "            sum += 1\n",
    "            coins -= value\n",
    "        amount_list.append(sum)\n",
    "    return_string = \"\\n\".join(f\"{amount}x {currency}\" for currency, amount in zip(target[::-1], amount_list) if amount > 0)\n",
    "    return return_string\n",
    "\n",
    "print(my_func(151, [0.5, 1, 5, 10, 25, 100, 150]))"
   ]
  },
  {
   "cell_type": "markdown",
   "metadata": {},
   "source": [
    "![UML](assets/practice_exam_UML.png)"
   ]
  },
  {
   "cell_type": "code",
   "execution_count": null,
   "metadata": {},
   "outputs": [],
   "source": [
    "from __future__ import annotations\n",
    "\n",
    "class NormalDist:\n",
    "    def __init__(self, mu: float, sigma: float):\n",
    "        self.mu = mu\n",
    "        self.sigma = sigma\n",
    "    \n",
    "    @property\n",
    "    def mu(self) -> float:\n",
    "        return self._mu\n",
    "\n",
    "    @mu.setter\n",
    "    def mu(self, value):\n",
    "        if type(value) != float:\n",
    "            raise TypeError(f\"Mu must be set to a float, not {type(value).__name__}\")\n",
    "        self._mu = value\n",
    "\n",
    "    @property\n",
    "    def sigma(self) -> float:\n",
    "        return self._sigma\n",
    "\n",
    "    @sigma.setter\n",
    "    def sigma(self, value):\n",
    "        if type(value) != float:\n",
    "            raise TypeError(f\"Sigma must be set to a float, not {type(value).__name__}\")\n",
    "        self._sigma = value\n",
    "\n",
    "    def pdf(self, x: float) -> float:\n",
    "        # TODO figure out math\n",
    "        pass\n",
    "\n",
    "    def plot(self, x: float):\n",
    "        # TODO figure out math\n",
    "        pass\n",
    "\n",
    "    def __add__(self, other: NormalDist) -> NormalDist:\n",
    "        if type(other) != NormalDist:\n",
    "            raise TypeError(f\"Cannot perform addition between NormalDist and {type(other).__name__}\")\n",
    "        mu = self.mu + other.mu\n",
    "        sigma = self.sigma + other.sigma\n",
    "        return NormalDist(mu, sigma)\n",
    "\n",
    "    def __repr__(self) -> str:\n",
    "        return f\"NormalDist(mu = {self.mu}, sigma = {self.sigma})\""
   ]
  },
  {
   "cell_type": "code",
   "execution_count": 36,
   "metadata": {},
   "outputs": [
    {
     "name": "stdout",
     "output_type": "stream",
     "text": [
      "2.23606797749979\n",
      "5.099019513592785\n",
      "11.704699910719626\n"
     ]
    }
   ],
   "source": [
    "from math import dist\n",
    "\n",
    "def calc_dist(p, q) -> float:\n",
    "    return dist(p, q)\n",
    "\n",
    "file_path = \"file.txt\"\n",
    "with open(file_path, \"r\") as f:\n",
    "    clean = list()\n",
    "    for row in f.readlines()[1:]:\n",
    "        temp = [float(i.strip(\"() \\n\")) for i in row.split(\",\")]\n",
    "        clean.append(temp)\n",
    "\n",
    "for points in clean:\n",
    "    p = (points[0], points[1])\n",
    "    q = (points[2], points[3])\n",
    "    print(calc_dist(p, q))"
   ]
  },
  {
   "cell_type": "code",
   "execution_count": 1,
   "metadata": {},
   "outputs": [
    {
     "ename": "NameError",
     "evalue": "name 'b' is not defined",
     "output_type": "error",
     "traceback": [
      "\u001b[1;31m---------------------------------------------------------------------------\u001b[0m",
      "\u001b[1;31mNameError\u001b[0m                                 Traceback (most recent call last)",
      "Cell \u001b[1;32mIn [1], line 5\u001b[0m\n\u001b[0;32m      2\u001b[0m     x \u001b[39m=\u001b[39m b()\n\u001b[0;32m      3\u001b[0m     \u001b[39mreturn\u001b[39;00m x\n\u001b[1;32m----> 5\u001b[0m \u001b[39mprint\u001b[39m(a())\n\u001b[0;32m      7\u001b[0m \u001b[39mdef\u001b[39;00m \u001b[39mb\u001b[39m():\n\u001b[0;32m      8\u001b[0m     \u001b[39mreturn\u001b[39;00m \u001b[39m5\u001b[39m\n",
      "Cell \u001b[1;32mIn [1], line 2\u001b[0m, in \u001b[0;36ma\u001b[1;34m()\u001b[0m\n\u001b[0;32m      1\u001b[0m \u001b[39mdef\u001b[39;00m \u001b[39ma\u001b[39m():\n\u001b[1;32m----> 2\u001b[0m     x \u001b[39m=\u001b[39m b()\n\u001b[0;32m      3\u001b[0m     \u001b[39mreturn\u001b[39;00m x\n",
      "\u001b[1;31mNameError\u001b[0m: name 'b' is not defined"
     ]
    }
   ],
   "source": [
    "def a():\n",
    "    x = b()\n",
    "    return x\n",
    "\n",
    "def b():\n",
    "    return 5\n",
    "\n",
    "a()"
   ]
  },
  {
   "cell_type": "code",
   "execution_count": 16,
   "metadata": {},
   "outputs": [
    {
     "name": "stdout",
     "output_type": "stream",
     "text": [
      "10\n",
      "['10', '8'] 18\n",
      "['10', '8', 'Q'] 28\n",
      "Dealer wins\n",
      "Player hand: ['10', '8', 'Q'], 28\n",
      "Dealers hand: ['10', '3'], 13\n",
      "A\n",
      "['J', '7'] 17\n",
      "Dealer wins\n",
      "Player hand: ['J', '7'], 17\n",
      "Dealers hand: ['A', 'J'], 21\n",
      "6\n",
      "['A', '3'] 14\n",
      "Dealer wins\n",
      "Player hand: ['A', '3'], 14\n",
      "Dealers hand: ['6', '9'], 15\n"
     ]
    }
   ],
   "source": [
    "import random as rnd\n",
    "\n",
    "def pull_card(deck: list) -> str:\n",
    "\t\"\"\"pulls random card from deck\"\"\"\n",
    "\tindex = rnd.randint(0, len(deck)-1)\n",
    "\tcard = deck[index]\n",
    "\tdeck.pop(index)\n",
    "\treturn card\n",
    "\n",
    "def get_hand_value(hand: list) -> int:\n",
    "\t\"\"\"calculates combined value of cards in hand\"\"\"\n",
    "\tsum_cards = 0\n",
    "\tfor key, value in card_value.items():\n",
    "\t\tfor item in hand:\n",
    "\t\t\tif item == key:\n",
    "\t\t\t\tsum_cards += value\n",
    "\t# converting aces from 11 to 1 in value if value of hand is too large\n",
    "\tif sum_cards > 21 and \"A\" in hand:\n",
    "\t\tfor i in (range(hand.count(\"A\"))):\n",
    "\t\t\tsum_cards -= 10\n",
    "\t\t\tif sum_cards <= 21:\n",
    "\t\t\t\tbreak\n",
    "\treturn sum_cards\n",
    "\n",
    "# create dictionary of symbols paired with their value\n",
    "card_value = {\n",
    "\"A\": 11,\n",
    "\"J\": 10,\n",
    "\"K\": 10,\n",
    "\"Q\": 10,\n",
    "\"2\": 2,\n",
    "\"3\": 3,\n",
    "\"4\": 4,\n",
    "\"5\": 5,\n",
    "\"6\": 6,\n",
    "\"7\": 7,\n",
    "\"8\": 8,\n",
    "\"9\": 9,\n",
    "\"10\": 10,\n",
    "}\n",
    "\n",
    "def play(decks: int = 1):\n",
    "# create a deck list of (decks) decks containing all 52 cards from each deck\n",
    "    deck = []\n",
    "    for i in range(4 * decks):\n",
    "        for key, value in card_value.items():\n",
    "            deck.append(key)\n",
    "\n",
    "    \n",
    "\t# initialize lists to hold the cards of players and dealers hand\n",
    "    my_hand = []\n",
    "    dealers_hand = []\n",
    "\t\n",
    "\t# dealer draws 2 cards\n",
    "    for i in range(2):\n",
    "        dealers_hand.append(pull_card(deck))\n",
    "\t\n",
    "\t# dealer shows first card drawn\n",
    "    print(dealers_hand[0])\n",
    "\n",
    "\t# player draws 2 cards\n",
    "    for i in range(2):\n",
    "        my_hand.append(pull_card(deck))\n",
    "\t\n",
    "\t# show players hand\n",
    "    print(my_hand, get_hand_value(my_hand))\n",
    "\t\n",
    "\t# player choses to pull more cards or stop\n",
    "    while True:\n",
    "        choice = input(\"\\\"H\\\" for hit, \\\"S\\\" for stay\").upper()\n",
    "        if choice == \"H\":\n",
    "            my_hand.append(pull_card(deck))\n",
    "            print(my_hand, get_hand_value(my_hand))\n",
    "            if get_hand_value(my_hand) > 21:\n",
    "                break\n",
    "        elif choice == \"S\":\n",
    "            break\n",
    "        else:\n",
    "            print(f\"Make sure to input \\\"H\\\" or \\\"S\\\", {choice} not accepted\")\n",
    "\t\n",
    "\t# print string based on who wins\n",
    "    if get_hand_value(my_hand) <= 21 and get_hand_value(my_hand) > get_hand_value(dealers_hand):\n",
    "        print(f\"Player wins\\nPlayer hand: {my_hand}, {get_hand_value(my_hand)}\\nDealers hand: {dealers_hand}, {get_hand_value(dealers_hand)}\")\n",
    "    else:\n",
    "        print(f\"Dealer wins\\nPlayer hand: {my_hand}, {get_hand_value(my_hand)}\\nDealers hand: {dealers_hand}, {get_hand_value(dealers_hand)}\")\n",
    "\n",
    "play()"
   ]
  },
  {
   "cell_type": "code",
   "execution_count": 17,
   "metadata": {},
   "outputs": [
    {
     "name": "stdout",
     "output_type": "stream",
     "text": [
      "1\n",
      "6\n",
      "4\n",
      "6\n",
      "2\n",
      "2\n",
      "2\n",
      "4\n",
      "3\n",
      "3\n"
     ]
    }
   ],
   "source": [
    "from random import randint\n",
    "import numpy as np\n",
    "## prints value 1,6 10 times \n",
    "values =  [1, 2, 3, 4, 5, 6]\n",
    "\n",
    "for i in range(10):\n",
    "    dicecast = np.random.choice(values)\n",
    "    print(dicecast)\n"
   ]
  },
  {
   "cell_type": "code",
   "execution_count": 18,
   "metadata": {},
   "outputs": [],
   "source": [
    "from __future__ import annotations\n",
    "from math import sqrt, pi, e\n",
    "import numpy as np\n",
    "import matplotlib.pyplot as plt\n",
    "\n",
    "class NormalDist:\n",
    "\tdef __init__(self, mu: float = 0, sigma: float = 1):\n",
    "\t\tself._mu = mu\n",
    "\t\tself._sigma = sigma\n",
    "\t\n",
    "\tdef pdf(self, x: float) -> float:\n",
    "\t\treturn (1/(self._sigma*sqrt(2*pi)))*e**(-(1/2)*((x - self._mu) / self._sigma)**2)\n",
    "\t\n",
    "\tdef plot_pdf(self, x: float, y: float):\n",
    "\t\tinterval = np.linspace(x, y)\n",
    "\t\tplt.plot(interval, self.pdf(interval))\n",
    "\n",
    "\tdef __add__(self, other: NormalDist) -> NormalDist:\n",
    "\t\treturn NormalDist(self._mu + other._mu, self._sigma + other._sigma)\n",
    "\n",
    "\tdef __repr__(self) -> str:\n",
    "\t\treturn f\"NormalDist(mu = {self._mu}, sigma = {self._sigma})\""
   ]
  },
  {
   "cell_type": "code",
   "execution_count": 21,
   "metadata": {},
   "outputs": [
    {
     "data": {
      "image/png": "[encoded data removed]",
      "text/plain": [
       "<Figure size 640x480 with 1 Axes>"
      ]
     },
     "metadata": {},
     "output_type": "display_data"
    }
   ],
   "source": [
    "a = NormalDist()\n",
    "b = NormalDist()\n",
    "\n",
    "c = a+b\n",
    "\n",
    "c.plot_pdf(-3, 3)\n",
    "a.plot_pdf(-3, 3)"
   ]
  },
  {
   "cell_type": "code",
   "execution_count": 30,
   "metadata": {},
   "outputs": [
    {
     "data": {
      "text/plain": [
       "1"
      ]
     },
     "execution_count": 30,
     "metadata": {},
     "output_type": "execute_result"
    }
   ],
   "source": [
    "# How to get amount of occurences of a specific value in a given list?\n",
    "l = [\"a\", \"b\", \"c\"]\n",
    "n = l.count(\"b\")\n",
    "n # -> 1"
   ]
  },
  {
   "cell_type": "code",
   "execution_count": null,
   "metadata": {},
   "outputs": [],
   "source": []
  }
 ],
 "metadata": {
  "kernelspec": {
   "display_name": "Python 3.9.13 ('Python-Andreas-Svensson-auhrha-j')",
   "language": "python",
   "name": "python3"
  },
  "language_info": {
   "codemirror_mode": {
    "name": "ipython",
    "version": 3
   },
   "file_extension": ".py",
   "mimetype": "text/x-python",
   "name": "python",
   "nbconvert_exporter": "python",
   "pygments_lexer": "ipython3",
   "version": "3.9.13"
  },
  "orig_nbformat": 4,
  "vscode": {
   "interpreter": {
    "hash": "6149506666022d674720335f5b0f4e3493733c1170117db235b3c2608a401ab1"
   }
  }
 },
 "nbformat": 4,
 "nbformat_minor": 2
}
