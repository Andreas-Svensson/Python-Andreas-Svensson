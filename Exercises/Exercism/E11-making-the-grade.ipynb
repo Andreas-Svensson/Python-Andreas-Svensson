{
 "cells": [
  {
   "cell_type": "markdown",
   "metadata": {},
   "source": [
    "solved in notepad as exam practice"
   ]
  },
  {
   "cell_type": "code",
   "execution_count": 1,
   "metadata": {},
   "outputs": [],
   "source": [
    "\"\"\"comment here\"\"\"\n",
    "\n",
    "\n",
    "def round_scores(student_scores: list) -> list:\n",
    "    \"\"\"comment here\"\"\"\n",
    "    rounded_scores = [round(score) for score in student_scores]\n",
    "    return rounded_scores\n",
    "\n",
    "\n",
    "def count_failed_students(student_scores: list) -> int:\n",
    "    \"\"\"comment here\"\"\"\n",
    "    amount_students = [\n",
    "        1 for score in student_scores if score <= 40\n",
    "    ]  # -> [1, 1, 1, 1, 1]\n",
    "    return sum(amount_students)\n",
    "\n",
    "\n",
    "def above_threshold(student_scores: list, threshold: int) -> list:\n",
    "    \"\"\"comment here\"\"\"\n",
    "    top_scores = [score for score in student_scores if score >= threshold]\n",
    "    return top_scores\n",
    "\n",
    "\n",
    "def letter_grades(highest: int) -> list:\n",
    "    \"\"\"comment here\"\"\"\n",
    "    step = (highest - 40) / 4\n",
    "    base = 41\n",
    "    score_list = [int(base + (step * counter)) for counter in range(4)]\n",
    "    return score_list\n",
    "\n",
    "\n",
    "def student_ranking(student_scores: list, student_names: str) -> list:\n",
    "    \"\"\"comment here\"\"\"\n",
    "    return_list = [\n",
    "        f\"{index+1}. {student_names[index]}: {score}\"\n",
    "        for index, score in enumerate(student_scores)\n",
    "    ]\n",
    "    return return_list\n",
    "\n",
    "\n",
    "def perfect_score(student_info: list) -> list:\n",
    "    \"\"\"comment here\"\"\"\n",
    "    for score in student_info:\n",
    "        if 100 in score:\n",
    "            return score\n",
    "    return []\n"
   ]
  }
 ],
 "metadata": {
  "kernelspec": {
   "display_name": "Python 3.9.13 ('Python-Andreas-Svensson-auhrha-j')",
   "language": "python",
   "name": "python3"
  },
  "language_info": {
   "codemirror_mode": {
    "name": "ipython",
    "version": 3
   },
   "file_extension": ".py",
   "mimetype": "text/x-python",
   "name": "python",
   "nbconvert_exporter": "python",
   "pygments_lexer": "ipython3",
   "version": "3.9.13"
  },
  "orig_nbformat": 4,
  "vscode": {
   "interpreter": {
    "hash": "6149506666022d674720335f5b0f4e3493733c1170117db235b3c2608a401ab1"
   }
  }
 },
 "nbformat": 4,
 "nbformat_minor": 2
}
