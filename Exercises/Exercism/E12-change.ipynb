{
 "cells": [
  {
   "cell_type": "markdown",
   "metadata": {},
   "source": [
    "Correctly determine the fewest number of coins to be given to a customer such that the sum of the coins' value would equal the correct amount of change.\n",
    "\n",
    "For example\n",
    "An input of 15 with [1, 5, 10, 25, 100] should return one nickel (5) and one dime (10) or [5, 10]\n",
    "An input of 40 with [1, 5, 10, 25, 100] should return one nickel (5) and one dime (10) and one quarter (25) or [5, 10, 25]\n",
    "Edge cases\n",
    "Does your algorithm work for any given set of coins?\n",
    "Can you ask for negative change?\n",
    "Can you ask for a change value smaller than the smallest coin value?\n",
    "Exception messages\n",
    "Sometimes it is necessary to raise an exception. When you do this, you should always include a meaningful error message to indicate what the source of the error is. This makes your code more readable and helps significantly with debugging. For situations where you know that the error source will be a certain type, you can choose to raise one of the built in error types, but should still include a meaningful message.\n",
    "\n",
    "This particular exercise requires that you use the raise statement to \"throw\" a ValueError when change cannot be made with the coins given. The tests will only pass if you both raise the exception and include a message with it.\n",
    "\n",
    "To raise a ValueError with a message, write the message as an argument to the exception type:\n",
    "\n",
    "# example when change cannot be made with the coins passed in\n",
    "raise ValueError(\"can't make target with given coins\")"
   ]
  },
  {
   "cell_type": "code",
   "execution_count": 62,
   "metadata": {},
   "outputs": [],
   "source": [
    "from __future__ import annotations\n",
    "from xml.dom import ValidationErr\n",
    "\n",
    "def find_fewest_coins(coins: (int | float), target: list) -> list:\n",
    "    # coins is int or float\n",
    "    if not isinstance(coins, (int, float)):\n",
    "        raise TypeError(f\"Coins must be a number, not {type(coins).__name__}\")\n",
    "    # coins is not negative\n",
    "    if coins < 0:\n",
    "        raise ValueError(f\"Coins must be greater than zero, not {coins}\")\n",
    "    # target is list\n",
    "    if type(target) != list:\n",
    "        raise TypeError(f\"Target must be a list, not {type(target).__name__}\")\n",
    "    # target contains only int or float\n",
    "    # target constains only values greater than 0\n",
    "    for index, value in enumerate(target):\n",
    "        if not isinstance(value, (int, float)):\n",
    "            raise TypeError(f\"Target must contain numbers, value at index {index} ({value}) is not accepted\")\n",
    "        if value <= 0:\n",
    "            raise ValueError(f\"Target must contain values over 0, value at index {index} ({value}) not accepted\")\n",
    "\n",
    "    # return_list = []\n",
    "    # for index, value in enumerate(target):\n",
    "    #     if index+1 == len(target) and coins != 0:\n",
    "    #         return_list.append(coins // value)\n",
    "    #     else:\n",
    "    #         count = coins % target[index + 1]\n",
    "    #         for i in range(count // value):\n",
    "    #             return_list.append(value)\n",
    "    #         coins -= count\n",
    "    # return return_list\n",
    "\n",
    "    return_list = []\n",
    "    for value in reversed(target):\n",
    "        while True:\n",
    "            if (coins - value) >= 0:\n",
    "                coins -= value\n",
    "                return_list.append(value)\n",
    "            else:\n",
    "                break\n",
    "    return return_list[::-1]\n"
   ]
  },
  {
   "cell_type": "code",
   "execution_count": 63,
   "metadata": {},
   "outputs": [
    {
     "data": {
      "text/plain": [
       "[25, 25, 25, 10, 10, 1, 1, 1, 1]"
      ]
     },
     "execution_count": 63,
     "metadata": {},
     "output_type": "execute_result"
    }
   ],
   "source": [
    "find_fewest_coins(99, [1, 5, 10, 25, 100])"
   ]
  }
 ],
 "metadata": {
  "kernelspec": {
   "display_name": "Python 3.9.13 ('Python-Andreas-Svensson-auhrha-j')",
   "language": "python",
   "name": "python3"
  },
  "language_info": {
   "codemirror_mode": {
    "name": "ipython",
    "version": 3
   },
   "file_extension": ".py",
   "mimetype": "text/x-python",
   "name": "python",
   "nbconvert_exporter": "python",
   "pygments_lexer": "ipython3",
   "version": "3.9.13"
  },
  "orig_nbformat": 4,
  "vscode": {
   "interpreter": {
    "hash": "6149506666022d674720335f5b0f4e3493733c1170117db235b3c2608a401ab1"
   }
  }
 },
 "nbformat": 4,
 "nbformat_minor": 2
}
