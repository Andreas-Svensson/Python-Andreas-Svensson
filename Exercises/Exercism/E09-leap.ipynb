{
 "cells": [
  {
   "cell_type": "markdown",
   "metadata": {},
   "source": [
    "Given a year, report if it is a leap year.  \n",
    "\n",
    "The tricky thing here is that a leap year in the Gregorian calendar occurs:  \n",
    "\n",
    "on every year that is evenly divisible by 4  \n",
    "  except every year that is evenly divisible by 100  \n",
    "    unless the year is also evenly divisible by 400  \n",
    "\n",
    "For example, 1997 is not a leap year, but 1996 is. 1900 is not a leap year, but 2000 is.  "
   ]
  },
  {
   "cell_type": "code",
   "execution_count": 9,
   "metadata": {},
   "outputs": [],
   "source": [
    "\"\"\"Leap year calculator\"\"\"\n",
    "\n",
    "def leap_year(year: int) -> bool:\n",
    "    \"\"\"Checks if leap year\"\"\"\n",
    "    if year % 4 == 0 and year % 100 == 0 and year % 400 == 0:\n",
    "        return True\n",
    "    if year % 4 == 0 and year % 100 == 0:\n",
    "        return False\n",
    "    if year % 4 == 0:\n",
    "        return True\n",
    "    return False\n"
   ]
  }
 ],
 "metadata": {
  "kernelspec": {
   "display_name": "Python 3.9.13 ('Python-Andreas-Svensson-mdnrE2EN')",
   "language": "python",
   "name": "python3"
  },
  "language_info": {
   "codemirror_mode": {
    "name": "ipython",
    "version": 3
   },
   "file_extension": ".py",
   "mimetype": "text/x-python",
   "name": "python",
   "nbconvert_exporter": "python",
   "pygments_lexer": "ipython3",
   "version": "3.9.13"
  },
  "orig_nbformat": 4,
  "vscode": {
   "interpreter": {
    "hash": "ce5ca73635e776ed4a4fa3650670807b72bb0d2e4957ff61281a0d117b023fd0"
   }
  }
 },
 "nbformat": 4,
 "nbformat_minor": 2
}
