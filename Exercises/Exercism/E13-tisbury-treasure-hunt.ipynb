{
 "cells": [
  {
   "cell_type": "markdown",
   "metadata": {},
   "source": [
    "1. Extract coordinates\n",
    "Implement the get_coordinate() function that takes a (treasure, coordinate) pair from Azara's list and returns only the extracted map coordinate.\n",
    "\n",
    ">>> get_coordinate(('Scrimshawed Whale Tooth', '2A'))\n",
    "2A"
   ]
  },
  {
   "cell_type": "code",
   "execution_count": 2,
   "metadata": {},
   "outputs": [],
   "source": [
    "def get_coordinate(record: tuple) -> str:\n",
    "    return record[1]"
   ]
  },
  {
   "cell_type": "markdown",
   "metadata": {},
   "source": [
    "Format coordinates\n",
    "\n",
    "Implement the convert_coordinate() function that takes a coordinate in the format \"2A\" and returns a tuple in the format (\"2\", \"A\").\n",
    "\n",
    ">>> convert_coordinate(\"2A\")\n",
    "(\"2\", \"A\")"
   ]
  },
  {
   "cell_type": "code",
   "execution_count": null,
   "metadata": {},
   "outputs": [],
   "source": [
    "def convert_coordinate(coordinate: str) -> tuple:\n",
    "    numbers = sum(1 for character in coordinate if character.isdigit())\n",
    "    return (coordinate[0:numbers-1], coordinate[numbers::])"
   ]
  },
  {
   "cell_type": "markdown",
   "metadata": {},
   "source": [
    "Match coordinates\n",
    "\n",
    "Implement the compare_records() function that takes a (treasure, coordinate) pair and a (location, coordinate, quadrant) record and compares coordinates from each. Return True if the coordinates \"match\", and return False if they do not. Re-format coordinates as needed for accurate comparison.\n",
    "\n",
    ">>> compare_records(('Brass Spyglass', '4B'), ('Seaside Cottages', ('1', 'C'), 'blue'))\n",
    "False\n",
    "\n",
    ">>> compare_records(('Model Ship in Large Bottle', '8A'), ('Harbor Managers Office', ('8', 'A'), 'purple'))\n",
    "True"
   ]
  },
  {
   "cell_type": "code",
   "execution_count": null,
   "metadata": {},
   "outputs": [],
   "source": [
    "def compare_records(azara_record: tuple, rui_record: tuple) -> bool:\n",
    "    # azara: (treasure, coordinate)\n",
    "    # rui: (location, coordinate, quadrant)\n",
    "    # convert_coordinate(\"4B\") -> (\"4\", \"B\")\n",
    "    # (\"4\", \"B\") == (\"1\", \"C\")\n",
    "    if convert_coordinate(azara_record[1]) == rui_record[1]:\n",
    "        return True\n",
    "    return False"
   ]
  },
  {
   "cell_type": "markdown",
   "metadata": {},
   "source": [
    "Combine matched records\n",
    "\n",
    "Implement the create_record() function that takes a (treasure, coordinate) pair from Azara's list and a (location, coordinate, quadrant) record from Rui's list and returns (treasure, coordinate, location, coordinate, quadrant) if the coordinates match. If the coordinates do not match, return the string \"not a match\". Re-format the coordinate as needed for accurate comparison.\n",
    "\n",
    ">>> create_record(('Brass Spyglass', '4B'), ('Abandoned Lighthouse', ('4', 'B'), 'Blue'))\n",
    "('Brass Spyglass', '4B', 'Abandoned Lighthouse', ('4', 'B'), 'Blue')\n",
    "\n",
    ">>> create_record(('Brass Spyglass', '4B'), (('1', 'C'), 'Seaside Cottages', 'blue'))\n",
    "\"not a match\""
   ]
  },
  {
   "cell_type": "code",
   "execution_count": null,
   "metadata": {},
   "outputs": [],
   "source": [
    "def create_record(azara_record: tuple, rui_record: tuple) -> bool:\n",
    "    # azara: (treasure, coordinate)\n",
    "    # rui: (location, coordinate, quadrant)\n",
    "    if compare_records(azara_record, rui_record):\n",
    "        return (azara_record[0], azara_record[1], rui_record[0], rui_record[1], rui_record[2])\n",
    "    return \"not a match\""
   ]
  },
  {
   "cell_type": "markdown",
   "metadata": {},
   "source": [
    "\"Clean up\" & make a report of all records\n",
    "\n",
    "Clean up the combined records from Azara and Rui so that there's only one set of coordinates per record. Make a report so they can see one list of everything they need to put on their maps. Implement the clean_up() function that takes a tuple of tuples (everything from both lists), looping through the outer tuple, dropping the unwanted coordinates from each inner tuple and adding each to a 'report'. Format and return the 'report' so that there is one cleaned record on each line.\n",
    "\n",
    ">>> clean_up((('Brass Spyglass', '4B', 'Abandoned Lighthouse', ('4', 'B'), 'Blue'), ('Vintage Pirate Hat', '7E', 'Quiet Inlet (Island of Mystery)', ('7', 'E'), 'Orange'), ('Crystal Crab', '6A', 'Old Schooner', ('6', 'A'), 'Purple')))\n",
    "\n",
    "\"\"\"\n",
    "('Brass Spyglass', 'Abandoned Lighthouse', ('4', 'B'), 'Blue')\\n\n",
    "('Vintage Pirate Hat', 'Quiet Inlet (Island of Mystery)', ('7', 'E'), 'Orange')\\n\n",
    "('Crystal Crab', 'Old Schooner', ('6', 'A'), 'Purple')\\n\n",
    "\"\"\""
   ]
  },
  {
   "cell_type": "code",
   "execution_count": null,
   "metadata": {},
   "outputs": [],
   "source": [
    "def clean_up(combined_record_group: tuple) -> str:\n",
    "    "
   ]
  }
 ],
 "metadata": {
  "kernelspec": {
   "display_name": "Python 3.9.13 ('Python-Andreas-Svensson-auhrha-j')",
   "language": "python",
   "name": "python3"
  },
  "language_info": {
   "codemirror_mode": {
    "name": "ipython",
    "version": 3
   },
   "file_extension": ".py",
   "mimetype": "text/x-python",
   "name": "python",
   "nbconvert_exporter": "python",
   "pygments_lexer": "ipython3",
   "version": "3.9.13"
  },
  "orig_nbformat": 4,
  "vscode": {
   "interpreter": {
    "hash": "6149506666022d674720335f5b0f4e3493733c1170117db235b3c2608a401ab1"
   }
  }
 },
 "nbformat": 4,
 "nbformat_minor": 2
}
