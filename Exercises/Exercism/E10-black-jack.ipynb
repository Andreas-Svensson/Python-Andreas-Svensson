{
 "cells": [
  {
   "cell_type": "markdown",
   "metadata": {},
   "source": [
    "In Blackjack, it is up to each individual player if an ace is worth 1 or 11 points (more on that later). Face cards (J, Q, K) are scored at 10 points and any other card is worth its \"pip\" (numerical) value.\n",
    "\n",
    "Define the value_of_card(<card>) function with parameter card. The function should return the numerical value of the passed-in card string. Since an ace can take on multiple values (1 or 11), this function should fix the value of an ace card at 1 for the time being. Later on, you will implement a function to determine the value of an ace card, given an existing hand.\n",
    "\n",
    ">>> value_of_card('K')\n",
    "10\n",
    "\n",
    ">>> value_of_card('4')\n",
    "4\n",
    "\n",
    ">>> value_of_card('A')\n",
    "1"
   ]
  },
  {
   "cell_type": "code",
   "execution_count": 89,
   "metadata": {},
   "outputs": [],
   "source": [
    "\"\"\"comment\"\"\"\n",
    "\n",
    "def value_of_card(card: str) -> int:\n",
    "    \"\"\"comment\"\"\"\n",
    "    card_value_list = [\n",
    "    (\"1\", 1),\n",
    "    (\"2\", 2),\n",
    "    (\"3\", 3),\n",
    "    (\"4\", 4),\n",
    "    (\"5\", 5),\n",
    "    (\"6\", 6),\n",
    "    (\"7\", 7),\n",
    "    (\"8\", 8),\n",
    "    (\"9\", 9),\n",
    "    (\"10\", 10),\n",
    "    (\"J\", 10),\n",
    "    (\"Q\", 10),\n",
    "    (\"K\", 10),\n",
    "    (\"A\", 1)\n",
    "    ]\n",
    "\n",
    "    for element in card_value_list:\n",
    "        if element[0] == card:\n",
    "            return element[1]\n",
    "    return None\n",
    "\n",
    "def higher_card(card_one: str, card_two: str) -> int:\n",
    "    \"\"\"comment\"\"\"\n",
    "    if value_of_card(card_one) > value_of_card(card_two):\n",
    "        return card_one\n",
    "    if value_of_card(card_two) > value_of_card(card_one):\n",
    "        return card_two\n",
    "    return card_one, card_two\n",
    "\n",
    "def value_of_ace(card_one: str, card_two:str) -> int:\n",
    "    \"\"\"comment\"\"\"\n",
    "    sum_cards = value_of_card(card_one) + value_of_card(card_two)\n",
    "    if card_one == \"A\" or card_two == \"A\":\n",
    "        sum_cards += 10\n",
    "    if sum_cards + 11 <= 21:\n",
    "        return 11\n",
    "    return 1\n",
    "\n",
    "def is_blackjack(card_one: str, card_two: str) -> bool:\n",
    "    \"\"\"comment\"\"\"\n",
    "    sum_cards = value_of_card(card_one) + value_of_card(card_two)\n",
    "    if card_one == \"A\" or card_two == \"A\":\n",
    "        sum_cards += 10\n",
    "    if sum_cards == 21:\n",
    "        return True\n",
    "    return False\n",
    "\n",
    "def can_split_pairs(card_one: str, card_two: str) -> bool:\n",
    "    \"\"\"comment\"\"\"\n",
    "    if value_of_card(card_one) == value_of_card(card_two):\n",
    "        return True\n",
    "    return False\n",
    "\n",
    "def can_double_down(card_one: str, card_two: str) -> bool:\n",
    "    \"\"\"comment\"\"\"\n",
    "    if 9 <= value_of_card(card_one) + value_of_card(card_two) <= 11:\n",
    "        return True\n",
    "    return False\n"
   ]
  },
  {
   "cell_type": "markdown",
   "metadata": {},
   "source": [
    "Define the higher_card(<card_one>, <card_two>) function having parameters card_one and card_two. For scoring purposes, the value of J, Q or K is 10. The function should return which card has the higher value for scoring. If both cards have an equal value, return both. Returning both cards can be done by using a comma in the return statement:\n",
    "\n",
    "# Using a comma in a return creates a Tuple.  Tuples will be covered in a later exercise.\n",
    ">>> def returning_two_values(value_one, value_two):\n",
    "        return value_one, value_two\n",
    "\n",
    ">>> returning_two_values('K', '3')\n",
    "('K', '3')\n",
    "An ace can take on multiple values, so we will fix A cards to a value of 1 for this task.\n",
    "\n",
    ">>> higher_card('K', '10')\n",
    "('K', '10')\n",
    "\n",
    ">>> higher_card('4', '6')\n",
    "'6'\n",
    "\n",
    ">>> higher_card('K', 'A')\n",
    "'K'"
   ]
  },
  {
   "cell_type": "code",
   "execution_count": 90,
   "metadata": {},
   "outputs": [],
   "source": [
    "def higher_card(card_one: str, card_two: str) -> int:\n",
    "    if value_of_card(card_one) > value_of_card(card_two):\n",
    "        return card_one\n",
    "    if value_of_card(card_two) > value_of_card(card_one):\n",
    "        return card_two\n",
    "    return card_one, card_two"
   ]
  },
  {
   "cell_type": "markdown",
   "metadata": {},
   "source": [
    "As mentioned before, an ace can be worth either 1 or 11 points. Players try to get as close as possible to a score of 21, without going over 21 (going \"bust\").\n",
    "\n",
    "Define the value_of_ace(<card_one>, <card_two>) function with parameters card_one and card_two, which are a pair of cards already in the hand before getting an ace card. Your function will have to decide if the upcoming ace will get a value of 1 or a value of 11, and return that value. Remember: the value of the hand with the ace needs to be as high as possible without going over 21.\n",
    "\n",
    "Hint: if we already have an ace in hand then its value would be 11.\n",
    "\n",
    ">>> value_of_ace('6', 'K')\n",
    "1\n",
    "\n",
    ">>> value_of_ace('7', '3')\n",
    "11"
   ]
  },
  {
   "cell_type": "code",
   "execution_count": 91,
   "metadata": {},
   "outputs": [],
   "source": [
    "def value_of_ace(card_one: str, card_two:str) -> int:\n",
    "    sum_cards = value_of_card(card_one) + value_of_card(card_two)\n",
    "    if card_one == \"A\" or card_two == \"A\":\n",
    "        sum_cards += 10\n",
    "    if sum_cards + 11 <= 21:\n",
    "        return 11\n",
    "    return 1"
   ]
  },
  {
   "cell_type": "markdown",
   "metadata": {},
   "source": [
    "If the first two cards a player is dealt are an ace (A) and a ten-card (10, K, Q or J), giving a score of 21 in two cards, the hand is considered a natural or blackjack.\n",
    "\n",
    "Define the is_blackjack(<card_one>, <card_two>) function with parameters card_one and card_two, which are a pair of cards. Determine if the two-card hand is a blackjack, and return the boolean True if it is, False otherwise.\n",
    "\n",
    "Note : The score calculation can be done in many ways. But if possible, we'd like you to check if there is an ace and a ten-card in the hand (or at a certain position), as opposed to summing the hand values.\n",
    "\n",
    ">>> is_blackjack('A', 'K')\n",
    "True\n",
    "\n",
    ">>> is_blackjack('10', '9')\n",
    "False"
   ]
  },
  {
   "cell_type": "code",
   "execution_count": 92,
   "metadata": {},
   "outputs": [],
   "source": [
    "def is_blackjack(card_one: str, card_two: str) -> bool:\n",
    "    if value_of_card(card_one) + value_of_card(card_two) == 21:\n",
    "        return True\n",
    "    return False"
   ]
  },
  {
   "cell_type": "markdown",
   "metadata": {},
   "source": [
    "If the players first two cards are of the same value, such as two sixes, or a Q and K a player may choose to treat them as two separate hands. This is known as \"splitting pairs\".\n",
    "\n",
    "Define the can_split_pairs(<card_one>, <card_two>) function with parameters card_one and card_two, which are a pair of cards. Determine if this two-card hand can be split into two pairs. If the hand can be split, return the boolean True otherwise, return False\n",
    "\n",
    ">>> can_split_pairs('Q', 'K')\n",
    "True\n",
    "\n",
    ">>> can_split_pairs('10', 'A')\n",
    "False"
   ]
  },
  {
   "cell_type": "code",
   "execution_count": 93,
   "metadata": {},
   "outputs": [],
   "source": [
    "def can_split_pairs(card_one: str, card_two: str) -> bool:\n",
    "    if value_of_card(card_one) == value_of_card(card_two):\n",
    "        return True\n",
    "    return False"
   ]
  },
  {
   "cell_type": "markdown",
   "metadata": {},
   "source": [
    "When the original two cards dealt total 9, 10, or 11 points, a player can place an additional bet equal to their original bet. This is known as \"doubling down\".\n",
    "\n",
    "Define the can_double_down(<card_one>, <card_two>) function with parameters card_one and card_two, which are a pair of cards. Determine if the two-card hand can be \"doubled down\", and return the boolean True if it can, False otherwise.\n",
    "\n",
    ">>> can_double_down('A', '9')\n",
    "True\n",
    "\n",
    ">>> can_double_down('10', '2')\n",
    "False"
   ]
  },
  {
   "cell_type": "code",
   "execution_count": 95,
   "metadata": {},
   "outputs": [
    {
     "data": {
      "text/plain": [
       "False"
      ]
     },
     "execution_count": 95,
     "metadata": {},
     "output_type": "execute_result"
    }
   ],
   "source": [
    "def can_double_down(card_one: str, card_two: str) -> bool:\n",
    "    if 9 <= value_of_card(card_one) + value_of_card(card_two) <= 11:\n",
    "        return True\n",
    "    return False"
   ]
  },
  {
   "cell_type": "code",
   "execution_count": null,
   "metadata": {},
   "outputs": [],
   "source": []
  }
 ],
 "metadata": {
  "kernelspec": {
   "display_name": "Python 3.9.13 ('Python-Andreas-Svensson-mdnrE2EN')",
   "language": "python",
   "name": "python3"
  },
  "language_info": {
   "codemirror_mode": {
    "name": "ipython",
    "version": 3
   },
   "file_extension": ".py",
   "mimetype": "text/x-python",
   "name": "python",
   "nbconvert_exporter": "python",
   "pygments_lexer": "ipython3",
   "version": "3.9.13"
  },
  "orig_nbformat": 4,
  "vscode": {
   "interpreter": {
    "hash": "ce5ca73635e776ed4a4fa3650670807b72bb0d2e4957ff61281a0d117b023fd0"
   }
  }
 },
 "nbformat": 4,
 "nbformat_minor": 2
}
