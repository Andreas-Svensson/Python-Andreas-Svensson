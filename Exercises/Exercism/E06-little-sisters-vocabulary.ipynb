{
 "cells": [
  {
   "cell_type": "markdown",
   "metadata": {},
   "source": [
    "One of the most common prefixes in English is un, meaning \"not\".  \n",
    "In this activity, your sister needs to make negative, or \"not\" words by adding un to them.\n",
    "\n",
    "Implement the add_prefix_un() function that takes word as a parameter and returns a new un prefixed word:\n",
    "\n",
    ">>> add_prefix_un(\"happy\")\n",
    "'unhappy'\n",
    "\n",
    ">>> add_prefix_un(\"manageable\")\n",
    "'unmanageable'"
   ]
  },
  {
   "cell_type": "code",
   "execution_count": 85,
   "metadata": {},
   "outputs": [],
   "source": [
    "\"\"\"Adds and removes prefix and suffix from words\"\"\"\n",
    "\n",
    "def add_prefix_un(word: str) -> str:\n",
    "    \"\"\"Adds prefix 'un' to word\"\"\"\n",
    "    return \"un\" + word\n",
    "\n",
    "def make_word_groups(vocab_words: list) -> str:\n",
    "    \"\"\"Adds <prefix> to words in list\"\"\"\n",
    "    result = vocab_words[0]\n",
    "    for index, element in enumerate(vocab_words):\n",
    "        if index > 0:\n",
    "            result += \" :: \" + vocab_words[0] + element\n",
    "    return result\n",
    "\n",
    "def remove_suffix_ness(word: str) -> str:\n",
    "    \"\"\"Removes suffix and conjugate words in list\"\"\"\n",
    "    if word[-5] == \"i\":\n",
    "        return word.replace(\"iness\", \"y\") # heaviness - iness + y = heavy\n",
    "    return word.replace(\"ness\", \"\") # sadness - ness = sad\n",
    "\n",
    "def adjective_to_verb(sentence: str, index: int) -> str:\n",
    "    \"\"\"Transform adjective to verb\"\"\"\n",
    "    word_list = sentence.split()\n",
    "    return word_list[index].strip(\".\") + \"en\"\n"
   ]
  },
  {
   "cell_type": "markdown",
   "metadata": {},
   "source": [
    "There are four more common prefixes that your sister's class is studying: en (meaning to 'put into' or 'cover with'), pre (meaning 'before' or 'forward'), auto (meaning 'self' or 'same'), and inter (meaning 'between' or 'among').\n",
    "\n",
    "In this exercise, the class is creating groups of vocabulary words using these prefixes, so they can be studied together. Each prefix comes in a list with common words it's used with. The students need to apply the prefix and produce a string that shows the prefix applied to all of the words.\n",
    "\n",
    "Implement the make_word_groups(<vocab_words>) function that takes a vocab_words as a parameter in the following form: [<prefix>, <word_1>, <word_2> .... <word_n>], and returns a string with the prefix applied to each word that looks like: '<prefix> :: <prefix><word_1> :: <prefix><word_2> :: <prefix><word_n>'.\n",
    "\n",
    ">>> make_word_groups(['en', 'close', 'joy', 'lighten'])\n",
    "'en :: enclose :: enjoy :: enlighten'\n",
    "\n",
    ">>> make_word_groups(['pre', 'serve', 'dispose', 'position'])\n",
    "'pre :: preserve :: predispose :: preposition'\n",
    "\n",
    ">> make_word_groups(['auto', 'didactic', 'graph', 'mate'])\n",
    "'auto :: autodidactic :: autograph :: automate'\n",
    "\n",
    ">>> make_word_groups(['inter', 'twine', 'connected', 'dependent'])\n",
    "'inter :: intertwine :: interconnected :: interdependent'"
   ]
  },
  {
   "cell_type": "code",
   "execution_count": 86,
   "metadata": {},
   "outputs": [],
   "source": [
    "def make_word_groups(vocab_words: list) -> str:\n",
    "    result = vocab_words[0]\n",
    "    for i in range(len(vocab_words)):\n",
    "        if i > 0:\n",
    "            result += \" :: \" + vocab_words[0] + vocab_words[i]\n",
    "    return result\n"
   ]
  },
  {
   "cell_type": "markdown",
   "metadata": {},
   "source": [
    "ness is a common suffix that means 'state of being'. In this activity, your sister needs to find the original root word by removing the ness suffix. But of course there are pesky spelling rules: If the root word originally ended in a consonant followed by a 'y', then the 'y' was changed to 'i'. Removing 'ness' needs to restore the 'y' in those root words. e.g. happiness --> happi --> happy.\n",
    "\n",
    "Implement the remove_suffix_ness(<word>) function that takes in a word str, and returns the root word without the ness suffix.\n",
    "\n",
    ">>> remove_suffix_ness(\"heaviness\")\n",
    "'heavy'\n",
    "\n",
    ">>> remove_suffix_ness(\"sadness\")\n",
    "'sad'"
   ]
  },
  {
   "cell_type": "code",
   "execution_count": 87,
   "metadata": {},
   "outputs": [],
   "source": [
    "def remove_suffix_ness(word: str) -> str:\n",
    "    if word[-5] == \"i\":\n",
    "        return word.replace(\"iness\", \"y\") # heaviness - iness + y = heavy\n",
    "    else:\n",
    "        return word.replace(\"ness\", \"\") # sadness - ness = sad\n"
   ]
  },
  {
   "cell_type": "markdown",
   "metadata": {},
   "source": [
    "Suffixes are often used to change the part of speech a word has. A common practice in English is \"verbing\" or \"verbifying\" -- where an adjective becomes a verb by adding an en suffix.\n",
    "\n",
    "In this task, your sister is going to practice \"verbing\" words by extracting an adjective from a sentence and turning it into a verb. Fortunately, all the words that need to be transformed here are \"regular\" - they don't need spelling changes to add the suffix.\n",
    "\n",
    "Implement the adjective_to_verb(<sentence>, <index>) function that takes two parameters. A sentence using the vocabulary word, and the index of the word, once that sentence is split apart. The function should return the extracted adjective as a verb.\n",
    "\n",
    ">>> adjective_to_verb('I need to make that bright.', -1 )\n",
    "'brighten'\n",
    "\n",
    ">>> §adjective_to_verb('It got dark as the sun set.', 2)\n",
    "'darken'"
   ]
  },
  {
   "cell_type": "code",
   "execution_count": 88,
   "metadata": {},
   "outputs": [],
   "source": [
    "def adjective_to_verb(sentence: str, index: int) -> str:\n",
    "    word_list = sentence.split()\n",
    "    return word_list[index].strip(\".\") + \"en\""
   ]
  }
 ],
 "metadata": {
  "kernelspec": {
   "display_name": "Python 3.9.13 ('Python-Andreas-Svensson-mdnrE2EN')",
   "language": "python",
   "name": "python3"
  },
  "language_info": {
   "codemirror_mode": {
    "name": "ipython",
    "version": 3
   },
   "file_extension": ".py",
   "mimetype": "text/x-python",
   "name": "python",
   "nbconvert_exporter": "python",
   "pygments_lexer": "ipython3",
   "version": "3.9.13"
  },
  "orig_nbformat": 4,
  "vscode": {
   "interpreter": {
    "hash": "ce5ca73635e776ed4a4fa3650670807b72bb0d2e4957ff61281a0d117b023fd0"
   }
  }
 },
 "nbformat": 4,
 "nbformat_minor": 2
}
