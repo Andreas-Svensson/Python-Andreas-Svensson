{
 "cells": [
  {
   "cell_type": "markdown",
   "metadata": {},
   "source": [
    "## 1. Find errors (*)\n",
    "\n",
    "Find the errors in this code to compute the distance between the point $(x,y)$ and the origin in a cartesian coordinate system.\n",
    "\n",
    "```python\n",
    "impor numpy as np\n",
    "\n",
    "def distance(x,y)\n",
    "    reurn np.sqrt(x+y)\n",
    "\n",
    "print(distance([0.5, 0.5]))\n",
    "\n",
    "```"
   ]
  },
  {
   "cell_type": "code",
   "execution_count": 7,
   "metadata": {},
   "outputs": [
    {
     "name": "stdout",
     "output_type": "stream",
     "text": [
      "0.7071067811865476\n"
     ]
    }
   ],
   "source": [
    "# impor -> import\n",
    "# reurn -> return\n",
    "# ':' after function def\n",
    "# only one input, list of 2 elements\n",
    "# logical error in math formula -> np.sqrt((x**2) + (y**2))\n",
    "\n",
    "import numpy as np\n",
    "\n",
    "def distance(x,y):\n",
    "    return np.sqrt((x**2) + (y**2))\n",
    "\n",
    "print(distance(0.5, 0.5))"
   ]
  },
  {
   "cell_type": "markdown",
   "metadata": {},
   "source": [
    "## 2. Find errors (*)\n",
    "\n",
    "Find the errors in this code. Just change the function, don't touch the test program.\n",
    "\n",
    "```python\n",
    "\n",
    "def is_fourdigit(number):\n",
    "    if number//1000 < 10\n",
    "        return true\n",
    "    else \n",
    "        return false\n",
    "\n",
    "# test program\n",
    "test_numbers = [231, 3124, -4124, -1000,-999, 1001, 10000, -10000, 999]\n",
    "\n",
    "for number in test_numbers:\n",
    "    if is_fourdigit(number):\n",
    "        print(f\"{number} is four-digit\")\n",
    "    else:\n",
    "        print(f\"{number} is not four-digit\")\n",
    "\n",
    "```"
   ]
  },
  {
   "cell_type": "code",
   "execution_count": 39,
   "metadata": {},
   "outputs": [
    {
     "name": "stdout",
     "output_type": "stream",
     "text": [
      "231 is not four-digit\n",
      "3124 is four-digit\n",
      "-4124 is four-digit\n",
      "-1000 is four-digit\n",
      "-999 is not four-digit\n",
      "1001 is four-digit\n",
      "10000 is not four-digit\n",
      "-10000 is not four-digit\n",
      "999 is not four-digit\n"
     ]
    }
   ],
   "source": [
    "# true / false -> True / False\n",
    "# ':' after if / else\n",
    "# only checks for larger numbers, not smaller, add \"0 <\" to if-statement\n",
    "# floor works differently on positive and negative numbers, convert negative numbers to positive for the if-statement check -> convert number to its positive equivalent by using sqrt((number)**2)\n",
    "from math import sqrt\n",
    "\n",
    "def is_fourdigit(number):\n",
    "    if 0 < sqrt((number)**2)//1000 < 10:\n",
    "        return True\n",
    "    else:\n",
    "        return False\n",
    "\n",
    "# test program\n",
    "test_numbers = [231, 3124, -4124, -1000,-999, 1001, 10000, -10000, 999]\n",
    "\n",
    "for number in test_numbers:\n",
    "    if is_fourdigit(number):\n",
    "        print(f\"{number} is four-digit\")\n",
    "    else:\n",
    "        print(f\"{number} is not four-digit\")"
   ]
  },
  {
   "cell_type": "markdown",
   "metadata": {},
   "source": [
    "## 3. Tram (*)  \n",
    "Kokchun is a clumpsy computer user that doesn't take trams too often. Write a program to prompt the user for:\n",
    "\n",
    "- number of times he/she wants to take tram in one month  \n",
    "- cost for one ticket  \n",
    "- cost for monthly card  \n",
    "\n",
    "The program should calculate if it's worth for him to buy monthly card or not. Make the program user friendly with clear error messages and ask again in case of input errors."
   ]
  },
  {
   "cell_type": "code",
   "execution_count": 59,
   "metadata": {},
   "outputs": [
    {
     "name": "stdout",
     "output_type": "stream",
     "text": [
      "Trips: 20, Ticket cost: 35, Card cost: 710\n",
      "\n",
      "It's cheaper to buy individual tickets!\n",
      "You would save $10 per month\n"
     ]
    }
   ],
   "source": [
    "def optimal_ticket_calc():\n",
    "    \"\"\"\n",
    "    prompts user for input -> returns string containing information about optimal (cheapest) ticket purchase\n",
    "    \"\"\"\n",
    "    while True: # trips per month input loop:\n",
    "        trips_per_month = input(\"Enter how many times per month you would like to travel: \")\n",
    "        try:\n",
    "            trips_per_month = float(trips_per_month) # can be converted to float\n",
    "            if trips_per_month <= 0: # if negative or 0:\n",
    "                print(f\"{trips_per_month} is not above 0, please enter again\") # prompt to enter a positive number\n",
    "            else: # input is OK:\n",
    "                break # break loop and continue with program\n",
    "        except ValueError as err: # unable to convert to float:\n",
    "            print(f\"{err}, please enter a valid number\") # print error with prompt to enter new number\n",
    "\n",
    "    while True: # ticket cost input loop:\n",
    "        ticket_cost = input(\"Enter cost of single ticket: \")\n",
    "        try:\n",
    "            ticket_cost = float(ticket_cost) # can be converted to float\n",
    "            if ticket_cost <= 0: # if negative or 0:\n",
    "                print(f\"{ticket_cost} is not above 0, please enter again\") # prompt to enter a positive number\n",
    "            else: # input is OK:\n",
    "                break # break loop and continue with program\n",
    "        except ValueError as err: # unable to convert to float:\n",
    "            print(f\"{err}, please enter a valid number\") # print error with prompt to enter new number\n",
    "\n",
    "    while True: # card cost input loop:\n",
    "        card_cost = input(\"Enter cost of monthly card: \")\n",
    "        try:\n",
    "            card_cost = float(card_cost) # can be converted to float\n",
    "            if card_cost <= 0: # if negative or 0:\n",
    "                print(f\"{card_cost} is not above 0, please enter again\") # prompt to enter a positive number\n",
    "            else: # input is OK:\n",
    "                break # break loop and continue with program\n",
    "        except ValueError as err: # unable to convert to float:\n",
    "            print(f\"{err}, please enter a valid number\") # print error with prompt to enter new number\n",
    "\n",
    "    monthly_ticket_cost = (trips_per_month * ticket_cost) # calculate monthly_ticket cost\n",
    "\n",
    "    if trips_per_month * ticket_cost < card_cost: # if ticket is cheaper, return string:\n",
    "        return f\"Trips: {trips_per_month:.0f}, Ticket cost: {ticket_cost:.0f}, Card cost: {card_cost:.0f}\\n\\nIt's cheaper to buy individual tickets!\\nYou would save ${card_cost - monthly_ticket_cost:.0f} per month\"\n",
    "    else:  # if card is cheaper, return string:\n",
    "        return f\"Trips: {trips_per_month:.0f}, Ticket cost: {ticket_cost:.0f}, Card cost: {card_cost:.0f}\\n\\nIt's cheaper to buy a monthly card!\\nYou would save ${monthly_ticket_cost - card_cost:.0f} per month\"\n",
    "\n",
    "print(optimal_ticket_calc()) # call function and print return value"
   ]
  }
 ],
 "metadata": {
  "kernelspec": {
   "display_name": "Python 3.9.13 ('Python-Andreas-Svensson-mdnrE2EN')",
   "language": "python",
   "name": "python3"
  },
  "language_info": {
   "codemirror_mode": {
    "name": "ipython",
    "version": 3
   },
   "file_extension": ".py",
   "mimetype": "text/x-python",
   "name": "python",
   "nbconvert_exporter": "python",
   "pygments_lexer": "ipython3",
   "version": "3.9.13"
  },
  "orig_nbformat": 4,
  "vscode": {
   "interpreter": {
    "hash": "ce5ca73635e776ed4a4fa3650670807b72bb0d2e4957ff61281a0d117b023fd0"
   }
  }
 },
 "nbformat": 4,
 "nbformat_minor": 2
}
