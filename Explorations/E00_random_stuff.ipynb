{
 "cells": [
  {
   "cell_type": "code",
   "execution_count": 71,
   "metadata": {},
   "outputs": [
    {
     "data": {
      "text/plain": [
       "array([[1., 2., 0., 0.],\n",
       "       [3., 4., 0., 0.],\n",
       "       [0., 0., 0., 0.],\n",
       "       [0., 0., 0., 0.]])"
      ]
     },
     "execution_count": 71,
     "metadata": {},
     "output_type": "execute_result"
    }
   ],
   "source": [
    "# code from https://stackoverflow.com/questions/66896138/python-numpy-insert-2d-array-into-bigger-2d-array-on-given-posiiton user: Elmahy\n",
    "import numpy as np\n",
    "\n",
    "big = np.zeros((4, 4))\n",
    "\n",
    "to_insert_arr = np.array([\n",
    "    [1, 2],\n",
    "    [3, 4]\n",
    "])\n",
    "\n",
    "def insert_at(big_arr, pos, to_insert_arr):\n",
    "    x1 = pos[0]\n",
    "    y1 = pos[1]\n",
    "    x2 = x1 + to_insert_arr.shape[0]\n",
    "    y2 = y1 + to_insert_arr.shape[1]\n",
    "\n",
    "    assert x2  <= big.shape[0], \"the position will make the small matrix exceed the boundaries at x\"\n",
    "    assert y2  <= big.shape[1], \"the position will make the small matrix exceed the boundaries at y\"\n",
    "\n",
    "    big[x1:x2,y1:y2] = to_insert_arr\n",
    "\n",
    "    return big\n",
    "    \n",
    "\n",
    "\n",
    "result = insert_at(big, (0, 0), to_insert_arr)\n",
    "result"
   ]
  },
  {
   "cell_type": "code",
   "execution_count": 72,
   "metadata": {},
   "outputs": [],
   "source": [
    "import numpy as np"
   ]
  },
  {
   "cell_type": "code",
   "execution_count": 73,
   "metadata": {},
   "outputs": [],
   "source": [
    "def move_tetromino(board, pos, tetromino):\n",
    "    \"\"\"Inserts tetromino in copy of board at pos\"\"\"\n",
    "    x1 = pos[0]\n",
    "    y1 = pos[1]\n",
    "    x2 = x1 + tetromino.shape[0]\n",
    "    y2 = y1 + tetromino.shape[1]\n",
    "\n",
    "    assert x2  <= board.shape[0], \"the position will make the small matrix exceed the boundaries at x\"\n",
    "    assert y2  <= board.shape[1], \"the position will make the small matrix exceed the boundaries at y\"\n",
    "\n",
    "    new_board = np.array(board) # needs to be array() to point to different location\n",
    "    new_board[x1:x2,y1:y2] = tetromino\n",
    "\n",
    "    return new_board # returns new board, TODO: update board = new board when tetromino is locked in place"
   ]
  },
  {
   "cell_type": "code",
   "execution_count": 74,
   "metadata": {},
   "outputs": [],
   "source": [
    "board = np.zeros((20, 10))                      # board (10x20 ((20x10)))\n",
    "square = np.ones((2, 2))                        # Square-shape\n",
    "line = np.ones((4, 1))                          # Line-shape\n",
    "T, T[1, 0], T[1, 2] = np.ones((2, 3)), 0, 0     # T-shape\n",
    "L1, L1[0:2, 1] = np.ones((3, 2)), 0             # L-shape one\n",
    "L2, L2[0:2, 0] = np.ones((3, 2)), 0             # L-shape two\n",
    "Z1, Z1[0, 0], Z1[1, 2] = np.ones((2, 3)), 0, 0  # Z-shape one\n",
    "Z2, Z2[1, 0], Z2[0, 2] = np.ones((2, 3)), 0, 0  # Z-shape two\n",
    "\n",
    "position = (0, 4)"
   ]
  },
  {
   "cell_type": "code",
   "execution_count": 75,
   "metadata": {},
   "outputs": [
    {
     "name": "stdout",
     "output_type": "stream",
     "text": [
      "[[0. 0. 0. 0. 1. 1. 0. 0. 0. 0.]\n",
      " [0. 0. 0. 0. 1. 1. 0. 0. 0. 0.]\n",
      " [0. 0. 0. 0. 0. 0. 0. 0. 0. 0.]\n",
      " [0. 0. 0. 0. 0. 0. 0. 0. 0. 0.]\n",
      " [0. 0. 0. 0. 0. 0. 0. 0. 0. 0.]] \n",
      "\n",
      "[[0. 0. 0. 0. 1. 0. 0. 0. 0. 0.]\n",
      " [0. 0. 0. 0. 1. 0. 0. 0. 0. 0.]\n",
      " [0. 0. 0. 0. 1. 0. 0. 0. 0. 0.]\n",
      " [0. 0. 0. 0. 1. 0. 0. 0. 0. 0.]\n",
      " [0. 0. 0. 0. 0. 0. 0. 0. 0. 0.]]\n"
     ]
    }
   ],
   "source": [
    "board = np.zeros((5, 10))\n",
    "\n",
    "temp_board = move_tetromino(board, position, square)\n",
    "print(temp_board, \"\\n\")\n",
    "\n",
    "temp_board = move_tetromino(board, position, line)\n",
    "print(temp_board)"
   ]
  },
  {
   "cell_type": "code",
   "execution_count": null,
   "metadata": {},
   "outputs": [],
   "source": []
  }
 ],
 "metadata": {
  "kernelspec": {
   "display_name": "Python 3.9.13 ('Python-Andreas-Svensson-mdnrE2EN')",
   "language": "python",
   "name": "python3"
  },
  "language_info": {
   "codemirror_mode": {
    "name": "ipython",
    "version": 3
   },
   "file_extension": ".py",
   "mimetype": "text/x-python",
   "name": "python",
   "nbconvert_exporter": "python",
   "pygments_lexer": "ipython3",
   "version": "3.9.13"
  },
  "orig_nbformat": 4,
  "vscode": {
   "interpreter": {
    "hash": "ce5ca73635e776ed4a4fa3650670807b72bb0d2e4957ff61281a0d117b023fd0"
   }
  }
 },
 "nbformat": 4,
 "nbformat_minor": 2
}
