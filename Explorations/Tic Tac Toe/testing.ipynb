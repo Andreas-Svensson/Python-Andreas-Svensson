{
 "cells": [
  {
   "cell_type": "code",
   "execution_count": 2,
   "metadata": {},
   "outputs": [
    {
     "name": "stdout",
     "output_type": "stream",
     "text": [
      "Input not accepted, enter in format: \"x, y\"\n",
      "Input not accepted, enter in format: \"x, y\"\n",
      "Input not accepted, enter in format: \"x, y\"\n",
      "Input not accepted, enter in format: \"x, y\"\n",
      "Input not accepted, enter in format: \"x, y\"\n",
      "Input not accepted, enter in format: \"x, y\"\n",
      "Input not accepted, enter in format: \"x, y\"\n",
      "Input not accepted, enter in format: \"x, y\"\n",
      "Input not accepted, enter in format: \"x, y\"\n",
      "Input not accepted, enter in format: \"x, y\"\n",
      "Input not accepted, enter in format: \"x, y\"\n",
      "Input not accepted, enter in format: \"x, y\"\n",
      "Input not accepted, enter in format: \"x, y\"\n",
      "Input not accepted, enter in format: \"x, y\"\n",
      "Input not accepted, enter in format: \"x, y\"\n",
      "Input not accepted, enter in format: \"x, y\"\n",
      "Input not accepted, enter in format: \"x, y\"\n",
      "Input not accepted, enter in format: \"x, y\"\n",
      "Input not accepted, enter in format: \"x, y\"\n",
      "Input not accepted, enter in format: \"x, y\"\n",
      "Input not accepted, enter in format: \"x, y\"\n",
      "Input not accepted, enter in format: \"x, y\"\n",
      "Input not accepted, enter in format: \"x, y\"\n",
      "Input not accepted, enter in format: \"x, y\"\n",
      "Input not accepted, enter in format: \"x, y\"\n",
      "Input not accepted, enter in format: \"x, y\"\n",
      "Input not accepted, enter in format: \"x, y\"\n",
      "Input not accepted, enter in format: \"x, y\"\n",
      "Input not accepted, enter in format: \"x, y\"\n",
      "Input not accepted, enter in format: \"x, y\"\n",
      "Input not accepted, enter in format: \"x, y\"\n",
      "Input not accepted, enter in format: \"x, y\"\n",
      "Input not accepted, enter in format: \"x, y\"\n",
      "Input not accepted, enter in format: \"x, y\"\n",
      "Input not accepted, enter in format: \"x, y\"\n",
      "Input not accepted, enter in format: \"x, y\"\n",
      "Input not accepted, enter in format: \"x, y\"\n"
     ]
    },
    {
     "ename": "KeyboardInterrupt",
     "evalue": "Interrupted by user",
     "output_type": "error",
     "traceback": [
      "\u001b[1;31m---------------------------------------------------------------------------\u001b[0m",
      "\u001b[1;31mKeyboardInterrupt\u001b[0m                         Traceback (most recent call last)",
      "Cell \u001b[1;32mIn [2], line 15\u001b[0m\n\u001b[0;32m     13\u001b[0m \u001b[39mif\u001b[39;00m turn \u001b[39m>\u001b[39m\u001b[39m=\u001b[39m board_size\u001b[39m*\u001b[39m\u001b[39m*\u001b[39m\u001b[39m2\u001b[39m:\n\u001b[0;32m     14\u001b[0m     \u001b[39mbreak\u001b[39;00m\n\u001b[1;32m---> 15\u001b[0m placement \u001b[39m=\u001b[39m \u001b[39minput\u001b[39;49m(\u001b[39m\"\u001b[39;49m\u001b[39mEnter the coordinate to place a mark in\u001b[39;49m\u001b[39m\"\u001b[39;49m)\n\u001b[0;32m     16\u001b[0m \u001b[39mif\u001b[39;00m \u001b[39m\"\u001b[39m\u001b[39m,\u001b[39m\u001b[39m\"\u001b[39m \u001b[39min\u001b[39;00m placement:\n\u001b[0;32m     17\u001b[0m     x, y \u001b[39m=\u001b[39m placement\u001b[39m.\u001b[39msplit(\u001b[39m\"\u001b[39m\u001b[39m,\u001b[39m\u001b[39m\"\u001b[39m)\n",
      "File \u001b[1;32mc:\\Users\\Andre\\.virtualenvs\\Python-Andreas-Svensson-auhrha-j\\lib\\site-packages\\ipykernel\\kernelbase.py:1177\u001b[0m, in \u001b[0;36mKernel.raw_input\u001b[1;34m(self, prompt)\u001b[0m\n\u001b[0;32m   1173\u001b[0m \u001b[39mif\u001b[39;00m \u001b[39mnot\u001b[39;00m \u001b[39mself\u001b[39m\u001b[39m.\u001b[39m_allow_stdin:\n\u001b[0;32m   1174\u001b[0m     \u001b[39mraise\u001b[39;00m StdinNotImplementedError(\n\u001b[0;32m   1175\u001b[0m         \u001b[39m\"\u001b[39m\u001b[39mraw_input was called, but this frontend does not support input requests.\u001b[39m\u001b[39m\"\u001b[39m\n\u001b[0;32m   1176\u001b[0m     )\n\u001b[1;32m-> 1177\u001b[0m \u001b[39mreturn\u001b[39;00m \u001b[39mself\u001b[39;49m\u001b[39m.\u001b[39;49m_input_request(\n\u001b[0;32m   1178\u001b[0m     \u001b[39mstr\u001b[39;49m(prompt),\n\u001b[0;32m   1179\u001b[0m     \u001b[39mself\u001b[39;49m\u001b[39m.\u001b[39;49m_parent_ident[\u001b[39m\"\u001b[39;49m\u001b[39mshell\u001b[39;49m\u001b[39m\"\u001b[39;49m],\n\u001b[0;32m   1180\u001b[0m     \u001b[39mself\u001b[39;49m\u001b[39m.\u001b[39;49mget_parent(\u001b[39m\"\u001b[39;49m\u001b[39mshell\u001b[39;49m\u001b[39m\"\u001b[39;49m),\n\u001b[0;32m   1181\u001b[0m     password\u001b[39m=\u001b[39;49m\u001b[39mFalse\u001b[39;49;00m,\n\u001b[0;32m   1182\u001b[0m )\n",
      "File \u001b[1;32mc:\\Users\\Andre\\.virtualenvs\\Python-Andreas-Svensson-auhrha-j\\lib\\site-packages\\ipykernel\\kernelbase.py:1219\u001b[0m, in \u001b[0;36mKernel._input_request\u001b[1;34m(self, prompt, ident, parent, password)\u001b[0m\n\u001b[0;32m   1216\u001b[0m             \u001b[39mbreak\u001b[39;00m\n\u001b[0;32m   1217\u001b[0m \u001b[39mexcept\u001b[39;00m \u001b[39mKeyboardInterrupt\u001b[39;00m:\n\u001b[0;32m   1218\u001b[0m     \u001b[39m# re-raise KeyboardInterrupt, to truncate traceback\u001b[39;00m\n\u001b[1;32m-> 1219\u001b[0m     \u001b[39mraise\u001b[39;00m \u001b[39mKeyboardInterrupt\u001b[39;00m(\u001b[39m\"\u001b[39m\u001b[39mInterrupted by user\u001b[39m\u001b[39m\"\u001b[39m) \u001b[39mfrom\u001b[39;00m \u001b[39mNone\u001b[39m\n\u001b[0;32m   1220\u001b[0m \u001b[39mexcept\u001b[39;00m \u001b[39mException\u001b[39;00m:\n\u001b[0;32m   1221\u001b[0m     \u001b[39mself\u001b[39m\u001b[39m.\u001b[39mlog\u001b[39m.\u001b[39mwarning(\u001b[39m\"\u001b[39m\u001b[39mInvalid Message:\u001b[39m\u001b[39m\"\u001b[39m, exc_info\u001b[39m=\u001b[39m\u001b[39mTrue\u001b[39;00m)\n",
      "\u001b[1;31mKeyboardInterrupt\u001b[0m: Interrupted by user"
     ]
    }
   ],
   "source": [
    "import numpy as np\n",
    "import matplotlib.pyplot as plt\n",
    "from IPython.display import clear_output\n",
    "\n",
    "board_size = 3\n",
    "board = np.array([([\" \"]*board_size)]*board_size)\n",
    "\n",
    "# for i in range(3):\n",
    "#     board[-(i+1),i] = \"o\"\n",
    "turn = 0\n",
    "\n",
    "while True:\n",
    "    if turn >= board_size**2:\n",
    "        break\n",
    "    placement = input(\"Enter the coordinate to place a mark in\")\n",
    "    if \",\" in placement:\n",
    "        x, y = placement.split(\",\")\n",
    "        if x.isdigit() and y.isdigit():\n",
    "            x, y = int(x), int(y)\n",
    "            if 0 <= x < board_size and 0 <= y < board_size and board[x,y] == \" \":\n",
    "                turn += 1\n",
    "                board[x,y] = \"o\" if turn%2 else \"x\"\n",
    "                clear_output(wait=True)\n",
    "                print(board)\n",
    "    else:\n",
    "        print(\"Input not accepted, enter in format: \\\"x, y\\\"\")"
   ]
  },
  {
   "cell_type": "code",
   "execution_count": 3,
   "metadata": {},
   "outputs": [
    {
     "data": {
      "text/plain": [
       "array([[0, 1, 2],\n",
       "       [3, 4, 5],\n",
       "       [6, 7, 8]])"
      ]
     },
     "execution_count": 3,
     "metadata": {},
     "output_type": "execute_result"
    }
   ],
   "source": [
    "import numpy as np\n",
    "a = np.arange(9).reshape(3,3)"
   ]
  },
  {
   "cell_type": "code",
   "execution_count": 10,
   "metadata": {},
   "outputs": [
    {
     "ename": "TypeError",
     "evalue": "_diagonal_dispatcher() got an unexpected keyword argument 'flip'",
     "output_type": "error",
     "traceback": [
      "\u001b[1;31m---------------------------------------------------------------------------\u001b[0m",
      "\u001b[1;31mTypeError\u001b[0m                                 Traceback (most recent call last)",
      "Cell \u001b[1;32mIn [10], line 1\u001b[0m\n\u001b[1;32m----> 1\u001b[0m np\u001b[39m.\u001b[39;49mdiagonal(a, offset\u001b[39m=\u001b[39;49m\u001b[39m-\u001b[39;49m\u001b[39m2\u001b[39;49m, flip\u001b[39m=\u001b[39;49m\u001b[39mTrue\u001b[39;49;00m)\n",
      "File \u001b[1;32m<__array_function__ internals>:179\u001b[0m, in \u001b[0;36mdiagonal\u001b[1;34m(*args, **kwargs)\u001b[0m\n",
      "\u001b[1;31mTypeError\u001b[0m: _diagonal_dispatcher() got an unexpected keyword argument 'flip'"
     ]
    }
   ],
   "source": [
    "np.diagonal(a, offset=-2)"
   ]
  },
  {
   "cell_type": "code",
   "execution_count": 6,
   "metadata": {},
   "outputs": [
    {
     "data": {
      "text/plain": [
       "array([[' ', ' ', ' ', ' ', ' ', ' ', ' '],\n",
       "       [' ', ' ', ' ', ' ', ' ', ' ', ' '],\n",
       "       [' ', ' ', ' ', ' ', ' ', ' ', ' '],\n",
       "       [' ', ' ', ' ', ' ', ' ', ' ', ' '],\n",
       "       [' ', ' ', ' ', ' ', ' ', ' ', ' '],\n",
       "       [' ', ' ', ' ', ' ', ' ', ' ', ' '],\n",
       "       [' ', ' ', ' ', ' ', ' ', ' ', ' ']], dtype='<U1')"
      ]
     },
     "execution_count": 6,
     "metadata": {},
     "output_type": "execute_result"
    }
   ],
   "source": [
    "board_size = 7\n",
    "board = np.array([([\" \"]*board_size)]*board_size)\n",
    "board"
   ]
  },
  {
   "cell_type": "code",
   "execution_count": null,
   "metadata": {},
   "outputs": [],
   "source": []
  }
 ],
 "metadata": {
  "kernelspec": {
   "display_name": "Python 3.9.13 ('Python-Andreas-Svensson-auhrha-j')",
   "language": "python",
   "name": "python3"
  },
  "language_info": {
   "codemirror_mode": {
    "name": "ipython",
    "version": 3
   },
   "file_extension": ".py",
   "mimetype": "text/x-python",
   "name": "python",
   "nbconvert_exporter": "python",
   "pygments_lexer": "ipython3",
   "version": "3.9.13"
  },
  "orig_nbformat": 4,
  "vscode": {
   "interpreter": {
    "hash": "6149506666022d674720335f5b0f4e3493733c1170117db235b3c2608a401ab1"
   }
  }
 },
 "nbformat": 4,
 "nbformat_minor": 2
}
