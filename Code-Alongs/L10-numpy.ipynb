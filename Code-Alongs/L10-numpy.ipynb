{
 "cells": [
  {
   "cell_type": "markdown",
   "metadata": {},
   "source": [
    "# numpy"
   ]
  },
  {
   "cell_type": "code",
   "execution_count": 6,
   "metadata": {},
   "outputs": [
    {
     "name": "stdout",
     "output_type": "stream",
     "text": [
      "[1, 2, 3]\n",
      "[1, 2, 3, 1, 2, 3]\n"
     ]
    }
   ],
   "source": [
    "numbers_list = [1, 2, 3]\n",
    "print(numbers_list)\n",
    "\n",
    "numbers_list = numbers_list*2 # equals itself cloned twice\n",
    "print(numbers_list)"
   ]
  },
  {
   "cell_type": "code",
   "execution_count": 7,
   "metadata": {},
   "outputs": [
    {
     "name": "stdout",
     "output_type": "stream",
     "text": [
      "[1, 'one', True, 2.3]\n"
     ]
    }
   ],
   "source": [
    "# in a list we can place different data types\n",
    "mixed_list = [1, \"one\", True, 2.3] # dynamic typing in python\n",
    "\"\"\"\n",
    "element in the list is an object, it has information on what type it is (attributes)\n",
    "this requires some overhead, which slows down the program\n",
    "\n",
    "note that when we have one data type, it is unnecessary to have this overhead\n",
    "\"\"\"\n",
    "print(mixed_list)"
   ]
  },
  {
   "cell_type": "code",
   "execution_count": 24,
   "metadata": {},
   "outputs": [
    {
     "name": "stdout",
     "output_type": "stream",
     "text": [
      "[2 5 1]\n",
      "[ 4 10  2]\n",
      "vector1 + 2 = array([4, 7, 3])\n",
      "\n",
      "vector1[1] = 5\n",
      "vector1[-1] = 1\n",
      "vector1[1:] = array([5, 1])\n",
      "[  2 999   1]\n",
      "\n",
      "Sorted: [  1   2 999]\n",
      "vector1.sum() = 1002\n",
      "vector1.mean() = 334.0\n"
     ]
    }
   ],
   "source": [
    "# in numpy we have statically typed\n",
    "import numpy as np\n",
    "\n",
    "# create an array from a list\n",
    "vector1 = np.array([2, 5, 1])\n",
    "print(vector1)\n",
    "\n",
    "vector2 = vector1 * 2 # element wise multiplication\n",
    "print(vector2)\n",
    "\n",
    "print(f\"{vector1 + 2 = }\") # object datatype is array\n",
    "\n",
    "print(f\"\\n{vector1[1] = }\")   # indexing\n",
    "print(f\"{vector1[-1] = }\")  # last element\n",
    "print(f\"{vector1[1:] = }\")  # slicing\n",
    "\n",
    "vector1[1] = 999\n",
    "print(vector1)\n",
    "\n",
    "\n",
    "# NOTE!\n",
    "# cannot append to array - can't change size\n",
    "# cannot have different datatypes in an array\n",
    "\n",
    "vector1.sort()\n",
    "print(f\"\\nSorted: {vector1}\")\n",
    "\n",
    "# sum\n",
    "print(f\"{vector1.sum() = }\")\n",
    "print(f\"{vector1.mean() = }\")"
   ]
  },
  {
   "cell_type": "code",
   "execution_count": null,
   "metadata": {},
   "outputs": [],
   "source": [
    "# NOTE!\n",
    "# vectors are much faster\n",
    "# don't work with loops when working with numpy"
   ]
  },
  {
   "cell_type": "code",
   "execution_count": 33,
   "metadata": {},
   "outputs": [
    {
     "name": "stdout",
     "output_type": "stream",
     "text": [
      "ones_vector = array([1., 1., 1., 1., 1., 1., 1., 1., 1., 1.])\n",
      "[[1. 1. 1.]\n",
      " [1. 1. 1.]\n",
      " [1. 1. 1.]]\n",
      "[[ 1.  1.  1.]\n",
      " [ 1.  1.  1.]\n",
      " [ 1. 10.  1.]]\n"
     ]
    }
   ],
   "source": [
    "ones_vector = np.ones(10)\n",
    "print(f\"{ones_vector = }\")\n",
    "\n",
    "# 2d array of shape (3, 3)\n",
    "matrix_3x3 = np.ones((3, 3))\n",
    "print(f\"{matrix_3x3}\")\n",
    "\n",
    "# [row, index] - count from 0\n",
    "matrix_3x3[2, 1] = 10 # 3rd row, 2nd element = 10\n",
    "\n",
    "print(matrix_3x3)"
   ]
  },
  {
   "cell_type": "code",
   "execution_count": 35,
   "metadata": {},
   "outputs": [
    {
     "data": {
      "text/plain": [
       "array([[0., 0., 0., 0., 0.],\n",
       "       [0., 0., 0., 0., 0.]])"
      ]
     },
     "execution_count": 35,
     "metadata": {},
     "output_type": "execute_result"
    }
   ],
   "source": [
    "np.zeros((2, 5))"
   ]
  },
  {
   "cell_type": "code",
   "execution_count": 37,
   "metadata": {},
   "outputs": [
    {
     "name": "stdout",
     "output_type": "stream",
     "text": [
      "(3, 3)\n"
     ]
    },
    {
     "data": {
      "text/plain": [
       "array([ 1., 10.,  1.])"
      ]
     },
     "execution_count": 37,
     "metadata": {},
     "output_type": "execute_result"
    }
   ],
   "source": [
    "print(matrix_3x3.shape)"
   ]
  },
  {
   "cell_type": "code",
   "execution_count": null,
   "metadata": {},
   "outputs": [],
   "source": [
    "# skalär - tal, , matris - två dimensioner, tensor - flera dimensioner"
   ]
  },
  {
   "cell_type": "code",
   "execution_count": 40,
   "metadata": {},
   "outputs": [
    {
     "name": "stdout",
     "output_type": "stream",
     "text": [
      "[ 1. 10.  1.]\n",
      "[ 1.  1. 10.]\n",
      "[ 2. 11. 11.]\n"
     ]
    }
   ],
   "source": [
    "print(matrix_3x3[2, :]) # whole row 3\n",
    "print(matrix_3x3[:, 1]) # whole column 2\n",
    "\n",
    "print(matrix_3x3[2, :] + matrix_3x3[:, 1]) # add row 3 with column 2"
   ]
  },
  {
   "cell_type": "markdown",
   "metadata": {},
   "source": [
    "## dice simulations with numpy\n"
   ]
  },
  {
   "cell_type": "code",
   "execution_count": 46,
   "metadata": {},
   "outputs": [
    {
     "data": {
      "text/plain": [
       "array([2, 6, 4, 2, 1, 6, 1, 2, 3, 6, 3, 4, 1, 4, 4, 2, 4, 2, 4, 3, 2, 3,\n",
       "       2, 6, 5, 4, 4, 5, 4, 6, 6, 4, 5, 2, 4, 3, 2, 3, 3, 4, 2, 1, 5, 2,\n",
       "       2, 2, 2, 4, 2, 1, 1, 4, 6, 1, 1, 3, 1, 3, 6, 4, 1, 4, 6, 6, 1, 3,\n",
       "       2, 3, 6, 2, 1, 4, 2, 5, 2, 1, 4, 6, 2, 5, 1, 3, 3, 1, 2, 3, 3, 3,\n",
       "       5, 4, 4, 2, 6, 2, 6, 2, 3, 2, 2, 6])"
      ]
     },
     "execution_count": 46,
     "metadata": {},
     "output_type": "execute_result"
    }
   ],
   "source": [
    "import matplotlib.pyplot as plt\n",
    "\n",
    "dices = np.random.randint(1, 7, 100)\n",
    "dices"
   ]
  },
  {
   "cell_type": "code",
   "execution_count": 48,
   "metadata": {},
   "outputs": [
    {
     "name": "stdout",
     "output_type": "stream",
     "text": [
      "(50,)\n"
     ]
    },
    {
     "data": {
      "text/plain": [
       "array([-5.        , -4.79591837, -4.59183673, -4.3877551 , -4.18367347,\n",
       "       -3.97959184, -3.7755102 , -3.57142857, -3.36734694, -3.16326531,\n",
       "       -2.95918367, -2.75510204, -2.55102041, -2.34693878, -2.14285714,\n",
       "       -1.93877551, -1.73469388, -1.53061224, -1.32653061, -1.12244898,\n",
       "       -0.91836735, -0.71428571, -0.51020408, -0.30612245, -0.10204082,\n",
       "        0.10204082,  0.30612245,  0.51020408,  0.71428571,  0.91836735,\n",
       "        1.12244898,  1.32653061,  1.53061224,  1.73469388,  1.93877551,\n",
       "        2.14285714,  2.34693878,  2.55102041,  2.75510204,  2.95918367,\n",
       "        3.16326531,  3.36734694,  3.57142857,  3.7755102 ,  3.97959184,\n",
       "        4.18367347,  4.3877551 ,  4.59183673,  4.79591837,  5.        ])"
      ]
     },
     "execution_count": 48,
     "metadata": {},
     "output_type": "execute_result"
    }
   ],
   "source": [
    "x = np.linspace(-5, 5) # default: 50 equally spaced numbers between low and high\n",
    "print(x.shape)\n",
    "x"
   ]
  },
  {
   "cell_type": "code",
   "execution_count": 51,
   "metadata": {},
   "outputs": [
    {
     "name": "stdout",
     "output_type": "stream",
     "text": [
      "[-235.         -206.23247966 -179.86191978 -155.78632203 -133.90368809\n",
      " -114.11201965  -96.3093184   -80.39358601  -66.26282416  -53.81503455\n",
      "  -42.94821885  -33.56037875  -25.54951593  -18.81363208  -13.25072886\n",
      "   -8.75880798   -5.23587111   -2.57991993   -0.68895613    0.53901861\n",
      "    1.2060026     1.41399417    1.26499163    0.86099329    0.30399748\n",
      "   -0.30399748   -0.86099329   -1.26499163   -1.41399417   -1.2060026\n",
      "   -0.53901861    0.68895613    2.57991993    5.23587111    8.75880798\n",
      "   13.25072886   18.81363208   25.54951593   33.56037875   42.94821885\n",
      "   53.81503455   66.26282416   80.39358601   96.3093184   114.11201965\n",
      "  133.90368809  155.78632203  179.86191978  206.23247966  235.        ]\n"
     ]
    },
    {
     "data": {
      "image/png": "[encoded data removed]",
      "text/plain": [
       "<Figure size 640x480 with 1 Axes>"
      ]
     },
     "metadata": {},
     "output_type": "display_data"
    }
   ],
   "source": [
    "x = np.linspace(-5, 5) # default: 50 equally spaced numbers between low and high\n",
    "f = lambda x: 2*x**3-3*x\n",
    "\n",
    "print(f(x))\n",
    "plt.plot(x, f(x));"
   ]
  },
  {
   "cell_type": "code",
   "execution_count": 56,
   "metadata": {},
   "outputs": [
    {
     "name": "stdout",
     "output_type": "stream",
     "text": [
      "[-3.         -2.79591837 -2.59183673 -2.3877551  -2.18367347 -1.97959184\n",
      " -1.7755102  -1.57142857 -1.36734694 -1.16326531 -0.95918367 -0.75510204\n",
      " -0.55102041 -0.34693878 -0.14285714  0.06122449  0.26530612  0.46938776\n",
      "  0.67346939  0.87755102  1.08163265  1.28571429  1.48979592  1.69387755\n",
      "  1.89795918  2.10204082  2.30612245  2.51020408  2.71428571  2.91836735\n",
      "  3.12244898  3.32653061  3.53061224  3.73469388  3.93877551  4.14285714\n",
      "  4.34693878  4.55102041  4.75510204  4.95918367  5.16326531  5.36734694\n",
      "  5.57142857  5.7755102   5.97959184  6.18367347  6.3877551   6.59183673\n",
      "  6.79591837  7.        ]\n"
     ]
    },
    {
     "data": {
      "image/png": "[encoded data removed]",
      "text/plain": [
       "<Figure size 640x480 with 1 Axes>"
      ]
     },
     "metadata": {},
     "output_type": "display_data"
    }
   ],
   "source": [
    "x = np.linspace(-5, 5) # default: 50 equally spaced numbers between low and high\n",
    "f = lambda x: x+2 # same as: def f(x): return x + 2\n",
    "g = lambda x: -x\n",
    "\n",
    "print(f(x))\n",
    "plt.plot(x, f(x));\n",
    "plt.plot(x, g(x));"
   ]
  },
  {
   "cell_type": "code",
   "execution_count": 53,
   "metadata": {},
   "outputs": [
    {
     "data": {
      "text/plain": [
       "array([0, 1, 2, 3, 4, 5, 6, 7, 8, 9])"
      ]
     },
     "execution_count": 53,
     "metadata": {},
     "output_type": "execute_result"
    }
   ],
   "source": [
    "np.arange(10) # array 0-9"
   ]
  },
  {
   "cell_type": "markdown",
   "metadata": {},
   "source": [
    "## performance"
   ]
  },
  {
   "cell_type": "code",
   "execution_count": 64,
   "metadata": {},
   "outputs": [
    {
     "name": "stdout",
     "output_type": "stream",
     "text": [
      "591 ms ± 4.63 ms per loop (mean ± std. dev. of 7 runs, 1 loop each)\n"
     ]
    }
   ],
   "source": [
    "%%timeit\n",
    "import random as rnd\n",
    "\n",
    "number_dices = 1_000_000\n",
    "\n",
    "many_dices = []\n",
    "\n",
    "for dice in range(number_dices):\n",
    "    many_dices.append(rnd.randint(1, 6))"
   ]
  },
  {
   "cell_type": "code",
   "execution_count": 65,
   "metadata": {},
   "outputs": [
    {
     "name": "stdout",
     "output_type": "stream",
     "text": [
      "562 ms ± 2.31 ms per loop (mean ± std. dev. of 7 runs, 1 loop each)\n"
     ]
    }
   ],
   "source": [
    "%%timeit\n",
    "import random as rnd\n",
    "\n",
    "number_dices = 1_000_000\n",
    "\n",
    "many_dices = [rnd.randint(1, 6) for dice in range(number_dices)]"
   ]
  },
  {
   "cell_type": "code",
   "execution_count": 69,
   "metadata": {},
   "outputs": [
    {
     "name": "stdout",
     "output_type": "stream",
     "text": [
      "8.24 ms ± 41.3 µs per loop (mean ± std. dev. of 7 runs, 100 loops each)\n"
     ]
    }
   ],
   "source": [
    "%%timeit\n",
    "import random as rnd\n",
    "\n",
    "number_dices = 1_000_000\n",
    "\n",
    "many_dices = np.random.randint(1, 7, number_dices)"
   ]
  },
  {
   "cell_type": "code",
   "execution_count": 71,
   "metadata": {},
   "outputs": [
    {
     "data": {
      "text/plain": [
       "68.20388349514563"
      ]
     },
     "execution_count": 71,
     "metadata": {},
     "output_type": "execute_result"
    }
   ],
   "source": [
    "562 / 8.24 # times faster result using numpy"
   ]
  },
  {
   "cell_type": "code",
   "execution_count": null,
   "metadata": {},
   "outputs": [],
   "source": [
    "# dont optimise for performance when not needed\n",
    "\n",
    "# prioritise:\n",
    "# 1 - solves problem with acceptable performance\n",
    "# 2 - readable\n",
    "# 3 - optimised\n",
    "\n",
    "# dont optimise at the cost of readability unless its necessary"
   ]
  }
 ],
 "metadata": {
  "kernelspec": {
   "display_name": "Python 3.9.13 ('Python-Andreas-Svensson-mdnrE2EN')",
   "language": "python",
   "name": "python3"
  },
  "language_info": {
   "codemirror_mode": {
    "name": "ipython",
    "version": 3
   },
   "file_extension": ".py",
   "mimetype": "text/x-python",
   "name": "python",
   "nbconvert_exporter": "python",
   "pygments_lexer": "ipython3",
   "version": "3.9.13"
  },
  "orig_nbformat": 4,
  "vscode": {
   "interpreter": {
    "hash": "ce5ca73635e776ed4a4fa3650670807b72bb0d2e4957ff61281a0d117b023fd0"
   }
  }
 },
 "nbformat": 4,
 "nbformat_minor": 2
}
