{
 "cells": [
  {
   "cell_type": "code",
   "execution_count": 97,
   "metadata": {},
   "outputs": [
    {
     "data": {
      "text/plain": [
       "<__main__.Person at 0x218908caf40>"
      ]
     },
     "execution_count": 97,
     "metadata": {},
     "output_type": "execute_result"
    }
   ],
   "source": [
    "class Person:\n",
    "    pass # means this does nothing\n",
    "\n",
    "person1 = Person() # instanciate an object of class Person, using callable syntax ()\n",
    "person1"
   ]
  },
  {
   "cell_type": "code",
   "execution_count": 98,
   "metadata": {},
   "outputs": [
    {
     "data": {
      "text/plain": [
       "'Ada'"
      ]
     },
     "execution_count": 98,
     "metadata": {},
     "output_type": "execute_result"
    }
   ],
   "source": [
    "person1.name = \"Ada\"\n",
    "person1.name"
   ]
  },
  {
   "cell_type": "code",
   "execution_count": 99,
   "metadata": {},
   "outputs": [
    {
     "data": {
      "text/plain": [
       "<__main__.Person at 0x2189087bd90>"
      ]
     },
     "execution_count": 99,
     "metadata": {},
     "output_type": "execute_result"
    }
   ],
   "source": [
    "person2 = Person()\n",
    "person2"
   ]
  },
  {
   "cell_type": "markdown",
   "metadata": {},
   "source": [
    "## `__init__()`\n",
    "dunder init method (double underscore) (special method)  \n",
    "initializer method that runs after object has been created  \n",
    "used for setting initial values of attributes to an instance object  "
   ]
  },
  {
   "cell_type": "code",
   "execution_count": 100,
   "metadata": {},
   "outputs": [
    {
     "name": "stdout",
     "output_type": "stream",
     "text": [
      "Andreas: Goes to Supa cool school\n",
      "Bella: Goes to OK school\n",
      "\n",
      "Data science\n"
     ]
    }
   ],
   "source": [
    "class Antagning(): # CamelCase convention for classes\n",
    "    # initializer\n",
    "    # for methods it's a convention to have first argument as self\n",
    "    def __init__(self, school, program, name, accept):\n",
    "        # assign arguments to instance attributes\n",
    "        self.school = school\n",
    "        self.program = program\n",
    "        self.name = name\n",
    "        self.accept = accept\n",
    "    # overwrite __repr__ (dunder repr)\n",
    "    def __repr__(self):\n",
    "        return f\"Antagning('{self.school}', '{self.program}', '{self.name}', '{self.accept}')\"\n",
    "\n",
    "# when a method is called, the instance itself is injected to the method as the first argument (self)\n",
    "\n",
    "# instantiate from class Antagning:\n",
    "person1 = Antagning(\"Supa cool school\", \"AI\", \"Andreas\", True)\n",
    "person2 = Antagning(\"OK school\", \"Java\", \"Bella\", False)\n",
    "\n",
    "# access instance attributes using dot notation\n",
    "print(f\"{person1.name}: Goes to {person1.school}\")\n",
    "print(f\"{person2.name}: Goes to {person2.school}\\n\")\n",
    "\n",
    "# change instance attribute of person2 using dot notation\n",
    "person2.program = \"Data science\"\n",
    "print(person2.program)"
   ]
  },
  {
   "cell_type": "code",
   "execution_count": 101,
   "metadata": {},
   "outputs": [
    {
     "name": "stdout",
     "output_type": "stream",
     "text": [
      "Antagning('Supa cool school', 'AI', 'Andreas', 'True')\n"
     ]
    }
   ],
   "source": [
    "print(person1) # ->  __repr__ is called, returns <__main__.Antagning object at 0x000002188E9634F0>\n",
    "# overwrite __repr__ for custom return, overwrite in class by defining new __repr__ method"
   ]
  },
  {
   "cell_type": "code",
   "execution_count": 102,
   "metadata": {},
   "outputs": [
    {
     "data": {
      "text/plain": [
       "[1, 2, 3]"
      ]
     },
     "execution_count": 102,
     "metadata": {},
     "output_type": "execute_result"
    }
   ],
   "source": [
    "# the __repr__ of list gives output \"[1, 2, 3]\"\n",
    "example_list = [1, 2, 3]\n",
    "example_list"
   ]
  },
  {
   "cell_type": "markdown",
   "metadata": {},
   "source": [
    "## encapsulation\n",
    "hide information that is used within the class, but shouldn't be accessed from outside the class  \n",
    "create \"interface\" between outside and attributes within class, to prevent from misuse  \n",
    "\n",
    "in many OOP languages, attributes can be made private - this is not possible in python, all attributes in python are public  \n",
    "in python: private by convention, use underscore before attribute, e.g. _name  \n",
    "also possible to use double underscore, __name (symbol mangling)  "
   ]
  },
  {
   "cell_type": "code",
   "execution_count": 103,
   "metadata": {},
   "outputs": [
    {
     "name": "stdout",
     "output_type": "stream",
     "text": [
      "Patient(name='Ada', diagnosis='Influenza'\n",
      "Patient(name='Bda', diagnosis='Covid' \n",
      "\n",
      "Patient(name='Cda', diagnosis='Influenza' \n",
      "\n",
      "Patient(name='Cda', diagnosis='Influenza'\n",
      "{'_name': 'Cda', '_Patient__diagnosis': 'Influenza', '__diagnosis': 'Migraine'}\n"
     ]
    }
   ],
   "source": [
    "class Patient: # CamelCase convention for classes\n",
    "    def __init__(self, name, diagnosis):\n",
    "        self._name = name               # use either one underscore\n",
    "        self.__diagnosis = diagnosis    # or two underscores, but be conssitent in use\n",
    "    def __repr__(self):\n",
    "        return f\"Patient(name='{self._name}', diagnosis='{self.__diagnosis}'\" # use private attributes inside of class\n",
    "\n",
    "patient1 = Patient(\"Ada\", \"Influenza\")\n",
    "patient2 = Patient(\"Bda\", \"Covid\")\n",
    "\n",
    "print(patient1)\n",
    "print(patient2, \"\\n\")\n",
    "\n",
    "# possible to access private attributes outside of class, but do NOT use them\n",
    "patient1._name = \"Cda\"\n",
    "print(patient1, \"\\n\")\n",
    "\n",
    "# due to name mangling, using double underscores in private attributes:\n",
    "patient1.__diagnosis = \"Migraine\"\n",
    "print(patient1)\n",
    "print(patient1.__dict__)"
   ]
  },
  {
   "cell_type": "code",
   "execution_count": 104,
   "metadata": {},
   "outputs": [
    {
     "name": "stdout",
     "output_type": "stream",
     "text": [
      "Migraine\n",
      "Influenza\n"
     ]
    }
   ],
   "source": [
    "print(patient1.__diagnosis)\n",
    "print(patient1._Patient__diagnosis)"
   ]
  },
  {
   "cell_type": "code",
   "execution_count": 105,
   "metadata": {},
   "outputs": [
    {
     "name": "stdout",
     "output_type": "stream",
     "text": [
      "OldCoinsStash('owner=Ragnar Lothbrok', 'riksdaler=0', 'skilling=0')\n",
      "In stash: 20 riksdaler, 10 skilling\n",
      "Not possible to deposit negative amounts\n",
      "Can't withdraw amounts larger than balance\n"
     ]
    }
   ],
   "source": [
    "# another example\n",
    "class OldCoinsStash: # CamelCase convention for classes\n",
    "    def __init__(self, owner):\n",
    "        self.owner = owner\n",
    "\n",
    "        # private attributes\n",
    "        self._riksdaler = 0\n",
    "        self._skilling = 0\n",
    "\n",
    "    def deposit(self, riksdaler, skilling):\n",
    "        if riksdaler <= 0 or skilling <= 0:\n",
    "            raise ValueError(f\"Not possible to deposit negative amounts\")\n",
    "        self._riksdaler += riksdaler\n",
    "        self._skilling += skilling\n",
    "\n",
    "    def withdraw(self, riksdaler, skilling):\n",
    "        if riksdaler > self._riksdaler or skilling > self._skilling:\n",
    "            raise ValueError(\"Can't withdraw amounts larger than balance\")\n",
    "        if riksdaler <= 0 or skilling <= 0:\n",
    "            raise ValueError(\"Not possible to withdraw negative amounts\")\n",
    "        \n",
    "        self._riksdaler -= riksdaler\n",
    "        self._skilling -= skilling\n",
    "\n",
    "    def balance(self):\n",
    "        return f\"In stash: {self._riksdaler} riksdaler, {self._skilling} skilling\"\n",
    "\n",
    "    def __repr__(self):\n",
    "        return f\"OldCoinsStash('owner={self.owner}', 'riksdaler={self._riksdaler}', 'skilling={self._skilling}')\"\n",
    "\n",
    "stash = OldCoinsStash(\"Ragnar Lothbrok\")\n",
    "print(stash)\n",
    "\n",
    "stash.deposit(20, 10)\n",
    "print(stash.balance())\n",
    "\n",
    "# should not be able to deposit negative amounts -> error handling in deposit method\n",
    "try:\n",
    "    stash.deposit(-5, 10)\n",
    "    print(stash.balance())\n",
    "except ValueError as err:\n",
    "    print(err)\n",
    "\n",
    "try:\n",
    "    stash.withdraw(500, -1) # throws both errors: too large number, negative number\n",
    "    print(stash.balance())\n",
    "except ValueError as err:\n",
    "    print(err)"
   ]
  },
  {
   "cell_type": "markdown",
   "metadata": {},
   "source": [
    "## properties\n",
    "want to expose few to no bare attributes  \n",
    "\n",
    "when changing attributes:  \n",
    "    - getter and setter commonly used in other languages  \n",
    "    - in python: make into property  \n",
    "\n",
    "with properties:  \n",
    "    - can include error handling  \n",
    "    - computed properties  \n",
    "    - can make read-only and write-only properties  "
   ]
  },
  {
   "cell_type": "code",
   "execution_count": 106,
   "metadata": {},
   "outputs": [],
   "source": [
    "class Student:\n",
    "    \"\"\"Student class for representing students with name, age, and activity\"\"\" # docstring\n",
    "\n",
    "    # class attribute\n",
    "    number_students = 0\n",
    "\n",
    "    def __init__(self, name: str, age: int, active: bool): # type hinting\n",
    "        self._name = name\n",
    "        self.age = age # NOTE: since we use properties for setting age (setter), it is not set a private here\n",
    "        self._active = active\n",
    "        Student.number_students += 1 # add to number students counter when a new class instance is created\n",
    "\n",
    "    # read-only property\n",
    "    @property # @-symbol -> decorator\n",
    "    def name(self) -> str: # getter\n",
    "        \"\"\"Read-only property, we can't write to name\"\"\"\n",
    "        return self._name\n",
    "\n",
    "    @property\n",
    "    def age(self) -> int:\n",
    "        return self._age\n",
    "\n",
    "    @age.setter # when changing age variable, setter code will run\n",
    "    def age(self, value: int):\n",
    "        \"\"\"Setter for age, with error handling\"\"\"\n",
    "\n",
    "        # validation code - interface protecting private attribute from invalid values:\n",
    "        if not isinstance(value, int): # if not int:\n",
    "            raise TypeError(f\"Age must be an int, not {type(value)}\")\n",
    "        if not (0 < value < 125):\n",
    "            raise ValueError(f\"Age must be between 0-125, not {value}\")\n",
    "        \n",
    "        self._age = value # if all validation checks are passed, it's okay to change private attribute"
   ]
  },
  {
   "cell_type": "code",
   "execution_count": 107,
   "metadata": {},
   "outputs": [
    {
     "name": "stdout",
     "output_type": "stream",
     "text": [
      "Age must be an int, not <class 'str'>\n"
     ]
    }
   ],
   "source": [
    "studen1 = Student(\"Bda\", 15, False)\n",
    "\n",
    "try:\n",
    "    studen1.age = \"asd\" # catches type error in age's property setter\n",
    "    print(studen1.age)\n",
    "except ValueError as err:\n",
    "    print(err)\n",
    "except TypeError as err:\n",
    "    print(err)"
   ]
  },
  {
   "cell_type": "code",
   "execution_count": 108,
   "metadata": {},
   "outputs": [
    {
     "ename": "ValueError",
     "evalue": "Age must be between 0-125, not -5",
     "output_type": "error",
     "traceback": [
      "\u001b[1;31m---------------------------------------------------------------------------\u001b[0m",
      "\u001b[1;31mValueError\u001b[0m                                Traceback (most recent call last)",
      "\u001b[1;32mc:\\GitHub\\Python-Andreas-Svensson\\Code-Alongs\\L11-OOP-basics.ipynb Cell 15\u001b[0m in \u001b[0;36m<cell line: 1>\u001b[1;34m()\u001b[0m\n\u001b[1;32m----> <a href='vscode-notebook-cell:/c%3A/GitHub/Python-Andreas-Svensson/Code-Alongs/L11-OOP-basics.ipynb#X25sZmlsZQ%3D%3D?line=0'>1</a>\u001b[0m Student(\u001b[39m\"\u001b[39;49m\u001b[39mMeda\u001b[39;49m\u001b[39m\"\u001b[39;49m, \u001b[39m-\u001b[39;49m\u001b[39m5\u001b[39;49m, \u001b[39mFalse\u001b[39;49;00m)\n",
      "\u001b[1;32mc:\\GitHub\\Python-Andreas-Svensson\\Code-Alongs\\L11-OOP-basics.ipynb Cell 15\u001b[0m in \u001b[0;36mStudent.__init__\u001b[1;34m(self, name, age, active)\u001b[0m\n\u001b[0;32m      <a href='vscode-notebook-cell:/c%3A/GitHub/Python-Andreas-Svensson/Code-Alongs/L11-OOP-basics.ipynb#X25sZmlsZQ%3D%3D?line=6'>7</a>\u001b[0m \u001b[39mdef\u001b[39;00m \u001b[39m__init__\u001b[39m(\u001b[39mself\u001b[39m, name: \u001b[39mstr\u001b[39m, age: \u001b[39mint\u001b[39m, active: \u001b[39mbool\u001b[39m): \u001b[39m# type hinting\u001b[39;00m\n\u001b[0;32m      <a href='vscode-notebook-cell:/c%3A/GitHub/Python-Andreas-Svensson/Code-Alongs/L11-OOP-basics.ipynb#X25sZmlsZQ%3D%3D?line=7'>8</a>\u001b[0m     \u001b[39mself\u001b[39m\u001b[39m.\u001b[39m_name \u001b[39m=\u001b[39m name\n\u001b[1;32m----> <a href='vscode-notebook-cell:/c%3A/GitHub/Python-Andreas-Svensson/Code-Alongs/L11-OOP-basics.ipynb#X25sZmlsZQ%3D%3D?line=8'>9</a>\u001b[0m     \u001b[39mself\u001b[39;49m\u001b[39m.\u001b[39;49mage \u001b[39m=\u001b[39m age \u001b[39m# NOTE: since we use properties for setting age (setter), it is not set a private here\u001b[39;00m\n\u001b[0;32m     <a href='vscode-notebook-cell:/c%3A/GitHub/Python-Andreas-Svensson/Code-Alongs/L11-OOP-basics.ipynb#X25sZmlsZQ%3D%3D?line=9'>10</a>\u001b[0m     \u001b[39mself\u001b[39m\u001b[39m.\u001b[39m_active \u001b[39m=\u001b[39m active\n\u001b[0;32m     <a href='vscode-notebook-cell:/c%3A/GitHub/Python-Andreas-Svensson/Code-Alongs/L11-OOP-basics.ipynb#X25sZmlsZQ%3D%3D?line=10'>11</a>\u001b[0m     Student\u001b[39m.\u001b[39mnumber_students \u001b[39m+\u001b[39m\u001b[39m=\u001b[39m \u001b[39m1\u001b[39m\n",
      "\u001b[1;32mc:\\GitHub\\Python-Andreas-Svensson\\Code-Alongs\\L11-OOP-basics.ipynb Cell 15\u001b[0m in \u001b[0;36mStudent.age\u001b[1;34m(self, value)\u001b[0m\n\u001b[0;32m     <a href='vscode-notebook-cell:/c%3A/GitHub/Python-Andreas-Svensson/Code-Alongs/L11-OOP-basics.ipynb#X25sZmlsZQ%3D%3D?line=28'>29</a>\u001b[0m     \u001b[39mraise\u001b[39;00m \u001b[39mTypeError\u001b[39;00m(\u001b[39mf\u001b[39m\u001b[39m\"\u001b[39m\u001b[39mAge must be an int, not \u001b[39m\u001b[39m{\u001b[39;00m\u001b[39mtype\u001b[39m(value)\u001b[39m}\u001b[39;00m\u001b[39m\"\u001b[39m)\n\u001b[0;32m     <a href='vscode-notebook-cell:/c%3A/GitHub/Python-Andreas-Svensson/Code-Alongs/L11-OOP-basics.ipynb#X25sZmlsZQ%3D%3D?line=29'>30</a>\u001b[0m \u001b[39mif\u001b[39;00m \u001b[39mnot\u001b[39;00m (\u001b[39m0\u001b[39m \u001b[39m<\u001b[39m value \u001b[39m<\u001b[39m \u001b[39m125\u001b[39m):\n\u001b[1;32m---> <a href='vscode-notebook-cell:/c%3A/GitHub/Python-Andreas-Svensson/Code-Alongs/L11-OOP-basics.ipynb#X25sZmlsZQ%3D%3D?line=30'>31</a>\u001b[0m     \u001b[39mraise\u001b[39;00m \u001b[39mValueError\u001b[39;00m(\u001b[39mf\u001b[39m\u001b[39m\"\u001b[39m\u001b[39mAge must be between 0-125, not \u001b[39m\u001b[39m{\u001b[39;00mvalue\u001b[39m}\u001b[39;00m\u001b[39m\"\u001b[39m)\n\u001b[0;32m     <a href='vscode-notebook-cell:/c%3A/GitHub/Python-Andreas-Svensson/Code-Alongs/L11-OOP-basics.ipynb#X25sZmlsZQ%3D%3D?line=32'>33</a>\u001b[0m \u001b[39mself\u001b[39m\u001b[39m.\u001b[39m_age \u001b[39m=\u001b[39m value\n",
      "\u001b[1;31mValueError\u001b[0m: Age must be between 0-125, not -5"
     ]
    }
   ],
   "source": [
    "Student(\"Meda\", -5, False) # raises type error from age's setter property -> \"Age must be between 0-125, not -5\""
   ]
  },
  {
   "cell_type": "code",
   "execution_count": null,
   "metadata": {},
   "outputs": [
    {
     "name": "stdout",
     "output_type": "stream",
     "text": [
      "Help on class Student in module __main__:\n",
      "\n",
      "class Student(builtins.object)\n",
      " |  Student(name: str, age: int, active: bool)\n",
      " |  \n",
      " |  Student class for representing students with name, age, and activity\n",
      " |  \n",
      " |  Methods defined here:\n",
      " |  \n",
      " |  __init__(self, name: str, age: int, active: bool)\n",
      " |      Initialize self.  See help(type(self)) for accurate signature.\n",
      " |  \n",
      " |  ----------------------------------------------------------------------\n",
      " |  Readonly properties defined here:\n",
      " |  \n",
      " |  name\n",
      " |      Read-only property, we can't write to name\n",
      " |  \n",
      " |  ----------------------------------------------------------------------\n",
      " |  Data descriptors defined here:\n",
      " |  \n",
      " |  __dict__\n",
      " |      dictionary for instance variables (if defined)\n",
      " |  \n",
      " |  __weakref__\n",
      " |      list of weak references to the object (if defined)\n",
      " |  \n",
      " |  age\n",
      " |  \n",
      " |  ----------------------------------------------------------------------\n",
      " |  Data and other attributes defined here:\n",
      " |  \n",
      " |  number_students = 3\n",
      "\n"
     ]
    }
   ],
   "source": [
    "help(Student)"
   ]
  }
 ],
 "metadata": {
  "kernelspec": {
   "display_name": "Python 3.9.13 ('Python-Andreas-Svensson-mdnrE2EN')",
   "language": "python",
   "name": "python3"
  },
  "language_info": {
   "codemirror_mode": {
    "name": "ipython",
    "version": 3
   },
   "file_extension": ".py",
   "mimetype": "text/x-python",
   "name": "python",
   "nbconvert_exporter": "python",
   "pygments_lexer": "ipython3",
   "version": "3.9.13"
  },
  "orig_nbformat": 4,
  "vscode": {
   "interpreter": {
    "hash": "ce5ca73635e776ed4a4fa3650670807b72bb0d2e4957ff61281a0d117b023fd0"
   }
  }
 },
 "nbformat": 4,
 "nbformat_minor": 2
}
