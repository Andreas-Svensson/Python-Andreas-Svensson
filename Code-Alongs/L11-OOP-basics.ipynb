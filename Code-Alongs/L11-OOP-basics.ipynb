{
 "cells": [
  {
   "cell_type": "code",
   "execution_count": 1,
   "metadata": {},
   "outputs": [
    {
     "data": {
      "text/plain": [
       "<__main__.Person at 0x2188e3a3340>"
      ]
     },
     "execution_count": 1,
     "metadata": {},
     "output_type": "execute_result"
    }
   ],
   "source": [
    "class Person:\n",
    "    pass # means this does nothing\n",
    "\n",
    "person1 = Person() # instanciate an object of class Person, using callable syntax ()\n",
    "person1"
   ]
  },
  {
   "cell_type": "code",
   "execution_count": 4,
   "metadata": {},
   "outputs": [
    {
     "data": {
      "text/plain": [
       "'Ada'"
      ]
     },
     "execution_count": 4,
     "metadata": {},
     "output_type": "execute_result"
    }
   ],
   "source": [
    "person1.name = \"Ada\"\n",
    "person1.name"
   ]
  },
  {
   "cell_type": "code",
   "execution_count": 3,
   "metadata": {},
   "outputs": [
    {
     "data": {
      "text/plain": [
       "<__main__.Person at 0x2188e6ebb20>"
      ]
     },
     "execution_count": 3,
     "metadata": {},
     "output_type": "execute_result"
    }
   ],
   "source": [
    "person2 = Person()\n",
    "person2"
   ]
  },
  {
   "cell_type": "markdown",
   "metadata": {},
   "source": [
    "## `__init__()`\n",
    "dunder init method (double underscore) (special method)  \n",
    "initializer method that runs after object has been created  \n",
    "used for setting initial values of attributes to an instance object  "
   ]
  },
  {
   "cell_type": "code",
   "execution_count": 17,
   "metadata": {},
   "outputs": [
    {
     "name": "stdout",
     "output_type": "stream",
     "text": [
      "Andreas: Goes to Supa cool school\n",
      "Bella: Goes to OK school\n",
      "\n",
      "Data science\n"
     ]
    }
   ],
   "source": [
    "class Antagning(): # CamelCase convention for classes\n",
    "    # initializer\n",
    "    # for methods it's a convention to have first argument as self\n",
    "    def __init__(self, school, program, name, accept):\n",
    "        # assign arguments to instance attributes\n",
    "        self.school = school\n",
    "        self.program = program\n",
    "        self.name = name\n",
    "        self.accept = accept\n",
    "    # overwrite __repr__ (dunder repr)\n",
    "    def __repr__(self):\n",
    "        return f\"Antagning('{self.school}', '{self.program}', '{self.name}', '{self.accept}')\"\n",
    "\n",
    "# when a method is called, the instance itself is injected to the method as the first argument (self)\n",
    "\n",
    "# instantiate from class Antagning:\n",
    "person1 = Antagning(\"Supa cool school\", \"AI\", \"Andreas\", True)\n",
    "person2 = Antagning(\"OK school\", \"Java\", \"Bella\", False)\n",
    "\n",
    "# access instance attributes using dot notation\n",
    "print(f\"{person1.name}: Goes to {person1.school}\")\n",
    "print(f\"{person2.name}: Goes to {person2.school}\\n\")\n",
    "\n",
    "# change instance attribute of person2 using dot notation\n",
    "person2.program = \"Data science\"\n",
    "print(person2.program)"
   ]
  },
  {
   "cell_type": "code",
   "execution_count": 19,
   "metadata": {},
   "outputs": [
    {
     "name": "stdout",
     "output_type": "stream",
     "text": [
      "Antagning('Supa cool school', 'AI', 'Andreas', 'True')\n"
     ]
    }
   ],
   "source": [
    "print(person1) # ->  __repr__ is called, returns <__main__.Antagning object at 0x000002188E9634F0>\n",
    "# overwrite __repr__ for custom return, overwrite in class by defining new __repr__ method"
   ]
  },
  {
   "cell_type": "code",
   "execution_count": 22,
   "metadata": {},
   "outputs": [
    {
     "data": {
      "text/plain": [
       "[1, 2, 3]"
      ]
     },
     "execution_count": 22,
     "metadata": {},
     "output_type": "execute_result"
    }
   ],
   "source": [
    "# the __repr__ of list gives output \"[1, 2, 3]\"\n",
    "example_list = [1, 2, 3]\n",
    "example_list"
   ]
  },
  {
   "cell_type": "markdown",
   "metadata": {},
   "source": [
    "## encapsulation\n",
    "hide information that is used within the class, but shouldn't be accessed from outside the class  \n",
    "create \"interface\" between outside and attributes within class, to prevent from misuse  \n",
    "\n",
    "in many OOP languages, attributes can be made private - this is not possible in python, all attributes in python are public  \n",
    "in python: private by convention, use underscore before attribute, e.g. _name  \n",
    "also possible to use double underscore, __name (symbol mangling)  "
   ]
  },
  {
   "cell_type": "code",
   "execution_count": 40,
   "metadata": {},
   "outputs": [
    {
     "name": "stdout",
     "output_type": "stream",
     "text": [
      "Patient(name='Ada', diagnosis='Influenza'\n",
      "Patient(name='Bda', diagnosis='Covid' \n",
      "\n",
      "Patient(name='Cda', diagnosis='Influenza' \n",
      "\n",
      "Patient(name='Cda', diagnosis='Influenza'\n",
      "{'_name': 'Cda', '_Patient__diagnosis': 'Influenza', '__diagnosis': 'Migraine'}\n"
     ]
    }
   ],
   "source": [
    "class Patient: # CamelCase convention for classes\n",
    "    def __init__(self, name, diagnosis):\n",
    "        self._name = name               # use either one underscore\n",
    "        self.__diagnosis = diagnosis    # or two underscores, but be conssitent in use\n",
    "    def __repr__(self):\n",
    "        return f\"Patient(name='{self._name}', diagnosis='{self.__diagnosis}'\" # use private attributes inside of class\n",
    "\n",
    "patient1 = Patient(\"Ada\", \"Influenza\")\n",
    "patient2 = Patient(\"Bda\", \"Covid\")\n",
    "\n",
    "print(patient1)\n",
    "print(patient2, \"\\n\")\n",
    "\n",
    "# possible to access private attributes outside of class, but do NOT use them\n",
    "patient1._name = \"Cda\"\n",
    "print(patient1, \"\\n\")\n",
    "\n",
    "# due to name mangling, using double underscores in private attributes:\n",
    "patient1.__diagnosis = \"Migraine\"\n",
    "print(patient1)\n",
    "print(patient1.__dict__)"
   ]
  },
  {
   "cell_type": "code",
   "execution_count": 41,
   "metadata": {},
   "outputs": [
    {
     "name": "stdout",
     "output_type": "stream",
     "text": [
      "Migraine\n",
      "Influenza\n"
     ]
    }
   ],
   "source": [
    "print(patient1.__diagnosis)\n",
    "print(patient1._Patient__diagnosis)"
   ]
  },
  {
   "cell_type": "code",
   "execution_count": 59,
   "metadata": {},
   "outputs": [
    {
     "name": "stdout",
     "output_type": "stream",
     "text": [
      "OldCoinsStash('owner=Ragnar Lothbrok', 'riksdaler=0', 'skilling=0')\n",
      "In stash: 20 riksdaler, 10 skilling\n",
      "Not possible to deposit negative amounts\n",
      "Can't withdraw amounts larger than balance\n"
     ]
    }
   ],
   "source": [
    "# another example\n",
    "class OldCoinsStash: # CamelCase convention for classes\n",
    "    def __init__(self, owner):\n",
    "        self.owner = owner\n",
    "\n",
    "        # private attributes\n",
    "        self._riksdaler = 0\n",
    "        self._skilling = 0\n",
    "\n",
    "    def deposit(self, riksdaler, skilling):\n",
    "        if riksdaler <= 0 or skilling <= 0:\n",
    "            raise ValueError(f\"Not possible to deposit negative amounts\")\n",
    "        self._riksdaler += riksdaler\n",
    "        self._skilling += skilling\n",
    "\n",
    "    def withdraw(self, riksdaler, skilling):\n",
    "        if riksdaler > self._riksdaler or skilling > self._skilling:\n",
    "            raise ValueError(\"Can't withdraw amounts larger than balance\")\n",
    "        if riksdaler <= 0 or skilling <= 0:\n",
    "            raise ValueError(\"Not possible to withdraw negative amounts\")\n",
    "        \n",
    "        self._riksdaler -= riksdaler\n",
    "        self._skilling -= skilling\n",
    "\n",
    "    def balance(self):\n",
    "        return f\"In stash: {self._riksdaler} riksdaler, {self._skilling} skilling\"\n",
    "\n",
    "    def __repr__(self):\n",
    "        return f\"OldCoinsStash('owner={self.owner}', 'riksdaler={self._riksdaler}', 'skilling={self._skilling}')\"\n",
    "\n",
    "stash = OldCoinsStash(\"Ragnar Lothbrok\")\n",
    "print(stash)\n",
    "\n",
    "stash.deposit(20, 10)\n",
    "print(stash.balance())\n",
    "\n",
    "# should not be able to deposit negative amounts -> error handling in deposit method\n",
    "try:\n",
    "    stash.deposit(-5, 10)\n",
    "    print(stash.balance())\n",
    "except ValueError as err:\n",
    "    print(err)\n",
    "\n",
    "try:\n",
    "    stash.withdraw(500, -1) # throws both errors: too large number, negative number\n",
    "    print(stash.balance())\n",
    "except ValueError as err:\n",
    "    print(err)"
   ]
  },
  {
   "cell_type": "code",
   "execution_count": null,
   "metadata": {},
   "outputs": [],
   "source": []
  }
 ],
 "metadata": {
  "kernelspec": {
   "display_name": "Python 3.9.13 ('Python-Andreas-Svensson-mdnrE2EN')",
   "language": "python",
   "name": "python3"
  },
  "language_info": {
   "codemirror_mode": {
    "name": "ipython",
    "version": 3
   },
   "file_extension": ".py",
   "mimetype": "text/x-python",
   "name": "python",
   "nbconvert_exporter": "python",
   "pygments_lexer": "ipython3",
   "version": "3.9.13"
  },
  "orig_nbformat": 4,
  "vscode": {
   "interpreter": {
    "hash": "ce5ca73635e776ed4a4fa3650670807b72bb0d2e4957ff61281a0d117b023fd0"
   }
  }
 },
 "nbformat": 4,
 "nbformat_minor": 2
}
