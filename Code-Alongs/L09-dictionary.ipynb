{
 "cells": [
  {
   "cell_type": "markdown",
   "metadata": {},
   "source": [
    "# dictionary"
   ]
  },
  {
   "cell_type": "markdown",
   "metadata": {},
   "source": [
    "datastructure that stores data (like lists) but stores data in key:value pairs"
   ]
  },
  {
   "cell_type": "code",
   "execution_count": 12,
   "metadata": {},
   "outputs": [
    {
     "name": "stdout",
     "output_type": "stream",
     "text": [
      "person dictionary: {'name': 'Andreas', 'age': 27, 'work': 'Student', 'interests': ['programming', 'bouldering'], 'phone': 112}\n",
      "\n",
      "person works: Student\n",
      "persons age: 27\n",
      "\n",
      "persons interests: ['programming']\n",
      "Andreas likes: programming\n",
      "Andreas likes: bouldering\n"
     ]
    }
   ],
   "source": [
    "# create dictionary with dict keyword\n",
    "person = dict(\n",
    "    name = \"Andreas\",\n",
    "    age = 27,\n",
    "    work = \"Student\",\n",
    "    interests = [\"programming\", \"bouldering\"],\n",
    "    phone = 112\n",
    ")\n",
    "\n",
    "# accessing dictionary\n",
    "print(f\"person dictionary: {person}\\n\")\n",
    "\n",
    "# accessing specific key:value pairs\n",
    "print(f\"person works: {person['work']}\")\n",
    "print(f\"persons age: {person['age']}\\n\")\n",
    "\n",
    "# accessing specific element of key:value pair list\n",
    "print(f\"persons interests: {person['interests'][:1]}\")\n",
    "\n",
    "for interest in person[\"interests\"]:\n",
    "    print(f\"{person['name']} likes: {interest}\")"
   ]
  },
  {
   "cell_type": "code",
   "execution_count": 17,
   "metadata": {},
   "outputs": [
    {
     "name": "stdout",
     "output_type": "stream",
     "text": [
      "{'assign': 'assigns a value to a variable', 'dictionary': 'datastructure storing data in key:value pairs', 'method': 'a function bound to an object'}\n",
      "We are going to learn these words \n",
      "\n",
      "assign  -  assigns a value to a variable\n",
      "dictionary  -  datastructure storing data in key:value pairs\n",
      "method  -  a function bound to an object\n"
     ]
    }
   ],
   "source": [
    "# create dictionary with curly braces {}\n",
    "words = {\n",
    "\"assign\": \"assigns a value to a variable\",\n",
    "\"dictionary\": \"datastructure storing data in key:value pairs\",\n",
    "\"method\": \"a function bound to an object\"\n",
    "}\n",
    "\n",
    "print(words)\n",
    "print(\"We are going to learn these words \\n\")\n",
    "\n",
    "for key in words:\n",
    "    print(key,\" - \", words[key])"
   ]
  },
  {
   "cell_type": "code",
   "execution_count": 25,
   "metadata": {},
   "outputs": [
    {
     "name": "stdout",
     "output_type": "stream",
     "text": [
      "Glosor \n",
      "\n",
      "assign              assigns a value to a variable\n",
      "dictionary          datastructure storing data in key:value pairs\n",
      "method              a function bound to an object\n",
      "....................\n"
     ]
    }
   ],
   "source": [
    "print(\"Glosor \\n\")\n",
    "for key, value in words.items():\n",
    "    print(f\"{key:<20}{value}\") # :<20 -> right align with width 20\n",
    "\n",
    "print(\".\"*20)"
   ]
  },
  {
   "cell_type": "code",
   "execution_count": 32,
   "metadata": {},
   "outputs": [
    {
     "name": "stdout",
     "output_type": "stream",
     "text": [
      "{'F': 0, 'E': 10, 'D': 20, 'C': 30, 'B': 40, 'A': 50}\n",
      "{'F': ' < 10', 'E': 10, 'D': 20, 'C': 30, 'B': 40, 'A': 50, 'Course': 'Programming 1'}\n"
     ]
    }
   ],
   "source": [
    "# F < 10, E: 10, D: 20, C: 30, B: 40, A: 50\n",
    "\n",
    "# empty dictionary\n",
    "grade_limit = {}\n",
    "\n",
    "for i, character in enumerate(\"ABCDEF\"[::-1]):\n",
    "    grade_limit[character] = i*10\n",
    "\n",
    "print(grade_limit)\n",
    "\n",
    "# assign new value associated with key \"F\"\n",
    "grade_limit[\"F\"] = \" < 10\"\n",
    "grade_limit[\"Course\"] = \"Programming 1\"\n",
    "\n",
    "print(grade_limit)"
   ]
  },
  {
   "cell_type": "markdown",
   "metadata": {},
   "source": [
    "## dictionary comprehension"
   ]
  },
  {
   "cell_type": "code",
   "execution_count": 46,
   "metadata": {},
   "outputs": [
    {
     "name": "stdout",
     "output_type": "stream",
     "text": [
      "grade_limit = {'F': 0, 'E': 10, 'D': 20, 'C': 30, 'B': 40, 'A': 50}\n",
      "scores = [39, 59, 34, 45, 23, 36, 37, 46, 10, 49, 52, 21, 24, 40, 50, 23, 58, 19, 25, 44, 13, 48, 42, 55, 58, 23, 6, 27, 52, 40]\n",
      "{'F': 0, 'E': 0, 'D': 0, 'C': 0, 'B': 0, 'A': 0}\n",
      "{'F': 1, 'E': 3, 'D': 7, 'C': 4, 'B': 8, 'A': 7}\n"
     ]
    }
   ],
   "source": [
    "import random as rnd \n",
    "\n",
    "grade_limit = {grade: i*10 for i, grade in enumerate(\"ABCDEF\"[::-1])}\n",
    "\n",
    "def generate_scores(number_students):\n",
    "    rnd.seed(1337)\n",
    "    scores = [rnd.randint(0, 60) for _ in range(number_students)]\n",
    "    return scores\n",
    "\n",
    "scores = generate_scores(30)\n",
    "\n",
    "print(f\"{grade_limit = }\")\n",
    "print(f\"{scores = }\")\n",
    "\n",
    "# number of students in each grade\n",
    "students_in_grade = {key: 0 for key in grade_limit}\n",
    "\n",
    "print(students_in_grade)\n",
    "\n",
    "for score in scores:\n",
    "    for grade, limit in grade_limit.items():\n",
    "        if limit <= score < limit+10:\n",
    "            students_in_grade[grade] += 1\n",
    "\n",
    "print(students_in_grade)"
   ]
  },
  {
   "cell_type": "code",
   "execution_count": 48,
   "metadata": {},
   "outputs": [
    {
     "data": {
      "text/plain": [
       "30"
      ]
     },
     "execution_count": 48,
     "metadata": {},
     "output_type": "execute_result"
    }
   ],
   "source": [
    "# check that all students have been given a grade\n",
    "total_students = 0\n",
    "for _, number_students in students_in_grade.items():\n",
    "    total_students += number_students\n",
    "\n",
    "total_students\n"
   ]
  },
  {
   "cell_type": "code",
   "execution_count": 49,
   "metadata": {},
   "outputs": [
    {
     "data": {
      "text/plain": [
       "60"
      ]
     },
     "execution_count": 49,
     "metadata": {},
     "output_type": "execute_result"
    }
   ],
   "source": [
    "for key in students_in_grade:\n",
    "    total_students += students_in_grade[key]\n",
    "\n",
    "total_students"
   ]
  }
 ],
 "metadata": {
  "kernelspec": {
   "display_name": "Python 3.9.13 ('Python-Andreas-Svensson-mdnrE2EN')",
   "language": "python",
   "name": "python3"
  },
  "language_info": {
   "codemirror_mode": {
    "name": "ipython",
    "version": 3
   },
   "file_extension": ".py",
   "mimetype": "text/x-python",
   "name": "python",
   "nbconvert_exporter": "python",
   "pygments_lexer": "ipython3",
   "version": "3.9.13"
  },
  "orig_nbformat": 4,
  "vscode": {
   "interpreter": {
    "hash": "ce5ca73635e776ed4a4fa3650670807b72bb0d2e4957ff61281a0d117b023fd0"
   }
  }
 },
 "nbformat": 4,
 "nbformat_minor": 2
}
