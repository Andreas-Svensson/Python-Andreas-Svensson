{
 "cells": [
  {
   "cell_type": "markdown",
   "metadata": {},
   "source": [
    "# file handling"
   ]
  },
  {
   "cell_type": "markdown",
   "metadata": {},
   "source": [
    "```py\n",
    "f = open() # this is not good practice, since you also manually need to close the file\n",
    "\n",
    "# use this instead:\n",
    "with open(path, option) as name:\n",
    "    statements\n",
    "    ...\n",
    "```\n",
    "\n",
    "options:\n",
    "- \"r\" - read\n",
    "- \"a\" - append to file (if it doesn't exist, it will create the file)\n",
    "- \"w\" - write (if it doesn't exist, it will create the file)\n",
    "- \"x\" - create a file, error if it already exists"
   ]
  },
  {
   "cell_type": "code",
   "execution_count": 3,
   "metadata": {},
   "outputs": [
    {
     "name": "stdout",
     "output_type": "stream",
     "text": [
      "  If     we     knew what it was      we were doing, it would not be called research,          would it?     - Albert Einstein\n",
      "\n",
      "Time is a drug. Too       much of it kills you.  -  Terry Pratchett\n",
      "\n",
      "\n",
      " An expert is a person who       has made all the mistakes that           can be made in a          very narrow field - Niels Bohr\n",
      "\n",
      "   Everything must be made as simple as possible. But not simpler. - Albert Einstein     \n",
      "\n",
      "\n",
      "  Nothing in life                is to be feared, it is only to be understood. Now is the time to understand more, so that we may fear less. - Marie  Curie  \n",
      "\n",
      "If I have seen further     it is by standing on the shoulders of Giants. - Isaac Newton\n"
     ]
    }
   ],
   "source": [
    "# file in parent folder: \"/../folder/name\"\n",
    "# file in level folder: \"folder/name\"\n",
    "# file in same folder: \"name\"\n",
    "\n",
    "file_path = \"assets/quotes.txt\"\n",
    "\n",
    "with open(file_path, \"r\") as f:\n",
    "    text = f.read()\n",
    "\n",
    "print(text)"
   ]
  },
  {
   "cell_type": "markdown",
   "metadata": {},
   "source": [
    "## cleaning up quotes.txt\n",
    "\n",
    "- inspect txt-file manually (note: random noise in form of whitespace and newlines)\n",
    "- remove leading and trailing whitespaces\n",
    "- remove excessive white spaces in between words\n",
    "- add quote numbers"
   ]
  },
  {
   "cell_type": "code",
   "execution_count": 14,
   "metadata": {},
   "outputs": [
    {
     "name": "stdout",
     "output_type": "stream",
     "text": [
      "If we knew what it was we were doing, it would not be called research, would it? - Albert Einstein\n",
      "\n",
      "Time is a drug. Too much of it kills you. - Terry Pratchett\n",
      "\n",
      "\n",
      "An expert is a person who has made all the mistakes that can be made in a very narrow field - Niels Bohr\n",
      "\n",
      "Everything must be made as simple as possible. But not simpler. - Albert Einstein\n",
      "\n",
      "\n",
      "Nothing in life is to be feared, it is only to be understood. Now is the time to understand more, so that we may fear less. - Marie Curie\n",
      "\n",
      "If I have seen further it is by standing on the shoulders of Giants. - Isaac Newton\n"
     ]
    }
   ],
   "source": [
    "import re\n",
    "\n",
    "file_path = \"assets/quotes.txt\"\n",
    "\n",
    "with open(file_path, \"r\") as f_read, open(\"assets/quotes_clean.txt\", \"w\") as f_write:\n",
    "\n",
    "    i = 1\n",
    "    for quote in f_read: # quote = each line in f_read (default for-loop behaviour)\n",
    "        quote = quote.strip(\" \\n\") # removes leading and trailing spaces and newlines\n",
    "        quote = re.sub(\" +\", \" \", quote) # regex to substitute (replace) -> one or more whitespace, replaced with single space\n",
    "        \n",
    "        # quote = quote.replace(\"\\n\", \"\") # can also be used instead of strip\n",
    "        \n",
    "        if quote != \"\": # if row is not empty (not newline)\n",
    "            f_write.write(f\"{i}. {quote}\\n\")\n",
    "            i += 1\n",
    "\n",
    "        print(quote)\n",
    "\n"
   ]
  },
  {
   "cell_type": "code",
   "execution_count": null,
   "metadata": {},
   "outputs": [],
   "source": []
  }
 ],
 "metadata": {
  "kernelspec": {
   "display_name": "Python 3.9.13 ('Python-Andreas-Svensson-mdnrE2EN')",
   "language": "python",
   "name": "python3"
  },
  "language_info": {
   "codemirror_mode": {
    "name": "ipython",
    "version": 3
   },
   "file_extension": ".py",
   "mimetype": "text/x-python",
   "name": "python",
   "nbconvert_exporter": "python",
   "pygments_lexer": "ipython3",
   "version": "3.9.13"
  },
  "orig_nbformat": 4,
  "vscode": {
   "interpreter": {
    "hash": "ce5ca73635e776ed4a4fa3650670807b72bb0d2e4957ff61281a0d117b023fd0"
   }
  }
 },
 "nbformat": 4,
 "nbformat_minor": 2
}
