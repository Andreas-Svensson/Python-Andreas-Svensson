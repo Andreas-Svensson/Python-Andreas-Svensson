{
 "cells": [
  {
   "cell_type": "markdown",
   "metadata": {},
   "source": [
    "# file handling"
   ]
  },
  {
   "cell_type": "markdown",
   "metadata": {},
   "source": [
    "```py\n",
    "f = open() # this is not good practice, since you also manually need to close the file\n",
    "\n",
    "# use this instead:\n",
    "with open(path, option) as name:\n",
    "    statements\n",
    "    ...\n",
    "```\n",
    "\n",
    "options:\n",
    "- \"r\" - read\n",
    "- \"a\" - append to file (if it doesn't exist, it will create the file)\n",
    "- \"w\" - write (if it doesn't exist, it will create the file)\n",
    "- \"x\" - create a file, error if it already exists"
   ]
  },
  {
   "cell_type": "code",
   "execution_count": 3,
   "metadata": {},
   "outputs": [
    {
     "name": "stdout",
     "output_type": "stream",
     "text": [
      "  If     we     knew what it was      we were doing, it would not be called research,          would it?     - Albert Einstein\n",
      "\n",
      "Time is a drug. Too       much of it kills you.  -  Terry Pratchett\n",
      "\n",
      "\n",
      " An expert is a person who       has made all the mistakes that           can be made in a          very narrow field - Niels Bohr\n",
      "\n",
      "   Everything must be made as simple as possible. But not simpler. - Albert Einstein     \n",
      "\n",
      "\n",
      "  Nothing in life                is to be feared, it is only to be understood. Now is the time to understand more, so that we may fear less. - Marie  Curie  \n",
      "\n",
      "If I have seen further     it is by standing on the shoulders of Giants. - Isaac Newton\n"
     ]
    }
   ],
   "source": [
    "# file in parent folder: \"/../folder/name\"\n",
    "# file in level folder: \"folder/name\"\n",
    "# file in same folder: \"name\"\n",
    "\n",
    "file_path = \"assets/quotes.txt\"\n",
    "\n",
    "with open(file_path, \"r\") as f:\n",
    "    text = f.read()\n",
    "    i = 2\n",
    "\n",
    "print(text)"
   ]
  },
  {
   "cell_type": "markdown",
   "metadata": {},
   "source": [
    "## cleaning up quotes.txt\n",
    "\n",
    "- inspect txt-file manually (note: random noise in form of whitespace and newlines)\n",
    "- remove leading and trailing whitespaces\n",
    "- remove excessive white spaces in between words\n",
    "- add quote numbers"
   ]
  },
  {
   "cell_type": "code",
   "execution_count": 40,
   "metadata": {},
   "outputs": [
    {
     "name": "stdout",
     "output_type": "stream",
     "text": [
      "1. If we knew what it was we were doing, it would not be called research, would it? - Albert Einstein\n",
      "\n",
      "2. Time is a drug. Too much of it kills you. - Terry Pratchett\n",
      "\n",
      "3. An expert is a person who has made all the mistakes that can be made in a very narrow field - Niels Bohr\n",
      "\n",
      "4. Everything must be made as simple as possible. But not simpler. - Albert Einstein\n",
      "\n",
      "5. Nothing in life is to be feared, it is only to be understood. Now is the time to understand more, so that we may fear less. - Marie Curie\n",
      "\n",
      "6. If I have seen further it is by standing on the shoulders of Giants. - Isaac Newton\n",
      "\n"
     ]
    }
   ],
   "source": [
    "import re\n",
    "\n",
    "file_path = \"assets/quotes.txt\"\n",
    "\n",
    "with open(file_path, \"r\") as f_read, open(\"assets/quotes_clean.txt\", \"w\") as f_write:\n",
    "\n",
    "    row_count = 1\n",
    "    for quote in f_read: # quote = each line in f_read (default for-loop behaviour)\n",
    "        quote = quote.strip(\" \\n\") # removes leading and trailing spaces and newlines\n",
    "        quote = re.sub(\" +\", \" \", quote) # regex to substitute (replace) -> one or more whitespace, replaced with single space\n",
    "\n",
    "        # quote = quote.replace(\"\\n\", \"\") # can also be used instead of strip\n",
    "        \n",
    "        if quote != \"\": # if row is not empty (not newline)\n",
    "            f_write.write(f\"{row_count}. {quote}\\n\")\n",
    "            print(f\"{row_count}. {quote}\\n\")\n",
    "            row_count += 1"
   ]
  },
  {
   "cell_type": "markdown",
   "metadata": {},
   "source": [
    "## pick out the quote authors\n",
    "\n",
    "now we can see a pattern in the cleaned file, that's when you can start picking out strategies\n",
    "\n",
    "- find digit to find quote\n",
    "- extract first name and last names\n",
    "- join into full name\n",
    "- get unique values"
   ]
  },
  {
   "cell_type": "code",
   "execution_count": 41,
   "metadata": {},
   "outputs": [
    {
     "name": "stdout",
     "output_type": "stream",
     "text": [
      "[['Albert', 'Einstein'], ['Terry', 'Pratchett'], ['Niels', 'Bohr'], ['Albert', 'Einstein'], ['Marie', 'Curie'], ['Isaac', 'Newton']]\n",
      "{'Albert Einstein', 'Isaac Newton', 'Niels Bohr', 'Marie Curie', 'Terry Pratchett'}\n"
     ]
    }
   ],
   "source": [
    "with open(\"assets/quotes_clean.txt\", \"r\") as f_quotes, open(\"assets/quotes_clean.txt\", \"a\") as f_append:\n",
    "\n",
    "    # readlines() -> each row in a list\n",
    "\n",
    "    # reads in each line as a list\n",
    "    # strips away \"\\n\" (newlines)\n",
    "    quotes = [quote.strip(\"\\n\") for quote in f_quotes.readlines()]\n",
    "\n",
    "    # authors is a list of lists, where each element in the main list is a row of quotes\n",
    "    # the sub-list gets the result of splitting the row on spaces, so that each word in that specific row is appended as an element to the sub-list\n",
    "    #authors = [quote.split() for quote in quotes]\n",
    "\n",
    "    # [-2] -> the last 2 elements (first and last name)\n",
    "    authors = [quote.split()[-2:] for quote in quotes]\n",
    "\n",
    "    print(authors)\n",
    "\n",
    "    # set -> gives unique elements\n",
    "    # joins string content of elements together, separated by space\n",
    "    authors = set([\" \".join(author) for author in authors])\n",
    "    print(authors) # no longer in a nested list\n",
    "\n",
    "    f_append.write(\"\\nAuthors: \")\n",
    "    for author in authors:\n",
    "        f_append.write(f\"{author}, \")"
   ]
  },
  {
   "cell_type": "code",
   "execution_count": 33,
   "metadata": {},
   "outputs": [
    {
     "data": {
      "text/plain": [
       "'Andreas Svensson'"
      ]
     },
     "execution_count": 33,
     "metadata": {},
     "output_type": "execute_result"
    }
   ],
   "source": [
    "name = [[\"Andreas\", \"Svensson\"]] # list in a list, containing [0] first name, and [1] last name\n",
    "\" \".join(name[0]) # using string method join() for first sublist joins the elements together in a string, separated by \" \""
   ]
  },
  {
   "cell_type": "code",
   "execution_count": null,
   "metadata": {},
   "outputs": [],
   "source": []
  }
 ],
 "metadata": {
  "kernelspec": {
   "display_name": "Python 3.9.13 ('Python-Andreas-Svensson-mdnrE2EN')",
   "language": "python",
   "name": "python3"
  },
  "language_info": {
   "codemirror_mode": {
    "name": "ipython",
    "version": 3
   },
   "file_extension": ".py",
   "mimetype": "text/x-python",
   "name": "python",
   "nbconvert_exporter": "python",
   "pygments_lexer": "ipython3",
   "version": "3.9.13"
  },
  "orig_nbformat": 4,
  "vscode": {
   "interpreter": {
    "hash": "ce5ca73635e776ed4a4fa3650670807b72bb0d2e4957ff61281a0d117b023fd0"
   }
  }
 },
 "nbformat": 4,
 "nbformat_minor": 2
}
