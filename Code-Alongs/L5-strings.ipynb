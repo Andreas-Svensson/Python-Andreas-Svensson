{
 "cells": [
  {
   "cell_type": "markdown",
   "metadata": {},
   "source": [
    "# Strings"
   ]
  },
  {
   "cell_type": "code",
   "execution_count": 5,
   "metadata": {},
   "outputs": [
    {
     "name": "stdout",
     "output_type": "stream",
     "text": [
      "Andreas Svensson\n",
      "Andreas Svensson is 27 years old\n",
      "\n",
      "Name: Andreas Svensson\n",
      "Age: 27\n",
      "\n"
     ]
    }
   ],
   "source": [
    "first_name = \"Andreas\"\n",
    "last_name = \"Svensson\"\n",
    "\n",
    "age = 27\n",
    "\n",
    "# concatentate strings\n",
    "name = first_name + \" \" + last_name\n",
    "intro = f\"{name} is {age} years old\"\n",
    "\n",
    "print(name)\n",
    "print(intro)\n",
    "\n",
    "# multiline f-string\n",
    "contact = f\"\"\"\n",
    "Name: {name}\n",
    "Age: {age}\n",
    "\"\"\"\n",
    "\n",
    "print(contact)\n"
   ]
  },
  {
   "cell_type": "markdown",
   "metadata": {},
   "source": [
    "## zip"
   ]
  },
  {
   "cell_type": "code",
   "execution_count": 10,
   "metadata": {},
   "outputs": [
    {
     "name": "stdout",
     "output_type": "stream",
     "text": [
      "Plan \n",
      "Monday: AI Intro\n",
      "Tuesday: Python\n",
      "Wednesday: Math\n",
      "Thursday: Self Studies\n",
      "Friday: Chill\n",
      "\n"
     ]
    }
   ],
   "source": [
    "schedule = [\"AI Intro\", \"Python\", \"Math\", \"Self Studies\", \"Chill\"]\n",
    "days = [\"Monday\", \"Tuesday\", \"Wednesday\", \"Thursday\", \"Friday\", \"Saturday\"]\n",
    "\n",
    "week_plan = \"Plan \\n\"\n",
    "\n",
    "for day, task in zip(days, schedule): # \n",
    "    week_plan += f\"{day}: {task}\\n\"\n",
    "\n",
    "print(week_plan)"
   ]
  },
  {
   "cell_type": "markdown",
   "metadata": {},
   "source": [
    "## Index"
   ]
  },
  {
   "cell_type": "code",
   "execution_count": 19,
   "metadata": {},
   "outputs": [
    {
     "name": "stdout",
     "output_type": "stream",
     "text": [
      "quote[0] = '!'\n",
      "quote[:6] = '!False'\n",
      "quote[-4:] = 'true'\n",
      "Backwards: quote[::-1] = \"eurt s'ti esuaceb ynnuf s'ti - eslaF!\"\n",
      "Length of string: 37\n"
     ]
    }
   ],
   "source": [
    "quote = \"!False - it's funny because it's true\"\n",
    "\n",
    "print(f\"{quote[0] = }\") # index of string\n",
    "print(f\"{quote[:6] = }\")\n",
    "print(f\"{quote[-4:] = }\")\n",
    "\n",
    "print(f\"Backwards: {quote[::-1] = }\") # backwards '::-1'\n",
    "\n",
    "print(f\"Length of string: {len(quote)}\")"
   ]
  },
  {
   "cell_type": "markdown",
   "metadata": {},
   "source": [
    "## split strings"
   ]
  },
  {
   "cell_type": "code",
   "execution_count": 26,
   "metadata": {},
   "outputs": [
    {
     "name": "stdout",
     "output_type": "stream",
     "text": [
      "[1.0, 2.0, 3.0]\n",
      "2.0\n"
     ]
    }
   ],
   "source": [
    "numbers = input(\"Enter 3 numbers (separated by ','): \")\n",
    "\n",
    "# 1. split string into list of 3 strings\n",
    "# 2. type convert each string into float by iterating through the list\n",
    "\n",
    "# list comprehension syntax\n",
    "# expression, loop, condition\n",
    "numbers = [float(number) for number in numbers.split(\",\")]\n",
    "\n",
    "mean_value = sum(numbers)/len(numbers)\n",
    "\n",
    "print(numbers)\n",
    "print(mean_value)"
   ]
  },
  {
   "cell_type": "code",
   "execution_count": 34,
   "metadata": {},
   "outputs": [
    {
     "data": {
      "text/plain": [
       "['2', '3', '4']"
      ]
     },
     "execution_count": 34,
     "metadata": {},
     "output_type": "execute_result"
    }
   ],
   "source": [
    "numbers2 = \"2,3,4\"\n",
    "\n",
    "numbers2 = numbers2.split(\",\")\n",
    "for number in numbers2:\n",
    "    float(number)\n",
    "\n",
    "numbers2"
   ]
  },
  {
   "cell_type": "markdown",
   "metadata": {},
   "source": [
    "## regular expression\n",
    "\n",
    "- find patterns in a string  \n",
    "- e.g phone numbers, email, capital letters, sequences ..."
   ]
  },
  {
   "cell_type": "code",
   "execution_count": 37,
   "metadata": {},
   "outputs": [
    {
     "name": "stdout",
     "output_type": "stream",
     "text": [
      "['021-432512', '042-321345', '739-242521']\n",
      "Hej\\ndå\n"
     ]
    }
   ],
   "source": [
    "import re # regular expression - RegEx\n",
    "\n",
    "# backslash in text allows new rows in string\n",
    "text = \"My phone number is 021-432512, \\\n",
    "    Adas number is 042-321345, \\\n",
    "    Bedas number is 0739-242521\"\n",
    "\n",
    "# extract numbers\n",
    "# parameter - part of the function\n",
    "# - what we put in\n",
    "\n",
    "# ctrl - click\n",
    "# standard values are values =0\n",
    "match1 = re.findall(r\"\\d\\d\\d-\\d\\d\\d\\d\\d\\d\", text) # r\"\" - raw string - good practice to use in regex\n",
    "print(match1)\n",
    "print(r\"Hej\\ndå\")"
   ]
  },
  {
   "cell_type": "code",
   "execution_count": null,
   "metadata": {},
   "outputs": [],
   "source": []
  }
 ],
 "metadata": {
  "kernelspec": {
   "display_name": "Python 3.9.13 ('Python-Andreas-Svensson-mdnrE2EN')",
   "language": "python",
   "name": "python3"
  },
  "language_info": {
   "codemirror_mode": {
    "name": "ipython",
    "version": 3
   },
   "file_extension": ".py",
   "mimetype": "text/x-python",
   "name": "python",
   "nbconvert_exporter": "python",
   "pygments_lexer": "ipython3",
   "version": "3.9.13"
  },
  "orig_nbformat": 4,
  "vscode": {
   "interpreter": {
    "hash": "ce5ca73635e776ed4a4fa3650670807b72bb0d2e4957ff61281a0d117b023fd0"
   }
  }
 },
 "nbformat": 4,
 "nbformat_minor": 2
}
