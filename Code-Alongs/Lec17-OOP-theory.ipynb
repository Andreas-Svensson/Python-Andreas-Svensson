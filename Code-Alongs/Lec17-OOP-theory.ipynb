{
 "cells": [
  {
   "cell_type": "markdown",
   "metadata": {},
   "source": [
    "# OOP theory\n",
    "---"
   ]
  },
  {
   "cell_type": "markdown",
   "metadata": {},
   "source": [
    "## Class instantiation\n",
    "\n",
    "When instantiating an object from a class  \n",
    "`__new__()` is run  \n",
    "`__init__()` is run -> gives the instance object its initial state"
   ]
  },
  {
   "cell_type": "code",
   "execution_count": 102,
   "metadata": {},
   "outputs": [
    {
     "name": "stdout",
     "output_type": "stream",
     "text": [
      "<__main__.Student object at 0x00000267B0A21160>\n",
      "<__main__.Student object at 0x00000267B0A21160>\n",
      "<class '__main__.Student'>\n"
     ]
    }
   ],
   "source": [
    "# convention for classes is:            PascalCalse\n",
    "\n",
    "# convention for function names is:     snake_case\n",
    "# convention for method names is:       snake_case\n",
    "# convention for variable names is:     snake_case\n",
    "\n",
    "class Student:\n",
    "    pass\n",
    "\n",
    "s1 = Student()\n",
    "# s1 has a __repr__(), but this repr is in the object class - all classes inherit from object\n",
    "print(s1.__repr__())\n",
    "print(repr(s1))\n",
    "\n",
    "print(type(s1))"
   ]
  },
  {
   "cell_type": "code",
   "execution_count": 103,
   "metadata": {},
   "outputs": [
    {
     "data": {
      "text/plain": [
       "True"
      ]
     },
     "execution_count": 103,
     "metadata": {},
     "output_type": "execute_result"
    }
   ],
   "source": [
    "# NOTE many default classes in python do not follow PascalCase convention, because the code is from C\n",
    "isinstance(s1, object) # showing that class inherits from object"
   ]
  },
  {
   "cell_type": "code",
   "execution_count": 104,
   "metadata": {},
   "outputs": [
    {
     "data": {
      "text/plain": [
       "True"
      ]
     },
     "execution_count": 104,
     "metadata": {},
     "output_type": "execute_result"
    }
   ],
   "source": [
    "isinstance(Student, object)"
   ]
  },
  {
   "cell_type": "code",
   "execution_count": 105,
   "metadata": {},
   "outputs": [
    {
     "data": {
      "text/plain": [
       "False"
      ]
     },
     "execution_count": 105,
     "metadata": {},
     "output_type": "execute_result"
    }
   ],
   "source": [
    "s2 = Student()\n",
    "s1 is s2 # different objects"
   ]
  },
  {
   "cell_type": "code",
   "execution_count": 106,
   "metadata": {},
   "outputs": [
    {
     "data": {
      "text/plain": [
       "(True, True)"
      ]
     },
     "execution_count": 106,
     "metadata": {},
     "output_type": "execute_result"
    }
   ],
   "source": [
    "# 'is' works differently from '==' which uses __eq__()\n",
    "fruit1, fruit2 = \"apple\", \"apple\"\n",
    "fruit1 is fruit2, fruit1 == fruit2"
   ]
  },
  {
   "cell_type": "code",
   "execution_count": 107,
   "metadata": {},
   "outputs": [
    {
     "data": {
      "text/plain": [
       "(False, True)"
      ]
     },
     "execution_count": 107,
     "metadata": {},
     "output_type": "execute_result"
    }
   ],
   "source": [
    "# 'is' works differently from '==' which uses __eq__()\n",
    "l1, l2 = [1, 2, 3,], [1, 2, 3]\n",
    "l1 is l2, l1 == l2"
   ]
  },
  {
   "cell_type": "code",
   "execution_count": 108,
   "metadata": {},
   "outputs": [
    {
     "data": {
      "text/plain": [
       "('0x267b0a21160', '0x267b0a21af0')"
      ]
     },
     "execution_count": 108,
     "metadata": {},
     "output_type": "execute_result"
    }
   ],
   "source": [
    "hex(id(s1)), hex(id(s2)) # memory is usually represented in hexadecimals"
   ]
  },
  {
   "cell_type": "markdown",
   "metadata": {},
   "source": [
    "## Attribute\n",
    "can be defined in class  \n",
    "can be created on the fly (during runtime) using dot notation  \n",
    "can be created in methods  "
   ]
  },
  {
   "cell_type": "code",
   "execution_count": 109,
   "metadata": {},
   "outputs": [
    {
     "name": "stdout",
     "output_type": "stream",
     "text": [
      "{'__module__': '__main__', 'name': 'default', '__dict__': <attribute '__dict__' of 'Student' objects>, '__weakref__': <attribute '__weakref__' of 'Student' objects>, '__doc__': None}\n"
     ]
    },
    {
     "data": {
      "text/plain": [
       "'default'"
      ]
     },
     "execution_count": 109,
     "metadata": {},
     "output_type": "execute_result"
    }
   ],
   "source": [
    "class Student:\n",
    "    name = \"default\" # created an attribute\n",
    "\n",
    "# student's namespace\n",
    "print(Student.__dict__) # includes name attribute\n",
    "\n",
    "# gets name attribute from class\n",
    "Student.name # can access default value of attribute"
   ]
  },
  {
   "cell_type": "code",
   "execution_count": 110,
   "metadata": {},
   "outputs": [
    {
     "name": "stdout",
     "output_type": "stream",
     "text": [
      "{}\n"
     ]
    },
    {
     "data": {
      "text/plain": [
       "'default'"
      ]
     },
     "execution_count": 110,
     "metadata": {},
     "output_type": "execute_result"
    }
   ],
   "source": [
    "s1 = Student() # instantiated an object\n",
    "\n",
    "# s1's namespace\n",
    "print(s1.__dict__) # is empty\n",
    "\n",
    "s1.name # still works because it first searches instance's namespace, then class's namespace and uses default value"
   ]
  },
  {
   "cell_type": "code",
   "execution_count": 111,
   "metadata": {},
   "outputs": [
    {
     "name": "stdout",
     "output_type": "stream",
     "text": [
      "{'name': 'Ada', 'shoesize': 42}\n"
     ]
    }
   ],
   "source": [
    "s1.name = \"Ada\" # created an attribute on the fly, with dot notation\n",
    "s1.shoesize = 42 # can also create new attributes on the fly like so\n",
    "\n",
    "# s1's namespace\n",
    "print(s1.__dict__)"
   ]
  },
  {
   "cell_type": "code",
   "execution_count": 112,
   "metadata": {},
   "outputs": [
    {
     "data": {
      "text/plain": [
       "mappingproxy({'__module__': '__main__',\n",
       "              'name': 'default',\n",
       "              '__dict__': <attribute '__dict__' of 'Student' objects>,\n",
       "              '__weakref__': <attribute '__weakref__' of 'Student' objects>,\n",
       "              '__doc__': None})"
      ]
     },
     "execution_count": 112,
     "metadata": {},
     "output_type": "execute_result"
    }
   ],
   "source": [
    "# student's namespace\n",
    "Student.__dict__ # name is still default, shoesize does not exist"
   ]
  },
  {
   "cell_type": "code",
   "execution_count": 113,
   "metadata": {},
   "outputs": [
    {
     "name": "stdout",
     "output_type": "stream",
     "text": [
      "{}\n"
     ]
    },
    {
     "ename": "AttributeError",
     "evalue": "'Student' object has no attribute 'shoesize'",
     "output_type": "error",
     "traceback": [
      "\u001b[1;31m---------------------------------------------------------------------------\u001b[0m",
      "\u001b[1;31mAttributeError\u001b[0m                            Traceback (most recent call last)",
      "\u001b[1;32mc:\\GitHub\\Python-Andreas-Svensson\\Code-Alongs\\Lec17-OOP-theory.ipynb Cell 15\u001b[0m in \u001b[0;36m<cell line: 4>\u001b[1;34m()\u001b[0m\n\u001b[0;32m      <a href='vscode-notebook-cell:/c%3A/GitHub/Python-Andreas-Svensson/Code-Alongs/Lec17-OOP-theory.ipynb#X22sZmlsZQ%3D%3D?line=1'>2</a>\u001b[0m \u001b[39mprint\u001b[39m(s2\u001b[39m.\u001b[39m\u001b[39m__dict__\u001b[39m)\u001b[39m# still empty dict\u001b[39;00m\n\u001b[0;32m      <a href='vscode-notebook-cell:/c%3A/GitHub/Python-Andreas-Svensson/Code-Alongs/Lec17-OOP-theory.ipynb#X22sZmlsZQ%3D%3D?line=2'>3</a>\u001b[0m \u001b[39m# NOTE attributes are not bound to the class, they are bound to the object instance\u001b[39;00m\n\u001b[1;32m----> <a href='vscode-notebook-cell:/c%3A/GitHub/Python-Andreas-Svensson/Code-Alongs/Lec17-OOP-theory.ipynb#X22sZmlsZQ%3D%3D?line=3'>4</a>\u001b[0m s2\u001b[39m.\u001b[39;49mshoesize\n",
      "\u001b[1;31mAttributeError\u001b[0m: 'Student' object has no attribute 'shoesize'"
     ]
    }
   ],
   "source": [
    "s2 = Student()\n",
    "print(s2.__dict__)# still empty dict\n",
    "# NOTE attributes are not bound to the class, they are bound to the object instance\n",
    "s2.shoesize # this attribute does not exist in class, and therefore not in s2, was only added to s1"
   ]
  },
  {
   "cell_type": "markdown",
   "metadata": {},
   "source": [
    "## Namespace\n",
    "class attributes live in the class namespace  \n",
    "namespace - dictionary of symbols (keys): reference to objects (values)  \n",
    "(for example 'name': \"Ada\" name is the symbol referencing to string object \"Ada\")  \n",
    "\n",
    "Python will look at local scope first -> enclosing scope -> global scope -> built-in scope, when looking for variables"
   ]
  },
  {
   "cell_type": "code",
   "execution_count": null,
   "metadata": {},
   "outputs": [],
   "source": [
    "# global scope\n",
    "class Functions:\n",
    "    #encloding scope\n",
    "    def f(x):\n",
    "        # local scope\n",
    "        return x"
   ]
  },
  {
   "cell_type": "code",
   "execution_count": null,
   "metadata": {},
   "outputs": [
    {
     "name": "stdout",
     "output_type": "stream",
     "text": [
      "{'__module__': '__main__', 'eyes': 2, 'nose': 1, 'has_tail': True, '__init__': <function Rabbit.__init__ at 0x000002679A5F1AF0>, '__dict__': <attribute '__dict__' of 'Rabbit' objects>, '__weakref__': <attribute '__weakref__' of 'Rabbit' objects>, '__doc__': None}\n",
      "{'name': 'Bella'}\n"
     ]
    },
    {
     "data": {
      "text/plain": [
       "'Bella'"
      ]
     },
     "execution_count": 81,
     "metadata": {},
     "output_type": "execute_result"
    }
   ],
   "source": [
    "class Rabbit:\n",
    "    # class attributes - in class namespace, not in instance namespace\n",
    "    eyes = 2\n",
    "    nose = 1\n",
    "    has_tail = True\n",
    "\n",
    "    def __init__(self, name) -> None:\n",
    "        # name exists in instance namespace, not in class namespace\n",
    "        self.name = name\n",
    "\n",
    "rabbit1 = Rabbit(\"Bella\")\n",
    "print(Rabbit.__dict__) # eyes, nose, tail in class namespace, name not in class namespace\n",
    "print(rabbit1.__dict__) # name is in instance namespace"
   ]
  },
  {
   "cell_type": "code",
   "execution_count": null,
   "metadata": {},
   "outputs": [
    {
     "data": {
      "text/plain": [
       "'Bella'"
      ]
     },
     "execution_count": 85,
     "metadata": {},
     "output_type": "execute_result"
    }
   ],
   "source": [
    "rabbit1.name # finds name in local namespace"
   ]
  },
  {
   "cell_type": "code",
   "execution_count": null,
   "metadata": {},
   "outputs": [
    {
     "data": {
      "text/plain": [
       "1"
      ]
     },
     "execution_count": 84,
     "metadata": {},
     "output_type": "execute_result"
    }
   ],
   "source": [
    "rabbit1.nose # also finds nose, but in the class namespace"
   ]
  },
  {
   "cell_type": "code",
   "execution_count": null,
   "metadata": {},
   "outputs": [
    {
     "data": {
      "text/plain": [
       "False"
      ]
     },
     "execution_count": 89,
     "metadata": {},
     "output_type": "execute_result"
    }
   ],
   "source": [
    "class Rabbit:\n",
    "    # class attributes - in class namespace, not in instance namespace\n",
    "    eyes = 2\n",
    "    nose = 1\n",
    "    has_tail = True\n",
    "\n",
    "    def __init__(self, name) -> None:\n",
    "        # name exists in instance namespace, not in class namespace\n",
    "        self.name = name\n",
    "        self.has_tail = False\n",
    "\n",
    "rabbit2 = Rabbit(\"Skutt\")\n",
    "rabbit2.has_tail # finds variable in local namespace, since it searches local namespace first"
   ]
  },
  {
   "cell_type": "code",
   "execution_count": null,
   "metadata": {},
   "outputs": [
    {
     "data": {
      "text/plain": [
       "4"
      ]
     },
     "execution_count": 90,
     "metadata": {},
     "output_type": "execute_result"
    }
   ],
   "source": [
    "import numpy as np\n",
    "\n",
    "x = np.linspace(-5, 5) # x is in global scope\n",
    "\n",
    "f = lambda x: x**2 # x here is in local scope\n",
    "\n",
    "def f(x):\n",
    "    # local x will be equal to 2 since function is called with arg 2\n",
    "    y = x + 2\n",
    "    return y\n",
    "\n",
    "f(2)"
   ]
  },
  {
   "cell_type": "markdown",
   "metadata": {},
   "source": [
    "## Property"
   ]
  },
  {
   "cell_type": "code",
   "execution_count": null,
   "metadata": {},
   "outputs": [
    {
     "ename": "AttributeError",
     "evalue": "'Square' object has no attribute 'side'",
     "output_type": "error",
     "traceback": [
      "\u001b[1;31m---------------------------------------------------------------------------\u001b[0m",
      "\u001b[1;31mAttributeError\u001b[0m                            Traceback (most recent call last)",
      "\u001b[1;32mc:\\GitHub\\Python-Andreas-Svensson\\Code-Alongs\\Lec17-OOP-theory.ipynb Cell 24\u001b[0m in \u001b[0;36m<cell line: 16>\u001b[1;34m()\u001b[0m\n\u001b[0;32m     <a href='vscode-notebook-cell:/c%3A/GitHub/Python-Andreas-Svensson/Code-Alongs/Lec17-OOP-theory.ipynb#X34sZmlsZQ%3D%3D?line=12'>13</a>\u001b[0m         \u001b[39mself\u001b[39m\u001b[39m.\u001b[39m_side \u001b[39m=\u001b[39m value\n\u001b[0;32m     <a href='vscode-notebook-cell:/c%3A/GitHub/Python-Andreas-Svensson/Code-Alongs/Lec17-OOP-theory.ipynb#X34sZmlsZQ%3D%3D?line=14'>15</a>\u001b[0m unit_square \u001b[39m=\u001b[39m Square(\u001b[39m1\u001b[39m)\n\u001b[1;32m---> <a href='vscode-notebook-cell:/c%3A/GitHub/Python-Andreas-Svensson/Code-Alongs/Lec17-OOP-theory.ipynb#X34sZmlsZQ%3D%3D?line=15'>16</a>\u001b[0m unit_square\u001b[39m.\u001b[39;49mside\n",
      "\u001b[1;31mAttributeError\u001b[0m: 'Square' object has no attribute 'side'"
     ]
    }
   ],
   "source": [
    "# without property\n",
    "class Square:\n",
    "    def __init__(self, side) -> None:\n",
    "        self._side = side\n",
    "\n",
    "    # method\n",
    "    def get_side(self):\n",
    "        print(\"Getter run\")\n",
    "        return self._side\n",
    "\n",
    "    # method\n",
    "    def set_side(self, value):\n",
    "        print(\"Setter run\")\n",
    "        # validation code\n",
    "        self._side = value\n",
    "\n",
    "unit_square = Square(1)\n",
    "unit_square.side # side does not exist since we use _side in row 4"
   ]
  },
  {
   "cell_type": "code",
   "execution_count": null,
   "metadata": {},
   "outputs": [
    {
     "name": "stdout",
     "output_type": "stream",
     "text": [
      "{'__module__': '__main__', '__init__': <function Square.__init__ at 0x000002679A4330D0>, 'get_side': <function Square.get_side at 0x000002679A5F1DC0>, 'set_side': <function Square.set_side at 0x00000267B09F5040>, '__dict__': <attribute '__dict__' of 'Square' objects>, '__weakref__': <attribute '__weakref__' of 'Square' objects>, '__doc__': None}\n",
      "{'_side': 1}\n"
     ]
    }
   ],
   "source": [
    "print(Square.__dict__) # no side exists in either namespace\n",
    "print(unit_square.__dict__) # but _side exists in instance namespace"
   ]
  },
  {
   "cell_type": "code",
   "execution_count": null,
   "metadata": {},
   "outputs": [
    {
     "name": "stdout",
     "output_type": "stream",
     "text": [
      "Getter run\n",
      "Setter run\n",
      "Getter run\n"
     ]
    },
    {
     "data": {
      "text/plain": [
       "{'_side': 2}"
      ]
     },
     "execution_count": 97,
     "metadata": {},
     "output_type": "execute_result"
    }
   ],
   "source": [
    "unit_square.get_side() # this returns _side\n",
    "unit_square.set_side(2) # this sets _side to 2\n",
    "unit_square.get_side() # this returns _side\n",
    "unit_square.__dict__ # see that _side is indeed 2"
   ]
  },
  {
   "cell_type": "markdown",
   "metadata": {},
   "source": [
    "in python we don't want to use get_side and set_side, but rather side directly, therefore we use properties"
   ]
  },
  {
   "cell_type": "code",
   "execution_count": null,
   "metadata": {},
   "outputs": [
    {
     "name": "stdout",
     "output_type": "stream",
     "text": [
      "Setter run\n",
      "Getter run\n"
     ]
    },
    {
     "data": {
      "text/plain": [
       "4"
      ]
     },
     "execution_count": 99,
     "metadata": {},
     "output_type": "execute_result"
    }
   ],
   "source": [
    "# with property\n",
    "class Square:\n",
    "    def __init__(self, side) -> None:\n",
    "        self.side = side # NOTE now we can change to self.side, since we use setter to set _side and getter to get _side\n",
    "\n",
    "    def get_side(self):\n",
    "        print(\"Getter run\")\n",
    "        return self._side\n",
    "\n",
    "    def set_side(self, value):\n",
    "        print(\"Setter run\")\n",
    "        # validation code\n",
    "        self._side = value\n",
    "\n",
    "    side = property(fget = get_side, fset = set_side)\n",
    "\n",
    "square2 = Square(1)\n",
    "square2.side = 4\n",
    "square2.side\n"
   ]
  },
  {
   "cell_type": "markdown",
   "metadata": {},
   "source": [
    "## Decorators\n",
    "rewrite of class using property decorators instead  \n",
    "(same functionality)"
   ]
  },
  {
   "cell_type": "code",
   "execution_count": null,
   "metadata": {},
   "outputs": [
    {
     "name": "stdout",
     "output_type": "stream",
     "text": [
      "Setter run\n",
      "Setter run\n",
      "Getter run\n"
     ]
    },
    {
     "data": {
      "text/plain": [
       "4"
      ]
     },
     "execution_count": 101,
     "metadata": {},
     "output_type": "execute_result"
    }
   ],
   "source": [
    "# with property\n",
    "class Square:\n",
    "    def __init__(self, side) -> None:\n",
    "        self.side = side # NOTE now we can change to self.side, since we use setter to set _side and getter to get _side\n",
    "\n",
    "    @property # side = property(fget = side, fset = side.setter)\n",
    "    def side(self):\n",
    "        print(\"Getter run\")\n",
    "        return self._side\n",
    "\n",
    "    @side.setter\n",
    "    def side(self, value):\n",
    "        print(\"Setter run\")\n",
    "        # validation code\n",
    "        self._side = value\n",
    "\n",
    "square3 = Square(1)\n",
    "square3.side = 4\n",
    "square3.side\n"
   ]
  },
  {
   "cell_type": "code",
   "execution_count": null,
   "metadata": {},
   "outputs": [],
   "source": []
  }
 ],
 "metadata": {
  "kernelspec": {
   "display_name": "Python 3.9.13 ('Python-Andreas-Svensson-mdnrE2EN')",
   "language": "python",
   "name": "python3"
  },
  "language_info": {
   "codemirror_mode": {
    "name": "ipython",
    "version": 3
   },
   "file_extension": ".py",
   "mimetype": "text/x-python",
   "name": "python",
   "nbconvert_exporter": "python",
   "pygments_lexer": "ipython3",
   "version": "3.9.13"
  },
  "orig_nbformat": 4,
  "vscode": {
   "interpreter": {
    "hash": "ce5ca73635e776ed4a4fa3650670807b72bb0d2e4957ff61281a0d117b023fd0"
   }
  }
 },
 "nbformat": 4,
 "nbformat_minor": 2
}
