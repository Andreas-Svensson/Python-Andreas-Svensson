{
 "cells": [
  {
   "cell_type": "markdown",
   "metadata": {},
   "source": [
    "# Code along - input-output"
   ]
  },
  {
   "cell_type": "code",
   "execution_count": 9,
   "metadata": {},
   "outputs": [
    {
     "name": "stdout",
     "output_type": "stream",
     "text": [
      "hej Andreas, du är 27.8 år gammal\n",
      "name is now an int: 20\n"
     ]
    }
   ],
   "source": [
    "# variable - data type string\n",
    "# create a variable (\"box\") and assign a value to it\n",
    "name = \"Andreas\"\n",
    "\n",
    "# variable - data type float (float in python is a double)\n",
    "age = 27.8\n",
    "\n",
    "# this is an f-string (formatted string) which means we can add variables in strings\n",
    "print(f\"hej {name}, du är {age} år gammal\")\n",
    "\n",
    "# reassigns a value\n",
    "# note: bad practice\n",
    "name = 20\n",
    "print(f\"name is now an int: {name}\")"
   ]
  },
  {
   "cell_type": "markdown",
   "metadata": {},
   "source": [
    "## Inputs from user"
   ]
  },
  {
   "cell_type": "code",
   "execution_count": 10,
   "metadata": {},
   "outputs": [
    {
     "name": "stdout",
     "output_type": "stream",
     "text": [
      "Hello Andreas, you are 27 years old\n"
     ]
    }
   ],
   "source": [
    "name = input(\"What is your name?\")\n",
    "age = input(\"What is your age?\")\n",
    "\n",
    "print(f\"Hello {name}, you are {age} years old\")"
   ]
  },
  {
   "cell_type": "markdown",
   "metadata": {},
   "source": [
    "## Calculations"
   ]
  },
  {
   "cell_type": "code",
   "execution_count": 11,
   "metadata": {},
   "outputs": [
    {
     "name": "stdout",
     "output_type": "stream",
     "text": [
      "Your force is 569.5600000000001 N\n"
     ]
    }
   ],
   "source": [
    "gravity = 9.82\n",
    "mass = 58\n",
    "\n",
    "force = mass*gravity\n",
    "\n",
    "print(f\"Your force is {force} N\")"
   ]
  },
  {
   "cell_type": "code",
   "execution_count": 12,
   "metadata": {},
   "outputs": [
    {
     "name": "stdout",
     "output_type": "stream",
     "text": [
      "force=569.6 N\n"
     ]
    }
   ],
   "source": [
    "# this is a string\n",
    "mass = float(input(\"Enter your mass(kg):\"))\n",
    "\n",
    "# cannot multiply string\n",
    "# therefore convert string to float by using float()\n",
    "force = mass*gravity\n",
    "\n",
    "# force=    -> prints variable and its value\n",
    "# :.1f      -> rounds to 1 decimal point\n",
    "print(f\"{force=:.1f} N\")"
   ]
  },
  {
   "cell_type": "code",
   "execution_count": 19,
   "metadata": {},
   "outputs": [
    {
     "name": "stdout",
     "output_type": "stream",
     "text": [
      "force\n",
      "{force}\n",
      "569.5600000000001\n",
      "569.6\n",
      "force = 569.6\n",
      "{}\n"
     ]
    }
   ],
   "source": [
    "\n",
    "print(\"force\")\n",
    "print(\"{force}\")\n",
    "print(f\"{force}\")\n",
    "print(f\"{force:.1f}\")\n",
    "print(f\"{force = :.1f}\")\n",
    "print(f\"{{}}\")"
   ]
  },
  {
   "cell_type": "markdown",
   "metadata": {},
   "source": []
  }
 ],
 "metadata": {
  "kernelspec": {
   "display_name": "Python 3.9.13 ('Python-Andreas-Svensson-mdnrE2EN')",
   "language": "python",
   "name": "python3"
  },
  "language_info": {
   "codemirror_mode": {
    "name": "ipython",
    "version": 3
   },
   "file_extension": ".py",
   "mimetype": "text/x-python",
   "name": "python",
   "nbconvert_exporter": "python",
   "pygments_lexer": "ipython3",
   "version": "3.9.13"
  },
  "orig_nbformat": 4,
  "vscode": {
   "interpreter": {
    "hash": "ce5ca73635e776ed4a4fa3650670807b72bb0d2e4957ff61281a0d117b023fd0"
   }
  }
 },
 "nbformat": 4,
 "nbformat_minor": 2
}
