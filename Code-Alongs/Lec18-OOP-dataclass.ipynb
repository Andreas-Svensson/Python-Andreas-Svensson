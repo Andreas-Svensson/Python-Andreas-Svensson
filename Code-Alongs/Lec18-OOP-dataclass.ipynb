{
 "cells": [
  {
   "cell_type": "markdown",
   "metadata": {},
   "source": [
    "# Dataclass\n",
    "give us some boilerplate code for free  \n",
    "usually used for classes that store a lot of data  \n",
    "in method-heavy classes, dataclass might not help much (but it may sometimes still)  \n",
    "\n",
    "gives free:  \n",
    "`__init__()`  \n",
    "`__repr__()`  \n",
    "`__eq__()`  \n",
    "and more  "
   ]
  },
  {
   "cell_type": "code",
   "execution_count": 13,
   "metadata": {},
   "outputs": [
    {
     "name": "stdout",
     "output_type": "stream",
     "text": [
      "Value Setter run\n",
      "Value must be int or float, not property\n",
      "Value Setter run\n",
      "Value Getter run\n",
      "Prefix(value=42, unit='unit', prefix_symbol=None)\n"
     ]
    }
   ],
   "source": [
    "from __future__ import annotations\n",
    "from dataclasses import dataclass\n",
    "\n",
    "@dataclass\n",
    "class Prefix:\n",
    "    # fields will go into the automatically generated __init__(), __repr__()\n",
    "    # fields - variable: type annotation\n",
    "    value: (int | float) # positional argument = argument with no default value\n",
    "    unit: str = \"unit\" # keyword argument = argument with default value\n",
    "    prefix_symbol: str = None # keyword argument\n",
    "\n",
    "    # bare class attributes\n",
    "    symbols = \"T G M k h d c m µ n p\".split() # not a field, therefore not added as parameter to __init__(), and __repr__()\n",
    "    names = \"tera giga mega kilo hekto deci centi milli mikro nano piko\".split()\n",
    "    values = (10**i for i in (12, 9, 6, 3, 2, -1, -2, -3, -6, -9, -12))\n",
    "\n",
    "    @property\n",
    "    def value(self):\n",
    "        print(\"Value Getter run\")\n",
    "        return self._value\n",
    "\n",
    "    @value.setter\n",
    "    def value(self, value: (int | float)):\n",
    "        print(\"Value Setter run\")\n",
    "        if not isinstance(value, (int, float)):\n",
    "            raise TypeError(f\"Value must be int or float, not {type(value).__name__}\")\n",
    "        self._value = value\n",
    "\n",
    "try:\n",
    "    p1 = Prefix() # has created __init__ for us\n",
    "except TypeError as err:\n",
    "    print(err)\n",
    "\n",
    "p1 = Prefix(42) # has created __repr__ for us\n",
    "print(p1)\n"
   ]
  }
 ],
 "metadata": {
  "kernelspec": {
   "display_name": "Python 3.9.13 ('Python-Andreas-Svensson-mdnrE2EN')",
   "language": "python",
   "name": "python3"
  },
  "language_info": {
   "codemirror_mode": {
    "name": "ipython",
    "version": 3
   },
   "file_extension": ".py",
   "mimetype": "text/x-python",
   "name": "python",
   "nbconvert_exporter": "python",
   "pygments_lexer": "ipython3",
   "version": "3.9.13"
  },
  "orig_nbformat": 4,
  "vscode": {
   "interpreter": {
    "hash": "ce5ca73635e776ed4a4fa3650670807b72bb0d2e4957ff61281a0d117b023fd0"
   }
  }
 },
 "nbformat": 4,
 "nbformat_minor": 2
}
