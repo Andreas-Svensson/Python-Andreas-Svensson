{
 "cells": [
  {
   "cell_type": "markdown",
   "metadata": {},
   "source": [
    "# Dataclass\n",
    "give us some boilerplate code for free  \n",
    "usually used for classes that store a lot of data  \n",
    "in method-heavy classes, dataclass might not help much (but it may sometimes still)  \n",
    "\n",
    "gives free:  \n",
    "`__init__()`  \n",
    "`__repr__()`  \n",
    "`__eq__()`  \n",
    "and more  "
   ]
  },
  {
   "cell_type": "code",
   "execution_count": 4,
   "metadata": {},
   "outputs": [
    {
     "name": "stdout",
     "output_type": "stream",
     "text": [
      "Value Setter run\n",
      "Value must be int or float, not property\n",
      "Value Setter run\n",
      "Value Getter run\n",
      "42 unit\n"
     ]
    }
   ],
   "source": [
    "from __future__ import annotations\n",
    "from dataclasses import dataclass\n",
    "\n",
    "@dataclass\n",
    "class Prefix:\n",
    "    # fields will go into the automatically generated __init__(), __repr__()\n",
    "    # fields - variable: type annotation\n",
    "    value: (int | float) # positional argument = argument with no default value\n",
    "    unit: str = \"unit\" # keyword argument = argument with default value\n",
    "    prefix_symbol: str = None # keyword argument\n",
    "\n",
    "    # bare class attributes\n",
    "    symbols = \"T G M k h d c m µ n p\".split() # not a field, therefore not added as parameter to __init__(), and __repr__()\n",
    "    names = \"tera giga mega kilo hekto deci centi milli mikro nano piko\".split()\n",
    "    values = (10**i for i in (12, 9, 6, 3, 2, -1, -2, -3, -6, -9, -12)) # this is a generator type object, can be iterated\n",
    "\n",
    "    # dictionary comprehension\n",
    "    prefix_dict = {\n",
    "        symbol: [value, name]\n",
    "        for name, symbol, value in zip(names, symbols, values)\n",
    "    }\n",
    "\n",
    "    def convert(self, symbol: str) -> float | int:\n",
    "        self.prefix_symbol = symbol\n",
    "        return self.value / self.prefix_dict[symbol][0]\n",
    "\n",
    "    def __str__(self) -> str:\n",
    "        if self.prefix_symbol:\n",
    "            return f\"{self.convert(self.prefix_symbol)}{self.prefix_symbol}{self.unit}\"\n",
    "        return f\"{self.value} {self.unit}\"\n",
    "\n",
    "    @property\n",
    "    def value(self):\n",
    "        print(\"Value Getter run\")\n",
    "        return self._value\n",
    "\n",
    "    @value.setter\n",
    "    def value(self, value: (int | float)):\n",
    "        print(\"Value Setter run\")\n",
    "        if not isinstance(value, (int, float)):\n",
    "            raise TypeError(f\"Value must be int or float, not {type(value).__name__}\")\n",
    "        self._value = value\n",
    "\n",
    "try:\n",
    "    p1 = Prefix() # has created __init__ for us\n",
    "except TypeError as err:\n",
    "    print(err)\n",
    "\n",
    "p1 = Prefix(42) # has created __repr__ for us\n",
    "print(p1) # __repr__ uses fields and not class attributes\n"
   ]
  },
  {
   "cell_type": "code",
   "execution_count": 10,
   "metadata": {},
   "outputs": [
    {
     "name": "stdout",
     "output_type": "stream",
     "text": [
      "Value Setter run\n",
      "Value Getter run\n",
      "42 g\n",
      "Value Getter run\n",
      "Value Getter run\n",
      "42000.0mg\n"
     ]
    }
   ],
   "source": [
    "p1 = Prefix(42, \"g\")\n",
    "print(p1) # __str__ if-statement sees no prefix symbol is set, and thus returns \"value units\"\n",
    "\n",
    "p1.convert(\"m\")\n",
    "\n",
    "print(p1) # __str__ if-statement sees prefix symbol IS set, and thus returns value converted according to set prefix symbol"
   ]
  },
  {
   "cell_type": "code",
   "execution_count": 13,
   "metadata": {},
   "outputs": [
    {
     "name": "stdout",
     "output_type": "stream",
     "text": [
      "Value Setter run\n",
      "Value Setter run\n",
      "Value Getter run\n",
      "Value Getter run\n"
     ]
    },
    {
     "data": {
      "text/plain": [
       "False"
      ]
     },
     "execution_count": 13,
     "metadata": {},
     "output_type": "execute_result"
    }
   ],
   "source": [
    "p1 = Prefix(42, \"g\")\n",
    "p2 = Prefix(12, \"g\")\n",
    "\n",
    "p1 == p2"
   ]
  },
  {
   "cell_type": "code",
   "execution_count": null,
   "metadata": {},
   "outputs": [],
   "source": []
  }
 ],
 "metadata": {
  "kernelspec": {
   "display_name": "Python 3.9.13 ('Python-Andreas-Svensson-mdnrE2EN')",
   "language": "python",
   "name": "python3"
  },
  "language_info": {
   "codemirror_mode": {
    "name": "ipython",
    "version": 3
   },
   "file_extension": ".py",
   "mimetype": "text/x-python",
   "name": "python",
   "nbconvert_exporter": "python",
   "pygments_lexer": "ipython3",
   "version": "3.9.13"
  },
  "orig_nbformat": 4,
  "vscode": {
   "interpreter": {
    "hash": "ce5ca73635e776ed4a4fa3650670807b72bb0d2e4957ff61281a0d117b023fd0"
   }
  }
 },
 "nbformat": 4,
 "nbformat_minor": 2
}
