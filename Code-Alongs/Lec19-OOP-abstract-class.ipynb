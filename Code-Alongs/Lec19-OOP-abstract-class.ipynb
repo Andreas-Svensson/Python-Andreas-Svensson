{
 "cells": [
  {
   "cell_type": "markdown",
   "metadata": {},
   "source": [
    "# Abstract classes"
   ]
  },
  {
   "cell_type": "markdown",
   "metadata": {},
   "source": [
    "## Problem description\n",
    "\n",
    "3 developers, the task is to implement a photosyntesis method for 3 different plants  \n"
   ]
  },
  {
   "cell_type": "code",
   "execution_count": 10,
   "metadata": {},
   "outputs": [
    {
     "name": "stdout",
     "output_type": "stream",
     "text": [
      "VenusFlyTrap eating bugs\n",
      "VenusFlyTrap does photosyntesis\n"
     ]
    }
   ],
   "source": [
    "# developer 1\n",
    "class VenusFlyTrap:\n",
    "    def venus_photosyntesis(self):\n",
    "        print(f\"{self.__class__.__name__} eating bugs\") # checks instance class and its name\n",
    "        print(f\"{type(self).__name__} does photosyntesis\") # checks type of self and its name (same thing)\n",
    "\n",
    "# developer 2\n",
    "class Monstera:\n",
    "    def monstera_photosyntesis(self):\n",
    "        print(f\"{type(self).__name__} looking cool\")\n",
    "        print(f\"{type(self).__name__} does photosyntesis\")\n",
    "\n",
    "# developer 3\n",
    "class MoneyPlant:\n",
    "    def photosyntesis(self):\n",
    "        print(f\"{type(self).__name__} hopefully comes in\")\n",
    "        print(f\"{type(self).__name__} does photosyntesis\")\n",
    "\n",
    "venus = VenusFlyTrap()\n",
    "venus.venus_photosyntesis()"
   ]
  },
  {
   "cell_type": "code",
   "execution_count": 11,
   "metadata": {},
   "outputs": [
    {
     "ename": "AttributeError",
     "evalue": "'VenusFlyTrap' object has no attribute 'photosyntesis'",
     "output_type": "error",
     "traceback": [
      "\u001b[1;31m---------------------------------------------------------------------------\u001b[0m",
      "\u001b[1;31mAttributeError\u001b[0m                            Traceback (most recent call last)",
      "\u001b[1;32mc:\\GitHub\\Python-Andreas-Svensson\\Code-Alongs\\Lec19-OOP-abstract-class.ipynb Cell 4\u001b[0m in \u001b[0;36m<cell line: 5>\u001b[1;34m()\u001b[0m\n\u001b[0;32m      <a href='vscode-notebook-cell:/c%3A/GitHub/Python-Andreas-Svensson/Code-Alongs/Lec19-OOP-abstract-class.ipynb#W3sZmlsZQ%3D%3D?line=2'>3</a>\u001b[0m plants \u001b[39m=\u001b[39m (VenusFlyTrap(), Monstera(), MoneyPlant())\n\u001b[0;32m      <a href='vscode-notebook-cell:/c%3A/GitHub/Python-Andreas-Svensson/Code-Alongs/Lec19-OOP-abstract-class.ipynb#W3sZmlsZQ%3D%3D?line=4'>5</a>\u001b[0m \u001b[39mfor\u001b[39;00m plant \u001b[39min\u001b[39;00m plants:\n\u001b[1;32m----> <a href='vscode-notebook-cell:/c%3A/GitHub/Python-Andreas-Svensson/Code-Alongs/Lec19-OOP-abstract-class.ipynb#W3sZmlsZQ%3D%3D?line=5'>6</a>\u001b[0m     plant\u001b[39m.\u001b[39;49mphotosyntesis()\n",
      "\u001b[1;31mAttributeError\u001b[0m: 'VenusFlyTrap' object has no attribute 'photosyntesis'"
     ]
    }
   ],
   "source": [
    "# imagine we merge these 3 developer's code to same code base (or import them as modules to same file)\n",
    "# want to use polymorphism and loop through these plants:\n",
    "plants = (VenusFlyTrap(), Monstera(), MoneyPlant())\n",
    "\n",
    "for plant in plants:\n",
    "    plant.photosyntesis()"
   ]
  },
  {
   "cell_type": "markdown",
   "metadata": {},
   "source": [
    "## ABC - abstract base class\n",
    "\n",
    "Can make a base class abstract by giving it at least one abstract method  \n",
    "\n",
    "Abstract classes:  \n",
    "- cannot be instantiated  \n",
    "- subclasses of this abstract class must implement the abstract methods in order to be instantiable"
   ]
  },
  {
   "cell_type": "code",
   "execution_count": 12,
   "metadata": {},
   "outputs": [
    {
     "ename": "TypeError",
     "evalue": "Can't instantiate abstract class Plant with abstract method photosyntesis",
     "output_type": "error",
     "traceback": [
      "\u001b[1;31m---------------------------------------------------------------------------\u001b[0m",
      "\u001b[1;31mTypeError\u001b[0m                                 Traceback (most recent call last)",
      "\u001b[1;32mc:\\GitHub\\Python-Andreas-Svensson\\Code-Alongs\\Lec19-OOP-abstract-class.ipynb Cell 6\u001b[0m in \u001b[0;36m<cell line: 8>\u001b[1;34m()\u001b[0m\n\u001b[0;32m      <a href='vscode-notebook-cell:/c%3A/GitHub/Python-Andreas-Svensson/Code-Alongs/Lec19-OOP-abstract-class.ipynb#W4sZmlsZQ%3D%3D?line=3'>4</a>\u001b[0m     \u001b[39m@abstractmethod\u001b[39m \u001b[39m# abstract decorator\u001b[39;00m\n\u001b[0;32m      <a href='vscode-notebook-cell:/c%3A/GitHub/Python-Andreas-Svensson/Code-Alongs/Lec19-OOP-abstract-class.ipynb#W4sZmlsZQ%3D%3D?line=4'>5</a>\u001b[0m     \u001b[39mdef\u001b[39;00m \u001b[39mphotosyntesis\u001b[39m(\u001b[39mself\u001b[39m):\n\u001b[0;32m      <a href='vscode-notebook-cell:/c%3A/GitHub/Python-Andreas-Svensson/Code-Alongs/Lec19-OOP-abstract-class.ipynb#W4sZmlsZQ%3D%3D?line=5'>6</a>\u001b[0m         \u001b[39mpass\u001b[39;00m\n\u001b[1;32m----> <a href='vscode-notebook-cell:/c%3A/GitHub/Python-Andreas-Svensson/Code-Alongs/Lec19-OOP-abstract-class.ipynb#W4sZmlsZQ%3D%3D?line=7'>8</a>\u001b[0m planty \u001b[39m=\u001b[39m Plant()\n",
      "\u001b[1;31mTypeError\u001b[0m: Can't instantiate abstract class Plant with abstract method photosyntesis"
     ]
    }
   ],
   "source": [
    "from abc import abstractmethod, ABC\n",
    "\n",
    "class Plant(ABC): # abstract class must inherit from ABC - abstract base class\n",
    "    @abstractmethod # abstract decorator\n",
    "    def photosyntesis(self):\n",
    "        pass\n",
    "\n",
    "planty = Plant() # cannot instantiate abstract class, a class is abstract if it has an abstract method"
   ]
  },
  {
   "cell_type": "code",
   "execution_count": 19,
   "metadata": {},
   "outputs": [
    {
     "name": "stdout",
     "output_type": "stream",
     "text": [
      "<__main__.MoneyPlant object at 0x0000027B8A89E0A0>\n"
     ]
    },
    {
     "ename": "TypeError",
     "evalue": "Can't instantiate abstract class Monstera with abstract method photosyntesis",
     "output_type": "error",
     "traceback": [
      "\u001b[1;31m---------------------------------------------------------------------------\u001b[0m",
      "\u001b[1;31mTypeError\u001b[0m                                 Traceback (most recent call last)",
      "\u001b[1;32mc:\\GitHub\\Python-Andreas-Svensson\\Code-Alongs\\Lec19-OOP-abstract-class.ipynb Cell 7\u001b[0m in \u001b[0;36m<cell line: 31>\u001b[1;34m()\u001b[0m\n\u001b[0;32m     <a href='vscode-notebook-cell:/c%3A/GitHub/Python-Andreas-Svensson/Code-Alongs/Lec19-OOP-abstract-class.ipynb#W6sZmlsZQ%3D%3D?line=27'>28</a>\u001b[0m money \u001b[39m=\u001b[39m MoneyPlant()\n\u001b[0;32m     <a href='vscode-notebook-cell:/c%3A/GitHub/Python-Andreas-Svensson/Code-Alongs/Lec19-OOP-abstract-class.ipynb#W6sZmlsZQ%3D%3D?line=28'>29</a>\u001b[0m \u001b[39mprint\u001b[39m(money) \u001b[39m# no problems\u001b[39;00m\n\u001b[1;32m---> <a href='vscode-notebook-cell:/c%3A/GitHub/Python-Andreas-Svensson/Code-Alongs/Lec19-OOP-abstract-class.ipynb#W6sZmlsZQ%3D%3D?line=30'>31</a>\u001b[0m monstera \u001b[39m=\u001b[39m Monstera()\n",
      "\u001b[1;31mTypeError\u001b[0m: Can't instantiate abstract class Monstera with abstract method photosyntesis"
     ]
    }
   ],
   "source": [
    "# continuing above example using abstract parent class:\n",
    "\n",
    "from abc import abstractmethod, ABC\n",
    "\n",
    "class Plant(ABC): # abstract class must inherit from ABC - abstract base class\n",
    "    @abstractmethod # abstract decorator\n",
    "    def photosyntesis(self):\n",
    "        pass\n",
    "\n",
    "# developer 1\n",
    "class VenusFlyTrap(Plant): # add inheritance\n",
    "    def venus_photosyntesis(self):\n",
    "        print(f\"{self.__class__.__name__} eating bugs\") # checks instance class and its name\n",
    "        print(f\"{type(self).__name__} does photosyntesis\") # checks type of self and its name (same thing)\n",
    "\n",
    "# developer 2\n",
    "class Monstera(Plant): # add inheritance\n",
    "    def monstera_photosyntesis(self):\n",
    "        print(f\"{type(self).__name__} looking cool\")\n",
    "        print(f\"{type(self).__name__} does photosyntesis\")\n",
    "\n",
    "# developer 3\n",
    "class MoneyPlant(Plant): # add inheritance\n",
    "    def photosyntesis(self):\n",
    "        print(f\"{type(self).__name__} hopefully comes in\")\n",
    "        print(f\"{type(self).__name__} does photosyntesis\")\n",
    "\n",
    "money = MoneyPlant()\n",
    "print(money) # no problems\n",
    "\n",
    "monstera = Monstera() # cannot instantiate because of lacking abstract method in child class"
   ]
  },
  {
   "cell_type": "code",
   "execution_count": 27,
   "metadata": {},
   "outputs": [
    {
     "name": "stdout",
     "output_type": "stream",
     "text": [
      "VenusFlyTrap eating bugs\n",
      "VenusFlyTrap does photosyntesis\n",
      "\n",
      "Monstera looking cool\n",
      "Monstera does photosyntesis\n",
      "\n",
      "MoneyPlant hopefully comes in\n",
      "MoneyPlant does photosyntesis\n",
      "\n"
     ]
    }
   ],
   "source": [
    "# continuing above example using abstract parent class:\n",
    "\n",
    "from abc import abstractmethod, ABC\n",
    "\n",
    "class Plant(ABC): # abstract class must inherit from ABC - abstract base class\n",
    "    @abstractmethod # abstract decorator\n",
    "    def photosyntesis(self):\n",
    "        pass\n",
    "\n",
    "# developer 1\n",
    "class VenusFlyTrap(Plant): # add inheritance\n",
    "    def photosyntesis(self):\n",
    "        print(f\"{self.__class__.__name__} eating bugs\") # checks instance class and its name\n",
    "        print(f\"{type(self).__name__} does photosyntesis\") # checks type of self and its name (same thing)\n",
    "\n",
    "# developer 2\n",
    "class Monstera(Plant): # add inheritance\n",
    "    def photosyntesis(self):\n",
    "        print(f\"{type(self).__name__} looking cool\")\n",
    "        print(f\"{type(self).__name__} does photosyntesis\")\n",
    "\n",
    "# developer 3\n",
    "class MoneyPlant(Plant): # add inheritance\n",
    "    def photosyntesis(self):\n",
    "        print(f\"{type(self).__name__} hopefully comes in\")\n",
    "        print(f\"{type(self).__name__} does photosyntesis\")\n",
    "\n",
    "venus = VenusFlyTrap()\n",
    "monstera = Monstera()\n",
    "money = MoneyPlant()\n",
    "\n",
    "for plant in (venus, monstera, money):\n",
    "    plant.photosyntesis() # if class does not have matching method name, it will run parent class method, can be used as error handling\n",
    "    print()"
   ]
  },
  {
   "cell_type": "code",
   "execution_count": null,
   "metadata": {},
   "outputs": [],
   "source": []
  }
 ],
 "metadata": {
  "kernelspec": {
   "display_name": "Python 3.9.13 ('Python-Andreas-Svensson-mdnrE2EN')",
   "language": "python",
   "name": "python3"
  },
  "language_info": {
   "codemirror_mode": {
    "name": "ipython",
    "version": 3
   },
   "file_extension": ".py",
   "mimetype": "text/x-python",
   "name": "python",
   "nbconvert_exporter": "python",
   "pygments_lexer": "ipython3",
   "version": "3.9.13"
  },
  "orig_nbformat": 4,
  "vscode": {
   "interpreter": {
    "hash": "ce5ca73635e776ed4a4fa3650670807b72bb0d2e4957ff61281a0d117b023fd0"
   }
  }
 },
 "nbformat": 4,
 "nbformat_minor": 2
}
