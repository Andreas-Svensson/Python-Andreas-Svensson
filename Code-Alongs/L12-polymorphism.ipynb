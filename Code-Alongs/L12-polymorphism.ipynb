{
 "cells": [
  {
   "cell_type": "markdown",
   "metadata": {},
   "source": [
    "## polymorphism"
   ]
  },
  {
   "cell_type": "code",
   "execution_count": 192,
   "metadata": {},
   "outputs": [
    {
     "name": "stdout",
     "output_type": "stream",
     "text": [
      "len([1, 23, 4]) = 3 (list)\n",
      "len('1, 23, 4') = 8 (string)\n"
     ]
    }
   ],
   "source": [
    "# example with python built-in\n",
    "\n",
    "# examples of polymorphic behaviour\n",
    "print(f\"{len([1, 23, 4]) = } (list)\")\n",
    "print(f\"{len('1, 23, 4') = } (string)\")"
   ]
  },
  {
   "cell_type": "markdown",
   "metadata": {},
   "source": [
    "## polymorphism in class method"
   ]
  },
  {
   "cell_type": "code",
   "execution_count": 193,
   "metadata": {},
   "outputs": [],
   "source": [
    "class Fish:\n",
    "    def __init__(self, name):\n",
    "        self.name = name\n",
    "    \n",
    "    def __str__(self): # dunder string method override\n",
    "        return f\"I am a fish with name {self.name}\"\n",
    "\n",
    "    def __repr__(self) -> str: # dunder string method override\n",
    "        return f\"Fish(name='{self.name}')\"\n",
    "\n",
    "    def speak(self):\n",
    "        return \"Blubby blubby\"\n",
    "\n",
    "class Fox:\n",
    "    def __init__(self, name):\n",
    "        self.name = name\n",
    "\n",
    "    def __str__(self) -> str: # dunder string method override\n",
    "        return f\"I am a fox with name {self.name}\"\n",
    "\n",
    "    def __repr__(self) -> str: # dunder string method override\n",
    "        return f\"Fox(name='{self.name}')\"\n",
    "\n",
    "    def speak(self):\n",
    "        return NotImplemented"
   ]
  },
  {
   "cell_type": "code",
   "execution_count": 194,
   "metadata": {},
   "outputs": [
    {
     "name": "stdout",
     "output_type": "stream",
     "text": [
      "I am a fish with name Guppie\n",
      "Fish(name='Guppie')\n"
     ]
    }
   ],
   "source": [
    "fish1 = Fish(\"Guppie\")\n",
    "print(str(fish1)) # for user\n",
    "print(repr(fish1)) # for programmer"
   ]
  },
  {
   "cell_type": "code",
   "execution_count": 195,
   "metadata": {},
   "outputs": [
    {
     "data": {
      "text/plain": [
       "'I am a fox with name Fox'"
      ]
     },
     "execution_count": 195,
     "metadata": {},
     "output_type": "execute_result"
    }
   ],
   "source": [
    "fox1 = Fox(\"Fox\")\n",
    "str(fox1) # for user"
   ]
  },
  {
   "cell_type": "code",
   "execution_count": 196,
   "metadata": {},
   "outputs": [
    {
     "name": "stdout",
     "output_type": "stream",
     "text": [
      "I am a fish with name Guppie\n",
      "Blubby blubby\n",
      "I am a fox with name Fox\n",
      "NotImplemented\n"
     ]
    }
   ],
   "source": [
    "animals = (fish1, fox1) # tuple (immutable list)\n",
    "\n",
    "for animal in animals:\n",
    "    print(animal)\n",
    "    print(animal.speak())"
   ]
  },
  {
   "cell_type": "markdown",
   "metadata": {},
   "source": [
    "## operator overloading  \n",
    "https://www.geeksforgeeks.org/operator-overloading-in-python/  \n",
    "can also use on functions like `__len__` (dunder len)"
   ]
  },
  {
   "cell_type": "code",
   "execution_count": 197,
   "metadata": {},
   "outputs": [],
   "source": [
    "from __future__ import annotations\n",
    "\n",
    "class Vector:\n",
    "    \"\"\"Class to represent Euclidean vector with magnitude and direction\"\"\"\n",
    "\n",
    "    def __init__(self, *numbers: float | int) -> None: # NOTE: *numbers -> arbitrary number of positional arguments\n",
    "        for number in numbers:\n",
    "            if not isinstance(number, (float, int)):\n",
    "                raise TypeError(f\"{number} is not a valid number\")\n",
    "        if len(numbers) == 0:\n",
    "            raise ValueError(f\"Vectors can not be empty\")\n",
    "        self._numbers = tuple(float(number) for number in numbers)\n",
    "\n",
    "    @property\n",
    "    def numbers(self) -> tuple:\n",
    "        \"\"\"Returns numbers\"\"\"\n",
    "        return self._numbers\n",
    "\n",
    "    # operator overload dunder add (+)\n",
    "    def __add__(self, other: Vector) -> Vector: # type hinting to Vector\n",
    "        if self.validate_vectors(other):\n",
    "            numbers = (a + b for a, b in zip(self.numbers, other.numbers))\n",
    "            return Vector(*numbers)\n",
    "    \n",
    "    # NOTE to use len(Vector) we have to overload __len__\n",
    "    def __len__(self) -> int:\n",
    "        \"\"\"Return number of elements in Vector, not length of the actual vector\"\"\"\n",
    "        return len(self.numbers)\n",
    "\n",
    "    def validate_vectors(self, other: Vector) -> bool:\n",
    "        \"\"\"Validates if two vectors are of the same length\"\"\"\n",
    "        if not isinstance(other, Vector) or len(other) != len(self): # NOTE: len does not inherently work on Vector, we add our own __len__ overload \n",
    "            raise TypeError(f\"Both must be Vector of equal length\")\n",
    "        return len(self) == len(other)\n",
    "\n",
    "\n",
    "    def __repr__(self) -> str:\n",
    "        return f\"Vector{self._numbers}\""
   ]
  },
  {
   "cell_type": "code",
   "execution_count": 198,
   "metadata": {},
   "outputs": [
    {
     "name": "stdout",
     "output_type": "stream",
     "text": [
      "Vector(1.0, 2.0, 3.0)\n",
      "(1.0, 2.0, 3.0)\n"
     ]
    }
   ],
   "source": [
    "v1 = Vector(1, 2, 3)\n",
    "print(v1) # points to __repr__ if __str__ does not exist\n",
    "print(v1.numbers)"
   ]
  },
  {
   "cell_type": "code",
   "execution_count": 199,
   "metadata": {},
   "outputs": [
    {
     "name": "stdout",
     "output_type": "stream",
     "text": [
      "Vectors can not be empty\n"
     ]
    }
   ],
   "source": [
    "try:\n",
    "    v2 = Vector() # empty vector should not be allowed\n",
    "    v3 = Vector(\"asd\") # vector of non-numeric values should not be allowed\n",
    "except ValueError as err:\n",
    "    print(err)\n",
    "except TypeError as err:\n",
    "    print(err)"
   ]
  },
  {
   "cell_type": "code",
   "execution_count": 200,
   "metadata": {},
   "outputs": [
    {
     "name": "stdout",
     "output_type": "stream",
     "text": [
      "v4 = Vector(2.0, 3.0),\n",
      "v5 = Vector(-1.0, -2.0)\n",
      "v6 = Vector(1.0, 1.0)\n"
     ]
    }
   ],
   "source": [
    "v4 = Vector(2, 3)\n",
    "v5 = Vector(-1, -2)\n",
    "\n",
    "print(f\"{v4 = },\\n{v5 = }\")\n",
    "v6 = v4 + v5 # due to overriding __add__ in Vector, we can use + operator, this is called operator overloading the + operator\n",
    "print(f\"{v6 = }\")"
   ]
  },
  {
   "cell_type": "code",
   "execution_count": 201,
   "metadata": {},
   "outputs": [
    {
     "ename": "TypeError",
     "evalue": "unsupported operand type(s) for -: 'Vector' and 'Vector'",
     "output_type": "error",
     "traceback": [
      "\u001b[1;31m---------------------------------------------------------------------------\u001b[0m",
      "\u001b[1;31mTypeError\u001b[0m                                 Traceback (most recent call last)",
      "\u001b[1;32mc:\\GitHub\\Python-Andreas-Svensson\\Code-Alongs\\L12-polymorphism.ipynb Cell 13\u001b[0m in \u001b[0;36m<cell line: 1>\u001b[1;34m()\u001b[0m\n\u001b[1;32m----> <a href='vscode-notebook-cell:/c%3A/GitHub/Python-Andreas-Svensson/Code-Alongs/L12-polymorphism.ipynb#X20sZmlsZQ%3D%3D?line=0'>1</a>\u001b[0m v4 \u001b[39m-\u001b[39;49m v5\n",
      "\u001b[1;31mTypeError\u001b[0m: unsupported operand type(s) for -: 'Vector' and 'Vector'"
     ]
    }
   ],
   "source": [
    "v4 - v5 # operator not overloaded, cannot subtract vector from vector"
   ]
  },
  {
   "cell_type": "code",
   "execution_count": null,
   "metadata": {},
   "outputs": [
    {
     "ename": "AttributeError",
     "evalue": "'Vector' object has no attribute '__sub__'",
     "output_type": "error",
     "traceback": [
      "\u001b[1;31m---------------------------------------------------------------------------\u001b[0m",
      "\u001b[1;31mAttributeError\u001b[0m                            Traceback (most recent call last)",
      "\u001b[1;32mc:\\GitHub\\Python-Andreas-Svensson\\Code-Alongs\\L12-polymorphism.ipynb Cell 14\u001b[0m in \u001b[0;36m<cell line: 1>\u001b[1;34m()\u001b[0m\n\u001b[1;32m----> <a href='vscode-notebook-cell:/c%3A/GitHub/Python-Andreas-Svensson/Code-Alongs/L12-polymorphism.ipynb#X21sZmlsZQ%3D%3D?line=0'>1</a>\u001b[0m \u001b[39mprint\u001b[39m(v4\u001b[39m.\u001b[39;49m\u001b[39m__sub__\u001b[39;49m(v5))\n",
      "\u001b[1;31mAttributeError\u001b[0m: 'Vector' object has no attribute '__sub__'"
     ]
    }
   ],
   "source": [
    "print(v4.__sub__(v5))"
   ]
  },
  {
   "cell_type": "code",
   "execution_count": 204,
   "metadata": {},
   "outputs": [
    {
     "name": "stdout",
     "output_type": "stream",
     "text": [
      "3\n",
      "2\n",
      "Both must be Vector of equal length\n"
     ]
    }
   ],
   "source": [
    "print(len(v1)) # can now use len on Vector objects since we overloaded __len__ in Vector\n",
    "print(len(v4))\n",
    "\n",
    "try:\n",
    "    v1 + v4 # unable to add v1 + v4 due to validate_vector returning false when comparing length of v1 and v4\n",
    "except TypeError as err:\n",
    "    print(err)"
   ]
  }
 ],
 "metadata": {
  "kernelspec": {
   "display_name": "Python 3.9.13 ('Python-Andreas-Svensson-mdnrE2EN')",
   "language": "python",
   "name": "python3"
  },
  "language_info": {
   "codemirror_mode": {
    "name": "ipython",
    "version": 3
   },
   "file_extension": ".py",
   "mimetype": "text/x-python",
   "name": "python",
   "nbconvert_exporter": "python",
   "pygments_lexer": "ipython3",
   "version": "3.9.13"
  },
  "orig_nbformat": 4,
  "vscode": {
   "interpreter": {
    "hash": "ce5ca73635e776ed4a4fa3650670807b72bb0d2e4957ff61281a0d117b023fd0"
   }
  }
 },
 "nbformat": 4,
 "nbformat_minor": 2
}
