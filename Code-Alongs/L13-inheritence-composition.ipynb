{
 "cells": [
  {
   "cell_type": "markdown",
   "metadata": {},
   "source": [
    "## Inheritance and composition\n",
    "\n",
    "- attributes from parent class are inherited to the child class and can be accessed directly\n",
    "- methods can be overridden in the child class\n",
    "- child class can extend functionality of the parent class \n",
    "- parent class should be more general and child classes more specific \n",
    "\n",
    "- inheritance has stronger coupled between classes and the relation: \"is a\", e.g. a Student is a Person\n",
    "- when changing in the parent class, it might affect the subclasses\n",
    "- when using inheritance, make sure that the relationship really is an \"is a\" relation and not a \"has a\"\n",
    "- composition has weaker coupling between classes and the relation: \"has a\", e.g. a Classroom has a Student"
   ]
  },
  {
   "cell_type": "code",
   "execution_count": 1,
   "metadata": {},
   "outputs": [
    {
     "ename": "SyntaxError",
     "evalue": "invalid syntax (260504295.py, line 1)",
     "output_type": "error",
     "traceback": [
      "\u001b[1;36m  Input \u001b[1;32mIn [1]\u001b[1;36m\u001b[0m\n\u001b[1;33m    from L13-oldcoins.py import OldCoinsStash\u001b[0m\n\u001b[1;37m            ^\u001b[0m\n\u001b[1;31mSyntaxError\u001b[0m\u001b[1;31m:\u001b[0m invalid syntax\n"
     ]
    }
   ],
   "source": [
    "from lec13_oldcoins import OldCoinsStash\n",
    "import re \n",
    "\n",
    "class Person:\n",
    "    def __init__(self, name: str, age: int) -> None:\n",
    "        self.age = age \n",
    "        self.name = name \n",
    "\n",
    "    @property\n",
    "    def age(self) -> int:\n",
    "        return self._age\n",
    "\n",
    "    @age.setter\n",
    "    def age(self, value: int) -> None:\n",
    "        if not isinstance(value, (int, float)):\n",
    "            raise TypeError(f\"Age must be int or float not {type(value)}\")\n",
    "        self._age = value    \n",
    "\n",
    "    @property\n",
    "    def name(self) -> str:\n",
    "        return self._name\n",
    "\n",
    "    @name.setter\n",
    "    def name(self, value: str) -> None:\n",
    "        if re.search(r\"^[A-Ö][-a-öA-Ö]+(\\s[A-Ö][-a-öA-Ö]+)?$\", value.strip()) is None:\n",
    "            raise ValueError(f\"The value {value} is not a valid name\")\n",
    "        \n",
    "        self._name = value\n",
    "\n",
    "    def say_hi(self) -> None:\n",
    "        print(f\"Person {self.name} says hi\")\n",
    "\n",
    "class Student(Person):\n",
    "    \"\"\"A Student is a Person that knows a language\"\"\"\n",
    "    def __init__(self, name: str, age: int, language: str) -> None:\n",
    "        # self is injected through super()\n",
    "        # super() is used for calling the parent class method, this is delegation to parent\n",
    "        super().__init__(name, age) \n",
    "        self.language = language\n",
    "\n",
    "\n",
    "    # overrides say_hi() in Person class\n",
    "    def say_hi(self) -> None:\n",
    "        print(f\"Student {self.name} knows {self.language}\")\n",
    "\n",
    "class Viking(Person):\n",
    "    \"\"\"A Viking has an OldCoinsStash but is a Person\"\"\"\n",
    "    def __init__(self, name: str, age: int) -> None:\n",
    "        super().__init__(name, age)\n",
    "        self.stash = OldCoinsStash(name)\n",
    "\n",
    "p1 = Person(\"Örjan \", 55)\n",
    "s1 = Student(\"Åke Olofsson\", 25, \"Python\")\n",
    "v1 = Viking(\"Ragnar Lothbroke\", 50)\n",
    "\n",
    "print(v1.stash)\n",
    "print(v1.stash.check_balance())\n",
    "\n",
    "people = (p1, s1, v1)\n",
    "\n",
    "# polymorphic \n",
    "for person in people:\n",
    "    person.say_hi()\n",
    "    \n",
    "# note that the Viking does not have a say_hi() method and thus the parents say_hi() is called "
   ]
  }
 ],
 "metadata": {
  "kernelspec": {
   "display_name": "Python 3.9.13 ('Python-Andreas-Svensson-mdnrE2EN')",
   "language": "python",
   "name": "python3"
  },
  "language_info": {
   "codemirror_mode": {
    "name": "ipython",
    "version": 3
   },
   "file_extension": ".py",
   "mimetype": "text/x-python",
   "name": "python",
   "nbconvert_exporter": "python",
   "pygments_lexer": "ipython3",
   "version": "3.9.13"
  },
  "orig_nbformat": 4,
  "vscode": {
   "interpreter": {
    "hash": "ce5ca73635e776ed4a4fa3650670807b72bb0d2e4957ff61281a0d117b023fd0"
   }
  }
 },
 "nbformat": 4,
 "nbformat_minor": 2
}
