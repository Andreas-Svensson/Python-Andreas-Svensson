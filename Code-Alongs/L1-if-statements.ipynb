{
 "cells": [
  {
   "cell_type": "markdown",
   "metadata": {},
   "source": [
    "# if-statements\n",
    "\n",
    "## if-else"
   ]
  },
  {
   "cell_type": "code",
   "execution_count": 9,
   "metadata": {},
   "outputs": [
    {
     "name": "stdout",
     "output_type": "stream",
     "text": [
      "Welcome\n"
     ]
    }
   ],
   "source": [
    "# input datatype is string, needs to be converted to int\n",
    "age = int(input(\"Hur gammal är du?\"))\n",
    "\n",
    "# multiple lines in a block need to be separated by a new line\n",
    "if age < 18:\n",
    "    print(f\"You are {age} years old\")\n",
    "    print(\"Therefore you are not allowed to buy alcohol\")\n",
    "    \n",
    "# single line statements can be made like this\n",
    "else: print(\"Welcome\")"
   ]
  },
  {
   "cell_type": "markdown",
   "metadata": {},
   "source": [
    "## and / or - statement"
   ]
  },
  {
   "cell_type": "code",
   "execution_count": 15,
   "metadata": {},
   "outputs": [
    {
     "name": "stdout",
     "output_type": "stream",
     "text": [
      "You are allowed to go on the rollercoaster\n"
     ]
    }
   ],
   "source": [
    "age = 15\n",
    "height = 135\n",
    "\n",
    "# \"and\" / \"or\"\n",
    "\n",
    "# if greater than, and ( greater than and less than )\n",
    "if age > 10 and 130 < height < 210:\n",
    "    print(\"You are allowed to go on the rollercoaster\")\n",
    "else:\n",
    "    print(\"You are not allowed to go on the rollercoaster\")"
   ]
  },
  {
   "cell_type": "markdown",
   "metadata": {},
   "source": [
    "## Modulo operator %"
   ]
  },
  {
   "cell_type": "code",
   "execution_count": 1,
   "metadata": {},
   "outputs": [
    {
     "name": "stdout",
     "output_type": "stream",
     "text": [
      "1\n",
      "0\n",
      "Even number\n"
     ]
    },
    {
     "data": {
      "text/plain": [
       "4"
      ]
     },
     "execution_count": 1,
     "metadata": {},
     "output_type": "execute_result"
    }
   ],
   "source": [
    "number = 42\n",
    "\n",
    "# modulo - rest after integer division\n",
    "print(5%2)\n",
    "print(6%2)\n",
    "\n",
    "# x == y is a comparator ( x equals y )\n",
    "if number % 2 == 0:\n",
    "    print(\"Even number\")\n",
    "else:\n",
    "    print(\"Uneven number\")\n",
    "\n",
    "# \"clock math\" think of removing 9 from 22\n",
    "22 % 9"
   ]
  },
  {
   "cell_type": "markdown",
   "metadata": {},
   "source": [
    "## Comparators"
   ]
  },
  {
   "cell_type": "code",
   "execution_count": 25,
   "metadata": {},
   "outputs": [
    {
     "name": "stdout",
     "output_type": "stream",
     "text": [
      "3 == 3: True\n",
      "3 == 4: False\n",
      "3 != 3: False\n"
     ]
    }
   ],
   "source": [
    "print(f\"3 == 3: {3 == 3}\") # equal operator\n",
    "print(f\"3 == 4: {3 >= 4}\") # greater or equal operator\n",
    "print(f\"3 != 3: {3 != 3}\") # not equal operator\n",
    "\n",
    "# return boolean values"
   ]
  },
  {
   "cell_type": "markdown",
   "metadata": {},
   "source": [
    "## if - elif - else\n",
    "```py\n",
    "if condition:\n",
    "    statements\n",
    "\n",
    "\n",
    "elif condition:\n",
    "    statements\n",
    "\n",
    "\n",
    "else:\n",
    "    statements\n",
    "```"
   ]
  },
  {
   "cell_type": "code",
   "execution_count": 5,
   "metadata": {},
   "outputs": [
    {
     "name": "stdout",
     "output_type": "stream",
     "text": [
      "Patient weighs 25.0 kg\n",
      "Give patient 750mg\n"
     ]
    }
   ],
   "source": [
    "weight = float(input(\"Enter patient's weight (kg): \"))\n",
    "print(f\"Patient weighs {weight} kg\")\n",
    "\n",
    "if weight < 20:\n",
    "    print(\"Give patient 500mg\")\n",
    "elif weight < 40:\n",
    "    print(\"Give patient 750mg\")\n",
    "else:\n",
    "    print(\"Give patient 1000mg\")"
   ]
  },
  {
   "cell_type": "markdown",
   "metadata": {},
   "source": [
    "## while loop"
   ]
  },
  {
   "cell_type": "code",
   "execution_count": 10,
   "metadata": {},
   "outputs": [
    {
     "name": "stdout",
     "output_type": "stream",
     "text": [
      "Hej i = 0\n",
      "Hej i = 1\n",
      "Hej i = 2\n",
      "Hej i = 3\n",
      "Hej i = 4\n",
      "Hej i = 5\n",
      "Hej i = 6\n",
      "Hej i = 7\n",
      "Hej i = 8\n",
      "Hej i = 9\n"
     ]
    }
   ],
   "source": [
    "i = 0\n",
    "\n",
    "# counts from 0 to 9\n",
    "while i < 10:\n",
    "    print(f\"Hej {i = }\")\n",
    "    i += 1 # plus equal operator"
   ]
  },
  {
   "cell_type": "markdown",
   "metadata": {},
   "source": [
    "### Example - birds and oil\n",
    "\n",
    "Oil leakage causing bird population to halve every year\n",
    "\n",
    "year = 0 -> 80000 birds\n",
    "\n",
    "How many years until 10% remaining?"
   ]
  },
  {
   "cell_type": "code",
   "execution_count": 15,
   "metadata": {},
   "outputs": [
    {
     "name": "stdout",
     "output_type": "stream",
     "text": [
      "40000.0 remaining after 1 years have passed\n",
      "20000.0 remaining after 2 years have passed\n",
      "10000.0 remaining after 3 years have passed\n",
      "5000.0 remaining after 4 years have passed\n",
      "Answer: 3 years\n"
     ]
    }
   ],
   "source": [
    "# (80000 * 0.5) ^x = 8000\n",
    "\n",
    "year = 0\n",
    "birds = 80000\n",
    "\n",
    "# alternative way of writing\n",
    "# tuple unpacking\n",
    "year, birds = 0, 80000\n",
    "\n",
    "while birds >= 8000:\n",
    "    birds *= 0.5\n",
    "    year += 1        \n",
    "    print(f\"{birds} remaining after {year} years have passed\")\n",
    "    if birds <= 8000:\n",
    "        print(f\"Answer: {year - 1} years\")"
   ]
  },
  {
   "cell_type": "code",
   "execution_count": 30,
   "metadata": {},
   "outputs": [
    {
     "name": "stdout",
     "output_type": "stream",
     "text": [
      "[1500000.0, 2250000.0, 3375000.0, 5062500.0, 7593750.0, 11390625.0]\n",
      "It takes 5 hours for the milk to sour\n"
     ]
    },
    {
     "data": {
      "text/plain": [
       "Text(0.5, 1.0, 'Bacteria growth in milk in room temperature')"
      ]
     },
     "execution_count": 30,
     "metadata": {},
     "output_type": "execute_result"
    },
    {
     "data": {
      "image/png": "[encoded data removed]",
      "text/plain": [
       "<Figure size 640x480 with 1 Axes>"
      ]
     },
     "metadata": {},
     "output_type": "display_data"
    }
   ],
   "source": [
    "import matplotlib.pyplot as plt\n",
    "\n",
    "bacterias = 1.5e6 # 1.5 * 10^6 (1,500,000)\n",
    "factor = 1.5\n",
    "hours = 0\n",
    "sour = 1e7 # 10^7\n",
    "\n",
    "# snake case (convention for python)\n",
    "# camel case may also appear\n",
    "bacterias_list = [bacterias]\n",
    "\n",
    "while bacterias < sour:\n",
    "    bacterias *= factor\n",
    "    hours += 1\n",
    "    bacterias_list.append(bacterias) # append element to list (adds to the end of the list)\n",
    "\n",
    "print(bacterias_list)\n",
    "print(f\"It takes {hours} hours for the milk to sour\")\n",
    "\n",
    "# creates a range object containing numbers: 0,1,2,3...,hours\n",
    "hours_list = range(0, hours+1)\n",
    "\n",
    "plt.plot(hours_list, bacterias_list, 'o-') # Graph view: 'o' is the dots, '-' is the line, 'x', '*', etc\n",
    "\n",
    "# shows horizontal line at y=sour for every dot in hours\n",
    "plt.plot(hours_list, [sour]*(hours+1)) # same as [3] * 3 -> [3, 3, 3]\n",
    "\n",
    "plt.grid() # shows grid\n",
    "plt.xlabel(\"Hours\") \n",
    "plt.ylabel(\"Number of bacterias\")\n",
    "plt.title(\"Bacteria growth in milk in room temperature\")"
   ]
  },
  {
   "cell_type": "code",
   "execution_count": 29,
   "metadata": {},
   "outputs": [
    {
     "data": {
      "text/plain": [
       "[3, 3, 3]"
      ]
     },
     "execution_count": 29,
     "metadata": {},
     "output_type": "execute_result"
    }
   ],
   "source": [
    "[3] * 3"
   ]
  },
  {
   "cell_type": "code",
   "execution_count": null,
   "metadata": {},
   "outputs": [],
   "source": []
  }
 ],
 "metadata": {
  "kernelspec": {
   "display_name": "Python 3.9.13 ('Python-Andreas-Svensson-mdnrE2EN')",
   "language": "python",
   "name": "python3"
  },
  "language_info": {
   "codemirror_mode": {
    "name": "ipython",
    "version": 3
   },
   "file_extension": ".py",
   "mimetype": "text/x-python",
   "name": "python",
   "nbconvert_exporter": "python",
   "pygments_lexer": "ipython3",
   "version": "3.9.13"
  },
  "orig_nbformat": 4,
  "vscode": {
   "interpreter": {
    "hash": "ce5ca73635e776ed4a4fa3650670807b72bb0d2e4957ff61281a0d117b023fd0"
   }
  }
 },
 "nbformat": 4,
 "nbformat_minor": 2
}
