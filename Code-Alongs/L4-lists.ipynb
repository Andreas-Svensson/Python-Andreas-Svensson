{
 "cells": [
  {
   "cell_type": "markdown",
   "metadata": {},
   "source": [
    "# lists\n",
    "\n",
    "|row|1|2|3|\n",
    "|--- | --- | --- | --- |\n",
    "|1 | (1,1) | (1,2) | (1,3) |\n",
    "|2 | (2,1) | (2,2) | (2,3) |\n",
    "|3 | (3,1) | (3,2) | (3,3) |\n",
    " \n",
    "\n",
    "shift+alt+f = formats"
   ]
  },
  {
   "cell_type": "markdown",
   "metadata": {},
   "source": [
    "## access elements"
   ]
  },
  {
   "cell_type": "code",
   "execution_count": 10,
   "metadata": {},
   "outputs": [
    {
     "name": "stdout",
     "output_type": "stream",
     "text": [
      "nice_foods[0] = 'pizza'\n",
      "nice_foods[-1] = 'grapes'\n",
      "nice_foods[-3] = 'pancakes'\n"
     ]
    }
   ],
   "source": [
    "# creates a new list with the specified elements\n",
    "nice_foods = [\"pizza\", \"lasagne\", \"spaghetti\", \"pancakes\", \"banana\", \"grapes\"]\n",
    "\n",
    "# first element of list\n",
    "print(f\"{nice_foods[0] = }\")\n",
    "\n",
    "# last element of list\n",
    "print(f\"{nice_foods[-1] = }\")\n",
    "\n",
    "# element at index 3\n",
    "print(f\"{nice_foods[-3] = }\")"
   ]
  },
  {
   "cell_type": "markdown",
   "metadata": {},
   "source": [
    "## list slicing\n",
    "\n",
    "to reach x elements in a specific part of a list"
   ]
  },
  {
   "cell_type": "code",
   "execution_count": 21,
   "metadata": {},
   "outputs": [
    {
     "name": "stdout",
     "output_type": "stream",
     "text": [
      "['pizza', 'lasagne', 'spaghetti', 'pancakes', 'banana', 'grapes']\n",
      "nice_foods[2:4] = ['spaghetti', 'pancakes']\n",
      "nice_foods[:-1] = ['pizza', 'lasagne', 'spaghetti', 'pancakes', 'banana']\n",
      "nice_foods[::2] = ['pizza', 'spaghetti', 'banana']\n",
      "nice_foods[::-1] = ['grapes', 'banana', 'pancakes', 'spaghetti', 'lasagne', 'pizza']\n"
     ]
    }
   ],
   "source": [
    "print(nice_foods)\n",
    "\n",
    "# slicing from index 2 to 4-1 (3) in the list\n",
    "# aka 0, 1, [2, 3] 4, 5...\n",
    "print(f\"{nice_foods[2:4] = }\")\n",
    "\n",
    "print(f\"{nice_foods[:-1] = }\") # from index 0 to -1-1 (-2) in the list\n",
    "# syntax is [start:end:step] -> ':' means we don't have a start number (aka start from 0)\n",
    "\n",
    "# likewise '::x' means go from start to end, stepping by x\n",
    "print(f\"{nice_foods[::2] = }\")\n",
    "\n",
    "print(f\"{nice_foods[::-1] = }\") # reverse list"
   ]
  },
  {
   "cell_type": "markdown",
   "metadata": {},
   "source": [
    "## list sorting"
   ]
  },
  {
   "cell_type": "code",
   "execution_count": 28,
   "metadata": {},
   "outputs": [
    {
     "name": "stdout",
     "output_type": "stream",
     "text": [
      "['banana', 'grapes', 'lasagne', 'pancakes', 'pizza', 'spaghetti']\n",
      "[-5, 1, 2, 5]\n"
     ]
    }
   ],
   "source": [
    "nice_foods.sort() # sort in alphabetical order (first letter)\n",
    "print(nice_foods)\n",
    "\n",
    "numbers = [2, 1, 5, -5]\n",
    "numbers.sort() # sort in ascending order\n",
    "print(numbers)"
   ]
  },
  {
   "cell_type": "markdown",
   "metadata": {},
   "source": [
    "## for-loop with enumerate"
   ]
  },
  {
   "cell_type": "code",
   "execution_count": 37,
   "metadata": {},
   "outputs": [
    {
     "name": "stdout",
     "output_type": "stream",
     "text": [
      "['banana', 'grapes', 'lasagne', 'pancakes', 'pizza', 'spaghetti']\n",
      "1, banana\n",
      "2, grapes\n",
      "3, lasagne\n",
      "4, pancakes\n",
      "5, pizza\n",
      "6, spaghetti\n",
      "1. banana\n",
      "2. grapes\n",
      "3. lasagne\n",
      "4. pancakes\n",
      "5. pizza\n",
      "6. spaghetti\n"
     ]
    }
   ],
   "source": [
    "print(nice_foods)\n",
    "\n",
    "# enumerate -> tuple with index and element (tuple, element) in list\n",
    "for i, food in enumerate(nice_foods, 1): # enumerate(list, 1) = call element 0 1\n",
    "    print(f\"{i}, {food}\")\n",
    "\n",
    "# enumerate means you don't have to use range and len, it's more pythonic(?)\n",
    "for i in range(len(nice_foods)):\n",
    "    print(f\"{i+1}. {nice_foods[i]}\")"
   ]
  },
  {
   "cell_type": "code",
   "execution_count": null,
   "metadata": {},
   "outputs": [],
   "source": [
    "# making text into a comment -    press ctrl k c\n",
    "# remove comment -                press ctrl k u"
   ]
  },
  {
   "cell_type": "code",
   "execution_count": 40,
   "metadata": {},
   "outputs": [
    {
     "data": {
      "text/plain": [
       "[0, 1, 8, 27, 64, 125, 216, 343, 512, 729]"
      ]
     },
     "execution_count": 40,
     "metadata": {},
     "output_type": "execute_result"
    }
   ],
   "source": [
    "# \"normal way\" of using append\n",
    "cubes = []\n",
    "\n",
    "for i in range(10):\n",
    "    cubes.append(i ** 3) # i to the power of 3\n",
    "\n",
    "cubes"
   ]
  },
  {
   "cell_type": "markdown",
   "metadata": {},
   "source": [
    "## list comprehension"
   ]
  },
  {
   "cell_type": "code",
   "execution_count": 39,
   "metadata": {},
   "outputs": [
    {
     "data": {
      "text/plain": [
       "[0, 1, 8, 27, 64, 125, 216, 343, 512, 729]"
      ]
     },
     "execution_count": 39,
     "metadata": {},
     "output_type": "execute_result"
    }
   ],
   "source": [
    "# list comprehension (same thing as above)\n",
    "cubes = [i**3 for i in range(10)]\n",
    "cubes"
   ]
  },
  {
   "cell_type": "code",
   "execution_count": 42,
   "metadata": {},
   "outputs": [
    {
     "data": {
      "text/plain": [
       "[1, 27, 125, 343, 729]"
      ]
     },
     "execution_count": 42,
     "metadata": {},
     "output_type": "execute_result"
    }
   ],
   "source": [
    "# cubes every odd number\n",
    "cubes_odd = [i**3 for i in range(10) if (i%2!=0)] # can have both loops and conditions here\n",
    "cubes_odd"
   ]
  },
  {
   "cell_type": "code",
   "execution_count": 44,
   "metadata": {},
   "outputs": [
    {
     "data": {
      "text/plain": [
       "[4, 6, 3, 1, 1, 2, 5, 2, 1, 3]"
      ]
     },
     "execution_count": 44,
     "metadata": {},
     "output_type": "execute_result"
    }
   ],
   "source": [
    "import random as rnd\n",
    "\n",
    "# dice list\n",
    "dices = [rnd.randint(1,6) for _ in range(10)] # convention: underscore can be used when we won't be using the counting variable for anything\n",
    "dices"
   ]
  },
  {
   "cell_type": "markdown",
   "metadata": {},
   "source": [
    "## lists in list"
   ]
  },
  {
   "cell_type": "code",
   "execution_count": 50,
   "metadata": {},
   "outputs": [
    {
     "name": "stdout",
     "output_type": "stream",
     "text": [
      "['B', 20]\n",
      "B\n",
      "20\n"
     ]
    }
   ],
   "source": [
    "grades = [[\"A\", 25], [\"B\", 20], [\"F\", 5]]\n",
    "\n",
    "print(grades[1]) # the entire list at index 1 of grades\n",
    "print(grades[1][0]) # index 0 of the list at index 1 of grades\n",
    "print(grades[1][1]) # index 1 of the list at index 1 of grades"
   ]
  }
 ],
 "metadata": {
  "kernelspec": {
   "display_name": "Python 3.9.13 ('Python-Andreas-Svensson-mdnrE2EN')",
   "language": "python",
   "name": "python3"
  },
  "language_info": {
   "codemirror_mode": {
    "name": "ipython",
    "version": 3
   },
   "file_extension": ".py",
   "mimetype": "text/x-python",
   "name": "python",
   "nbconvert_exporter": "python",
   "pygments_lexer": "ipython3",
   "version": "3.9.13"
  },
  "orig_nbformat": 4,
  "vscode": {
   "interpreter": {
    "hash": "ce5ca73635e776ed4a4fa3650670807b72bb0d2e4957ff61281a0d117b023fd0"
   }
  }
 },
 "nbformat": 4,
 "nbformat_minor": 2
}
