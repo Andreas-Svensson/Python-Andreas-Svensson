{
 "cells": [
  {
   "cell_type": "markdown",
   "metadata": {},
   "source": [
    "reading, storing, and plotting data"
   ]
  },
  {
   "cell_type": "code",
   "execution_count": 125,
   "metadata": {},
   "outputs": [],
   "source": [
    "import matplotlib.pyplot as plt\n",
    "import random as rnd\n",
    "from math import dist\n",
    "\n",
    "# ----- read and clean datapoints -----\n",
    "def generate_data_from_file():\n",
    "\n",
    "    file_path = \"assets/datapoints.txt\"\n",
    "\n",
    "    with open(file_path, \"r\") as file_r:\n",
    "        datapoints = [row.strip(\"\\n\").split(\", \") for row in file_r] # split each row into a list of 3 elements, remove newlines, and store list as element in datapoints list\n",
    "        datapoints.remove(datapoints[0]) # remove column header\n",
    "        datapoints = [[float(element) for element in point] for point in datapoints]\n",
    "\n",
    "    data = { # dictionary containing all pokemon, and their width/height measurements\n",
    "        \"pikachu\" : {\n",
    "        \"width\"   : [i[0] for i in datapoints if i[2] == 1],\n",
    "        \"height\"  : [i[1] for i in datapoints if i[2] == 1]\n",
    "        },\n",
    "        \"pichu\"   : {\n",
    "        \"width\"   : [i[0] for i in datapoints if i[2] == 0],\n",
    "        \"height\"  : [i[1] for i in datapoints if i[2] == 0]\n",
    "        }\n",
    "    }\n",
    "\n",
    "    return data\n",
    "\n",
    "# ----- read and clean testpoints -----\n",
    "def generate_test_data_from_file():\n",
    "\n",
    "    file_path = \"assets/testpoints.txt\"\n",
    "\n",
    "    with open(file_path, \"r\") as file_r:\n",
    "        testpoints = [row[4:-2].split(\", \") for row in file_r]\n",
    "        testpoints.remove(testpoints[0])\n",
    "        testpoints = [[float(element) for element in point] for point in testpoints]\n",
    "\n",
    "    test_data = {\n",
    "        \"width\"   : [i[0] for i in testpoints],\n",
    "        \"height\"  : [i[1] for i in testpoints]\n",
    "    }\n",
    "\n",
    "    # test_data = [[i[0], i[1]] for i in testpoints]\n",
    "\n",
    "    return test_data\n",
    "        \n",
    "# ----- plot data from datapoints -----\n",
    "def plot_data(data, test_data = 0):\n",
    "    plt.scatter(data[\"pikachu\"][\"width\"],  data[\"pikachu\"][\"height\"], color = \"orange\", label = \"Pikachus\")\n",
    "    plt.scatter(data[\"pichu\"][\"width\"],    data[\"pichu\"][\"height\"],   color = \"brown\",  label = \"Pichus\")\n",
    "\n",
    "    if test_data != 0: # if test data is added as input parameter when function is called:\n",
    "        plt.scatter(test_data[\"width\"],  test_data[\"height\"], color = \"blue\", label = \"Undefined\") # plot test data points as well\n",
    "\n",
    "    plt.title(\"Scatterplot of width / height measurements of pokemon\")\n",
    "    plt.xlabel(\"Width\")\n",
    "    plt.ylabel(\"Height\")\n",
    "    plt.legend();\n",
    "\n",
    "# ----- error handling of user input -----\n",
    "def clean_user_input():\n",
    "    while True:\n",
    "        user_input = input(\"Enter a manual point to classify, formatted like 'width, height' (x, y):\")\n",
    "        print(user_input)\n",
    "        try:\n",
    "            user_input = user_input.split(\",\")\n",
    "            user_input = [float(i.strip()) for i in user_input] # remove empty space\n",
    "\n",
    "            if len(user_input) > 2:\n",
    "                print(\"Make sure to enter a point with 2 values\")\n",
    "\n",
    "            x = user_input[0]\n",
    "            y = user_input[1]\n",
    "\n",
    "            if len(user_input) == 3: # to enter majority vote number\n",
    "                z = user_input[2]\n",
    "\n",
    "            print(x)\n",
    "            print(y)\n",
    "\n",
    "            if len(user_input) == 3:\n",
    "                return x, y, z # TODO implement 'z' as majority vote number to pass into distance function\n",
    "\n",
    "            return x, y\n",
    "            \n",
    "        except ValueError as err:\n",
    "            print(f\"{err} is not a valid point, make sure to enter numbers\")\n",
    "\n",
    "# ----- calculate euclidean distance between data and test points -----\n",
    "def categorize_point(point, data, amount_votes = 1):\n",
    "\n",
    "    distance_list = []\n",
    "\n",
    "    for i in range(len(data[\"pikachu\"][\"width\"])): # calculate distance between all pikachu / pichu points and (x, y), and store them in distance\n",
    "        distance_list.append([dist((data[\"pikachu\"][\"width\"][i], data[\"pikachu\"][\"height\"][i]), (point[0], point[1])), \"pikachu\"])\n",
    "        distance_list.append([dist((data[\"pichu\"][\"width\"][i], data[\"pichu\"][\"height\"][i]), (point[0], point[1])), \"pichu\"])\n",
    "\n",
    "    distance_list.sort() # sort distance, this sorts on the first index of lists in distance list, and keeps the pokemon tag\n",
    "\n",
    "    del distance_list[amount_votes::] # remove indices of distance outside the votes specified to be taken into consideration\n",
    "\n",
    "    category = \"\"\n",
    "    certainty = 0\n",
    "\n",
    "    distance_pikachu = [distance[0] for distance in distance_list if distance[1] == \"pikachu\"]\n",
    "    distance_pichu = [distance[0] for distance in distance_list if distance[1] == \"pichu\"]\n",
    "\n",
    "    # TODO update weighting calculation of results for better accuracy\n",
    "\n",
    "    # ----- avoid division by 0 if one pokemon is not represented in votes -----\n",
    "    if len(distance_pichu) == 0:\n",
    "        category = \"pikachu\"\n",
    "        certainty = 1\n",
    "        return category, certainty\n",
    "\n",
    "    elif len(distance_pikachu) == 0:\n",
    "        category = \"pichu\"\n",
    "        certainty = 1\n",
    "        return category, certainty\n",
    "\n",
    "    # ----- calculate weight if results are mixed -----\n",
    "    weight_pikachu = sum(distance_pikachu) / len(distance_pikachu)\n",
    "    weight_pichu = sum(distance_pichu) / len(distance_pichu)\n",
    "\n",
    "    # NOTE: use to manually check output for errors (such as distance being 0.0 -> same point used twice)\n",
    "    #print(f\"\\n{distance_list}\")\n",
    "    #print(f\"Pika: weight = {weight_pikachu}, amount = {len(distance_pikachu)},\\nPichu: weight = {weight_pichu}, amount = {len(distance_pichu)}\")\n",
    "\n",
    "    if weight_pikachu < weight_pichu:\n",
    "        category = \"pikachu\"\n",
    "        certainty = weight_pichu / (weight_pikachu + weight_pichu)\n",
    "        return category, certainty\n",
    "\n",
    "    else:\n",
    "        category = \"pichu\"\n",
    "        certainty = weight_pikachu / (weight_pichu + weight_pikachu)\n",
    "        return category, certainty\n",
    "\n",
    "# ----- randomly split data into test and training data -----\n",
    "def generate_test_training_data(data):\n",
    "\n",
    "    test_data       = {\"pikachu\" : {\"width\" : [], \"height\" : []}, \"pichu\" : {\"width\" : [], \"height\" : []}}\n",
    "    training_data   = {\"pikachu\" : {\"width\" : [], \"height\" : []}, \"pichu\" : {\"width\" : [], \"height\" : []}}\n",
    "\n",
    "    # ----- randomly splitting pikachus into test and training groups -----\n",
    "    random_point_pikachu = rnd.sample(range(0, 75), 25)\n",
    "    test_data[\"pikachu\"][\"width\"] = [data[\"pikachu\"][\"width\"][i] for i in random_point_pikachu]\n",
    "    test_data[\"pikachu\"][\"height\"] = [data[\"pikachu\"][\"height\"][i] for i in random_point_pikachu]\n",
    "\n",
    "    training_data[\"pikachu\"][\"width\"] = [data[\"pikachu\"][\"width\"][i] for i in range(75) if i not in random_point_pikachu]\n",
    "    training_data[\"pikachu\"][\"height\"] = [data[\"pikachu\"][\"height\"][i] for i in range(75) if i not in random_point_pikachu]\n",
    "\n",
    "    # ----- randomly splitting pichus into test and training groups -----\n",
    "    random_point_pichu = rnd.sample(range(0, 75), 25) # second random here for pichu randoms\n",
    "    test_data[\"pichu\"][\"width\"] = [data[\"pichu\"][\"width\"][i] for i in random_point_pichu]\n",
    "    test_data[\"pichu\"][\"height\"] = [data[\"pichu\"][\"height\"][i] for i in random_point_pichu]\n",
    "\n",
    "    training_data[\"pichu\"][\"width\"] = [data[\"pichu\"][\"width\"][i] for i in range(75) if i not in random_point_pichu]\n",
    "    training_data[\"pichu\"][\"height\"] = [data[\"pichu\"][\"height\"][i] for i in range(75) if i not in random_point_pichu]\n",
    "\n",
    "    # NOTE: use to check that no same point is picked twice:\n",
    "    # print(f\"Random Point: {random_point_pikachu}\")\n",
    "    # print(f\"Not random: {[i for i in range(75) if i not in random_point_pikachu]}\")\n",
    "\n",
    "    return test_data, training_data # to use in functions\n",
    "\n",
    "# ----- calculate accuracy of calculations by comparing generated test and training data -----\n",
    "def calculate_accuracy(test_data, data, amount_votes = 1):\n",
    "\n",
    "    TP, TN, FP, FN = 0, 0, 0, 0\n",
    "\n",
    "    for i in range(len(test_data[\"pikachu\"][\"width\"])):\n",
    "\n",
    "        res = categorize_point([test_data[\"pikachu\"][\"width\"][i], test_data[\"pikachu\"][\"height\"][i]], data,  amount_votes)\n",
    "        #if \"pikachu\" in res:\n",
    "        if res[0] == \"pikachu\":\n",
    "            TP += 1\n",
    "        else:\n",
    "            FP += 1\n",
    "        \n",
    "        res = categorize_point([test_data[\"pichu\"][\"width\"][i], test_data[\"pichu\"][\"height\"][i]], data,  amount_votes)\n",
    "        #if \"pichu\" in res:\n",
    "        if res[0] == \"pichu\":\n",
    "            TN += 1\n",
    "        else:\n",
    "            FN += 1\n",
    "    print(TP, TN, FP, FN)\n",
    "    accuracy = (TP + TN) / (TP + TN + FP + FN)\n",
    "\n",
    "    return accuracy\n"
   ]
  },
  {
   "cell_type": "code",
   "execution_count": 63,
   "metadata": {},
   "outputs": [],
   "source": [
    "# TODO make sure all datastructures are saved the same way\n",
    "# TODO fix up accuracy function"
   ]
  },
  {
   "cell_type": "code",
   "execution_count": 126,
   "metadata": {},
   "outputs": [
    {
     "name": "stdout",
     "output_type": "stream",
     "text": [
      "24 22 1 3\n",
      "0.92\n"
     ]
    }
   ],
   "source": [
    "data = generate_data_from_file() # read in datapoints file and store as data\n",
    "test_data, training_data = generate_test_training_data(data) # split datapoints in data randomly into 2 groups; test and training data\n",
    "\n",
    "# NOTE: same_points checks for errors in randomly splitting data into 2, use to double check that no same point is used twice\n",
    "# same_points = [[i, test_data[\"pikachu\"][\"width\"][i]] for i in range(len(test_data[\"pikachu\"][\"width\"])) if test_data[\"pikachu\"][\"width\"][i] in training_data[\"pikachu\"][\"width\"]]\n",
    "# print(f\"Same Points: {same_points}\")\n",
    "\n",
    "accuracy = calculate_accuracy(test_data, training_data, 1) # categorize points of test data compared to training data, and calculate accuracy of predictions\n",
    "print(accuracy) # print accuracy results"
   ]
  },
  {
   "cell_type": "markdown",
   "metadata": {},
   "source": [
    "## Read, clean, and store data from files"
   ]
  },
  {
   "cell_type": "code",
   "execution_count": 127,
   "metadata": {},
   "outputs": [],
   "source": [
    "data = generate_data_from_file()\n",
    "test_data = generate_test_data_from_file()"
   ]
  },
  {
   "cell_type": "markdown",
   "metadata": {},
   "source": [
    "## Plot datapoints, and test points (optional)"
   ]
  },
  {
   "cell_type": "code",
   "execution_count": 128,
   "metadata": {},
   "outputs": [
    {
     "data": {
      "image/png": "[encoded data removed]",
      "text/plain": [
       "<Figure size 640x480 with 1 Axes>"
      ]
     },
     "metadata": {},
     "output_type": "display_data"
    }
   ],
   "source": [
    "plot_data(data) # plot datapoints\n",
    "# plot_data(data, test_data) # NOTE: can also plot unclassified datapoints"
   ]
  },
  {
   "cell_type": "markdown",
   "metadata": {},
   "source": [
    "## Calculate distance from test point to nearest n datapoints, and categorize test point based on weighted results"
   ]
  },
  {
   "cell_type": "code",
   "execution_count": 129,
   "metadata": {},
   "outputs": [
    {
     "name": "stdout",
     "output_type": "stream",
     "text": [
      "Point 1 calculated as pikachu with 100.0% certainty (based on a majority vote of 1)\n",
      "Point 2 calculated as pikachu with 100.0% certainty (based on a majority vote of 1)\n",
      "Point 3 calculated as pikachu with 100.0% certainty (based on a majority vote of 1)\n",
      "Point 4 calculated as pichu with 100.0% certainty (based on a majority vote of 1)\n"
     ]
    }
   ],
   "source": [
    "#data = generate_data_from_file()\n",
    "#test_data = generate_test_data_from_file()\n",
    "\n",
    "#print(test_data)\n",
    "#print(len(test_data[\"width\"]))\n",
    "\n",
    "for point in range(len(test_data[\"width\"])):\n",
    "    amount_votes = 1\n",
    "    result = categorize_point([test_data[\"width\"][point], test_data[\"height\"][point]], data, amount_votes)\n",
    "    print(f\"Point {point + 1} calculated as {result[0]} with {result[1] * 100:.1f}% certainty (based on a majority vote of {amount_votes})\")"
   ]
  },
  {
   "cell_type": "markdown",
   "metadata": {},
   "source": [
    "## Read and classify manual user input"
   ]
  },
  {
   "cell_type": "code",
   "execution_count": 130,
   "metadata": {},
   "outputs": [
    {
     "name": "stdout",
     "output_type": "stream",
     "text": [
      "1,1\n",
      "1.0\n",
      "1.0\n",
      "('pichu', 1)\n"
     ]
    }
   ],
   "source": [
    "user_input = clean_user_input()\n",
    "distance = categorize_point(user_input, data, 10)\n",
    "print(distance)"
   ]
  }
 ],
 "metadata": {
  "kernelspec": {
   "display_name": "Python 3.9.13 ('Python-Andreas-Svensson-mdnrE2EN')",
   "language": "python",
   "name": "python3"
  },
  "language_info": {
   "codemirror_mode": {
    "name": "ipython",
    "version": 3
   },
   "file_extension": ".py",
   "mimetype": "text/x-python",
   "name": "python",
   "nbconvert_exporter": "python",
   "pygments_lexer": "ipython3",
   "version": "3.9.13"
  },
  "orig_nbformat": 4,
  "vscode": {
   "interpreter": {
    "hash": "ce5ca73635e776ed4a4fa3650670807b72bb0d2e4957ff61281a0d117b023fd0"
   }
  }
 },
 "nbformat": 4,
 "nbformat_minor": 2
}
