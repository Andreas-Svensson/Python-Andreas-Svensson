{
 "cells": [
  {
   "cell_type": "markdown",
   "metadata": {},
   "source": [
    "reading, storing, and plotting data"
   ]
  },
  {
   "cell_type": "code",
   "execution_count": 44,
   "metadata": {},
   "outputs": [],
   "source": [
    "import matplotlib.pyplot as plt\n",
    "import random as rnd\n",
    "from math import dist\n",
    "\"\"\"\n",
    "Functions:\n",
    "\"\"\"\n",
    "# ----- read and clean datapoints -----\n",
    "def generate_data_from_file():\n",
    "\n",
    "    file_path = \"assets/datapoints.txt\"\n",
    "\n",
    "    with open(file_path, \"r\") as file_r:\n",
    "        datapoints = [row.strip(\"\\n\").split(\", \") for row in file_r] # split each row into a list of 3 elements, remove newlines, and store list as element in datapoints list\n",
    "        datapoints.remove(datapoints[0]) # remove column header\n",
    "        datapoints = [[float(element) for element in point] for point in datapoints]\n",
    "\n",
    "    data = { # dictionary containing all pokemon, and their width/height measurements\n",
    "        \"pikachu\" : {\n",
    "        \"width\"   : [i[0] for i in datapoints if i[2] == 1],\n",
    "        \"height\"  : [i[1] for i in datapoints if i[2] == 1]\n",
    "        },\n",
    "        \"pichu\"   : {\n",
    "        \"width\"   : [i[0] for i in datapoints if i[2] == 0],\n",
    "        \"height\"  : [i[1] for i in datapoints if i[2] == 0]\n",
    "        }\n",
    "    }\n",
    "\n",
    "    return data\n",
    "\n",
    "# ----- read and clean testpoints -----\n",
    "def generate_test_data_from_file():\n",
    "\n",
    "    file_path = \"assets/testpoints.txt\"\n",
    "\n",
    "    with open(file_path, \"r\") as file_r:\n",
    "        testpoints = [row[4:-2].split(\", \") for row in file_r]\n",
    "        testpoints.remove(testpoints[0])\n",
    "        testpoints = [[float(element) for element in point] for point in testpoints]\n",
    "\n",
    "    # test_data = { # TODO better to use a separate dictionary for unclassified datapoints?\n",
    "    #     \"width\"   : [i[0] for i in testpoints],\n",
    "    #     \"height\"  : [i[1] for i in testpoints]\n",
    "    # }\n",
    "\n",
    "    test_data = [[i[0], i[1]] for i in testpoints]\n",
    "\n",
    "    return test_data\n",
    "        \n",
    "# ----- plot data from datapoints -----\n",
    "def plot_data(data):\n",
    "    plt.scatter(data[\"pikachu\"][\"width\"],  data[\"pikachu\"][\"height\"], color = \"orange\", label = \"Pikachus\")\n",
    "    plt.scatter(data[\"pichu\"][\"width\"],    data[\"pichu\"][\"height\"],   color = \"black\",  label = \"Pichus\")\n",
    "\n",
    "    plt.title(\"Scatterplot of width / height measurements of pokemon\")\n",
    "    plt.xlabel(\"Width\")\n",
    "    plt.ylabel(\"Height\")\n",
    "    plt.legend();\n",
    "\n",
    "# ----- error handling of user input -----\n",
    "def clean_user_input():\n",
    "    while True:\n",
    "        user_input = input(\"Enter a manual point to classify, formatted like 'width, height' (x, y):\")\n",
    "        print(user_input)\n",
    "        try:\n",
    "            user_input = user_input.split(\",\")\n",
    "            user_input = [float(i.strip()) for i in user_input] # remove empty space\n",
    "\n",
    "            if len(user_input) > 2:\n",
    "                print(\"Make sure to enter a point with 2 values\")\n",
    "\n",
    "            x = user_input[0]\n",
    "            y = user_input[1]\n",
    "\n",
    "            if len(user_input) == 3: # to enter majority vote number\n",
    "                z = user_input[2]\n",
    "\n",
    "            print(x)\n",
    "            print(y)\n",
    "\n",
    "            if len(user_input) == 3:\n",
    "                return x, y, z # TODO implement 'z' as majority vote number to pass into distance function\n",
    "\n",
    "            return x, y\n",
    "            \n",
    "        except ValueError as err:\n",
    "            print(f\"{err} is not a valid point, make sure to enter numbers\")\n",
    "\n",
    "# ----- calculate euclidean distance between data and test points -----\n",
    "def categorize_point(point, data, amount_votes = 1):\n",
    "\n",
    "    distance_list = []\n",
    "\n",
    "    for i in range(len(data[\"pikachu\"][\"width\"])): # calculate distance between all pikachu / pichu points and (x, y), and store them in distance\n",
    "        distance_list.append([dist((data[\"pikachu\"][\"width\"][i], data[\"pikachu\"][\"height\"][i]), (point[0], point[1])), \"pikachu\"])\n",
    "        distance_list.append([dist((data[\"pichu\"][\"width\"][i], data[\"pichu\"][\"height\"][i]), (point[0], point[1])), \"pichu\"])\n",
    "\n",
    "    distance_list.sort() # sort distance, this sorts on the first index of lists in distance list, and keeps the pokemon tag\n",
    "\n",
    "    del distance_list[amount_votes::] # remove indices of distance outside the votes specified to be taken into consideration\n",
    "    \n",
    "    category = \"\"\n",
    "    certainty = 0\n",
    "\n",
    "    distance_pikachu = [distance[0] for distance in distance_list if distance[1] == \"pikachu\"]\n",
    "    distance_pichu = [distance[0] for distance in distance_list if distance[1] == \"pichu\"]\n",
    "\n",
    "    # TODO update weighting calculation of results for better accuracy\n",
    "\n",
    "    # ----- avoid division by 0 if one pokemon is not represented in votes -----\n",
    "    if len(distance_pichu) == 0:\n",
    "        category = \"pikachu\"\n",
    "        certainty = 100\n",
    "        return category, certainty\n",
    "\n",
    "    elif len(distance_pikachu) == 0:\n",
    "        category = \"pichu\"\n",
    "        certainty = 100\n",
    "        return category, certainty\n",
    "\n",
    "    # ----- calculate weight if results are mixed -----\n",
    "    weight_pikachu = sum(distance_pikachu) / len(distance_pikachu)\n",
    "    weight_pichu = sum(distance_pichu) / len(distance_pichu)\n",
    "    print(f\"\\n{distance_list}\")\n",
    "    print(f\"Pika: weight = {weight_pikachu}, amount = {len(distance_pikachu)},\\nPichu: weight = {weight_pichu}, amount = {len(distance_pichu)}\")\n",
    "\n",
    "    if weight_pikachu < weight_pichu:\n",
    "        category = \"pikachu\"\n",
    "        certainty = weight_pichu / (weight_pikachu + weight_pichu)\n",
    "        return category, certainty\n",
    "\n",
    "    else:\n",
    "        category = \"pichu\"\n",
    "        certainty = weight_pikachu / (weight_pichu + weight_pikachu)\n",
    "        return category, certainty\n",
    "\n",
    "# ----- randomly split data into test and training data -----\n",
    "def generate_test_training_data(data):\n",
    "\n",
    "    training_data   = {\"pikachu\" : {\"width\" : [], \"height\" : []}, \"pichu\" : {\"width\" : [], \"height\" : []}}\n",
    "    test_data       = {\"pikachu\" : {\"width\" : [], \"height\" : []}, \"pichu\" : {\"width\" : [], \"height\" : []}}\n",
    "\n",
    "    for i in range(25): # 50 datapoints for test_data (25 pikachu, 25 pichu)\n",
    "        # TODO inclusive range?\n",
    "        random_point = rnd.sample(range(0, 75), 25) # TODO better to do random twice, once for pichu and once for pikachu so that results are not paired based on index\n",
    "        test_data[\"pikachu\"][\"width\"].append(data[\"pikachu\"][\"width\"][random_point[i]])\n",
    "        test_data[\"pikachu\"][\"height\"].append(data[\"pikachu\"][\"height\"][random_point[i]])\n",
    "\n",
    "        random_point_pichu = rnd.sample(range(0, 75), 25) # second random here for pichu randoms\n",
    "        test_data[\"pichu\"][\"width\"].append(data[\"pichu\"][\"width\"][random_point_pichu[i]])\n",
    "        test_data[\"pichu\"][\"height\"].append(data[\"pichu\"][\"height\"][random_point_pichu[i]])\n",
    "\n",
    "    training_data[\"pikachu\"][\"width\"] = [data[\"pikachu\"][\"width\"][i] for i in range(75) if i not in random_point]\n",
    "    training_data[\"pikachu\"][\"height\"] = [data[\"pikachu\"][\"height\"][i] for i in range(75) if i not in random_point]\n",
    "\n",
    "    training_data[\"pichu\"][\"width\"] = [data[\"pichu\"][\"width\"][i] for i in range(75) if i not in random_point_pichu]\n",
    "    training_data[\"pichu\"][\"height\"] = [data[\"pichu\"][\"height\"][i] for i in range(75) if i not in random_point_pichu]\n",
    "\n",
    "    return test_data, training_data # to use in functions\n",
    "\n",
    "# ----- calculate accuracy of calculations by comparing generated test and training data -----\n",
    "def calculate_accuracy(input_dict):\n",
    "\n",
    "    TP, TN, FP, FN = 0, 0, 0, 0\n",
    "\n",
    "    for i in range(len(input_dict[\"pikachu\"][\"width\"])):\n",
    "\n",
    "        res = compare_distance(input_dict[\"pikachu\"][\"width\"][i], input_dict[\"pikachu\"][\"height\"][i], 1)\n",
    "        if \"Pikachu\" in res:\n",
    "            TP += 1\n",
    "        else:\n",
    "            FP += 1\n",
    "        \n",
    "        res = compare_distance(input_dict[\"pichu\"][\"width\"][i], input_dict[\"pichu\"][\"height\"][i], 1)\n",
    "        if \"Pichu\" in res:\n",
    "            TN += 1\n",
    "        else:\n",
    "            FN += 1\n",
    "\n",
    "    accuracy = (TP + TN) / (TP + TN + FP + FN)\n",
    "\n",
    "    return accuracy\n"
   ]
  },
  {
   "cell_type": "markdown",
   "metadata": {},
   "source": [
    "## Read data from file and store in data structure"
   ]
  },
  {
   "cell_type": "code",
   "execution_count": 40,
   "metadata": {},
   "outputs": [],
   "source": [
    "data = generate_data_from_file()\n",
    "test_data = generate_test_data_from_file()"
   ]
  },
  {
   "cell_type": "markdown",
   "metadata": {},
   "source": [
    "## Read data from file and plot datapoints"
   ]
  },
  {
   "cell_type": "code",
   "execution_count": 41,
   "metadata": {},
   "outputs": [
    {
     "data": {
      "image/png": "[encoded data removed]",
      "text/plain": [
       "<Figure size 640x480 with 1 Axes>"
      ]
     },
     "metadata": {},
     "output_type": "display_data"
    }
   ],
   "source": [
    "data = generate_data_from_file()\n",
    "plot_data(data)"
   ]
  },
  {
   "cell_type": "markdown",
   "metadata": {},
   "source": [
    "## Calculate distance between datapoints and testpoints  \n",
    "## Classify calculated distance as pokemon type"
   ]
  },
  {
   "cell_type": "code",
   "execution_count": 47,
   "metadata": {},
   "outputs": [
    {
     "name": "stdout",
     "output_type": "stream",
     "text": [
      "[[25.0, 32.0], [24.2, 31.5], [22.0, 34.0], [20.5, 34.0]]\n",
      "\n",
      "[[0.6829635758323601, 'pikachu'], [0.8829834980050161, 'pikachu'], [1.0623655711316322, 'pikachu'], [1.1483506635878935, 'pikachu'], [1.3042926733824605, 'pikachu'], [1.4059385714272348, 'pichu'], [1.4214199522923856, 'pikachu'], [1.4277016205320443, 'pikachu'], [1.5334840155713727, 'pichu'], [1.6220435525527013, 'pikachu']]\n",
      "Pika: weight = 1.1940151384145616, amount = 8,\n",
      "Pichu: weight = 1.4697112934993037, amount = 2\n",
      "('pikachu', 0.5517500881062056)\n",
      "\n",
      "[[0.12078857390630211, 'pikachu'], [1.0582437258984485, 'pichu'], [1.1038572544225178, 'pichu'], [1.144071642679935, 'pichu'], [1.1622608231748421, 'pichu'], [1.1764205836884245, 'pichu'], [1.3494302017035518, 'pikachu'], [1.540570186049894, 'pikachu'], [1.6769219846042458, 'pikachu'], [1.792605252626006, 'pikachu']]\n",
      "Pika: weight = 1.2960632397779999, amount = 5,\n",
      "Pichu: weight = 1.1289708059728336, amount = 5\n",
      "('pichu', 0.5344515645250315)\n",
      "\n",
      "[[0.3542396645807628, 'pikachu'], [0.6519647482541766, 'pichu'], [0.7008741349478479, 'pikachu'], [0.816734341258668, 'pikachu'], [0.8579157852141036, 'pikachu'], [0.8973115610243981, 'pikachu'], [0.9710060151668015, 'pichu'], [1.1075386177382338, 'pikachu'], [1.3031224890836763, 'pichu'], [1.3461990822323129, 'pikachu']]\n",
      "Pika: weight = 0.8686875981423325, amount = 7,\n",
      "Pichu: weight = 0.9753644175015515, amount = 3\n",
      "('pikachu', 0.528924568953108)\n",
      "\n",
      "[[0.2707605811313157, 'pichu'], [0.28744341743036106, 'pikachu'], [0.6493009828376893, 'pikachu'], [0.8407637696691934, 'pichu'], [0.8518310218983911, 'pichu'], [1.0151129754784296, 'pichu'], [1.027431938246523, 'pichu'], [1.113328119230126, 'pichu'], [1.124575148410337, 'pichu'], [1.202331622739514, 'pichu']]\n",
      "Pika: weight = 0.4683722001340252, amount = 2,\n",
      "Pichu: weight = 0.9307668971004788, amount = 8\n",
      "('pikachu', 0.6652425759098609)\n"
     ]
    }
   ],
   "source": [
    "data = generate_data_from_file()\n",
    "test_data = generate_test_data_from_file()\n",
    "\n",
    "print(test_data)\n",
    "\n",
    "for point in test_data:\n",
    "    print(categorize_point(point, data, 10))"
   ]
  },
  {
   "cell_type": "markdown",
   "metadata": {},
   "source": [
    "## Read and classify manual user input"
   ]
  },
  {
   "cell_type": "code",
   "execution_count": null,
   "metadata": {},
   "outputs": [
    {
     "name": "stdout",
     "output_type": "stream",
     "text": [
      "1.5 , 5.41232565\n",
      "1.5\n",
      "5.41232565\n",
      "('pichu', 1.0)\n"
     ]
    }
   ],
   "source": [
    "user_input = clean_user_input()\n",
    "distance = compare_distance(user_input[0], user_input[1])\n",
    "print(distance)"
   ]
  },
  {
   "cell_type": "markdown",
   "metadata": {},
   "source": [
    "## Classify test data, majority vote of 10"
   ]
  },
  {
   "cell_type": "code",
   "execution_count": null,
   "metadata": {},
   "outputs": [
    {
     "name": "stdout",
     "output_type": "stream",
     "text": [
      "pikachu 0.8\n",
      "unknown 0.5\n",
      "pikachu 0.7\n",
      "pichu 0.8\n"
     ]
    }
   ],
   "source": [
    "for i in range(len(test_data[\"width\"])):\n",
    "    out_data = compare_distance(test_data[\"width\"][i], test_data[\"height\"][i], 10)\n",
    "    print(out_data[0], out_data[1]) # [0] pokemon, [1] certainty"
   ]
  },
  {
   "cell_type": "code",
   "execution_count": null,
   "metadata": {},
   "outputs": [
    {
     "name": "stdout",
     "output_type": "stream",
     "text": [
      "{'pikachu': {'width': [26.388368121945867, 25.813562951888365, 24.111063562798908, 24.59096971887165, 25.5491811833759, 24.387651550868913, 23.02865997158701, 22.723629043769336, 23.062887108583702, 23.868174335146136, 26.525412887538252, 21.989953947825015, 25.922634453956498, 23.631672104136165, 25.311244044578427, 24.68867147060795, 25.023623126719983, 26.517189386365075, 22.723629043769336, 22.826788929142136, 22.723629043769336, 22.493387946548573, 22.943474306364404, 26.5173046073707, 25.23472228644244], 'height': [35.62090746957761, 35.561029988644336, 31.418267572382227, 33.61859674823029, 33.52624549604696, 33.2827564295772, 35.4082866561793, 34.83845262048311, 35.04075442599907, 35.449698119416254, 35.2192205449002, 33.64590281447322, 35.2215760062586, 34.52980905331491, 34.117212558131975, 35.363481550256644, 34.28266788814326, 34.7011323493234, 34.83845262048311, 37.16482263385777, 34.83845262048311, 36.78517041843648, 37.07911595862419, 35.18452932633369, 32.641361593924174]}, 'pichu': {'width': [18.989418138097026, 19.510846016895872, 19.893039297257797, 21.07884990354048, 20.191281253428173, 19.499062316347583, 18.989418138097026, 20.323269906838078, 20.23890182459327, 22.30210323807139, 20.554378047506688, 19.615470460641276, 19.64060341428934, 19.209914415003638, 19.893039297257797, 21.19030359241021, 22.30210323807139, 16.866105280907732, 18.16229126686346, 20.008781128403864, 20.282109030336354, 21.762001750531006, 18.990689973799388, 20.860495554922544, 17.714056417303343], 'height': [30.90556767082746, 29.897476657136767, 30.792717627266093, 32.02998372994636, 35.06966921830237, 31.139578977011656, 30.90556767082746, 32.29574812465895, 32.78945132868386, 32.73237945145149, 31.190868044454003, 31.431998074581394, 30.2915567287162, 31.420355685575746, 30.792717627266093, 35.40347944144049, 32.73237945145149, 28.984730409305136, 29.93643755301725, 32.15292152986537, 33.18796105898338, 33.05861298355044, 32.387963045016726, 29.030638237258632, 31.44170391314962]}}\n"
     ]
    }
   ],
   "source": [
    "test = generate_test_training_data()\n",
    "print(test)"
   ]
  },
  {
   "cell_type": "code",
   "execution_count": null,
   "metadata": {},
   "outputs": [],
   "source": []
  }
 ],
 "metadata": {
  "kernelspec": {
   "display_name": "Python 3.9.13 ('Python-Andreas-Svensson-mdnrE2EN')",
   "language": "python",
   "name": "python3"
  },
  "language_info": {
   "codemirror_mode": {
    "name": "ipython",
    "version": 3
   },
   "file_extension": ".py",
   "mimetype": "text/x-python",
   "name": "python",
   "nbconvert_exporter": "python",
   "pygments_lexer": "ipython3",
   "version": "3.9.13"
  },
  "orig_nbformat": 4,
  "vscode": {
   "interpreter": {
    "hash": "ce5ca73635e776ed4a4fa3650670807b72bb0d2e4957ff61281a0d117b023fd0"
   }
  }
 },
 "nbformat": 4,
 "nbformat_minor": 2
}
