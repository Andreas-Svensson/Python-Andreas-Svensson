{
 "cells": [
  {
   "cell_type": "markdown",
   "metadata": {},
   "source": [
    "# if-statements\n",
    "\n",
    "## if-else"
   ]
  },
  {
   "cell_type": "code",
   "execution_count": 9,
   "metadata": {},
   "outputs": [
    {
     "name": "stdout",
     "output_type": "stream",
     "text": [
      "Welcome\n"
     ]
    }
   ],
   "source": [
    "# input datatype is string, needs to be converted to int\n",
    "age = int(input(\"Hur gammal är du?\"))\n",
    "\n",
    "# multiple lines in a block need to be separated by a new line\n",
    "if age < 18:\n",
    "    print(f\"You are {age} years old\")\n",
    "    print(\"Therefore you are not allowed to buy alcohol\")\n",
    "    \n",
    "# single line statements can be made like this\n",
    "else: print(\"Welcome\")"
   ]
  },
  {
   "cell_type": "markdown",
   "metadata": {},
   "source": [
    "## and-statement"
   ]
  },
  {
   "cell_type": "code",
   "execution_count": 15,
   "metadata": {},
   "outputs": [
    {
     "name": "stdout",
     "output_type": "stream",
     "text": [
      "You are allowed to go on the rollercoaster\n"
     ]
    }
   ],
   "source": [
    "age = 15\n",
    "height = 135\n",
    "\n",
    "# if greater than, and ( greater than and less than )\n",
    "if age > 10 and 130 < height < 210:\n",
    "    print(\"You are allowed to go on the rollercoaster\")\n",
    "else:\n",
    "    print(\"You are not allowed to go on the rollercoaster\")"
   ]
  },
  {
   "cell_type": "markdown",
   "metadata": {},
   "source": [
    "## Modulo operator %"
   ]
  },
  {
   "cell_type": "code",
   "execution_count": 19,
   "metadata": {},
   "outputs": [
    {
     "name": "stdout",
     "output_type": "stream",
     "text": [
      "1\n",
      "0\n",
      "Even number\n"
     ]
    }
   ],
   "source": [
    "number = 42\n",
    "\n",
    "# modulo - rest after integer division\n",
    "print(5%2)\n",
    "print(6%2)\n",
    "\n",
    "# x == y is a comparator ( x equals y )\n",
    "if number % 2 == 0:\n",
    "    print(\"Even number\")\n",
    "else:\n",
    "    print(\"Uneven number\")"
   ]
  },
  {
   "cell_type": "code",
   "execution_count": 25,
   "metadata": {},
   "outputs": [
    {
     "name": "stdout",
     "output_type": "stream",
     "text": [
      "3 == 3: True\n",
      "3 == 4: False\n",
      "3 != 3: False\n"
     ]
    }
   ],
   "source": [
    "print(f\"3 == 3: {3 == 3}\")\n",
    "print(f\"3 == 4: {3 == 4}\")\n",
    "\n",
    "print(f\"3 != 3: {3 != 3}\")"
   ]
  }
 ],
 "metadata": {
  "kernelspec": {
   "display_name": "Python 3.9.13 ('Python-Andreas-Svensson-mdnrE2EN')",
   "language": "python",
   "name": "python3"
  },
  "language_info": {
   "codemirror_mode": {
    "name": "ipython",
    "version": 3
   },
   "file_extension": ".py",
   "mimetype": "text/x-python",
   "name": "python",
   "nbconvert_exporter": "python",
   "pygments_lexer": "ipython3",
   "version": "3.9.13"
  },
  "orig_nbformat": 4,
  "vscode": {
   "interpreter": {
    "hash": "ce5ca73635e776ed4a4fa3650670807b72bb0d2e4957ff61281a0d117b023fd0"
   }
  }
 },
 "nbformat": 4,
 "nbformat_minor": 2
}
