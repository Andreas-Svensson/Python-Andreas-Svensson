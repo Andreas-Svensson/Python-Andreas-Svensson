{
 "cells": [
  {
   "cell_type": "markdown",
   "metadata": {},
   "source": [
    "# Code along - input-output"
   ]
  },
  {
   "cell_type": "code",
   "execution_count": 3,
   "metadata": {},
   "outputs": [
    {
     "name": "stdout",
     "output_type": "stream",
     "text": [
      "hej Andreas, du är 27.8 år gammal.\n",
      "name is now an int: 20\n"
     ]
    }
   ],
   "source": [
    "# variable - data type string\n",
    "# create a variable (\"box\") and assign a value to it\n",
    "name = \"Andreas\"\n",
    "\n",
    "# variable - data type float (float in python is a double)\n",
    "age = 27.8\n",
    "\n",
    "# this is an f-string (formatted string) which means we can add variables in strings\n",
    "print(f\"hej {name}, du är {age} år gammal\")\n",
    "\n",
    "# reassigns a value\n",
    "# note: bad practice\n",
    "name = 20\n",
    "print(f\"name is now an int: {name}\")"
   ]
  },
  {
   "cell_type": "markdown",
   "metadata": {},
   "source": [
    "## Inputs from user"
   ]
  },
  {
   "cell_type": "code",
   "execution_count": 4,
   "metadata": {},
   "outputs": [
    {
     "name": "stdout",
     "output_type": "stream",
     "text": [
      "Hello Andreas, you are 27 years old\n"
     ]
    }
   ],
   "source": [
    "name = input(\"What is your name?\")\n",
    "age = input(\"What is your age?\")\n",
    "\n",
    "print(f\"Hello {name}, you are {age} years old\")"
   ]
  },
  {
   "cell_type": "markdown",
   "metadata": {},
   "source": [
    "## Calculations"
   ]
  },
  {
   "cell_type": "code",
   "execution_count": 6,
   "metadata": {},
   "outputs": [
    {
     "name": "stdout",
     "output_type": "stream",
     "text": [
      "Your force is 569.5600000000001 N\n"
     ]
    }
   ],
   "source": [
    "gravity = 9.82\n",
    "mass = 58\n",
    "\n",
    "force = mass*gravity\n",
    "\n",
    "print(f\"Your force is {force} N\")"
   ]
  },
  {
   "cell_type": "code",
   "execution_count": 10,
   "metadata": {},
   "outputs": [
    {
     "ename": "TypeError",
     "evalue": "can't multiply sequence by non-int of type 'float'",
     "output_type": "error",
     "traceback": [
      "\u001b[1;31m---------------------------------------------------------------------------\u001b[0m",
      "\u001b[1;31mTypeError\u001b[0m                                 Traceback (most recent call last)",
      "\u001b[1;32mc:\\Users\\Andre\\OneDrive - IT-Högskolan Sverige AB\\Documents\\GitHub\\Python-Andreas-Svensson\\Code-alongs\\L0-input-output.ipynb Cell 7\u001b[0m in \u001b[0;36m<cell line: 3>\u001b[1;34m()\u001b[0m\n\u001b[0;32m      <a href='vscode-notebook-cell:/c%3A/Users/Andre/OneDrive%20-%20IT-H%C3%B6gskolan%20Sverige%20AB/Documents/GitHub/Python-Andreas-Svensson/Code-alongs/L0-input-output.ipynb#X10sZmlsZQ%3D%3D?line=0'>1</a>\u001b[0m mass \u001b[39m=\u001b[39m \u001b[39minput\u001b[39m(\u001b[39m\"\u001b[39m\u001b[39mEnter your mass(kg):\u001b[39m\u001b[39m\"\u001b[39m)\n\u001b[1;32m----> <a href='vscode-notebook-cell:/c%3A/Users/Andre/OneDrive%20-%20IT-H%C3%B6gskolan%20Sverige%20AB/Documents/GitHub/Python-Andreas-Svensson/Code-alongs/L0-input-output.ipynb#X10sZmlsZQ%3D%3D?line=2'>3</a>\u001b[0m force \u001b[39m=\u001b[39m mass\u001b[39m*\u001b[39;49mgravity\n",
      "\u001b[1;31mTypeError\u001b[0m: can't multiply sequence by non-int of type 'float'"
     ]
    }
   ],
   "source": [
    "mass = input(\"Enter your mass(kg):\")\n",
    "\n",
    "force = mass*gravity"
   ]
  },
  {
   "cell_type": "markdown",
   "metadata": {},
   "source": []
  }
 ],
 "metadata": {
  "kernelspec": {
   "display_name": "Python 3.9.13 ('Python-Andreas-Svensson-mdnrE2EN')",
   "language": "python",
   "name": "python3"
  },
  "language_info": {
   "codemirror_mode": {
    "name": "ipython",
    "version": 3
   },
   "file_extension": ".py",
   "mimetype": "text/x-python",
   "name": "python",
   "nbconvert_exporter": "python",
   "pygments_lexer": "ipython3",
   "version": "3.9.13"
  },
  "orig_nbformat": 4,
  "vscode": {
   "interpreter": {
    "hash": "ce5ca73635e776ed4a4fa3650670807b72bb0d2e4957ff61281a0d117b023fd0"
   }
  }
 },
 "nbformat": 4,
 "nbformat_minor": 2
}
